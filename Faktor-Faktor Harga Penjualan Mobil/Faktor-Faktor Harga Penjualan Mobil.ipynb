{
 "cells": [
  {
   "cell_type": "markdown",
   "metadata": {},
   "source": [
    "# **Faktor Apakah yang Menjual sebuah Mobil?**"
   ]
  },
  {
   "cell_type": "markdown",
   "metadata": {},
   "source": [
    "Proses eksplorasi data merupakan hal yang krusial sebelum masuk ke dalam analisis data secara komprehensif. Dalam tahapan eksplorasi data biasanya dimulai dari mendefinisikan masalah, mengumpulkan data yang dibutuhkan, mencari pola dalam distribusi data, dan mengekstrak informasi dari temuan yang didapatkan. Dalam kesempatan saat ini, kita akan melakukan sebuah proyek yang sebagian besar pekerjaan yang akan dilakukan adalah dengan mengeksplor data mengenai faktor apa yang dapat menjual sebuah mobil. Kita akan berperan sebagai seorang analis di Crankshaft List yang diberikan sebuah mandat untuk mempelajari data yang telah dikumpulkan selama beberapa tahun terakhir dengan tujuan utama untuk menentukan faktor-faktor yang dapat memengaruhi harga sebuah kendaraan. Berikut ini merupakan alur dan petunjuk dari tahapan analisis data eksploratif yang akan kita lakukan dalam pengerjaan proyek saat ini:\n",
    "- Mempelajari beberapa parameter yang tersedia dan menganalisisnya dengan menggunakan histogram seperti harga, usia kendaraan saat iklan tayang, jarak tempuh, jumlah silinder, dan kondisi kendaraan\n",
    "- Menentukan batas *outlier*, menghapus, dan menyimpannya dalam *dataframe* terpisah\n",
    "- Membuat histogram dari data yang telah tersaring dan membandingkannya dengan histogram yang berisi *outlier*\n",
    "- Mempelajari masa berlaku iklan ditayangkan dengan cara menghitung nilai rata-rata dan mediannya serta menentukan dari data tersebut kapan sebuah iklan dihapus dengan cepat dan kapan iklan ditayangkan dalam waktu yang lama\n",
    "- Melakukan analisis terhadap jumlah iklan dan harga rata-rata setiap jenis kendaraan dengan membuat sebuah grafik yang menyimpulkan ketergantungan jumlah iklan pada jenis kendaraan, dan\n",
    "- Melihat faktor apa saja yang dapat memengaruhi harga kendaraan dari masing-masing jenis kendaraan populer yang telah didapatkan dalam tahapan sebelumnya. Apakah dipengaruhi berdasarkan usia, jarak tempuh, kondisi, tipe transmisi, dan warna kendaraan? Hal ini dapat dilakukan dengan cara membuat grafik *boxplot* dan *scatterplot*.\n",
    "\n",
    "Kita juga tidak melupakan tahapan pra-pemrosesan data, mengatasi nilai yang hilang, memperbaiki tipe data, dan memperbaiki kualitas data untuk beberapa kolom sebelum mengeksplor data lebih lanjut dalam proyek ini sehingga kita bisa membandingkan dan menghitung nilai yang dibutuhkan secara mudah. Tanpa berlama-lama, marilah kita memulai pengerjaan proyek ini dengan tahapan awal yang dimulai dalam sub-bab pra-pemrosesan berikut ini."
   ]
  },
  {
   "cell_type": "markdown",
   "metadata": {},
   "source": [
    "## Pra-pemrosesan"
   ]
  },
  {
   "cell_type": "markdown",
   "metadata": {},
   "source": [
    "Tahapan awal yang tidak boleh dilewatkan sebelum melakukan analisis data yaitu dengan cara mengimpor *library* yang dibutuhkan. Untuk pengerjaan proyek ini yang pasti kita membutuhkan Pandas untuk mengelola data dalam *dataset* dan tambahan lainnya yaitu Matplotlib dan Seaborn untuk membuat grafik dalam bagian eksplorasi data. Mari kita mulai mengimpor *library* yang sudah ditentukan sebelumnya."
   ]
  },
  {
   "cell_type": "code",
   "execution_count": 1,
   "metadata": {},
   "outputs": [],
   "source": [
    "# Muat semua library\n",
    "import pandas as pd\n",
    "import matplotlib.pyplot as plt\n",
    "import seaborn as sns"
   ]
  },
  {
   "cell_type": "markdown",
   "metadata": {},
   "source": [
    "Kita sudah mengimpor *library* untuk pengerjaan proyek dalam blok kode sebelumnya dan saatnya kita akan masuk ke dalam tahapan yang lebih lanjut, yaitu eksplorasi data awal."
   ]
  },
  {
   "cell_type": "markdown",
   "metadata": {},
   "source": [
    "### Memuat Data"
   ]
  },
  {
   "cell_type": "markdown",
   "metadata": {},
   "source": [
    "Sebelum masuk dalam tahap eksplorasi data awal, jangan lupa untuk selalu memuat *dataset* terlebih dahulu. Untungnya dalam proyek ini kita sudah diberikan *dataset* yang diperlukan dalam format CSV dan *path* dari datanya."
   ]
  },
  {
   "cell_type": "code",
   "execution_count": 2,
   "metadata": {},
   "outputs": [],
   "source": [
    "# Muat file data menjadi DataFrame\n",
    "dataframe = pd.read_csv(r'/datasets/vehicles_us.csv')"
   ]
  },
  {
   "cell_type": "markdown",
   "metadata": {},
   "source": [
    "Semua sudah siap dilakukan! Kita telah memuat data untuk proyek saat ini dalam variabel bernama `dataframe`. Selanjutnya kita akan melakukan tahapan awal dalam eksplorasi data yang kita miliki mulai dari melihat informasi umum, mencari tipe data yang salah, dan kolom mana saja yang terdapat nilai hilang."
   ]
  },
  {
   "cell_type": "markdown",
   "metadata": {},
   "source": [
    "### Mengeksplorasi Data Awal"
   ]
  },
  {
   "cell_type": "markdown",
   "metadata": {},
   "source": [
    "Penting bagi seorang data analis untuk terlebih dahulu mengenali informasi mengenai kolom-kolom apa saja yang dimuat dalam *dataset* yang diberikan kepadanya dengan tujuan agar kita bisa menafsir dan menganalisis data dengan baik tanpa adanya misinterpretasi nantinya. Berikut ini adalah *dataset* yang kita miliki berisi kolom-kolom sebagai berikut:\n",
    "\n",
    "- `price`: harga kendaraan yang telah ditentukan\n",
    "- `model_year`: usia atau tahun kendaraan diluncurkan\n",
    "- `model`: nama model kendaraan\n",
    "- `condition`: kondisi kendaraan saat ini\n",
    "- `cylinders`: jumlah silinder kendaraan\n",
    "- `fuel`: jenis bahan bakar kendaraan (gas, disel, dan lain-lain)\n",
    "- `odometer`: jarak tempuh kendaraan saat iklan ditayangkan  \n",
    "- `transmission`: jenis transmisi kendaraan\n",
    "- `type`: tipe kendaraan\n",
    "- `paint_color`: warna kendaraan\n",
    "- `is_4wd`: apakah kendaraan memiliki penggerak 4 roda (tipe Boolean)\n",
    "- `date_posted`: tanggal iklan ditayangkan\n",
    "- `days_listed`: jumlah hari iklan ditayangkan hingga dihapus\n",
    "\n",
    "Setiap kolom yang diberikan mengandung informasi mengenai kendaraan yang ditawarkan dan kapan kendaraan dipasarkan melalui *website*."
   ]
  },
  {
   "cell_type": "markdown",
   "metadata": {},
   "source": [
    "Saat ini kita akan menampilkan informasi umum mengenai *dataset* yang kita miliki dengan menggunakan metode `.info()` dan berikut penggalan kode yang telah dibuat."
   ]
  },
  {
   "cell_type": "code",
   "execution_count": 3,
   "metadata": {},
   "outputs": [
    {
     "name": "stdout",
     "output_type": "stream",
     "text": [
      "<class 'pandas.core.frame.DataFrame'>\n",
      "RangeIndex: 51525 entries, 0 to 51524\n",
      "Data columns (total 13 columns):\n",
      " #   Column        Non-Null Count  Dtype  \n",
      "---  ------        --------------  -----  \n",
      " 0   price         51525 non-null  int64  \n",
      " 1   model_year    47906 non-null  float64\n",
      " 2   model         51525 non-null  object \n",
      " 3   condition     51525 non-null  object \n",
      " 4   cylinders     46265 non-null  float64\n",
      " 5   fuel          51525 non-null  object \n",
      " 6   odometer      43633 non-null  float64\n",
      " 7   transmission  51525 non-null  object \n",
      " 8   type          51525 non-null  object \n",
      " 9   paint_color   42258 non-null  object \n",
      " 10  is_4wd        25572 non-null  float64\n",
      " 11  date_posted   51525 non-null  object \n",
      " 12  days_listed   51525 non-null  int64  \n",
      "dtypes: float64(4), int64(2), object(7)\n",
      "memory usage: 5.1+ MB\n"
     ]
    }
   ],
   "source": [
    "# Menampilkan informasi/rangkuman umum tentang DataFrame\n",
    "dataframe.info()"
   ]
  },
  {
   "cell_type": "markdown",
   "metadata": {},
   "source": [
    "Informasi yang sudah disediakan menceritakan mengenai nama-nama kolom yang ada, jumlah barisnya, tipe datanya, dan juga kapasitas dari *dataset* yang ada. Kita bisa melihat bahwa dalam *dataset* ini memiliki total sebanyak 13 kolom dan 51525 baris dengan indeks yang berurutan. Mari kita melihat sampel dari salah satu baris datanya agar kita bisa memiliki gambaran yang lebih jelas."
   ]
  },
  {
   "cell_type": "code",
   "execution_count": 4,
   "metadata": {},
   "outputs": [
    {
     "data": {
      "text/html": [
       "<div>\n",
       "<style scoped>\n",
       "    .dataframe tbody tr th:only-of-type {\n",
       "        vertical-align: middle;\n",
       "    }\n",
       "\n",
       "    .dataframe tbody tr th {\n",
       "        vertical-align: top;\n",
       "    }\n",
       "\n",
       "    .dataframe thead th {\n",
       "        text-align: right;\n",
       "    }\n",
       "</style>\n",
       "<table border=\"1\" class=\"dataframe\">\n",
       "  <thead>\n",
       "    <tr style=\"text-align: right;\">\n",
       "      <th></th>\n",
       "      <th>price</th>\n",
       "      <th>model_year</th>\n",
       "      <th>model</th>\n",
       "      <th>condition</th>\n",
       "      <th>cylinders</th>\n",
       "      <th>fuel</th>\n",
       "      <th>odometer</th>\n",
       "      <th>transmission</th>\n",
       "      <th>type</th>\n",
       "      <th>paint_color</th>\n",
       "      <th>is_4wd</th>\n",
       "      <th>date_posted</th>\n",
       "      <th>days_listed</th>\n",
       "    </tr>\n",
       "  </thead>\n",
       "  <tbody>\n",
       "    <tr>\n",
       "      <th>27046</th>\n",
       "      <td>4900</td>\n",
       "      <td>2005.0</td>\n",
       "      <td>toyota tundra</td>\n",
       "      <td>good</td>\n",
       "      <td>8.0</td>\n",
       "      <td>gas</td>\n",
       "      <td>218226.0</td>\n",
       "      <td>automatic</td>\n",
       "      <td>truck</td>\n",
       "      <td>grey</td>\n",
       "      <td>NaN</td>\n",
       "      <td>2018-05-04</td>\n",
       "      <td>26</td>\n",
       "    </tr>\n",
       "  </tbody>\n",
       "</table>\n",
       "</div>"
      ],
      "text/plain": [
       "       price  model_year          model condition  cylinders fuel  odometer  \\\n",
       "27046   4900      2005.0  toyota tundra      good        8.0  gas  218226.0   \n",
       "\n",
       "      transmission   type paint_color  is_4wd date_posted  days_listed  \n",
       "27046    automatic  truck        grey     NaN  2018-05-04           26  "
      ]
     },
     "execution_count": 4,
     "metadata": {},
     "output_type": "execute_result"
    }
   ],
   "source": [
    "# Menampilkan sampel data\n",
    "dataframe.sample()"
   ]
  },
  {
   "cell_type": "markdown",
   "metadata": {},
   "source": [
    "Sampel dari *dataset* ditemukan dalam salah satu baris yang acak dan setiap diperbarui indeksnya akan terus berubah. Sepertinya kita dapat menduga bahwa dalam *dataset* ini memang memiliki nilai yang hilang dalam beberapa kolom. Kita akan membuktikannya dalam beberapa bagian blok kode selanjutnya. Kita akan mencari keanehan lain dalam *dataset* ini dengan memanggil metode `.describe()`."
   ]
  },
  {
   "cell_type": "code",
   "execution_count": 5,
   "metadata": {},
   "outputs": [
    {
     "data": {
      "text/html": [
       "<div>\n",
       "<style scoped>\n",
       "    .dataframe tbody tr th:only-of-type {\n",
       "        vertical-align: middle;\n",
       "    }\n",
       "\n",
       "    .dataframe tbody tr th {\n",
       "        vertical-align: top;\n",
       "    }\n",
       "\n",
       "    .dataframe thead th {\n",
       "        text-align: right;\n",
       "    }\n",
       "</style>\n",
       "<table border=\"1\" class=\"dataframe\">\n",
       "  <thead>\n",
       "    <tr style=\"text-align: right;\">\n",
       "      <th></th>\n",
       "      <th>price</th>\n",
       "      <th>model_year</th>\n",
       "      <th>cylinders</th>\n",
       "      <th>odometer</th>\n",
       "      <th>is_4wd</th>\n",
       "      <th>days_listed</th>\n",
       "    </tr>\n",
       "  </thead>\n",
       "  <tbody>\n",
       "    <tr>\n",
       "      <th>count</th>\n",
       "      <td>51525.000000</td>\n",
       "      <td>47906.000000</td>\n",
       "      <td>46265.000000</td>\n",
       "      <td>43633.000000</td>\n",
       "      <td>25572.0</td>\n",
       "      <td>51525.00000</td>\n",
       "    </tr>\n",
       "    <tr>\n",
       "      <th>mean</th>\n",
       "      <td>12132.464920</td>\n",
       "      <td>2009.750470</td>\n",
       "      <td>6.125235</td>\n",
       "      <td>115553.461738</td>\n",
       "      <td>1.0</td>\n",
       "      <td>39.55476</td>\n",
       "    </tr>\n",
       "    <tr>\n",
       "      <th>std</th>\n",
       "      <td>10040.803015</td>\n",
       "      <td>6.282065</td>\n",
       "      <td>1.660360</td>\n",
       "      <td>65094.611341</td>\n",
       "      <td>0.0</td>\n",
       "      <td>28.20427</td>\n",
       "    </tr>\n",
       "    <tr>\n",
       "      <th>min</th>\n",
       "      <td>1.000000</td>\n",
       "      <td>1908.000000</td>\n",
       "      <td>3.000000</td>\n",
       "      <td>0.000000</td>\n",
       "      <td>1.0</td>\n",
       "      <td>0.00000</td>\n",
       "    </tr>\n",
       "    <tr>\n",
       "      <th>25%</th>\n",
       "      <td>5000.000000</td>\n",
       "      <td>2006.000000</td>\n",
       "      <td>4.000000</td>\n",
       "      <td>70000.000000</td>\n",
       "      <td>1.0</td>\n",
       "      <td>19.00000</td>\n",
       "    </tr>\n",
       "    <tr>\n",
       "      <th>50%</th>\n",
       "      <td>9000.000000</td>\n",
       "      <td>2011.000000</td>\n",
       "      <td>6.000000</td>\n",
       "      <td>113000.000000</td>\n",
       "      <td>1.0</td>\n",
       "      <td>33.00000</td>\n",
       "    </tr>\n",
       "    <tr>\n",
       "      <th>75%</th>\n",
       "      <td>16839.000000</td>\n",
       "      <td>2014.000000</td>\n",
       "      <td>8.000000</td>\n",
       "      <td>155000.000000</td>\n",
       "      <td>1.0</td>\n",
       "      <td>53.00000</td>\n",
       "    </tr>\n",
       "    <tr>\n",
       "      <th>max</th>\n",
       "      <td>375000.000000</td>\n",
       "      <td>2019.000000</td>\n",
       "      <td>12.000000</td>\n",
       "      <td>990000.000000</td>\n",
       "      <td>1.0</td>\n",
       "      <td>271.00000</td>\n",
       "    </tr>\n",
       "  </tbody>\n",
       "</table>\n",
       "</div>"
      ],
      "text/plain": [
       "               price    model_year     cylinders       odometer   is_4wd  \\\n",
       "count   51525.000000  47906.000000  46265.000000   43633.000000  25572.0   \n",
       "mean    12132.464920   2009.750470      6.125235  115553.461738      1.0   \n",
       "std     10040.803015      6.282065      1.660360   65094.611341      0.0   \n",
       "min         1.000000   1908.000000      3.000000       0.000000      1.0   \n",
       "25%      5000.000000   2006.000000      4.000000   70000.000000      1.0   \n",
       "50%      9000.000000   2011.000000      6.000000  113000.000000      1.0   \n",
       "75%     16839.000000   2014.000000      8.000000  155000.000000      1.0   \n",
       "max    375000.000000   2019.000000     12.000000  990000.000000      1.0   \n",
       "\n",
       "       days_listed  \n",
       "count  51525.00000  \n",
       "mean      39.55476  \n",
       "std       28.20427  \n",
       "min        0.00000  \n",
       "25%       19.00000  \n",
       "50%       33.00000  \n",
       "75%       53.00000  \n",
       "max      271.00000  "
      ]
     },
     "execution_count": 5,
     "metadata": {},
     "output_type": "execute_result"
    }
   ],
   "source": [
    "# Menampilkan statistik kolom numerik\n",
    "dataframe.describe()"
   ]
  },
  {
   "cell_type": "markdown",
   "metadata": {},
   "source": [
    "Perlu diingat bahwa metode `.describe()` hanya menjelaskan statistik deskriptif dari kolom yang sifatnya numerik dan dalam *dataset* kita saat ini terdapat 6 kolom numerik. Berikut ini yang dapat kita jelaskan dari hasil di atas:\n",
    "- **Nilai minimal dari kolom `price` adalah 1**. Apakah hal ini merupakan suatu nilai yang benar? Mengingat harga kendaraan hanya senilai 1 saja dapat dikatakan tidak masuk akal sehingga kita dapat menganggapnya sebagai suatu **anomali**\n",
    "- **Nilai minimal dari kolom `odometer` adalah 0**. Apakah ada suatu kendaraan yang belum pernah dipakai sama sekali sehingga kita bisa menganggapnya sebagai kendaraan baru yang belum pernah dipakai? Kita tidak dapat mengetahuinya secara pasti, tetapi yang pasti kendaraan tersebut **tidak dapat diklasifikasikan sebagai kendaraan bekas** (sudah pernah dipakai)\n",
    "- Standar deviasi dari kedua kolom, yaitu `price` dan `odometer` memiliki nilai yang tergolong tinggi. Sehingga kita dapat berasumsi bahwa dalam kedua kolom tersebut **mungkin terdapat banyak nilai pencilan**."
   ]
  },
  {
   "cell_type": "markdown",
   "metadata": {},
   "source": [
    "Sekarang kita akan melihat apakah terdapat suatu kesalahan mengenai tipe data dalam suatu kolom di dalam *dataset*  saat ini. Mari kita buktikan sekarang."
   ]
  },
  {
   "cell_type": "code",
   "execution_count": 6,
   "metadata": {},
   "outputs": [
    {
     "data": {
      "text/plain": [
       "price             int64\n",
       "model_year      float64\n",
       "model            object\n",
       "condition        object\n",
       "cylinders       float64\n",
       "fuel             object\n",
       "odometer        float64\n",
       "transmission     object\n",
       "type             object\n",
       "paint_color      object\n",
       "is_4wd          float64\n",
       "date_posted      object\n",
       "days_listed       int64\n",
       "dtype: object"
      ]
     },
     "execution_count": 6,
     "metadata": {},
     "output_type": "execute_result"
    }
   ],
   "source": [
    "# Memeriksa tipe data setiap kolom\n",
    "dataframe.dtypes"
   ]
  },
  {
   "cell_type": "markdown",
   "metadata": {},
   "source": [
    "Ternyata setelah kita periksa, terdapat beberapa kolom yang memiliki tipe data yang tidak seharusnya. Hasil dari pemeriksaan tipe data sebenarnya dapat kita rujuk juga dalam metode `.info()` yang sudah ditampilkan sebelumnya. Berikut ini merupakan kolom-kolom yang memiliki kesalahan tipe data beserta solusinya:\n",
    "- `price`: seharusnya untuk kolom ini lebih baik tipe datanya adalah ***float*** dibandingkan dengan *integer* karena bilangan dari suatu harga nilainya bisa saja tidak bulat\n",
    "- `model_year`: tahun merupakan angka bulat, **bukan** angka pecahan seperti tipe data yang ada dalam kolom ini. Oleh karena itu kita perlu untuk mengubahnya menjadi ***integer***\n",
    "- `cylinders`: jika kita sepenuhnya mengetahui apa itu silinder mobil, maka kita akan tahu bahwa jumlah silinder mobil itu nilainya bulat. Sebagai informasi saja, jumlah silinder mobil umumnya ada 3, 4, 6, 8, 10, 12, dan 16 silinder. Melalui informasi tersebut kita perlu mengubah tipe datanya menjadi ***integer***\n",
    "- `is_4wd`: sebenarnya tidak ada yang salah dengan tipe data dalam kolom ini. Sebagai informasi untuk nilai 0 mengartikan bahwa kendaraan tidak beroda empat sedangkan untuk nilai 1 adalah sebaliknya. Demi kemudahan analisis dan eksplorasi ke depannya, kita sebaiknya mengubah tipe data dalam kolom ini mejadi ***boolean*** bukan *float*\n",
    "- `date_posted`: tipe data dalam kolom ini adalah *object* sedangkan dalam kolom ini memuat data mengenai tanggal iklan ditayangkan. Sehingga tipe datanya tidaklah benar dan kita akan merubahnya menjadi ***datetime***."
   ]
  },
  {
   "cell_type": "markdown",
   "metadata": {},
   "source": [
    "Kita sudah melakukan pengecekan terhadap tipe data dalam setiap kolom dan saat ini kita akan melihat kolom mana saja yang terdapat nilai yang hilang dan berapa besar persentasenya. Mari kita lakukan sekarang di bawah ini."
   ]
  },
  {
   "cell_type": "code",
   "execution_count": 7,
   "metadata": {},
   "outputs": [
    {
     "data": {
      "text/plain": [
       "is_4wd          50.369723\n",
       "paint_color     17.985444\n",
       "odometer        15.316836\n",
       "cylinders       10.208637\n",
       "model_year       7.023775\n",
       "price            0.000000\n",
       "model            0.000000\n",
       "condition        0.000000\n",
       "fuel             0.000000\n",
       "transmission     0.000000\n",
       "type             0.000000\n",
       "date_posted      0.000000\n",
       "days_listed      0.000000\n",
       "dtype: float64"
      ]
     },
     "execution_count": 7,
     "metadata": {},
     "output_type": "execute_result"
    }
   ],
   "source": [
    "# Memeriksa persentase jumlah nilai hilang dalam setiap kolom\n",
    "dataframe.isnull().sum().sort_values(ascending=False) / len(dataframe) * 100"
   ]
  },
  {
   "cell_type": "markdown",
   "metadata": {},
   "source": [
    "Sebenarnya kita juga dapat mengetahui adanya nilai hilang dalam bagian sebelumnya saat kita memanggil metode `.info()` dalam menampilkan informasi umum dari *dataset* ini. Seperti yang sudah tertera dalam hasil eksekusi kode di atas, kita dapat melihat **ada 5 kolom yang terdapat nilai hilang** yaitu `is_4wd`, `paint_color`, `odometer`, `cylinders`, dan `model_year`. Dalam urutan persentase nilai hilang terbesar hingga terkecil, **kolom `is_4wd` memiliki jumlah nilai hilang yang terbanyak** dengan persentase sebesar **50.36%** atau setengah dari jumlah baris dalam kolom ini nilainya kosong."
   ]
  },
  {
   "cell_type": "markdown",
   "metadata": {},
   "source": [
    "### Kesimpulan dan Langkah-Langkah Selanjutnya"
   ]
  },
  {
   "cell_type": "markdown",
   "metadata": {},
   "source": [
    "Sampai saat ini kita sudah melakukan eksplorasi data awal yang ada dalam *dataset* yang belum dirubah sama sekali dengan tujuan untuk mencari informasi umum, nilai anomali, nilai yang hilang, dan tipe data yang tidak tepat. Sejauh ini ada beberapa kolom yang memang terdapat anomali dalam tipe datanya dan nilai yang tidak lengkap. Berikut ini merupakan kesimpulan dari tahap eksplorasi data awal yang telah dilakukan beserta dengan aksi yang akan kita ambil untuk tahapan selanjutnya.\n",
    "\n",
    "**Kemungkinan adanya *outlier***\n",
    "\n",
    "Setelah melihat statistik deskriptif dari penggunaan metode `.describe()`, kita dapat merujuk pada nilai standar deviasi untuk kolom `price` dan `odometer` memiliki nilai yang besar. Oleh karena itu kita menganggap dalam kedua kolom tersebut terdapat adanya pencilan atau *outlier*. Sehingga dalam tahapan eksplorasi nantinya akan lebih baik jika kita **menghitung nilai rata-rata**, khususnya untuk kedua kolom tersebut **menggunakan nilai median**. Mengenai bagian ini kita akan membahasnya lebih rinci dalam bagian 1.7 mengenai mempelajari dan menangani *outlier*.\n",
    "\n",
    "**Tipe data yang aneh**\n",
    "\n",
    "Kita sudah menemukan 5 kolom dengan tipe data yang tidak seharusnya dimiliki oleh kolom-kolom tersebut. Jika kita melihat lagi dari apa yang sudah ditemukan, nama-nama kolom yang tipe datanya tidak sesuai adalah `price`, `model_year`, `cylinders`, `is_4wd`, dan `date_posted`. Kita akan mengganti tipe data tersebut sesuai dengan yang telah kita tentukan dalam bagian 1.3 yaitu memperbaiki tipe data.\n",
    "\n",
    "**Nilai hilang**\n",
    "\n",
    "Seperti yang sudah kita temukan dan identifikasi, bahwa dalam *dataset* proyek ini terdapat nilai hilang dalam beberapa kolom, yaitu `is_4wd`, `paint_color`, `odometer`, `cylinders`, dan `model_year`. Keputusan yang akan kita lakukan adalah dengan **mengisi nilai yang hilang menggunakan nilai rata-ratanya** menggunakan bantuan fungsi buatan. Khusus untuk kolom `paint_color` kita tidak akan mengubahnya menggunakan rata-rata karena kolom tersebut merupakan kolom dengan nilai non-numerik, tetapi kita akan menggunakan cara lain. Begitupun untuk kolom `is_4wd` kita tidak akan mencari nilai rata-ratanya karena kolom tersebut hanya mengandung nilai antara 0 dan 1. Masalah ini akan kita selesaikan dalam tahapan selanjutnya, yaitu dalam bagian mengatasi nilai-nilai yang hilang."
   ]
  },
  {
   "cell_type": "markdown",
   "metadata": {},
   "source": [
    "## Mengatasi Nilai-Nilai yang Hilang"
   ]
  },
  {
   "cell_type": "markdown",
   "metadata": {},
   "source": [
    "Tiba saatnya untuk kita melakukan perubahan nilai-nilai yang hilang dalam beberapa kolom. Untuk pengisian nilai hilang akan kita lakukan secara terstruktur untuk masing-masing kolom dengan menggunakan bantuan fungsi buatan atau menggunakan alternatif khusus untuk kolom-kolom tertentu. Untuk kolom selain `is_4wd` dan `paint_color`, sebelum mengisi nilai hilang kita akan terlebih dahulu mencari opsi terbaik pengisian nilai hilang antara menggunakan *mean* atau *median*.\n",
    "\n",
    "Berbicara mengenai nilai yang hilang dalam *dataset* saat ini, kita dapat melihat bahwa (lihat dalam persentase jumlah nilai hilang sebelumnya) persentase jumlah nilai hilang dalam setiap kolom memiliki jumlah yang berbeda. oleh karena itu kita dapat mengatakan bahwa nilai yang hilang tidak terdapat pola sama sekali dan hilangnya terjadi secara acak oleh karena faktor tertentu mulai dari pengisian data yang tidak perlu untuk diisi (opsional) dalam beberapa kolom tertentu dan kesalahan teknis saat proses ETL berjalan."
   ]
  },
  {
   "cell_type": "markdown",
   "metadata": {},
   "source": [
    "### Mengatasi Nilai Hilang dalam Kolom `is_4wd`"
   ]
  },
  {
   "cell_type": "markdown",
   "metadata": {},
   "source": [
    "Sekarang kita akan memperbaiki nilai-nilai yang hilang dalam kolom ini dengan cara menentukan terlebih dahulu dengan nilai apakah kita akan mengisinya. Marilah kita memulainya dengan mengecek nilai apa saja yang terkandung dalam kolom ini (mengingat bahwa kolom ini hanya memuat nilai antara 0 dan 1)."
   ]
  },
  {
   "cell_type": "code",
   "execution_count": 8,
   "metadata": {},
   "outputs": [
    {
     "data": {
      "text/plain": [
       "1.0    25572\n",
       "Name: is_4wd, dtype: int64"
      ]
     },
     "execution_count": 8,
     "metadata": {},
     "output_type": "execute_result"
    }
   ],
   "source": [
    "# Melihat nilai-nilai yang terkandung dalam kolom `is_4wd`\n",
    "dataframe['is_4wd'].value_counts()"
   ]
  },
  {
   "cell_type": "markdown",
   "metadata": {},
   "source": [
    "Ternyata dalam kolom `is_4wd` ini **hanya berisikan nilai 1** atau kondisi *boolean* yaitu *True*. Dengan kata lain sebanyak 25572 baris dalam kolom ini merupakan kendaraan roda empat dan sisanya tidak diketahui atau kosong. Asumsi kita bahwa untuk nilai kosong ini bisa saja disebabkan oleh kesalahan teknis atau kolomnya yang tidak wajib untuk diisi sehingga nilai kosong bisa saja muncul.\n",
    "\n",
    "Khusus untuk kasus nilai hilang dalam kolom ini, sebenarnya terdapat cara eksplisit untuk mengganti nilai yang hilang. Kita dapat berasumsi bahwa nilai-nilai yang hilang dalam kolom ini adalah nilai yang *False* atau kebalikan dari kumpulan nilai-nilai *True* yang ada saat ini. Maka dari pernyataan tersebut, masuk akal bagi kita dapat **mengisi nilai yang hilang khusus untuk kolom *Boolean* saat ini dengan nilai 0 atau *False***."
   ]
  },
  {
   "cell_type": "code",
   "execution_count": 9,
   "metadata": {},
   "outputs": [],
   "source": [
    "# Mengisi nilai yang hilang dengan kondisi nilai Boolean yang *False* untuk kolom ini\n",
    "dataframe['is_4wd'] = dataframe['is_4wd'].fillna(0)"
   ]
  },
  {
   "cell_type": "markdown",
   "metadata": {},
   "source": [
    "Setelah kita melakukan sebuah keputusan untuk mengisi nilai hilang khusus kolom ini, kita langsung menerapkannya dengan mengisi nilai hilang menggunakan kondisi nilai 0 atau *False* dan menyimpan kembali hasilnya dalam kolom ini. Sekarang mari kita kembali melakukan pemeriksaan apakah nilainya sudah terisi dan tidak ada nilai yang hilang atau sebaliknya."
   ]
  },
  {
   "cell_type": "code",
   "execution_count": 10,
   "metadata": {},
   "outputs": [
    {
     "data": {
      "text/plain": [
       "0.0    25953\n",
       "1.0    25572\n",
       "Name: is_4wd, dtype: int64"
      ]
     },
     "execution_count": 10,
     "metadata": {},
     "output_type": "execute_result"
    }
   ],
   "source": [
    "# Memeriksa kembali distribusi nilai setelah melakukan pengisian nilai yang hilang\n",
    "dataframe['is_4wd'].value_counts()"
   ]
  },
  {
   "cell_type": "markdown",
   "metadata": {},
   "source": [
    "Ternyata hasilnya sudah sesuai dengan yang kita harapkan. Setengah persen dari jumlah baris yang hilang dalam kolom ini sudah terisi dengan nilai 0 Jikalau kedua nilai tersebut ditambahkan, maka akan menghasilkan jumlah keseluruhan baris yang ada dalam *dataset* kita saat ini."
   ]
  },
  {
   "cell_type": "markdown",
   "metadata": {},
   "source": [
    "### Mengatasi Nilai Hilang dalam Kolom `paint_color`"
   ]
  },
  {
   "cell_type": "markdown",
   "metadata": {},
   "source": [
    "Saatnya kita untuk mengisi nilai yang hilang di dalam kolom `paint_color`. Seperti yang sudah dijelaskan sebelumnya bahwa untuk pengisian nilai hilang khusus kolom ini tidak bisa menggunakan nilai rata-rata karena nilai-nilai yang terkandung dalam kolom ini merupakan non-numerik. Sehingga ada cara lain yang lebih mudah untuk kita lakukan, yaitu dengan menentukan nilai terbaik apakah yang akan diisi untuk menggantikan nilai kosong."
   ]
  },
  {
   "cell_type": "code",
   "execution_count": 11,
   "metadata": {},
   "outputs": [
    {
     "data": {
      "text/plain": [
       "white     10029\n",
       "black      7692\n",
       "silver     6244\n",
       "grey       5037\n",
       "blue       4475\n",
       "red        4421\n",
       "green      1396\n",
       "brown      1223\n",
       "custom     1153\n",
       "yellow      255\n",
       "orange      231\n",
       "purple      102\n",
       "Name: paint_color, dtype: int64"
      ]
     },
     "execution_count": 11,
     "metadata": {},
     "output_type": "execute_result"
    }
   ],
   "source": [
    "# Memeriksa distribusi nilai dalam kolom ini\n",
    "dataframe['paint_color'].value_counts()"
   ]
  },
  {
   "cell_type": "markdown",
   "metadata": {},
   "source": [
    "Bukankah sebuah kebingungan besar bagi kita untuk mengisi nilai hilang dengan nilai rata-rata seperti hasil distribusi nilai dalam kolom saat ini? Jawabannya tentu ya dan tidak mungkin. Apakah baik jikalau kita mengisinya dengan nilai *white* karena nilai tersebut paling banyak ditemukan? Jawabannya tentu tidak karena kita tidak dapat mengetahuinya secara pasti nilai-nilai yang hilang ini memiliki warna kendaraan seperti apa dan jikalau kita menerapkannya tentu hasilnya tidak akan representatif. Melalui pernyataan tersebut, kita dapat **mengklasifikasikan nilai-nilai yang hilang** dalam kolom ini ke dalam suatu nilai bernama ***unknown*** atau tidak diketahui."
   ]
  },
  {
   "cell_type": "code",
   "execution_count": 12,
   "metadata": {},
   "outputs": [],
   "source": [
    "# Menganti nilai hilang dengan nilai baru bernama `unknown`\n",
    "dataframe['paint_color'] = dataframe['paint_color'].fillna('unknown')"
   ]
  },
  {
   "cell_type": "markdown",
   "metadata": {},
   "source": [
    "Perubahan sudah berhasil dilakukan dan telah disimpan kembali dalam kolom yang sama. Nilai-nilai kosong sudah diisikan dengan nilai baru yang diteruskan dalam metode `.fillna()` dan oleh karena itu mari kita melihat apakah masih ada nilai hilang dalam kolom ini atau tidak ada lagi."
   ]
  },
  {
   "cell_type": "code",
   "execution_count": 13,
   "metadata": {},
   "outputs": [
    {
     "data": {
      "text/plain": [
       "price              0\n",
       "model_year      3619\n",
       "model              0\n",
       "condition          0\n",
       "cylinders       5260\n",
       "fuel               0\n",
       "odometer        7892\n",
       "transmission       0\n",
       "type               0\n",
       "paint_color        0\n",
       "is_4wd             0\n",
       "date_posted        0\n",
       "days_listed        0\n",
       "dtype: int64"
      ]
     },
     "execution_count": 13,
     "metadata": {},
     "output_type": "execute_result"
    }
   ],
   "source": [
    "# Memeriksa kembali nilai hilang dalam kolom saat ini\n",
    "dataframe.isnull().sum()"
   ]
  },
  {
   "cell_type": "markdown",
   "metadata": {},
   "source": [
    "Hasilnya sudah sesuai dengan rencana kita! Nilai-nilai kosong terlihat tidak nampak lagi setelah kita mengisinya."
   ]
  },
  {
   "cell_type": "markdown",
   "metadata": {},
   "source": [
    "### Mengatasi Nilai Hilang dalam Kolom `odometer`"
   ]
  },
  {
   "cell_type": "markdown",
   "metadata": {},
   "source": [
    "Sekarang kita akan melakukan pengisian nilai hilang dalam kolom ini dengan menggunakan cara yang berbeda seperti yang telah kita lakukan sebelumnya. Lebih tepatnya pengisian kolom ini sedikit lebih kompleks dengan mencari terlebih dahulu dengan nilai apakah yang terbaik yang akan kita isi, yaitu antara `.mean()` dan `.median()`.\n",
    "\n",
    "**Catatan**\n",
    "\n",
    "Sedikit *notes* untuk pengerjaan nilai yang hilang untuk kolom numerik seperti saat ini dan pada kolom `cylinders` dan `model_year` prosesnya sama saja dengan cara membandingkan terlebih dahulu nilai rata-ratanya menggunakan metode `.mean()` dan `median()`, mengisi kolomnya dengan bantuan fungsi buatan, dan menerapkan perubahan nilai hilang ke dalam kolomnya kembali."
   ]
  },
  {
   "cell_type": "markdown",
   "metadata": {},
   "source": [
    "Pertama kali yang harus kita lakukan terlebih dahulu yaitu membuat variabel baru yang hanya memuat nilai tanpa adanya nilai hilang dalam kolom `odometer`. Mari kita kerjakan di bawah ini."
   ]
  },
  {
   "cell_type": "code",
   "execution_count": 14,
   "metadata": {},
   "outputs": [],
   "source": [
    "# Menyaring data tanpa nilai hilang dalam kolom ini\n",
    "not_null_odometer = dataframe[dataframe['odometer'].notnull()].reset_index(drop=True)"
   ]
  },
  {
   "cell_type": "markdown",
   "metadata": {},
   "source": [
    "Tujuan dari menyaring data tanpa nilai hilang adalah untuk mencari tahu nilai rata-rata yang asli tanpa terpengaruh dengan nilai yang hilang yang dapat mengaburkan hasil rata-ratanya. Itu merupakan hal yang tidak kita inginkan dan langkah selanjutnya yaitu mari kita membandingkan nilai rata-ratanya seperti yang sudah kita sebutkan di atas.\n",
    "\n",
    "**Catatan**\n",
    "\n",
    "Sebuah peringatan yang perlu kita sertakan dalam pengisian nilai hilang saat ini dan kedepannya, kita tidak akan serta-merta mengisi nilai yang hilang mentah-mentah dengan menerapkan hasil nilai rata-rata dalam kolom ini ke semua baris yang nilainya hilang. Misalkan hasil dari penerapan rata-rata dari kode `dataframe['odometer'].mean()` hasilnya 115533, kalau kita terapkan hasilnya maka hasilnya akan sama dan tidak representatif. Oleh karena itu, kita akan **melakukan pengisian nilai hilang dengan menggunakan suatu kondisi dengan kolom lain**. Jadi kita akan menggunakan salah satu kolom dalam *dataset* ini untuk mencari nilai rata-ratanya dan mengisinya dengan bantuan fungsi. Mari kita terlebih dahulu mencari perbedaan nilai rata-rata antara `.mean()` dan `.median()`."
   ]
  },
  {
   "cell_type": "code",
   "execution_count": 15,
   "metadata": {},
   "outputs": [
    {
     "data": {
      "text/plain": [
       "condition\n",
       "excellent    106687.682258\n",
       "fair         183062.233577\n",
       "good         129919.930980\n",
       "like new      79426.738166\n",
       "new           43476.056000\n",
       "salvage      140919.989796\n",
       "Name: odometer, dtype: float64"
      ]
     },
     "execution_count": 15,
     "metadata": {},
     "output_type": "execute_result"
    }
   ],
   "source": [
    "# Melihat nilai mean untuk jarak tempuh berdasarkan faktor yang telah kita tentukan\n",
    "not_null_odometer.groupby('condition')['odometer'].mean()"
   ]
  },
  {
   "cell_type": "markdown",
   "metadata": {},
   "source": [
    "Kita telah menentukan kondisi nilai `.mean()` dari kolom ini dengan kolom `condition`. Cara membaca hasil dari nilai rata-rata di atas yaitu contohnya untuk kondisi kendaraan yang *excellent* memiliki rata-rata jarak tempuh kendaraan sebesar 106687.6. Jikalau dilihat juga hasilnya nampak cukup besar dan selanjutnya kita akan melakukan cara yang sama dengan metode berbeda, yaitu dengan `.median()`."
   ]
  },
  {
   "cell_type": "code",
   "execution_count": 16,
   "metadata": {},
   "outputs": [
    {
     "data": {
      "text/plain": [
       "condition\n",
       "excellent    104230.0\n",
       "fair         181613.0\n",
       "good         129000.0\n",
       "like new      72982.5\n",
       "new            8002.0\n",
       "salvage      142673.5\n",
       "Name: odometer, dtype: float64"
      ]
     },
     "execution_count": 16,
     "metadata": {},
     "output_type": "execute_result"
    }
   ],
   "source": [
    "# Melihat nilai median untuk jarak tempuh berdasarkan faktor yang telah kita tentukan\n",
    "not_null_odometer.groupby('condition')['odometer'].median()"
   ]
  },
  {
   "cell_type": "markdown",
   "metadata": {},
   "source": [
    "Sepertinya hasilnya juga tidak cukup berbeda dengan nilai rata-rata menggunakan *mean*. Tetapi setidaknya untuk nilai *median* saat ini jumlahnya sedikit lebih kecil. Berdasarkan keputusan yang akan kita ambil, **pengisian nilai hilang dalam kolom ini akan menggunakan nilai *median*** yang sudah didapatkan karena nilai *median* lebih *robust* digunakan ketika adanya nilai *outlier*, khususnya untuk kolom ini.\n",
    "\n",
    "Sehingga langkah selanjutnya kita akan membuat sebuah fungsi pengisian nilai hilang secara kondisional dengan kolom lain yang telah kita pilih, yaitu kolom `condition` sebagai agregatnya. Ingat, pengisian nilai hilang dilakukan dengan cara mengecek nilai dari kolom agregat yang telah dipilih dan mengisinya dengan nilai median dari kolom agregat ke dalam nilai yang hilang. Contohnya, jika nilai yang hilang dalam kolom `odometer` adalah kondisi kendaraannya *fair*, maka nilai hilangnya akan diisi oleh nilai median dari kondisi kendaraan tersebut."
   ]
  },
  {
   "cell_type": "code",
   "execution_count": 17,
   "metadata": {},
   "outputs": [],
   "source": [
    "# Membuat fungsi yang akan digunakan untuk mengisi nilai yang hilang menggunakan median\n",
    "def fill_missing_value(dataframe, agg_column, value_column):\n",
    "    grouped_values = dataframe.groupby(agg_column)[value_column].median().reset_index()\n",
    "    size = len(grouped_values)\n",
    "    for i in range(size):\n",
    "        group = grouped_values[agg_column][i]\n",
    "        value = grouped_values[value_column][i]\n",
    "        dataframe.loc[(dataframe[agg_column]==group) & (dataframe[value_column].isna()), value_column] = value\n",
    "    return dataframe"
   ]
  },
  {
   "cell_type": "markdown",
   "metadata": {},
   "source": [
    "Pembuatan fungsi untuk mengisi nilai hilang dalam kolom `odometer` sudah dilakukan dan dapat dijalankan. Untuk tahapan selanjutnya yaitu kita hanya perlu untuk memanggil fungsi yang baru saja kita buat dan menerapkannya ke dalam baris yang memiliki nilai hilang di kolom `odometer`."
   ]
  },
  {
   "cell_type": "code",
   "execution_count": 18,
   "metadata": {},
   "outputs": [],
   "source": [
    "# Terapkan fungsi tersebut ke setiap baris\n",
    "dataframe = fill_missing_value(dataframe, 'condition', 'odometer')"
   ]
  },
  {
   "cell_type": "markdown",
   "metadata": {},
   "source": [
    "Penerapan fungsi ke dalam setiap baris yang nilainya hilang sudah selesai. Perlu untuk diketahui kembali bahwa pengisian nilai hilang dalam kolom ini berdasarkan dari kolom `condition`. Tahap akhir dalam pengisian nilai hilang untuk kolom ini yaitu kita akan memeriksa apakah masih terdapat nilai yang hilang atau tidak."
   ]
  },
  {
   "cell_type": "code",
   "execution_count": 19,
   "metadata": {},
   "outputs": [
    {
     "data": {
      "text/plain": [
       "price              0\n",
       "model_year      3619\n",
       "model              0\n",
       "condition          0\n",
       "cylinders       5260\n",
       "fuel               0\n",
       "odometer           0\n",
       "transmission       0\n",
       "type               0\n",
       "paint_color        0\n",
       "is_4wd             0\n",
       "date_posted        0\n",
       "days_listed        0\n",
       "dtype: int64"
      ]
     },
     "execution_count": 19,
     "metadata": {},
     "output_type": "execute_result"
    }
   ],
   "source": [
    "# Memeriksa kembali nilai hilang dalam kolom ini\n",
    "dataframe.isnull().sum()"
   ]
  },
  {
   "cell_type": "markdown",
   "metadata": {},
   "source": [
    "Pada akhirnya kita dapat mengisi nilai hilang dalam kolom `odometer` ini dengan baik yang dapat dibuktikan bahwa tidak ada lagi nilai yang hilang untuk kolom tersebut. Dengan begitu kita dapat lanjut mengisi nilai hilang untuk kolom selanjutnya."
   ]
  },
  {
   "cell_type": "markdown",
   "metadata": {},
   "source": [
    "### Mengatasi Nilai Hilang dalam Kolom `cylinders`"
   ]
  },
  {
   "cell_type": "markdown",
   "metadata": {},
   "source": [
    "Pengisian nilai hilang untuk kolom ini sebenarnya sama seperti tahapan sebelumnya yang telah kita lakukan dalam kolom `odometer`. Pertama kali kita perlu untuk mencari nilai rata-rata antara `.mean()` dan `.median()`. Seperti biasa kita akan melakukan penyaringan tanpa nilai hilang untuk kolom ini terlebih dahulu dan menyimpannya dalam variabel baru."
   ]
  },
  {
   "cell_type": "code",
   "execution_count": 20,
   "metadata": {},
   "outputs": [],
   "source": [
    "# Menyaring data tanpa nilai hilang dalam kolom ini\n",
    "not_null_cylinders = dataframe[dataframe['cylinders'].notnull()].reset_index(drop=True)"
   ]
  },
  {
   "cell_type": "markdown",
   "metadata": {},
   "source": [
    "Pembuatan variabel baru tanpa nilai hilang tampaknya sudah berhasil. Sekarang saatnya bagi kita untuk membandingkan nilai rata-rata antara menggunakan *mean* atau *median* dengan salah satu kolom dari *dataset* saat ini."
   ]
  },
  {
   "cell_type": "code",
   "execution_count": 21,
   "metadata": {},
   "outputs": [
    {
     "data": {
      "text/plain": [
       "model\n",
       "acura tl             5.971564\n",
       "bmw x5               6.406375\n",
       "buick enclave        6.000000\n",
       "cadillac escalade    7.986395\n",
       "chevrolet camaro     6.887097\n",
       "                       ...   \n",
       "toyota sienna        5.952381\n",
       "toyota tacoma        5.345205\n",
       "toyota tundra        7.919561\n",
       "volkswagen jetta     4.281116\n",
       "volkswagen passat    4.325949\n",
       "Name: cylinders, Length: 100, dtype: float64"
      ]
     },
     "execution_count": 21,
     "metadata": {},
     "output_type": "execute_result"
    }
   ],
   "source": [
    "# Melihat nilai mean untuk jumlah silinder berdasarkan faktor yang telah kita tentukan\n",
    "not_null_cylinders.groupby('model')['cylinders'].mean()"
   ]
  },
  {
   "cell_type": "markdown",
   "metadata": {},
   "source": [
    "Kolom agregat yang kita gunakan saat ini sebagai referensi untuk mengisi nilai yang hilang adalah dari kolom `model`, karena setiap model kendaraan memiliki jumlah silinder yang berbeda. Kita belum bisa mengetahui apakah nilai rata-rata menggunakan *mean* ini lebih kecil dibandingkan dengan *median*. Selanjutnya kita akan melakukan hal yang sama dengan memanggil metode `.median()` dan membandingkannya."
   ]
  },
  {
   "cell_type": "code",
   "execution_count": 22,
   "metadata": {},
   "outputs": [
    {
     "data": {
      "text/plain": [
       "model\n",
       "acura tl             6.0\n",
       "bmw x5               6.0\n",
       "buick enclave        6.0\n",
       "cadillac escalade    8.0\n",
       "chevrolet camaro     6.0\n",
       "                    ... \n",
       "toyota sienna        6.0\n",
       "toyota tacoma        6.0\n",
       "toyota tundra        8.0\n",
       "volkswagen jetta     4.0\n",
       "volkswagen passat    4.0\n",
       "Name: cylinders, Length: 100, dtype: float64"
      ]
     },
     "execution_count": 22,
     "metadata": {},
     "output_type": "execute_result"
    }
   ],
   "source": [
    "# Melihat nilai median untuk jumlah silinder berdasarkan faktor yang telah kita tentukan\n",
    "not_null_cylinders.groupby('model')['cylinders'].median()"
   ]
  },
  {
   "cell_type": "markdown",
   "metadata": {},
   "source": [
    "Ternyata hasilnya sama saja dan perbedaannya sangat kecil. Itu menandakan bahwa dalam kolom ini mungkin tidak memiliki pencilan yang banyak dan hal ini bisa kita rujuk kembali dalam pemanggilan metode `.describe()` pada tahap eksplorasi data awal bahwa nilai standar deviasi untuk kolom ini memang kecil. Keputusannya adalah kita akan tetap **menggunakan nilai *median* untuk mengisi nilai yang hilang** karena nilai ini akan lebih aman jika digunakan untuk mengisi nilai yang hilang dan alasan lainnya adalah nilai dari *mean* tidak bulat. Langkah selanjutnya adalah dengan mengisi nilai yang hilang menggunakan fungsi pengisian nilai hilang kondisional dengan kolom `model`, caranya serupa dengan tahapan sebelumnya."
   ]
  },
  {
   "cell_type": "code",
   "execution_count": 23,
   "metadata": {},
   "outputs": [],
   "source": [
    "# Membuat fungsi yang akan digunakan untuk mengisi nilai yang hilang menggunakan median\n",
    "def fill_missing_value(dataframe, agg_column, value_column):\n",
    "    grouped_values = dataframe.groupby(agg_column)[value_column].median().reset_index()\n",
    "    size = len(grouped_values)\n",
    "    for i in range(size):\n",
    "        group = grouped_values[agg_column][i]\n",
    "        value = grouped_values[value_column][i]\n",
    "        dataframe.loc[(dataframe[agg_column]==group) & (dataframe[value_column].isna()), value_column] = value\n",
    "    return dataframe"
   ]
  },
  {
   "cell_type": "markdown",
   "metadata": {},
   "source": [
    "Fungsi di atas sebenarnya hanya perlu kita salin kembali karena pengisian nilai hilang sama saja untuk kolom numerik. Selanjutnya kita hanya perlu memanggil kembali fungsi di atas dan menerapkannya dalam kolom `cylinders` yang saat ini memiliki *missing value*."
   ]
  },
  {
   "cell_type": "code",
   "execution_count": 24,
   "metadata": {},
   "outputs": [],
   "source": [
    "# Menerapkan fungsi di atas ke setiap baris\n",
    "dataframe = fill_missing_value(dataframe, 'model', 'cylinders')"
   ]
  },
  {
   "cell_type": "markdown",
   "metadata": {},
   "source": [
    "Pengisian nilai hilang untuk kolom saat ini sudah berhasil dilaksanakan. Sekarang mari kita buktikan kembali apakah masih ada nilai yang hilang atau tidak."
   ]
  },
  {
   "cell_type": "code",
   "execution_count": 25,
   "metadata": {},
   "outputs": [
    {
     "data": {
      "text/plain": [
       "price              0\n",
       "model_year      3619\n",
       "model              0\n",
       "condition          0\n",
       "cylinders          0\n",
       "fuel               0\n",
       "odometer           0\n",
       "transmission       0\n",
       "type               0\n",
       "paint_color        0\n",
       "is_4wd             0\n",
       "date_posted        0\n",
       "days_listed        0\n",
       "dtype: int64"
      ]
     },
     "execution_count": 25,
     "metadata": {},
     "output_type": "execute_result"
    }
   ],
   "source": [
    "# Memeriksa kembali nilai hilang dalam kolom ini\n",
    "dataframe.isnull().sum()"
   ]
  },
  {
   "cell_type": "markdown",
   "metadata": {},
   "source": [
    "Pada akhirnya semua sudah dilakukan dengan beres! Kolom `cylinders` yang sebelumnya kita lihat memiliki sebanyak 5260 nilai yang hilang dan saat ini jumlahnya sudah menjadi 0. Itu artinya tinggal satu kolom lagi yang perlu kita bereskan."
   ]
  },
  {
   "cell_type": "markdown",
   "metadata": {},
   "source": [
    "### Mengatasi Nilai Hilang dalam Kolom `model_year`"
   ]
  },
  {
   "cell_type": "markdown",
   "metadata": {},
   "source": [
    "Bagian ini merupakan tahapan akhir dalam mengisi nilai hilang dan untuk saat ini kita akan fokus dalam kolom `model_year`. Seperti yang sudah dijelaskan pada awal bagian sub-bab pengerjaan ini, langkah pengerjaannya sama dengan pengisian nilai hilang dalam kolom `odometer` dan `cylinders`. Pertama kita harus menyaring data tanpa nilai yang hilang."
   ]
  },
  {
   "cell_type": "code",
   "execution_count": 26,
   "metadata": {},
   "outputs": [],
   "source": [
    "# Menyaring data tanpa nilai hilang dalam kolom ini\n",
    "not_null_model_year = dataframe[dataframe['model_year'].notnull()].reset_index(drop=True)"
   ]
  },
  {
   "cell_type": "markdown",
   "metadata": {},
   "source": [
    "*Dataset* tanpa nilai hilang dalam kolom ini sudah disimpan dalam variabel `not_null_model_year`. Kedua, kita akan membandingkan nilai rata-rata antara *mean* dan *median* dengan menggunakan salah satu kolom."
   ]
  },
  {
   "cell_type": "code",
   "execution_count": 27,
   "metadata": {},
   "outputs": [
    {
     "data": {
      "text/plain": [
       "model\n",
       "acura tl             2007.517857\n",
       "bmw x5               2008.991870\n",
       "buick enclave        2012.194553\n",
       "cadillac escalade    2008.508475\n",
       "chevrolet camaro     2008.397959\n",
       "                        ...     \n",
       "toyota sienna        2008.584416\n",
       "toyota tacoma        2009.331599\n",
       "toyota tundra        2009.350352\n",
       "volkswagen jetta     2010.779381\n",
       "volkswagen passat    2011.253086\n",
       "Name: model_year, Length: 100, dtype: float64"
      ]
     },
     "execution_count": 27,
     "metadata": {},
     "output_type": "execute_result"
    }
   ],
   "source": [
    "# Melihat nilai mean untuk tahun kendaraan berdasarkan faktor yang telah kita tentukan\n",
    "not_null_model_year.groupby('model')['model_year'].mean()"
   ]
  },
  {
   "cell_type": "markdown",
   "metadata": {},
   "source": [
    "Penentuan nilai *mean* saat ini dilakukan bersama dengan kolom `model`. Di atas terkandung nilai rata-rata tahun kendaraan menggunakan *mean* berdasarkan masing-masing model kendaraan. Selanjutnya mari kita lihat dan bandingkan dengan nilai rata-rata untuk kolom ini menggunakan *median*."
   ]
  },
  {
   "cell_type": "code",
   "execution_count": 28,
   "metadata": {},
   "outputs": [
    {
     "data": {
      "text/plain": [
       "model\n",
       "acura tl             2007.0\n",
       "bmw x5               2010.0\n",
       "buick enclave        2012.0\n",
       "cadillac escalade    2009.0\n",
       "chevrolet camaro     2013.0\n",
       "                      ...  \n",
       "toyota sienna        2008.0\n",
       "toyota tacoma        2010.0\n",
       "toyota tundra        2009.0\n",
       "volkswagen jetta     2012.0\n",
       "volkswagen passat    2013.0\n",
       "Name: model_year, Length: 100, dtype: float64"
      ]
     },
     "execution_count": 28,
     "metadata": {},
     "output_type": "execute_result"
    }
   ],
   "source": [
    "# Melihat nilai median untuk tahun kendaraan berdasarkan faktor yang telah kita tentukan\n",
    "not_null_model_year.groupby('model')['model_year'].median()"
   ]
  },
  {
   "cell_type": "markdown",
   "metadata": {},
   "source": [
    "Sama seperti kolom `cylinders`, nilai *median* dalam kolom ini jika dibandingkan dengan nilai *mean* sebenarnya perbedaanya sangat tipis. Sehingga keputusan yang akan kita pakai untuk **mengisi nilai yang hilang dalam kolom ini adalah dengan menggunakan nilai *median*** karena tetap saja dalam kolom ini kita bisa melihat adanya *outlier* jika kita merujuk pada nilai standar deviasi dalam bagian eksplorasi data awal. Kembali lagi kita akan menggunakan fungsi pengisian nilai hilang kondisional bersama dengan kolom `model`."
   ]
  },
  {
   "cell_type": "code",
   "execution_count": 29,
   "metadata": {},
   "outputs": [],
   "source": [
    "# Membuat fungsi yang akan digunakan untuk mengisi nilai yang hilang menggunakan median\n",
    "def fill_missing_value(dataframe, agg_column, value_column):\n",
    "    grouped_values = dataframe.groupby(agg_column)[value_column].median().reset_index()\n",
    "    size = len(grouped_values)\n",
    "    for i in range(size):\n",
    "        group = grouped_values[agg_column][i]\n",
    "        value = grouped_values[value_column][i]\n",
    "        dataframe.loc[(dataframe[agg_column]==group) & (dataframe[value_column].isna()), value_column] = value\n",
    "    return dataframe"
   ]
  },
  {
   "cell_type": "markdown",
   "metadata": {},
   "source": [
    "Sebenarnya untuk fungsi di atas sama saja dengan pengisian dua kolom sebelumnya dan kita hanya perlu menyalinnya lagi. Setelah ini kita akan memanggil fungsi yang ada dan menerapkannya ke dalam baris-baris yang memiliki nilai dalam kolom `model_year` dengan kolom agregatnya yaitu `model`."
   ]
  },
  {
   "cell_type": "code",
   "execution_count": 30,
   "metadata": {},
   "outputs": [],
   "source": [
    "# Menerapkan fungsi di atas ke setiap baris\n",
    "dataframe = fill_missing_value(dataframe, 'model', 'model_year')"
   ]
  },
  {
   "cell_type": "markdown",
   "metadata": {},
   "source": [
    "Kembali mengingatkan bahwa pengisian nilai hilang dalam kolom ini berdasarkan dari kolom `model`. Maksudnya setiap nilai hilang akan diperiksa berdasarkan nama kendaraan dan ketika cocok nilai kosong tersebut akan diisi dengan median yang sesuai dengan nama model kendaraannya. Pada akhirnya kita akan mengecek apakah masih terdapat nilai hilang dalam kolom ini atau tidak."
   ]
  },
  {
   "cell_type": "code",
   "execution_count": 31,
   "metadata": {},
   "outputs": [
    {
     "data": {
      "text/plain": [
       "price           0\n",
       "model_year      0\n",
       "model           0\n",
       "condition       0\n",
       "cylinders       0\n",
       "fuel            0\n",
       "odometer        0\n",
       "transmission    0\n",
       "type            0\n",
       "paint_color     0\n",
       "is_4wd          0\n",
       "date_posted     0\n",
       "days_listed     0\n",
       "dtype: int64"
      ]
     },
     "execution_count": 31,
     "metadata": {},
     "output_type": "execute_result"
    }
   ],
   "source": [
    "# Memeriksa kembali nilai hilang dalam kolom ini\n",
    "dataframe.isnull().sum()"
   ]
  },
  {
   "cell_type": "markdown",
   "metadata": {},
   "source": [
    "Terlihat bagus! Kita dapat melihat bahwa dalam kolom ini sudah tidak ada lagi nilai yang hilang dan untuk keseluruhan kolom dalam *dataset* kita sudah terisi semua baris-barisnya."
   ]
  },
  {
   "cell_type": "markdown",
   "metadata": {},
   "source": [
    "## Memperbaiki Tipe Data"
   ]
  },
  {
   "cell_type": "markdown",
   "metadata": {},
   "source": [
    "Perbaikan tipe data juga merupakan hal yang penting untuk dilakukan sebelum masuk dalam eksplorasi data. Dalam tahapan ini kita hanya dituntut untuk melakukan perubahan tipe data dengan langkah yang sederhana untuk beberapa kolom yang tipe datanya tidak tepat. Berikut ini kita lampirkan kembali kolom-kolom yang tipe datanya akan kita perbaiki dan statusnya saat ini:\n",
    "- `price`: tipe datanya adalah *integer*\n",
    "- `model_year`: tipe datanya adalah *float*\n",
    "- `cylinders`: tipe datanya adalah *float*\n",
    "- `is_4wd`: tipe datanya adalah *float*\n",
    "- `date_posted`: tipe data dalam kolom ini adalah *object*.\n",
    "\n",
    "Mari kita lakukan perubahan untuk kolom-kolom tersebut secara berurutan."
   ]
  },
  {
   "cell_type": "markdown",
   "metadata": {},
   "source": [
    "### Perbaikan Tipe Data untuk Beberapa Kolom"
   ]
  },
  {
   "cell_type": "markdown",
   "metadata": {},
   "source": [
    "Untuk saat ini kita akan merubah tipe data dalam kolom `price` yang sebelumnya yaitu `integer` akan dirubah menjadi `float`. Mari kita kerjakan saat ini."
   ]
  },
  {
   "cell_type": "code",
   "execution_count": 32,
   "metadata": {},
   "outputs": [],
   "source": [
    "# Mengubah tipe data dalam kolom `price` menjadi `float`\n",
    "dataframe['price'] = dataframe['price'].astype('float')"
   ]
  },
  {
   "cell_type": "markdown",
   "metadata": {},
   "source": [
    "Kerja yang baik sudah kita lakukan dalam kolom `price`. Mari kita lakukan kembali cara yang sama untuk kolom `model_year` yang sebelumnya tipe datanya adalah `float` akan dirubah menjadi `integer`."
   ]
  },
  {
   "cell_type": "code",
   "execution_count": 33,
   "metadata": {},
   "outputs": [],
   "source": [
    "# Mengubah tipe data dalam kolom `model_year` menjadi `integer`\n",
    "dataframe['model_year'] = dataframe['model_year'].astype('int')"
   ]
  },
  {
   "cell_type": "markdown",
   "metadata": {},
   "source": [
    "Kerja yang bagus! Sekarang kita akan beralih ke kolom `cylinders`. Kolom tersebut akan dirubah tipe datanya menjadi `integer`."
   ]
  },
  {
   "cell_type": "code",
   "execution_count": 34,
   "metadata": {},
   "outputs": [],
   "source": [
    "# Mengubah tipe data dalam kolom `cylinders` menjadi `integer`\n",
    "dataframe['cylinders'] = dataframe['cylinders'].astype('int')"
   ]
  },
  {
   "cell_type": "markdown",
   "metadata": {},
   "source": [
    "Merubah tipe data merupakan tahapan yang sederhana. Lanjutan pekerjaan kita saat ini akan merubah tipe data dalam kolom `is_4wd` yang sebelumnya adalah `float` menjadi `boolean`."
   ]
  },
  {
   "cell_type": "code",
   "execution_count": 35,
   "metadata": {},
   "outputs": [],
   "source": [
    "# Mengubah tipe data dalam kolom `is_4wd` menjadi `integer`\n",
    "dataframe['is_4wd'] = dataframe['is_4wd'].astype('bool')"
   ]
  },
  {
   "cell_type": "markdown",
   "metadata": {},
   "source": [
    "Sekarang untuk tahap akhir kita akan melakukan perubahan tipe data untuk kolom `date_posted` yang sebelumnya adalah `object` menjadi tipe data tanggal yang sesuai yaitu `datetime`. Cara merubahnya untuk kolom ini cukup berbeda dengan tahapan-tahapan perubahan tipe data sebelumnya."
   ]
  },
  {
   "cell_type": "code",
   "execution_count": 36,
   "metadata": {},
   "outputs": [],
   "source": [
    "# Mengubah tipe data dalam kolom `date_posted` menjadi `datetime`\n",
    "dataframe['date_posted'] = pd.to_datetime(dataframe['date_posted'])"
   ]
  },
  {
   "cell_type": "markdown",
   "metadata": {},
   "source": [
    "Pada akhirnya kita telah melakukan perubahan tipe data dalam kolom-kolom di atas menjadi yang seharusnya. Untuk lebih jelas mari kita akan melihat isi sampel data dalam *dataset* kita saat ini setelah melakukan perubahan tipe data."
   ]
  },
  {
   "cell_type": "code",
   "execution_count": 37,
   "metadata": {
    "scrolled": false
   },
   "outputs": [
    {
     "data": {
      "text/html": [
       "<div>\n",
       "<style scoped>\n",
       "    .dataframe tbody tr th:only-of-type {\n",
       "        vertical-align: middle;\n",
       "    }\n",
       "\n",
       "    .dataframe tbody tr th {\n",
       "        vertical-align: top;\n",
       "    }\n",
       "\n",
       "    .dataframe thead th {\n",
       "        text-align: right;\n",
       "    }\n",
       "</style>\n",
       "<table border=\"1\" class=\"dataframe\">\n",
       "  <thead>\n",
       "    <tr style=\"text-align: right;\">\n",
       "      <th></th>\n",
       "      <th>price</th>\n",
       "      <th>model_year</th>\n",
       "      <th>model</th>\n",
       "      <th>condition</th>\n",
       "      <th>cylinders</th>\n",
       "      <th>fuel</th>\n",
       "      <th>odometer</th>\n",
       "      <th>transmission</th>\n",
       "      <th>type</th>\n",
       "      <th>paint_color</th>\n",
       "      <th>is_4wd</th>\n",
       "      <th>date_posted</th>\n",
       "      <th>days_listed</th>\n",
       "    </tr>\n",
       "  </thead>\n",
       "  <tbody>\n",
       "    <tr>\n",
       "      <th>0</th>\n",
       "      <td>9400.0</td>\n",
       "      <td>2011</td>\n",
       "      <td>bmw x5</td>\n",
       "      <td>good</td>\n",
       "      <td>6</td>\n",
       "      <td>gas</td>\n",
       "      <td>145000.0</td>\n",
       "      <td>automatic</td>\n",
       "      <td>SUV</td>\n",
       "      <td>unknown</td>\n",
       "      <td>True</td>\n",
       "      <td>2018-06-23</td>\n",
       "      <td>19</td>\n",
       "    </tr>\n",
       "    <tr>\n",
       "      <th>1</th>\n",
       "      <td>25500.0</td>\n",
       "      <td>2011</td>\n",
       "      <td>ford f-150</td>\n",
       "      <td>good</td>\n",
       "      <td>6</td>\n",
       "      <td>gas</td>\n",
       "      <td>88705.0</td>\n",
       "      <td>automatic</td>\n",
       "      <td>pickup</td>\n",
       "      <td>white</td>\n",
       "      <td>True</td>\n",
       "      <td>2018-10-19</td>\n",
       "      <td>50</td>\n",
       "    </tr>\n",
       "    <tr>\n",
       "      <th>2</th>\n",
       "      <td>5500.0</td>\n",
       "      <td>2013</td>\n",
       "      <td>hyundai sonata</td>\n",
       "      <td>like new</td>\n",
       "      <td>4</td>\n",
       "      <td>gas</td>\n",
       "      <td>110000.0</td>\n",
       "      <td>automatic</td>\n",
       "      <td>sedan</td>\n",
       "      <td>red</td>\n",
       "      <td>False</td>\n",
       "      <td>2019-02-07</td>\n",
       "      <td>79</td>\n",
       "    </tr>\n",
       "    <tr>\n",
       "      <th>3</th>\n",
       "      <td>1500.0</td>\n",
       "      <td>2003</td>\n",
       "      <td>ford f-150</td>\n",
       "      <td>fair</td>\n",
       "      <td>8</td>\n",
       "      <td>gas</td>\n",
       "      <td>181613.0</td>\n",
       "      <td>automatic</td>\n",
       "      <td>pickup</td>\n",
       "      <td>unknown</td>\n",
       "      <td>False</td>\n",
       "      <td>2019-03-22</td>\n",
       "      <td>9</td>\n",
       "    </tr>\n",
       "    <tr>\n",
       "      <th>4</th>\n",
       "      <td>14900.0</td>\n",
       "      <td>2017</td>\n",
       "      <td>chrysler 200</td>\n",
       "      <td>excellent</td>\n",
       "      <td>4</td>\n",
       "      <td>gas</td>\n",
       "      <td>80903.0</td>\n",
       "      <td>automatic</td>\n",
       "      <td>sedan</td>\n",
       "      <td>black</td>\n",
       "      <td>False</td>\n",
       "      <td>2019-04-02</td>\n",
       "      <td>28</td>\n",
       "    </tr>\n",
       "  </tbody>\n",
       "</table>\n",
       "</div>"
      ],
      "text/plain": [
       "     price  model_year           model  condition  cylinders fuel  odometer  \\\n",
       "0   9400.0        2011          bmw x5       good          6  gas  145000.0   \n",
       "1  25500.0        2011      ford f-150       good          6  gas   88705.0   \n",
       "2   5500.0        2013  hyundai sonata   like new          4  gas  110000.0   \n",
       "3   1500.0        2003      ford f-150       fair          8  gas  181613.0   \n",
       "4  14900.0        2017    chrysler 200  excellent          4  gas   80903.0   \n",
       "\n",
       "  transmission    type paint_color  is_4wd date_posted  days_listed  \n",
       "0    automatic     SUV     unknown    True  2018-06-23           19  \n",
       "1    automatic  pickup       white    True  2018-10-19           50  \n",
       "2    automatic   sedan         red   False  2019-02-07           79  \n",
       "3    automatic  pickup     unknown   False  2019-03-22            9  \n",
       "4    automatic   sedan       black   False  2019-04-02           28  "
      ]
     },
     "execution_count": 37,
     "metadata": {},
     "output_type": "execute_result"
    }
   ],
   "source": [
    "# Menampilkan sampel data\n",
    "dataframe.head()"
   ]
  },
  {
   "cell_type": "markdown",
   "metadata": {},
   "source": [
    "Semua sudah terlihat jelas perubahannya. Untuk kolom `model_year` dan `cylinders` yang sebelumnya terdapat angka di belakang koma (bentuk pecahan) telah menjadi angka bulat seperti yang kita harapkan, begitu juga untuk kolom `price`sebaliknya. Kolom `is_4wd` sudah berubah juga tipe datanya menjadi *boolean* agar mempermudah interpretasi data dalam kolom tersebut. Sekarang mari kita laporkan kesimpulan kita selanjutnya mengenai perubahan tipe data yang sudah dilakukan dengan lebih jelas."
   ]
  },
  {
   "cell_type": "markdown",
   "metadata": {},
   "source": [
    "### Kesimpulan Setelah Perbaikan Tipe Data"
   ]
  },
  {
   "cell_type": "markdown",
   "metadata": {},
   "source": [
    "Saatnya bagi kita untuk melihat perubahan dalam tipe data untuk kelima kolom yang sudah dirubah. Mari kita panggil metode `.dtypes` dan melihat perubahannya dengan saksama."
   ]
  },
  {
   "cell_type": "code",
   "execution_count": 38,
   "metadata": {},
   "outputs": [
    {
     "data": {
      "text/plain": [
       "price                  float64\n",
       "model_year               int64\n",
       "model                   object\n",
       "condition               object\n",
       "cylinders                int64\n",
       "fuel                    object\n",
       "odometer               float64\n",
       "transmission            object\n",
       "type                    object\n",
       "paint_color             object\n",
       "is_4wd                    bool\n",
       "date_posted     datetime64[ns]\n",
       "days_listed              int64\n",
       "dtype: object"
      ]
     },
     "execution_count": 38,
     "metadata": {},
     "output_type": "execute_result"
    }
   ],
   "source": [
    "# Memeriksa tipe data setiap kolom\n",
    "dataframe.dtypes"
   ]
  },
  {
   "cell_type": "markdown",
   "metadata": {},
   "source": [
    "Hasil dari tipe data untuk *dataset* saat ini pada akhirnya seluruhnya sudah tepat dan tidak ada kejanggalan lagi. Berikut ini merupakan hasil akhir dari perubahan tipe data untuk kolom-kolom yang bermasalah:\n",
    "- `price`: tipe datanya adalah *integer* dan sudah berubah menjadi ***float***\n",
    "- `model_year`: tipe datanya adalah *float* dan sudah berubah menjadi ***integer***\n",
    "- `cylinders`: tipe datanya adalah *float* dan sudah berubah menjadi ***integer***\n",
    "- `is_4wd`: tipe datanya adalah *float* dan sudah berubah menjadi ***boolean***\n",
    "- `date_posted`: tipe data dalam kolom ini adalah *object* dan sudah beralih menjadi ***datetime***."
   ]
  },
  {
   "cell_type": "markdown",
   "metadata": {},
   "source": [
    "## Memperbaiki Kualitas Data"
   ]
  },
  {
   "cell_type": "markdown",
   "metadata": {},
   "source": [
    "Tahapan selanjutnya dalam sub-bab pengerjaan proyek saat ini yaitu dengan memperbaiki kualitas data dalam *dataset* ini menjadi lebih baik. Dalam tahapan pengerjaan ini kita akan menambahkan beberapa kolom baru dari hasil penjumlahan, pengurangan, dan pembagian beberapa kolom. Perbaikan kualitas data akan dilakukan secara bertahap dan tersusun dan berikut adalah agenda pengerjaan yang akan kita lakukan saat ini:\n",
    "- Menambahkan kolom mengenai hari dalam minggu, bulan, dan tahun iklan ditayangkan dari kolom `date_posted`\n",
    "- Menambahkan kolom mengenai usia kendaraan (dalam tahun) ketika iklan ditayangkan\n",
    "- Menambahkan kolom mengenai jarak tempuh rata-rata kendaraan per tahun, dan\n",
    "- Menambahkan kolom mengenai skala numerik dari kolom `condition`.\n",
    "\n",
    "Kita sudah menulis kegiatan apa saja yang akan dilakukan dan oleh karena itu ayo kita mulai kerjakan untuk bagian pertama terlebih dahulu."
   ]
  },
  {
   "cell_type": "markdown",
   "metadata": {},
   "source": [
    "### Menambahkan Hari dalam Minggu, Bulan, dan Tahun Iklan Ditayangkan"
   ]
  },
  {
   "cell_type": "markdown",
   "metadata": {},
   "source": [
    "Seluruh aktivitas penambahan kolom saat ini akan menggunakan kolom `date_posted` sebagai referensi pengerjaan perbaikan kualitas data. Pertama kita akan **mengambil data bagian tahun** dari kolom `date_posted` dan menyimpannya dalam kolom baru. Mari kita perhatikan kode di bawah ini."
   ]
  },
  {
   "cell_type": "code",
   "execution_count": 39,
   "metadata": {},
   "outputs": [],
   "source": [
    "# Menambahkan nilai tahun pada saat iklan ditayangkan\n",
    "dataframe['year_posted'] = dataframe['date_posted'].dt.year"
   ]
  },
  {
   "cell_type": "markdown",
   "metadata": {},
   "source": [
    "Kita telah berhasil menambahkan bagian tahun dari kolom `date_posted` dalam kolom baru bernama `year_posted`. Kita akan melihat hasil penambahan kolom pada bagian akhir dalam pengerjaan sub-bab saat ini. Sekarang kita akan **mengambil data bagian bulan saat iklan ditayangkan** dan kembali menyimpannya dalam kolom baru."
   ]
  },
  {
   "cell_type": "code",
   "execution_count": 40,
   "metadata": {},
   "outputs": [],
   "source": [
    "# Menambahkan nilai bulan pada saat iklan ditayangkan\n",
    "dataframe['month_posted'] = dataframe['date_posted'].dt.month"
   ]
  },
  {
   "cell_type": "markdown",
   "metadata": {},
   "source": [
    "Kembali kita berhasil dalam membuat kolom baru `month_posted` yang berisi mengenai bulan saat iklan ditayangkan. Terakhir kita akan melakukan cara yang sama dengan **membuat kolom baru yang berisi hari dalam minggu saat iklan ditayangkan** dari kolom `date_posted`."
   ]
  },
  {
   "cell_type": "code",
   "execution_count": 41,
   "metadata": {},
   "outputs": [],
   "source": [
    "# Menambahkan nilai hari dalam minggu pada saat iklan ditayangkan\n",
    "dataframe['week_posted'] = dataframe['date_posted'].dt.weekday"
   ]
  },
  {
   "cell_type": "markdown",
   "metadata": {},
   "source": [
    "Pengambilan nilai hari dalam minggu pada kolom `date_posted` sudah selesai dilakukan dan telah disimpan dalam kolom bernama `week_posted`. Sekarang saatnya kita untuk melihat hasil pekerjaan kita sebelumnya dalam kondisi *dataset* saat ini."
   ]
  },
  {
   "cell_type": "code",
   "execution_count": 42,
   "metadata": {},
   "outputs": [
    {
     "data": {
      "text/html": [
       "<div>\n",
       "<style scoped>\n",
       "    .dataframe tbody tr th:only-of-type {\n",
       "        vertical-align: middle;\n",
       "    }\n",
       "\n",
       "    .dataframe tbody tr th {\n",
       "        vertical-align: top;\n",
       "    }\n",
       "\n",
       "    .dataframe thead th {\n",
       "        text-align: right;\n",
       "    }\n",
       "</style>\n",
       "<table border=\"1\" class=\"dataframe\">\n",
       "  <thead>\n",
       "    <tr style=\"text-align: right;\">\n",
       "      <th></th>\n",
       "      <th>price</th>\n",
       "      <th>model_year</th>\n",
       "      <th>model</th>\n",
       "      <th>condition</th>\n",
       "      <th>cylinders</th>\n",
       "      <th>fuel</th>\n",
       "      <th>odometer</th>\n",
       "      <th>transmission</th>\n",
       "      <th>type</th>\n",
       "      <th>paint_color</th>\n",
       "      <th>is_4wd</th>\n",
       "      <th>date_posted</th>\n",
       "      <th>days_listed</th>\n",
       "      <th>year_posted</th>\n",
       "      <th>month_posted</th>\n",
       "      <th>week_posted</th>\n",
       "    </tr>\n",
       "  </thead>\n",
       "  <tbody>\n",
       "    <tr>\n",
       "      <th>0</th>\n",
       "      <td>9400.0</td>\n",
       "      <td>2011</td>\n",
       "      <td>bmw x5</td>\n",
       "      <td>good</td>\n",
       "      <td>6</td>\n",
       "      <td>gas</td>\n",
       "      <td>145000.0</td>\n",
       "      <td>automatic</td>\n",
       "      <td>SUV</td>\n",
       "      <td>unknown</td>\n",
       "      <td>True</td>\n",
       "      <td>2018-06-23</td>\n",
       "      <td>19</td>\n",
       "      <td>2018</td>\n",
       "      <td>6</td>\n",
       "      <td>5</td>\n",
       "    </tr>\n",
       "    <tr>\n",
       "      <th>1</th>\n",
       "      <td>25500.0</td>\n",
       "      <td>2011</td>\n",
       "      <td>ford f-150</td>\n",
       "      <td>good</td>\n",
       "      <td>6</td>\n",
       "      <td>gas</td>\n",
       "      <td>88705.0</td>\n",
       "      <td>automatic</td>\n",
       "      <td>pickup</td>\n",
       "      <td>white</td>\n",
       "      <td>True</td>\n",
       "      <td>2018-10-19</td>\n",
       "      <td>50</td>\n",
       "      <td>2018</td>\n",
       "      <td>10</td>\n",
       "      <td>4</td>\n",
       "    </tr>\n",
       "    <tr>\n",
       "      <th>2</th>\n",
       "      <td>5500.0</td>\n",
       "      <td>2013</td>\n",
       "      <td>hyundai sonata</td>\n",
       "      <td>like new</td>\n",
       "      <td>4</td>\n",
       "      <td>gas</td>\n",
       "      <td>110000.0</td>\n",
       "      <td>automatic</td>\n",
       "      <td>sedan</td>\n",
       "      <td>red</td>\n",
       "      <td>False</td>\n",
       "      <td>2019-02-07</td>\n",
       "      <td>79</td>\n",
       "      <td>2019</td>\n",
       "      <td>2</td>\n",
       "      <td>3</td>\n",
       "    </tr>\n",
       "    <tr>\n",
       "      <th>3</th>\n",
       "      <td>1500.0</td>\n",
       "      <td>2003</td>\n",
       "      <td>ford f-150</td>\n",
       "      <td>fair</td>\n",
       "      <td>8</td>\n",
       "      <td>gas</td>\n",
       "      <td>181613.0</td>\n",
       "      <td>automatic</td>\n",
       "      <td>pickup</td>\n",
       "      <td>unknown</td>\n",
       "      <td>False</td>\n",
       "      <td>2019-03-22</td>\n",
       "      <td>9</td>\n",
       "      <td>2019</td>\n",
       "      <td>3</td>\n",
       "      <td>4</td>\n",
       "    </tr>\n",
       "    <tr>\n",
       "      <th>4</th>\n",
       "      <td>14900.0</td>\n",
       "      <td>2017</td>\n",
       "      <td>chrysler 200</td>\n",
       "      <td>excellent</td>\n",
       "      <td>4</td>\n",
       "      <td>gas</td>\n",
       "      <td>80903.0</td>\n",
       "      <td>automatic</td>\n",
       "      <td>sedan</td>\n",
       "      <td>black</td>\n",
       "      <td>False</td>\n",
       "      <td>2019-04-02</td>\n",
       "      <td>28</td>\n",
       "      <td>2019</td>\n",
       "      <td>4</td>\n",
       "      <td>1</td>\n",
       "    </tr>\n",
       "  </tbody>\n",
       "</table>\n",
       "</div>"
      ],
      "text/plain": [
       "     price  model_year           model  condition  cylinders fuel  odometer  \\\n",
       "0   9400.0        2011          bmw x5       good          6  gas  145000.0   \n",
       "1  25500.0        2011      ford f-150       good          6  gas   88705.0   \n",
       "2   5500.0        2013  hyundai sonata   like new          4  gas  110000.0   \n",
       "3   1500.0        2003      ford f-150       fair          8  gas  181613.0   \n",
       "4  14900.0        2017    chrysler 200  excellent          4  gas   80903.0   \n",
       "\n",
       "  transmission    type paint_color  is_4wd date_posted  days_listed  \\\n",
       "0    automatic     SUV     unknown    True  2018-06-23           19   \n",
       "1    automatic  pickup       white    True  2018-10-19           50   \n",
       "2    automatic   sedan         red   False  2019-02-07           79   \n",
       "3    automatic  pickup     unknown   False  2019-03-22            9   \n",
       "4    automatic   sedan       black   False  2019-04-02           28   \n",
       "\n",
       "   year_posted  month_posted  week_posted  \n",
       "0         2018             6            5  \n",
       "1         2018            10            4  \n",
       "2         2019             2            3  \n",
       "3         2019             3            4  \n",
       "4         2019             4            1  "
      ]
     },
     "execution_count": 42,
     "metadata": {},
     "output_type": "execute_result"
    }
   ],
   "source": [
    "# Menampilkan penambahan kolom dari hasil pekerjaan sebelumnya\n",
    "dataframe.head()"
   ]
  },
  {
   "cell_type": "markdown",
   "metadata": {},
   "source": [
    "Dari sampel *dataframe* di atas terlihat jelas ada 3 kolom baru yang sudah ditambahkan, yaitu kolom `year_posted`, `month_posted`, dan `week_posted`. Kerja yang baik! Sekarang mari kita lanjut dalam pengerjaan untuk sub-bab selanjutnya."
   ]
  },
  {
   "cell_type": "markdown",
   "metadata": {},
   "source": [
    "### Menambahkan Kolom Berisi Usia Kendaraan Saat Iklan Ditayangkan"
   ]
  },
  {
   "cell_type": "markdown",
   "metadata": {},
   "source": [
    "Perbaikan kualitas data dalam *dataset* kita ini akan dikerjakan menggunakan salah satu kolom yang sudah kita buat sebelumnya. Pekerjaan kita saat ini tergolong mudah karena kita hanya perlu untuk mencari usia kendaraan dari setiap kendaraan saat ini. Caranya sangatlah mudah yaitu kita hanya perlu untuk **mengurangi tahun ketika kendaraan ditayangkan dengan tahun ketika kendaraan diluncurkan**. Atau kita bisa menebak bahwa kita akan mengurangi kolom `year_posted` dengan `model_year`, hanya seperti itu. Mari kita lakukan segera di bagian bawah penjelasan ini."
   ]
  },
  {
   "cell_type": "code",
   "execution_count": 43,
   "metadata": {},
   "outputs": [
    {
     "data": {
      "text/plain": [
       "0         7\n",
       "1         7\n",
       "2         6\n",
       "3        16\n",
       "4         2\n",
       "         ..\n",
       "51520     5\n",
       "51521    16\n",
       "51522     9\n",
       "51523     5\n",
       "51524     4\n",
       "Length: 51525, dtype: int64"
      ]
     },
     "execution_count": 43,
     "metadata": {},
     "output_type": "execute_result"
    }
   ],
   "source": [
    "# Mencari usia kendaraan saat iklan ditayangkan\n",
    "dataframe['year_posted'] - dataframe['model_year']"
   ]
  },
  {
   "cell_type": "markdown",
   "metadata": {},
   "source": [
    "Usia kendaraan sudah dihitung dan nantinya akan disimpan dalam kolom baru. Apakah pekerjaan kita untuk saat ini sudah selesai? Sepertinya tidak. Jikalau kita berpikir sedikit lebih kritis **bagaimana jikalau ada usia kendaraan saat ini masih 0 tahun?** Apakah itu memang ada dalam *dataset* kita saat ini dan apa langkah yang akan kita ambil? Mari kita buktikan sekarang."
   ]
  },
  {
   "cell_type": "code",
   "execution_count": 44,
   "metadata": {
    "scrolled": false
   },
   "outputs": [
    {
     "data": {
      "text/plain": [
       "2152"
      ]
     },
     "execution_count": 44,
     "metadata": {},
     "output_type": "execute_result"
    }
   ],
   "source": [
    "# Mencari usia kendaraan yang 0 tahun\n",
    "(dataframe['year_posted'] - dataframe['model_year'] == 0).sum()"
   ]
  },
  {
   "cell_type": "markdown",
   "metadata": {},
   "source": [
    "Perkiraan kita benar adanya! Sebanyak 2152 kendaraan dalam *dataset* kita memiliki usia kendaraan yang masih 0 tahun. Berikut adalah analisa yang kita asumsikan dan langkah apa yang akan kita lakukan selanjutnya.\n",
    "\n",
    "**Analisis dan asumsi mengenai masalah saat ini**\n",
    "\n",
    "Apakah kita benar-benar percaya apakah usia kendaraan bisa saja 0 tahun? Mungkin secara ukuran waktu memang belum genap memasuki 1 tahun, tetapi menurut kasus tertentu usia bisa saja dihitung dalam satuan waktu yang lebih kecil seperti hari dan bulan. Misalkan untuk kendaraan toyota camry diluncurkan pada tahun 2018 dan dibeli oleh seorang pembeli pada bulan Februari 2018. Tetapi pada bulan September 2018, orang tersebut mungkin karena suatu hal memutuskan untuk menjual mobilnya. Ini merupakan fenomena umum yang bisa saja terjadi dan jikalau dihitung, usia kendaraan tersebut masih 7 bulan dan belum genap 1 tahun. Jadi kendaraan tersebut tidak termasuk baru lagi.\n",
    "\n",
    "**Keputusan yang diambil**\n",
    "\n",
    "Dalam hasil pengurangan antara tahun saat kendaraan ditayangkan dengan tahun kendaraan dibuat khususnya dalam kasus ini, kita mendapatkan nilai 0. Berdasarkan analisis sebelumnya, **untuk usia 0 tahun ini bisa kita bulatkan menjadi 1**. Mengapa? Walaupun kendaraan tersebut belum genap 1 tahun, tetapi secara pasti kita akan menggantinya dengan 1 karena memang untuk kendaraan yang \"0 tahun\" ini secara kualitas tidak baru lagi sehingga kita bisa menggenapinya menjadi 1. Dalam pekerjaan selanjutnya kita akan mencari jarak tempuh kendaraan per tahun yang akan menggunakan kolom baru bernama `car_age` sebagai pembaginya. Apapun yang dibagi dengan 0 akan menghasilkan nilai tak terhingga (*infinite*) dan hal ini yang akan terjadi jikalau kita tidak merubah angka 0 menjadi 1.\n",
    "\n",
    "Berdasarkan hasil analisis dan keputusan yang telah dipaparkan, mari kita mengganti nilai 0 dalam kolom `car_age` menjadi 1."
   ]
  },
  {
   "cell_type": "code",
   "execution_count": 45,
   "metadata": {},
   "outputs": [],
   "source": [
    "# Merubah nilai 0 tahun menjadi 1 tahun\n",
    "dataframe['car_age'] = (dataframe['year_posted'] - dataframe['model_year']).astype(int) + 1"
   ]
  },
  {
   "cell_type": "markdown",
   "metadata": {},
   "source": [
    "Pengubahan nilai sudah dilaksanakan dan berhasil. Sekarang mari kita lihat apakah masih ada nilai 0 tahun dalam kolom `car_age`."
   ]
  },
  {
   "cell_type": "code",
   "execution_count": 46,
   "metadata": {
    "scrolled": true
   },
   "outputs": [
    {
     "data": {
      "text/html": [
       "<div>\n",
       "<style scoped>\n",
       "    .dataframe tbody tr th:only-of-type {\n",
       "        vertical-align: middle;\n",
       "    }\n",
       "\n",
       "    .dataframe tbody tr th {\n",
       "        vertical-align: top;\n",
       "    }\n",
       "\n",
       "    .dataframe thead th {\n",
       "        text-align: right;\n",
       "    }\n",
       "</style>\n",
       "<table border=\"1\" class=\"dataframe\">\n",
       "  <thead>\n",
       "    <tr style=\"text-align: right;\">\n",
       "      <th></th>\n",
       "      <th>price</th>\n",
       "      <th>model_year</th>\n",
       "      <th>model</th>\n",
       "      <th>condition</th>\n",
       "      <th>cylinders</th>\n",
       "      <th>fuel</th>\n",
       "      <th>odometer</th>\n",
       "      <th>transmission</th>\n",
       "      <th>type</th>\n",
       "      <th>paint_color</th>\n",
       "      <th>is_4wd</th>\n",
       "      <th>date_posted</th>\n",
       "      <th>days_listed</th>\n",
       "      <th>year_posted</th>\n",
       "      <th>month_posted</th>\n",
       "      <th>week_posted</th>\n",
       "      <th>car_age</th>\n",
       "    </tr>\n",
       "  </thead>\n",
       "  <tbody>\n",
       "  </tbody>\n",
       "</table>\n",
       "</div>"
      ],
      "text/plain": [
       "Empty DataFrame\n",
       "Columns: [price, model_year, model, condition, cylinders, fuel, odometer, transmission, type, paint_color, is_4wd, date_posted, days_listed, year_posted, month_posted, week_posted, car_age]\n",
       "Index: []"
      ]
     },
     "execution_count": 46,
     "metadata": {},
     "output_type": "execute_result"
    }
   ],
   "source": [
    "# Mengecek kembali adakah usia kendaraan yang masih 0 tahun\n",
    "dataframe[dataframe['car_age'] == 0]"
   ]
  },
  {
   "cell_type": "markdown",
   "metadata": {},
   "source": [
    "Akhirnya masalah yang muncul sudah selesai kita perbaiki sebagaimana mestinya. Jadi dalam kolom `car_age` memuat data mengenai usia kendaraan saat ditayangkan ke dalam iklan dengan minimal 1 tahun."
   ]
  },
  {
   "cell_type": "markdown",
   "metadata": {},
   "source": [
    "### Menambahkan Kolom Berisi Jarak Tempuh Rata-Rata Kendaraan (per tahun)"
   ]
  },
  {
   "cell_type": "markdown",
   "metadata": {},
   "source": [
    "Kembali lagi dalam pekerjaan kita saat ini akan melakukan penambahan sebuah kolom yang berisi mengenai jarak tempuh rata-rata kendaraan per tahunnya. Caranya mudah yaitu kita hanya perlu **mencari kolom yang berisi data mengenai jarak tempuh kendaraan dan membaginya dengan kolom mengenai usia kendaraan**. Kita bisa menebaknya dengan mudah untuk bagian ini yaitu kolom `odometer` dengan `car_age`."
   ]
  },
  {
   "cell_type": "code",
   "execution_count": 47,
   "metadata": {},
   "outputs": [],
   "source": [
    "# Menambahkan jarak tempuh rata-rata kendaraan per tahun \n",
    "dataframe['average_odometer'] = dataframe['odometer'] / dataframe['car_age']"
   ]
  },
  {
   "cell_type": "markdown",
   "metadata": {},
   "source": [
    "Data mengenai jarak tempuh rata-rata kendaraan per tahun sudah ditemukan dan disimpan dalam kolom `average_odometer`. Mari kita tampilkan *dataframe* kita saat ini mengenai penambahan kolom yang sudah kita buat sebelumnya."
   ]
  },
  {
   "cell_type": "code",
   "execution_count": 48,
   "metadata": {},
   "outputs": [
    {
     "data": {
      "text/html": [
       "<div>\n",
       "<style scoped>\n",
       "    .dataframe tbody tr th:only-of-type {\n",
       "        vertical-align: middle;\n",
       "    }\n",
       "\n",
       "    .dataframe tbody tr th {\n",
       "        vertical-align: top;\n",
       "    }\n",
       "\n",
       "    .dataframe thead th {\n",
       "        text-align: right;\n",
       "    }\n",
       "</style>\n",
       "<table border=\"1\" class=\"dataframe\">\n",
       "  <thead>\n",
       "    <tr style=\"text-align: right;\">\n",
       "      <th></th>\n",
       "      <th>price</th>\n",
       "      <th>model_year</th>\n",
       "      <th>model</th>\n",
       "      <th>condition</th>\n",
       "      <th>cylinders</th>\n",
       "      <th>fuel</th>\n",
       "      <th>odometer</th>\n",
       "      <th>transmission</th>\n",
       "      <th>type</th>\n",
       "      <th>paint_color</th>\n",
       "      <th>is_4wd</th>\n",
       "      <th>date_posted</th>\n",
       "      <th>days_listed</th>\n",
       "      <th>year_posted</th>\n",
       "      <th>month_posted</th>\n",
       "      <th>week_posted</th>\n",
       "      <th>car_age</th>\n",
       "      <th>average_odometer</th>\n",
       "    </tr>\n",
       "  </thead>\n",
       "  <tbody>\n",
       "    <tr>\n",
       "      <th>0</th>\n",
       "      <td>9400.0</td>\n",
       "      <td>2011</td>\n",
       "      <td>bmw x5</td>\n",
       "      <td>good</td>\n",
       "      <td>6</td>\n",
       "      <td>gas</td>\n",
       "      <td>145000.0</td>\n",
       "      <td>automatic</td>\n",
       "      <td>SUV</td>\n",
       "      <td>unknown</td>\n",
       "      <td>True</td>\n",
       "      <td>2018-06-23</td>\n",
       "      <td>19</td>\n",
       "      <td>2018</td>\n",
       "      <td>6</td>\n",
       "      <td>5</td>\n",
       "      <td>8</td>\n",
       "      <td>18125.000000</td>\n",
       "    </tr>\n",
       "    <tr>\n",
       "      <th>1</th>\n",
       "      <td>25500.0</td>\n",
       "      <td>2011</td>\n",
       "      <td>ford f-150</td>\n",
       "      <td>good</td>\n",
       "      <td>6</td>\n",
       "      <td>gas</td>\n",
       "      <td>88705.0</td>\n",
       "      <td>automatic</td>\n",
       "      <td>pickup</td>\n",
       "      <td>white</td>\n",
       "      <td>True</td>\n",
       "      <td>2018-10-19</td>\n",
       "      <td>50</td>\n",
       "      <td>2018</td>\n",
       "      <td>10</td>\n",
       "      <td>4</td>\n",
       "      <td>8</td>\n",
       "      <td>11088.125000</td>\n",
       "    </tr>\n",
       "    <tr>\n",
       "      <th>2</th>\n",
       "      <td>5500.0</td>\n",
       "      <td>2013</td>\n",
       "      <td>hyundai sonata</td>\n",
       "      <td>like new</td>\n",
       "      <td>4</td>\n",
       "      <td>gas</td>\n",
       "      <td>110000.0</td>\n",
       "      <td>automatic</td>\n",
       "      <td>sedan</td>\n",
       "      <td>red</td>\n",
       "      <td>False</td>\n",
       "      <td>2019-02-07</td>\n",
       "      <td>79</td>\n",
       "      <td>2019</td>\n",
       "      <td>2</td>\n",
       "      <td>3</td>\n",
       "      <td>7</td>\n",
       "      <td>15714.285714</td>\n",
       "    </tr>\n",
       "    <tr>\n",
       "      <th>3</th>\n",
       "      <td>1500.0</td>\n",
       "      <td>2003</td>\n",
       "      <td>ford f-150</td>\n",
       "      <td>fair</td>\n",
       "      <td>8</td>\n",
       "      <td>gas</td>\n",
       "      <td>181613.0</td>\n",
       "      <td>automatic</td>\n",
       "      <td>pickup</td>\n",
       "      <td>unknown</td>\n",
       "      <td>False</td>\n",
       "      <td>2019-03-22</td>\n",
       "      <td>9</td>\n",
       "      <td>2019</td>\n",
       "      <td>3</td>\n",
       "      <td>4</td>\n",
       "      <td>17</td>\n",
       "      <td>10683.117647</td>\n",
       "    </tr>\n",
       "    <tr>\n",
       "      <th>4</th>\n",
       "      <td>14900.0</td>\n",
       "      <td>2017</td>\n",
       "      <td>chrysler 200</td>\n",
       "      <td>excellent</td>\n",
       "      <td>4</td>\n",
       "      <td>gas</td>\n",
       "      <td>80903.0</td>\n",
       "      <td>automatic</td>\n",
       "      <td>sedan</td>\n",
       "      <td>black</td>\n",
       "      <td>False</td>\n",
       "      <td>2019-04-02</td>\n",
       "      <td>28</td>\n",
       "      <td>2019</td>\n",
       "      <td>4</td>\n",
       "      <td>1</td>\n",
       "      <td>3</td>\n",
       "      <td>26967.666667</td>\n",
       "    </tr>\n",
       "  </tbody>\n",
       "</table>\n",
       "</div>"
      ],
      "text/plain": [
       "     price  model_year           model  condition  cylinders fuel  odometer  \\\n",
       "0   9400.0        2011          bmw x5       good          6  gas  145000.0   \n",
       "1  25500.0        2011      ford f-150       good          6  gas   88705.0   \n",
       "2   5500.0        2013  hyundai sonata   like new          4  gas  110000.0   \n",
       "3   1500.0        2003      ford f-150       fair          8  gas  181613.0   \n",
       "4  14900.0        2017    chrysler 200  excellent          4  gas   80903.0   \n",
       "\n",
       "  transmission    type paint_color  is_4wd date_posted  days_listed  \\\n",
       "0    automatic     SUV     unknown    True  2018-06-23           19   \n",
       "1    automatic  pickup       white    True  2018-10-19           50   \n",
       "2    automatic   sedan         red   False  2019-02-07           79   \n",
       "3    automatic  pickup     unknown   False  2019-03-22            9   \n",
       "4    automatic   sedan       black   False  2019-04-02           28   \n",
       "\n",
       "   year_posted  month_posted  week_posted  car_age  average_odometer  \n",
       "0         2018             6            5        8      18125.000000  \n",
       "1         2018            10            4        8      11088.125000  \n",
       "2         2019             2            3        7      15714.285714  \n",
       "3         2019             3            4       17      10683.117647  \n",
       "4         2019             4            1        3      26967.666667  "
      ]
     },
     "execution_count": 48,
     "metadata": {},
     "output_type": "execute_result"
    }
   ],
   "source": [
    "# Menampilkan kondisi dataset kita saat ini\n",
    "dataframe.head()"
   ]
  },
  {
   "cell_type": "markdown",
   "metadata": {},
   "source": [
    "Jarak tempuh rata-rata kendaraan per tahun sudah tersedia dalam *dataset* kita saat ini. Tepatnya berada di bagian paling kanan dalam tabel ini."
   ]
  },
  {
   "cell_type": "markdown",
   "metadata": {},
   "source": [
    "### Menambahkan Kolom Skala Numerik Berdasarkan Kolom `condition`"
   ]
  },
  {
   "cell_type": "markdown",
   "metadata": {},
   "source": [
    "Pekerjaan akhir kita dalam bagian perbaikan kualitas data saat ini yaitu dengan cara mengategorikan kolom `condition` menjadi suatu skala numerik. Data akan dikategorikan sesuai dengan nilainya masing-masing menggunakan bantuan fungsi dan menerapkannya ke dalam suatu kolom baru. Di bagian bawah ini merupakan skala numerik yang akan kita pakai untuk mengategorikan kolom `condition`:\n",
    "- Jikalau nilainya ***new***, maka akan kita masukkan ke dalam skala nomor 5\n",
    "- Jikalau nilainya ***like new***, maka akan kita masukkan ke dalam skala nomor 4\n",
    "- Jikalau nilainya ***excellent***, maka akan kita masukkan ke dalam skala nomor 3\n",
    "- Jikalau nilainya ***good***, maka akan kita masukkan ke dalam skala nomor 2\n",
    "- Jikalau nilainya ***fair***, maka akan kita masukkan ke dalam skala nomor 1, dan\n",
    "- Jikalau nilainya ***salvage***, maka akan kita masukkan ke dalam skala nomor 0\n",
    "\n",
    "Kita sudah menetapkan skala numerik untuk kolom `condition` dan itu artinya kita sudah bisa memulai pekerjaan kita dengan cara membuat fungsi terlebih dahulu untuk memudahkan pekerjaan pengategorian data saat ini."
   ]
  },
  {
   "cell_type": "code",
   "execution_count": 49,
   "metadata": {},
   "outputs": [],
   "source": [
    "# Mengganti nilai pada kolom 'condition' dengan sesuatu yang bisa dimanipulasi lebih mudah\n",
    "def numeric_condition(row):\n",
    "    if row == 'new':\n",
    "        return 5\n",
    "    elif row == 'like new':\n",
    "        return 4\n",
    "    elif row == 'excellent':\n",
    "        return 3\n",
    "    elif row == 'good':\n",
    "        return 2\n",
    "    elif row == 'fair':\n",
    "        return 1\n",
    "    else:\n",
    "        return 0"
   ]
  },
  {
   "cell_type": "markdown",
   "metadata": {},
   "source": [
    "Fungsi untuk mengonversi nilai dalam kolom `condition` di atas kita menamainya sebagai `numeric_condition`. Terdapat 6 kondisi yang sudah dibuat dan masing-masing kondisi dalam fungsi ini akan mengembalikan nilai yang sesuai dengan perintah yang telah kita berikan. Kini saatnya untuk kita menerapkan dan menyimpan hasil dari konversi nilai menjadi skala numerik ke dalam kolom baru."
   ]
  },
  {
   "cell_type": "code",
   "execution_count": 50,
   "metadata": {},
   "outputs": [],
   "source": [
    "# Menerapkan data yang memuat skala numerik ke dalam kolom baru\n",
    "dataframe['condition_metric'] = dataframe['condition'].apply(numeric_condition)"
   ]
  },
  {
   "cell_type": "markdown",
   "metadata": {},
   "source": [
    "Kita sudah menerapkan hasil eksekusi fungsi ini terhadap kolom `condition` dan meneruskan nama fungsi yang telah kita buat ke dalam metode `apply()`. Hasil pengategorian yang berisi skala numerik dari kolom `condition` sudah tersimpan dalam kolom baru bernama `condition_metric`. Mari kita lihat distribusi dari kolom baru yang telah dibuat."
   ]
  },
  {
   "cell_type": "code",
   "execution_count": 51,
   "metadata": {},
   "outputs": [
    {
     "data": {
      "text/plain": [
       "3    24773\n",
       "2    20145\n",
       "4     4742\n",
       "1     1607\n",
       "5      143\n",
       "0      115\n",
       "Name: condition_metric, dtype: int64"
      ]
     },
     "execution_count": 51,
     "metadata": {},
     "output_type": "execute_result"
    }
   ],
   "source": [
    "# Melihat distribusi nilai dari kolom yang memuat skala numerik kondisi kendaraan\n",
    "dataframe['condition_metric'].value_counts()"
   ]
  },
  {
   "cell_type": "markdown",
   "metadata": {},
   "source": [
    "Skala metrik mengenai informasi kondisi kendaraan sudah berhasil disimpan dalam kolom baru. Bicara mengenai jumlah, dalam *dataset* kita saat ini untuk kondisi kendaraan *excellent* terlihat lebih dominan dengan jumlah sebanyak 24773 kendaraan."
   ]
  },
  {
   "cell_type": "markdown",
   "metadata": {},
   "source": [
    "## Memeriksa Data yang Sudah Bersih"
   ]
  },
  {
   "cell_type": "markdown",
   "metadata": {},
   "source": [
    "Setelah melakukan banyak hal dari mengatasi nilai-nilai yang hilang, memperbaiki tipe data untuk beberapa kolom yang bermasalah, dan memperbaiki kualitas data dengan menambahkan beberapa kolom yang baru, tibalah kita untuk kembali memeriksa data yang sudah dibersihkan sebelum memasuki tahapan inti dalam pengerjaan proyek ini, yaitu eksplorasi data. Mari kita lihat informasi umum yang ada dalam *dataset* saat ini settelah melakukan beberapa perubahan dengan memanggil metode `.info()`."
   ]
  },
  {
   "cell_type": "code",
   "execution_count": 52,
   "metadata": {},
   "outputs": [
    {
     "name": "stdout",
     "output_type": "stream",
     "text": [
      "<class 'pandas.core.frame.DataFrame'>\n",
      "RangeIndex: 51525 entries, 0 to 51524\n",
      "Data columns (total 19 columns):\n",
      " #   Column            Non-Null Count  Dtype         \n",
      "---  ------            --------------  -----         \n",
      " 0   price             51525 non-null  float64       \n",
      " 1   model_year        51525 non-null  int64         \n",
      " 2   model             51525 non-null  object        \n",
      " 3   condition         51525 non-null  object        \n",
      " 4   cylinders         51525 non-null  int64         \n",
      " 5   fuel              51525 non-null  object        \n",
      " 6   odometer          51525 non-null  float64       \n",
      " 7   transmission      51525 non-null  object        \n",
      " 8   type              51525 non-null  object        \n",
      " 9   paint_color       51525 non-null  object        \n",
      " 10  is_4wd            51525 non-null  bool          \n",
      " 11  date_posted       51525 non-null  datetime64[ns]\n",
      " 12  days_listed       51525 non-null  int64         \n",
      " 13  year_posted       51525 non-null  int64         \n",
      " 14  month_posted      51525 non-null  int64         \n",
      " 15  week_posted       51525 non-null  int64         \n",
      " 16  car_age           51525 non-null  int64         \n",
      " 17  average_odometer  51525 non-null  float64       \n",
      " 18  condition_metric  51525 non-null  int64         \n",
      "dtypes: bool(1), datetime64[ns](1), float64(3), int64(8), object(6)\n",
      "memory usage: 7.1+ MB\n"
     ]
    }
   ],
   "source": [
    "# Menampilkan informasi/rangkuman umum tentang DataFrame\n",
    "dataframe.info()"
   ]
  },
  {
   "cell_type": "markdown",
   "metadata": {},
   "source": [
    "Dari informasi umum mengenai *dataset* di atas dapat menceritakan banyak hal mengenai data di setiap kolomnya. Terlihat jelas bahwa jumlah kolom kita saat ini lebih banyak dibandingkan dengan *dataset* kita pada saat eksplorasi data awal. Tertambah sebanyak **6 kolom baru** dengan tipe data yang sudah sesuai. Untuk keseluruhan kolom juga terlihat memiliki tipe data yang benar dan jumlah nilai hilang tidak terdeteksi lagi."
   ]
  },
  {
   "cell_type": "code",
   "execution_count": 53,
   "metadata": {},
   "outputs": [
    {
     "data": {
      "text/html": [
       "<div>\n",
       "<style scoped>\n",
       "    .dataframe tbody tr th:only-of-type {\n",
       "        vertical-align: middle;\n",
       "    }\n",
       "\n",
       "    .dataframe tbody tr th {\n",
       "        vertical-align: top;\n",
       "    }\n",
       "\n",
       "    .dataframe thead th {\n",
       "        text-align: right;\n",
       "    }\n",
       "</style>\n",
       "<table border=\"1\" class=\"dataframe\">\n",
       "  <thead>\n",
       "    <tr style=\"text-align: right;\">\n",
       "      <th></th>\n",
       "      <th>price</th>\n",
       "      <th>model_year</th>\n",
       "      <th>model</th>\n",
       "      <th>condition</th>\n",
       "      <th>cylinders</th>\n",
       "      <th>fuel</th>\n",
       "      <th>odometer</th>\n",
       "      <th>transmission</th>\n",
       "      <th>type</th>\n",
       "      <th>paint_color</th>\n",
       "      <th>is_4wd</th>\n",
       "      <th>date_posted</th>\n",
       "      <th>days_listed</th>\n",
       "      <th>year_posted</th>\n",
       "      <th>month_posted</th>\n",
       "      <th>week_posted</th>\n",
       "      <th>car_age</th>\n",
       "      <th>average_odometer</th>\n",
       "      <th>condition_metric</th>\n",
       "    </tr>\n",
       "  </thead>\n",
       "  <tbody>\n",
       "    <tr>\n",
       "      <th>18910</th>\n",
       "      <td>1000.0</td>\n",
       "      <td>1998</td>\n",
       "      <td>honda accord</td>\n",
       "      <td>fair</td>\n",
       "      <td>4</td>\n",
       "      <td>gas</td>\n",
       "      <td>245000.0</td>\n",
       "      <td>manual</td>\n",
       "      <td>coupe</td>\n",
       "      <td>black</td>\n",
       "      <td>False</td>\n",
       "      <td>2019-03-28</td>\n",
       "      <td>24</td>\n",
       "      <td>2019</td>\n",
       "      <td>3</td>\n",
       "      <td>3</td>\n",
       "      <td>22</td>\n",
       "      <td>11136.363636</td>\n",
       "      <td>1</td>\n",
       "    </tr>\n",
       "    <tr>\n",
       "      <th>15973</th>\n",
       "      <td>4995.0</td>\n",
       "      <td>2007</td>\n",
       "      <td>nissan sentra</td>\n",
       "      <td>good</td>\n",
       "      <td>4</td>\n",
       "      <td>gas</td>\n",
       "      <td>134475.0</td>\n",
       "      <td>automatic</td>\n",
       "      <td>sedan</td>\n",
       "      <td>blue</td>\n",
       "      <td>False</td>\n",
       "      <td>2018-09-03</td>\n",
       "      <td>56</td>\n",
       "      <td>2018</td>\n",
       "      <td>9</td>\n",
       "      <td>0</td>\n",
       "      <td>12</td>\n",
       "      <td>11206.250000</td>\n",
       "      <td>2</td>\n",
       "    </tr>\n",
       "    <tr>\n",
       "      <th>10325</th>\n",
       "      <td>11000.0</td>\n",
       "      <td>2015</td>\n",
       "      <td>nissan altima</td>\n",
       "      <td>excellent</td>\n",
       "      <td>4</td>\n",
       "      <td>gas</td>\n",
       "      <td>36000.0</td>\n",
       "      <td>automatic</td>\n",
       "      <td>sedan</td>\n",
       "      <td>red</td>\n",
       "      <td>False</td>\n",
       "      <td>2018-05-25</td>\n",
       "      <td>25</td>\n",
       "      <td>2018</td>\n",
       "      <td>5</td>\n",
       "      <td>4</td>\n",
       "      <td>4</td>\n",
       "      <td>9000.000000</td>\n",
       "      <td>3</td>\n",
       "    </tr>\n",
       "  </tbody>\n",
       "</table>\n",
       "</div>"
      ],
      "text/plain": [
       "         price  model_year          model  condition  cylinders fuel  \\\n",
       "18910   1000.0        1998   honda accord       fair          4  gas   \n",
       "15973   4995.0        2007  nissan sentra       good          4  gas   \n",
       "10325  11000.0        2015  nissan altima  excellent          4  gas   \n",
       "\n",
       "       odometer transmission   type paint_color  is_4wd date_posted  \\\n",
       "18910  245000.0       manual  coupe       black   False  2019-03-28   \n",
       "15973  134475.0    automatic  sedan        blue   False  2018-09-03   \n",
       "10325   36000.0    automatic  sedan         red   False  2018-05-25   \n",
       "\n",
       "       days_listed  year_posted  month_posted  week_posted  car_age  \\\n",
       "18910           24         2019             3            3       22   \n",
       "15973           56         2018             9            0       12   \n",
       "10325           25         2018             5            4        4   \n",
       "\n",
       "       average_odometer  condition_metric  \n",
       "18910      11136.363636                 1  \n",
       "15973      11206.250000                 2  \n",
       "10325       9000.000000                 3  "
      ]
     },
     "execution_count": 53,
     "metadata": {},
     "output_type": "execute_result"
    }
   ],
   "source": [
    "# Menampilkan sampel data \n",
    "dataframe.sample(3)"
   ]
  },
  {
   "cell_type": "markdown",
   "metadata": {},
   "source": [
    "Setelah melihat sampel data secara acak, nilai-nilai dalam seluruh kolom terlihat sudah sesuai dengan tipe datanya. Kerja yang bagus! Mari melanjutkan pekerjaan kita dengan memasuki tahap eksplorasi data."
   ]
  },
  {
   "cell_type": "markdown",
   "metadata": {},
   "source": [
    "## Mempelajari Parameter Inti \n",
    "Sekarang kita sudah memasuki tahap eksplorasi data dengan cara memahami beberapa parameter yang terdapat dalam *dataset*. Tujuan dari pekerjaan kita ini adalah untuk mempelajari bagaimana pencilan (*outlier*) dapat memengaruhi bentuk dan keterbacaan data. Pengerjaan tugas ini akan kita mudahkan dengan menggunakan bantuan grafik berupa *histogram* untuk menunjukkan seberapa sering nilai yang berbeda muncul dan *boxplot* untuk melihat adanya pencilan dalam setiap parameter. Berikut ini merupakan parameter yang akan kita selidiki dalam tugas saat ini:\n",
    "- Harga (diambil dari kolom `price`)\n",
    "- Usia kendaraan ketika iklan ditayangkan (diambil dari kolom `car_age`)\n",
    "- Jarak tempuh (diambil dari kolom `odometer`)\n",
    "- Jumlah silinder (diambil dari kolom `cylinders`)\n",
    "- Kondisi (diambil dari kolom `condition_metric`)\n",
    "\n",
    "Pekerjaan ini akan dilakukan secara berurutan dan setiap parameternya akan dibahas dalam poin yang terpisah. Untuk parameter yang bersifat kategorik kita perlu untuk membuatnya dalam bentuk diagram batang. Sekarang mulailah kita masuk ke dalam eksplorasi data."
   ]
  },
  {
   "cell_type": "markdown",
   "metadata": {},
   "source": [
    "### Mempelajari Parameter Harga"
   ]
  },
  {
   "cell_type": "markdown",
   "metadata": {},
   "source": [
    "Sekarang waktunya kita untuk mengeksplor parameter harga dari kolom `price`. Pertama kita akan membuat sebuah histogram yang memuat data dari kolom tersebut dan menginterpretasikan hasilnya."
   ]
  },
  {
   "cell_type": "code",
   "execution_count": 54,
   "metadata": {},
   "outputs": [
    {
     "data": {
      "image/png": "[encoded data removed]",
      "text/plain": [
       "<Figure size 432x288 with 1 Axes>"
      ]
     },
     "metadata": {
      "needs_background": "light"
     },
     "output_type": "display_data"
    }
   ],
   "source": [
    "# Menampilkan histogram dari parameter harga\n",
    "dataframe.hist('price', bins=100)\n",
    "plt.show()"
   ]
  },
  {
   "cell_type": "markdown",
   "metadata": {},
   "source": [
    "Histogram mengenai parameter harga sudah ditampilkan sesuai dengan yang kita inginkan. Bisakah kita menginterpretasikannya dengan baik? Kita telah membagi rentang nilai atau interval dalam sumbu X ini sebanyak 100. Saat ini dari grafik di atas sudah cukup menjelaskan bahwa **puncak dari data kolom `price` berada dalam rentang sekitar di bawah 25000 dengan jumlahnya yang mendekati 14000**. Hal ini mengartikan bahwa ada banyak kendaraan dengan harga disekitar rentang tersebut. Tidak sedikit juga kita melihat adanya harga kendaraan yang mendekati 0. Apakah kendaraan tersebut kualitasnya tidak begitu baik sehingga dijual dengan harga yang murah? Mungkin saja.\n",
    "\n",
    "Selain itu kita juga dapat dengan mudah berasumsi adanya *outlier* yang menyebabkan grafik cukup sulit untuk dibaca. Terlihat untuk **harga kendaraan di atas 60000 jumlahnya semakin mengecil** hingga tidak terlihat lagi. Ada beberapa harga kendaraan yang sangat mahal hingga di atas 100000! Mungkin kendaraan tersebut termasuk baru dan langka. Mengenai *outlier* kita akan membaca dan menginterpretasikannya lebih jelas dengan bantuan *boxplot* setelah membahas histogram untuk kolom ini."
   ]
  },
  {
   "cell_type": "code",
   "execution_count": 55,
   "metadata": {},
   "outputs": [
    {
     "data": {
      "image/png": "[encoded data removed]",
      "text/plain": [
       "<Figure size 432x288 with 1 Axes>"
      ]
     },
     "metadata": {
      "needs_background": "light"
     },
     "output_type": "display_data"
    }
   ],
   "source": [
    "# Menampilkan histogram dari parameter harga dengan rentang harga yang ditentukan\n",
    "dataframe.hist('price', bins=100, range=(0, 80000))\n",
    "plt.show()"
   ]
  },
  {
   "cell_type": "markdown",
   "metadata": {},
   "source": [
    "Kita sudah memperjelas keterbacaan grafik histogram untuk kolom harga ini dengan menetapkan rentang horizontal maksimal pada harga 80000. Dari sini kita dapat melihat lebih jelas untuk **puncak dari histogram ini ternyata berada di bawah harga 10000 atau lebih tepatnya ada di harga 5000**. Selanjutnya untuk harga kendaraan di atas 60000 dalam grafik terlihat sangat jarang dan mulai menghilang karena jumlahnya yang sangat sedikit sehingga tidak terdeteksi dalam grafik ini. Tetapi kita juga dapat mendeteksi bahwa tidak sedikit juga **harga kendaraan yang mendekati 0 dengan jumlah sekitar 1250**. Apakah hal tersebut juga dapat dikatakan sebagai *outlier* atau memang adanya kesalahan saat pengisian data untuk kolom harga? Kita tidak mengetahuinya secara pasti. Sekarang mari kita memeriksa adanya *outlier* menggunakan grafik *boxplot*."
   ]
  },
  {
   "cell_type": "code",
   "execution_count": 56,
   "metadata": {},
   "outputs": [
    {
     "data": {
      "image/png": "[encoded data removed]",
      "text/plain": [
       "<Figure size 432x288 with 1 Axes>"
      ]
     },
     "metadata": {
      "needs_background": "light"
     },
     "output_type": "display_data"
    }
   ],
   "source": [
    "# Memeriksa outlier menggunakan boxplot\n",
    "dataframe.boxplot('price')\n",
    "plt.show()"
   ]
  },
  {
   "cell_type": "markdown",
   "metadata": {},
   "source": [
    "Grafik boxplot di atas sebenarnya sudah mencerminkan adanya *outlier* dalam kolom harga, bahkan ada yang mencapai harga di atas 350000! Dari grafik ini juga sebenarnya tidak banyak membantu karena **ada banyaknya *outlier* sehingga boxplot tidak terlihat dengan jelas**. Ciri-ciri *outlier* yang dapat kita temukan dalam grafik di atas yaitu banyaknya kumpulan nilai yang melebihi bagian atas *whisker* dari boxplot (*upper whisker*). Mari kita perjelas boxplot ini dengan menentukan rentang vertikalnya."
   ]
  },
  {
   "cell_type": "code",
   "execution_count": 57,
   "metadata": {},
   "outputs": [
    {
     "data": {
      "image/png": "[encoded data removed]",
      "text/plain": [
       "<Figure size 432x288 with 1 Axes>"
      ]
     },
     "metadata": {
      "needs_background": "light"
     },
     "output_type": "display_data"
    }
   ],
   "source": [
    "# Memeriksa outlier menggunakan boxplot dengan rentang vertikal yang telah ditentukan\n",
    "dataframe.boxplot('price')\n",
    "plt.ylim(-10000, 50000)\n",
    "plt.show()"
   ]
  },
  {
   "cell_type": "markdown",
   "metadata": {},
   "source": [
    "Sekarang kita dapat melihat boxplot dengan lebih jelas. Batas atas (*upper whisker*) dari boxplot terpaut pada harga 35000 dan untuk batas bawahnya (*lower whisker*) yaitu 0. Selain itu untuk median dari parameter harga berada tepat di bawah harga 10000. Dari grafik boxplot ini kita bisa memperkirakan bahwa untuk **harga kendaraan yang melebihi dari 35000 sebenarnya sudah termasuk ke dalam *outlier***. Lalu untuk Q1 atau kuartil pertama dalam boxplot di atas menunjukkan sebanyak 25% kendaraan memiliki harga sekitar 5000."
   ]
  },
  {
   "cell_type": "markdown",
   "metadata": {},
   "source": [
    "### Mempelajari Parameter Usia Kendaraan"
   ]
  },
  {
   "cell_type": "markdown",
   "metadata": {},
   "source": [
    "Cara untuk mempelajari parameter ini sebenarnya sama dengan sebelumnya. Pertama kita perlu untuk membuat histogramnya terlebih dahulu."
   ]
  },
  {
   "cell_type": "code",
   "execution_count": 58,
   "metadata": {},
   "outputs": [
    {
     "data": {
      "image/png": "[encoded data removed]",
      "text/plain": [
       "<Figure size 432x288 with 1 Axes>"
      ]
     },
     "metadata": {
      "needs_background": "light"
     },
     "output_type": "display_data"
    }
   ],
   "source": [
    "# Menampilkan histogram dari parameter usia kendaraan\n",
    "dataframe.hist('car_age', bins=100)\n",
    "plt.show()"
   ]
  },
  {
   "cell_type": "markdown",
   "metadata": {},
   "source": [
    "Rentang dari nilai atau interval dalam sumbu X ini telah kita bagi menjadi 100 bagian. Dari grafik ini kita bisa melihat sesuatu hal yang menarik, yaitu untuk **usia kendaraan yang mendekati 0 tahun sepertinya dominan dan menjadi puncak tajam kedua dengan jumlahnya yang melampaui 4000** dalam grafik saat ini. Mendekati usia 20 tahun dan seterusnya, jumlahnya makin menurun dan melandai. Itu berarti kita bisa menyatakan bahwa **ada banyak jumlah kendaraan yang dijual dengan usia kendaraan yang masih sangat muda**.\n",
    "\n",
    "Karena grafik histogram juga terlalu terhimpit di bagian kiri, kita juga dapat memprediksi adanya *outlier* dalam kolom `car_age`. Sepertinya kita juga melihat ada usia kendaraan yang lebih dari 50 tahun. Untuk bagian ini akan kita serahkan dengan bantuan grafik boxplot."
   ]
  },
  {
   "cell_type": "code",
   "execution_count": 59,
   "metadata": {},
   "outputs": [
    {
     "data": {
      "image/png": "[encoded data removed]",
      "text/plain": [
       "<Figure size 432x288 with 1 Axes>"
      ]
     },
     "metadata": {
      "needs_background": "light"
     },
     "output_type": "display_data"
    }
   ],
   "source": [
    "# Menampilkan histogram dari parameter usia kendaraan dengan rentang yang ditentukan\n",
    "dataframe.hist('car_age', bins=100, range=(0, 60))\n",
    "plt.show()"
   ]
  },
  {
   "cell_type": "markdown",
   "metadata": {},
   "source": [
    "Ini merupakan histogram untuk rentang sumbu X yang telah ditentukan hingga maksimal usia kendaraannya yaitu 60 tahun. Sepertinya memang ada banyak kendaraan yang usianya masih satu tahun dan untuk **puncak kedua dari histogram dalam parameter ini yaitu berada pada usia 7 tahun** dan setelah itu jumlahnya mulai menurun. Sekarang mari kita periksa apakah memang terdapat *outlier* dalam parameter ini atau tidak dengan menggunakan *boxplot*."
   ]
  },
  {
   "cell_type": "code",
   "execution_count": 60,
   "metadata": {},
   "outputs": [
    {
     "data": {
      "image/png": "[encoded data removed]",
      "text/plain": [
       "<Figure size 432x288 with 1 Axes>"
      ]
     },
     "metadata": {
      "needs_background": "light"
     },
     "output_type": "display_data"
    }
   ],
   "source": [
    "# Memeriksa outlier mengenai parameter usia kendaraan menggunakan boxplot\n",
    "dataframe.boxplot('car_age')\n",
    "plt.show()"
   ]
  },
  {
   "cell_type": "markdown",
   "metadata": {},
   "source": [
    "Ternyata prediksi kita mengenai adanya *outlier* dalam parameter ini memang benar. Kita juga dapat melihat adanya nilai mengenai usia kendaraan yang lebih dari 100 tahun! Terlihat juga jumlah *outlier* dalam parameter ini tidaklah sedikit. Mari kita lihat lebih jelas untuk boxplot ini dengan mengatur rentang sumbu Y."
   ]
  },
  {
   "cell_type": "code",
   "execution_count": 61,
   "metadata": {},
   "outputs": [
    {
     "data": {
      "image/png": "[encoded data removed]",
      "text/plain": [
       "<Figure size 432x288 with 1 Axes>"
      ]
     },
     "metadata": {
      "needs_background": "light"
     },
     "output_type": "display_data"
    }
   ],
   "source": [
    "# Memeriksa outlier mengenai parameter usia kendaraan menggunakan boxplot menggunakan rentang tertentu\n",
    "dataframe.boxplot('car_age')\n",
    "plt.ylim(-20, 40)\n",
    "plt.show()"
   ]
  },
  {
   "cell_type": "markdown",
   "metadata": {},
   "source": [
    "Batas atas (*upper whisker*) dari boxplot ini terpaut pada usia kendaraan sekitar 25 tahun dan untuk batas bawahnya (*lower whisker*) yaitu 1 tahun. Nilai yang terpaut melebihi batas atas boxplot ini sudah termasuk dalam nilai *outlier*. **Median dari parameter ini berada pada kisaran usia kendaraan 8 tahun**. Itu berarti sebanyak 50% usia kendaraan dalam kolom `car_age` berada di atas 8 tahun dan sebanyak 50% lainnya berada di bawah 8 tahun."
   ]
  },
  {
   "cell_type": "markdown",
   "metadata": {},
   "source": [
    "### Mempelajari Parameter Jarak Tempuh"
   ]
  },
  {
   "cell_type": "markdown",
   "metadata": {},
   "source": [
    "Eksplorasi data mengenai parameter saat ini sudah memasuki pada bagian pertengahan. Untuk saat ini kita akan mempelajari parameter dari kolom `odometer` dan hal pertama yang akan kita lakukan adalah dengan membuat histogram."
   ]
  },
  {
   "cell_type": "code",
   "execution_count": 62,
   "metadata": {},
   "outputs": [
    {
     "data": {
      "image/png": "[encoded data removed]",
      "text/plain": [
       "<Figure size 432x288 with 1 Axes>"
      ]
     },
     "metadata": {
      "needs_background": "light"
     },
     "output_type": "display_data"
    }
   ],
   "source": [
    "# Menampilkan histogram dari parameter jarak tempuh kendaraan\n",
    "dataframe.hist('odometer', bins=100)\n",
    "plt.show()"
   ]
  },
  {
   "cell_type": "markdown",
   "metadata": {},
   "source": [
    "Grafik histogram untuk parameter jarak tempuh sudah tersedia. Berdasarkan hasil yang telah digambarkan, kita dapat menemukan fakta menarik bahwa untuk puncak dari histogram ini berada dalam jarak tempuh sekitar 0,1. Apa itu jarak tempuh 0,1? Perlu untuk dipahami bahwa dalam rentang sumbu X ini **menampilkan jarak tempuh dalam satuan jutaan** sehingga hasilnya memiliki koma dan dibawah 1. Terlihat ada dua batang yang menonjol sebagai puncak dengan jumlah masing-masih melebihi dan mendekati 6000.\n",
    "\n",
    "Kita tidak bisa membacanya dengan jelas karena grafik cederung terhimpit dalam bagian kiri sehingga kita perlu untuk mengatur rentang horizontal grafik ini dengan jarak tertentu. Karena terlalu mengecil, kita berasumsi bahwa dalam **parameter ini terdapat nilai *outlier*** dan ini terbukti adanya jarak tempuh yang lebih dari 400000 yang jumlahnya sangat sedikit bahkan ada yang mendekati 1000000!"
   ]
  },
  {
   "cell_type": "code",
   "execution_count": 63,
   "metadata": {},
   "outputs": [
    {
     "data": {
      "image/png": "[encoded data removed]",
      "text/plain": [
       "<Figure size 432x288 with 1 Axes>"
      ]
     },
     "metadata": {
      "needs_background": "light"
     },
     "output_type": "display_data"
    }
   ],
   "source": [
    "# Menampilkan histogram dari parameter jarak tempuh kendaraan dengan rentang yang ditentukan\n",
    "dataframe.hist('odometer', bins=100, range=(0, 400000))\n",
    "plt.show()"
   ]
  },
  {
   "cell_type": "markdown",
   "metadata": {},
   "source": [
    "Dari histogram di atas yang sudah diatur rentang sumbunya, kita baru dapat melihat dengan jelas bahwa **kedua puncak dari jarak tempuh kendaraan berada tepat di atas 100000 dan melebihi dari 125000**. Seterusnya untuk kedua sisi dari puncak mulai mengalami penurunan jumlah atau frekuensi. Kita dapat melihat juga bahwa untuk jarak tempuh kendaraan yang di atas 300000 tergolong sangat sedikit hingga tidak terlihat lagi dalam grafik ini. Tidak sedikit juga untuk jarak tempuh kendaraan yang mendekati 0 dengan jumlahnya melebihi 1000. Itu menandakan ada banyak juga kendaraan yang mungkin belum dipakai. Untuk melihat nilai *outlier* kita kembali akan memanfaatkan grafik *boxplot*."
   ]
  },
  {
   "cell_type": "code",
   "execution_count": 64,
   "metadata": {},
   "outputs": [
    {
     "data": {
      "image/png": "[encoded data removed]",
      "text/plain": [
       "<Figure size 432x288 with 1 Axes>"
      ]
     },
     "metadata": {
      "needs_background": "light"
     },
     "output_type": "display_data"
    }
   ],
   "source": [
    "# Memeriksa outlier mengenai parameter jarak tempuh kendaraan\n",
    "dataframe.boxplot('odometer')\n",
    "plt.show()"
   ]
  },
  {
   "cell_type": "markdown",
   "metadata": {},
   "source": [
    "Boxplot di atas terlihat ada banyak nilai *outlier* yang diplotkan pada bagian atas dari *whisker* bahkan ada yang jarak tempuhnya hampir mencapai 1000000 seperti yang kita duga sebelumnya. Dari boxplot ini juga kita tidak dapat melihatnya dengan jelas karena banyaknya nilai *outlier* yang berakibatkan boxplot seperti tertimpa ke bawah. Mari kita atur rentang vertikalnya dan menginterpretasikannya dengan lebih baik."
   ]
  },
  {
   "cell_type": "code",
   "execution_count": 65,
   "metadata": {},
   "outputs": [
    {
     "data": {
      "image/png": "[encoded data removed]",
      "text/plain": [
       "<Figure size 432x288 with 1 Axes>"
      ]
     },
     "metadata": {
      "needs_background": "light"
     },
     "output_type": "display_data"
    }
   ],
   "source": [
    "# Memeriksa outlier mengenai jarak tempuh kendaraan menggunakan rentang vertikal yang telah ditentukan\n",
    "dataframe.boxplot('odometer')\n",
    "plt.ylim(-10000, 300000)\n",
    "plt.show()"
   ]
  },
  {
   "cell_type": "markdown",
   "metadata": {},
   "source": [
    "Kita dapat membaca boxplot ini dengan lebih baik setelah ditentukan rentangnya. Untuk batas atas (*upper whisker*) dari boxplot ini tertanda tepat di atas 250000 atau ada pada jarak tempuh sekitar 260000. Q3 atau kuartil atas terlihat berada pada sekitar 150000. Artinya bahwa **75% nilai dari `odometer` ini merupakan kendaraan yang jarak tempuhnya sekitar 150000**. Sedangkan untuk **Q1 (kuartil bawah) menunjukkan bahwa 25% nilai dari parameter jarak tempuh ini merupakan kendaraan yang jarak tempuhnya ada pada 75000**. Untuk nilai mediannya sepertinya berada di bawah 125000."
   ]
  },
  {
   "cell_type": "markdown",
   "metadata": {},
   "source": [
    "### Mempelajari Parameter Jumlah Silinder Kendaraan"
   ]
  },
  {
   "cell_type": "markdown",
   "metadata": {},
   "source": [
    "Parameter selanjutnya yang akan kita pelajari pada bagian ini merupakan parameter yang berbicara mengenai jumlah silinder pada kendaraan. Berbeda dengan eksplorasi sebelumnya, saat ini kita tidak akan membuat histogram. Lebih jelasnya kita akan **mempelajari distribusi parameter ini menggunakan diagram batang**, karena kolom `cylinders` merupakan kolom kategorik."
   ]
  },
  {
   "cell_type": "code",
   "execution_count": 66,
   "metadata": {},
   "outputs": [
    {
     "data": {
      "image/png": "[encoded data removed]",
      "text/plain": [
       "<Figure size 432x288 with 1 Axes>"
      ]
     },
     "metadata": {
      "needs_background": "light"
     },
     "output_type": "display_data"
    }
   ],
   "source": [
    "# Membuat diagram batang untuk parameter jumlah silinder kendaraan\n",
    "dataframe['cylinders'].value_counts().plot(kind='bar', grid=True)\n",
    "plt.show()"
   ]
  },
  {
   "cell_type": "markdown",
   "metadata": {},
   "source": [
    "Diagram batang untuk parameter jumlah silinder kendaraan sudah dapat ditampilkan. Berdasarkan penyajian data di atas, kita dapat melihat bahwa untuk **jumlah silinder kendaraannya 8 berada dalam peringkat pertama dengan jumlah sebesar lebih dari 17500**. Untuk kendaraan yang jumlah silindernya 6 dan 4 juga termasuk dalam tiga besar yang dapat dilihat ketinggian batangnya lebih menjulang dibandingkan dengan jumlah silinder 10, 5, dan 3. Kendaraan yang jumlah silindernya ada 12 sepertinya terlihat paling sedikit dalam kolom `cylinders`. Perlu dingat bahwa nilai sudah diurutkan dari jumlah terbesar hingga terkecil.\n",
    "\n",
    "Mengapa dalam diagram batang di atas menunjukkan untuk jumlah silinder yang 10, 5, 3, dan 12 jumlahnya sangat sedikit? Berdasarkan dari pemaparan informasi dalam situs **Kia.com**, kendaraan **pada umumnya memiliki jumlah silinder sebanyak 4, 6, atau 8**. Menurut informasi situs otomotif dari **autofun.co.id**, ternyata ada juga kendaraan yang jumlah silindernya itu 5, 10, 12, bahkan 16. Bercermin dari diagram batang di atas kita dapat menyatakan **tidak adanya anomali mengenai jumlah silinder yang aneh** dalam data ini. Tetapi penggunaan diagram batang tidak dapat memberikan informasi kepada kita mengenai adanya nilai *outlier* atau tidak."
   ]
  },
  {
   "cell_type": "code",
   "execution_count": 67,
   "metadata": {},
   "outputs": [
    {
     "data": {
      "image/png": "[encoded data removed]",
      "text/plain": [
       "<Figure size 432x288 with 1 Axes>"
      ]
     },
     "metadata": {
      "needs_background": "light"
     },
     "output_type": "display_data"
    }
   ],
   "source": [
    "# Memeriksa outlier untuk parameter jumlah silinder kendaraan\n",
    "dataframe.boxplot('cylinders')\n",
    "plt.show()"
   ]
  },
  {
   "cell_type": "markdown",
   "metadata": {},
   "source": [
    "Boxplot untuk parameter ini jikalau dilihat berbeda jauh dengan parameter-parameter sebelumnya yang telah kita identifikasi. Kita tidak melihat adanya *outlier* pada bagian atas dari *whisker* karena nilai maksimum dari kolom `cylinders` adalah 12. Selain itu untuk median dari parameter ini adalah 6 atau 50% silinder jumlahnya ada di atas 6 dan 50% lainnya ada di bawahnya. Kesimpulan dari boxplot ini adalah dalam parameter **jumlah silinder tidak terdapat nilai *outlier*** sehingga kita tidak perlu untuk melakukan penghapusan nilai *outlier* dalam tahapan selanjutnya."
   ]
  },
  {
   "cell_type": "markdown",
   "metadata": {},
   "source": [
    "### Mempelajari Parameter Kondisi Kendaraan"
   ]
  },
  {
   "cell_type": "markdown",
   "metadata": {},
   "source": [
    "Untuk parameter terakhir yang akan kita identifikasi sebelum masuk dalam tahapan menangani *outlier* adalah parameter mengenai kondisi kendaraan. Sama halnya seperti dalam parameter jumlah silinder yang merupakan kolom kategorik, kita akan **membuat diagram batang** yang di ambil dari kolom kondisi kendaraan yang sudah dimuat dalam bentuk skala numerik, yaitu `condition_metric`."
   ]
  },
  {
   "cell_type": "code",
   "execution_count": 68,
   "metadata": {},
   "outputs": [
    {
     "data": {
      "image/png": "[encoded data removed]",
      "text/plain": [
       "<Figure size 432x288 with 1 Axes>"
      ]
     },
     "metadata": {
      "needs_background": "light"
     },
     "output_type": "display_data"
    }
   ],
   "source": [
    "# Membuat diagram batang untuk parameter kondisi kendaraan\n",
    "dataframe['condition_metric'].value_counts().plot(kind='bar', grid=True)\n",
    "plt.show()"
   ]
  },
  {
   "cell_type": "markdown",
   "metadata": {},
   "source": [
    "Parameter kondisi kendaraan ini untuk setiap nilainya mewakili satu kondisi kendaraan yang dapat dilihat kembali pada bagian perbaikan kualitas data. Batang tertinggi dari diagram di atas merupakan **kendaraan yang kondisinya *excellent* atau masih bagus dengan jumlahnya mendekati angka 25000**. Untuk kondisi kendaraan *good* dan *like new* menempati posisi kedua dan ketiga dalam grafik di atas. Kita juga menemukan bahwa untuk kondisi kendaraan yang baru (*new*) dan rongsok (*salvage*) jumlahnya paling sedikit, yaitu di bawah 1000 sehingga hampir tidak terlihat lagi. Lagi-lagi kita tidak dapat mengetahui adanya *outlier* atau tidak dalam parameter ini dan jikalau kita lihat sepertinya tidak ada masalah mengenai *outlier* saat ini. Apakah hal itu benar adanya?"
   ]
  },
  {
   "cell_type": "code",
   "execution_count": 69,
   "metadata": {},
   "outputs": [
    {
     "data": {
      "image/png": "[encoded data removed]",
      "text/plain": [
       "<Figure size 432x288 with 1 Axes>"
      ]
     },
     "metadata": {
      "needs_background": "light"
     },
     "output_type": "display_data"
    }
   ],
   "source": [
    "# Memeriksa outlier untuk parameter kondisi kendaraan\n",
    "dataframe.boxplot('condition_metric')\n",
    "plt.show()"
   ]
  },
  {
   "cell_type": "markdown",
   "metadata": {},
   "source": [
    "Kita menemukan informasi unik dari boxplot di atas. Untuk nilai median dan kuartil atas dalam parameter ini adalah sama, yaitu ada pada angka 3 atau kondisi kendaraan yang *excellent*. Kita juga **menemukan adanya *outlier* untuk nilai 0 dan 5** atau dalam artinya, nilai tersebut merupakan kondisi kendaraan yang *salvage* dan *new*. Karena jumlahnya sangat sedikit, kedua nilai tersebut dianggap sebagai *outlier*. Tetapi karena kolom ini termasuk dalam kolom kategorik, maka **kita tidak akan melakukan penghapusan nilai *outlier* untuk parameter ini** karena memang kondisi nilai dalam kolom `condition_metric` seperti itu dan tidak disarankan untuk menghapus *outlier* dalam kolom kategorik. Jikalau kita menghapus nilainya, maka nilai dalam kolom tersebut akan berubah bahkan untuk skala kondisi nomor 0 dan 5 bisa terhapus."
   ]
  },
  {
   "cell_type": "markdown",
   "metadata": {},
   "source": [
    "## Mempelajari dan Menangani Outlier"
   ]
  },
  {
   "cell_type": "markdown",
   "metadata": {},
   "source": [
    "Eksplorasi saat ini sudah memasuki dalam tahapan perbaikan data dari nilai *outlier* yang sudah kita temukan dalam bagian pengerjaan proyek mempelajari kelima parameter inti sebelumnya. Tujuan dari pekerjaan kita saat ini adalah untuk memperbaiki kualitas data dari *outlier* yang mendistorsikan data kita dan nantinya dalam tahapan pengerjaan selanjutnya kita akan membandingkannya dengan parameter yang belum dihapus nilai *outlier*-nya. Berikut ini merupakan kolom-kolom yang akan kita perbaiki dan hapus nilai *outlier*-nya:\n",
    "- Harga (diambil dari kolom `price`)\n",
    "- Usia kendaraan ketika iklan ditayangkan (diambil dari kolom `car_age`)\n",
    "- Jarak tempuh (diambil dari kolom `odometer`)\n",
    "\n",
    "Penghapusan nilai *outlier* akan dilakukan secara sekaligus pada setiap kolom. Nilai *outlier* akan dihapus dengan cara mengidentifikasi nilai batas atas dan bawah serta mengiris datanya berdasarkan kedua kondisi tersebut. Pekerjaan kita saat ini mungkin akan dilakukan secara berulang jikalau masih ada nilai *outlier* pada ketiga kolom. Mari kita lakukan penghapusan nilai *outlier* secara bertahap."
   ]
  },
  {
   "cell_type": "markdown",
   "metadata": {},
   "source": [
    "### Menangani *Outlier* pada Kolom `price`, `car_age`, dan `odometer` (Tahap 1)"
   ]
  },
  {
   "cell_type": "markdown",
   "metadata": {},
   "source": [
    "Dalam beberapa parameter yang sudah kita selidiki, kita menemukan bahwa pada kolom `price`, `car_age`, dan `odometer` memiliki banyak nilai *outlier* yang melebihi batas atas dari bagian *boxplot*. Mengenai pernyataan tersebut kita akan menghapus nilai *outlier* pada ketiga kolom tersebut dengan cara menentukan batas atas dan bawah *outlier* secara sekaligus terlebih dahulu.\n",
    "\n",
    "Menentukan batas atas dan bawah *outlier* sebenarnya cukup mudah, langkahnya seperti berikut ini:\n",
    "- Membuat variabel yang menampung kuartil bawah (Q1) dan kuartil atas (Q3) dari data \n",
    "- Menentukan rentang interkuartil dengan cara mengurangi Q3 dengan Q1\n",
    "- Membuat variabel yang menampung batas bawah *outlier*, yaitu dengan rumus `Q1 kolom - (1.5 * rentang interkuartil)`, dan\n",
    "- Membuat variabel yang menampung batas atas *outlier*, yaitu dengan rumus `Q3 kolom + (1.5 * rentang interkuartil)`.\n",
    "\n",
    "Perlu untuk diingat bahwa nilai Q1 adalah 25% dan nilai Q3 adalah 75%. Penentuan batas atas dan bawah *outlier* saat ini akan menggunakan bantuan fungsi buatan untuk mempersingkat kode kita."
   ]
  },
  {
   "cell_type": "code",
   "execution_count": 73,
   "metadata": {
    "scrolled": true
   },
   "outputs": [],
   "source": [
    "# Menentukan batas atas dan bawah outlier menggunakan fungsi buatan\n",
    "list_of_selected_column = ['price', 'car_age', 'odometer']\n",
    "\n",
    "def upper_lower_whisker(column_name=''):\n",
    "    Q1  = dataframe[column_name].quantile(0.25)\n",
    "    Q3  = dataframe[column_name].quantile(0.75)\n",
    "    IQR = Q3 - Q1\n",
    "    lower_whisker = Q1 - (1.5 * IQR)\n",
    "    upper_whisker = Q3 + (1.5 * IQR)\n",
    "\n",
    "    return lower_whisker, upper_whisker\n",
    "\n",
    "new_df = dataframe.copy()"
   ]
  },
  {
   "cell_type": "markdown",
   "metadata": {},
   "source": [
    "Kita juga telah menampung kolom dalam sebuah *list* untuk mempercepat pekerjaan kita dalam menangani nilai ekstrim saat ini. Nantinya ketika kita akan menerapkan sebuah fungsi berbeda setelah ini untuk menghapus nilai ekstrim, hal tersebut akan dilakukan secara satu per satu melalui *list* kolom yang butuh untuk ditangani nilai ekstrimnya. Dalam fungsi di atas kita juga sudah mengembalikan nilai batas atas dan bawah kepada nama fungsi dan membuat *dataset* baru untuk mengiris nilai ekstrim selanjutnya."
   ]
  },
  {
   "cell_type": "code",
   "execution_count": 79,
   "metadata": {},
   "outputs": [
    {
     "name": "stdout",
     "output_type": "stream",
     "text": [
      "start cleaning outlier on  price\n",
      "cleaning outlier on  price  was finished!\n",
      "start cleaning outlier on  car_age\n",
      "cleaning outlier on  car_age  was finished!\n",
      "start cleaning outlier on  odometer\n",
      "cleaning outlier on  odometer  was finished!\n"
     ]
    }
   ],
   "source": [
    "# Membuat fungsi untuk mengiris nilai ekstrim berdasarkan kondisi yang telah ditentukan\n",
    "for column in list_of_selected_column:\n",
    "    print('start cleaning outlier on ', column)\n",
    "    lower, upper = upper_lower_whisker(column)\n",
    "    new_df = new_df[(new_df[column] > lower) & (new_df[column] < upper)]\n",
    "    print('cleaning outlier on ', column, ' was finished!')"
   ]
  },
  {
   "cell_type": "markdown",
   "metadata": {},
   "source": [
    "Fungsi untuk mengiris kolom yang memiliki nilai *outlier* sudah dapat dijalankan dan membuahkan hasil. Pengirisan dilakukan secara berulang untuk kolom-kolom yang ada dalam variabel `list_of_selected_column` dan ketika sudah selesai akan mengeluarkan sebuah *output* berupa pesan bahwa penghapusan *outlier* sudah selesai. Sekarang mari kita periksa satu per satu kolom yang memiliki nilai ekstrim dan mengambil langkah atas keputusan kita setelah melihat hasil yang sudah kita dapatkan."
   ]
  },
  {
   "cell_type": "code",
   "execution_count": 80,
   "metadata": {},
   "outputs": [
    {
     "data": {
      "image/png": "[encoded data removed]",
      "text/plain": [
       "<Figure size 432x288 with 1 Axes>"
      ]
     },
     "metadata": {
      "needs_background": "light"
     },
     "output_type": "display_data"
    }
   ],
   "source": [
    "# Memeriksa outlier pada kolom `price` dalam DataFrame baru\n",
    "new_df.boxplot('price')\n",
    "plt.show()"
   ]
  },
  {
   "cell_type": "markdown",
   "metadata": {},
   "source": [
    "Berdasarkan boxplot dari kolom `price` pada *dataset* baru ini kita dapat melihat dengan jelas untuk bagian *box* serta *upper whisker*-nya karena kita sudah berhasil membuang banyak nilai *outlier* pada kolom ini. Tetapi kita juga masih dapat **melihat adanya *outlier* yang berkumpul pada bagian batas atas hingga mendekati 35000**. Berdasarkan pernyataan sebelumnya, kita memutuskan untuk **kembali menghapus nilai *outlier* pada kolom ini**."
   ]
  },
  {
   "cell_type": "code",
   "execution_count": 81,
   "metadata": {},
   "outputs": [
    {
     "data": {
      "image/png": "[encoded data removed]",
      "text/plain": [
       "<Figure size 432x288 with 1 Axes>"
      ]
     },
     "metadata": {
      "needs_background": "light"
     },
     "output_type": "display_data"
    }
   ],
   "source": [
    "# Memeriksa outlier pada kolom `car_age` dalam DataFrame baru\n",
    "new_df.boxplot('car_age')\n",
    "plt.show()"
   ]
  },
  {
   "cell_type": "markdown",
   "metadata": {},
   "source": [
    "Untuk kolom `car_age` atau usia kendaraan saat ini kita juga dapat melihat bahwa nilai ekstrim yang terlampau jauh hingga usia 100 tahun lebih sudah tidak ada lagi. Namun kita juga tidak dapat menyangkal bahwa dalam kolom ini **masih memiliki dua nilai terpaut di atas nilai batas atas** dari *box* yang ada. Sehingga kita akan **menyingkirkan lagi nilai esktrim pada kolom ini**."
   ]
  },
  {
   "cell_type": "code",
   "execution_count": 82,
   "metadata": {},
   "outputs": [
    {
     "data": {
      "image/png": "[encoded data removed]",
      "text/plain": [
       "<Figure size 432x288 with 1 Axes>"
      ]
     },
     "metadata": {
      "needs_background": "light"
     },
     "output_type": "display_data"
    }
   ],
   "source": [
    "# Memeriksa outlier pada kolom `odometer` dalam DataFrame baru\n",
    "new_df.boxplot('odometer')\n",
    "plt.show()"
   ]
  },
  {
   "cell_type": "markdown",
   "metadata": {},
   "source": [
    "Dengan jelas kita melihat bahwa masih terdapat nilai *outlier* dalam kolom `odometer` walaupun jumlahnya tidak signifikan, tetapi kabar baiknya kita sudah menghapus banyak nilai ekstrim yang dapat mendistorsi data dalam kolom ini. Sebelumnya kita melihat ada nilai ekstrim yang mendekati angka 1000000, dan saat ini batasnya hanya melewati sedikit dari angka 250000. Sama halnya dengan kedua kolom sebelumnya, kita memutuskan untuk **menghapus kembali nilai *outlier* untuk kolom saat ini**."
   ]
  },
  {
   "cell_type": "markdown",
   "metadata": {},
   "source": [
    "### Menangani *Outlier* pada Kolom `price`, `car_age`, dan `odometer` (Tahap 2)"
   ]
  },
  {
   "cell_type": "markdown",
   "metadata": {},
   "source": [
    "Berdasarkan hasil eksperimen kita sebelumnya, kita dapat melihat bahwa untuk ketiga parameter kita saat ini masih memiliki nilai *outlier* walaupun jumlahnya tidak sebanyak yang kita temukan sebelum mengambil aksi untuk menghapus nilai *outlier*-nya. Pekerjaan kita saat ini sebenarnya hanya mengulang pada tahapan sebelumnya dengan menyalin kode fungsi untuk menentukan batas atas dan bawah, fungsi mengiris nilai ekstrim berdasarkan kondisi yang telah kita tentukan, dan mengecek kembali apakah masih ada nilai ekstrim atau tidak.\n",
    "\n",
    "Pertama kali kita akan terlebih dahulu menemukan batas atas dan bawah *outlier* dengan cara menentukan kuartil atas dan kuartil bawah, mencari rentang interkuartilnya, dan menentukan batas atas dan bawahnya menggunakan rumus yang sama dalam sebuah fungsi. Mari kita kerjakan bagian ini sekarang juga!"
   ]
  },
  {
   "cell_type": "code",
   "execution_count": 83,
   "metadata": {},
   "outputs": [],
   "source": [
    "# Menentukan batas atas dan bawah outlier menggunakan fungsi buatan\n",
    "list_of_selected_column = ['price', 'car_age', 'odometer']\n",
    "\n",
    "def upper_lower_whisker(column_name=''):\n",
    "    Q1  = new_df[column_name].quantile(0.25)\n",
    "    Q3  = new_df[column_name].quantile(0.75)\n",
    "    IQR = Q3 - Q1\n",
    "    lower_whisker = Q1 - (1.5 * IQR)\n",
    "    upper_whisker = Q3 + (1.5 * IQR)\n",
    "\n",
    "    return lower_whisker, upper_whisker\n",
    "\n",
    "new_df_2 = new_df.copy()"
   ]
  },
  {
   "cell_type": "markdown",
   "metadata": {},
   "source": [
    "Kode untuk menentukan nilai batas atas dan bawah menggunakan fungsi sudah kita salin kembali. Kita juga tidak lupa untuk memakai *dataset* baru dari hasil penghapusan nilai ekstrim sebelumnya. Selanjutnya kita akan menyalin lagi kode yang memuat fungsi buatan untuk mengiris data berdasarkan kondisi yang sudah kita tetapkan."
   ]
  },
  {
   "cell_type": "code",
   "execution_count": 84,
   "metadata": {},
   "outputs": [
    {
     "name": "stdout",
     "output_type": "stream",
     "text": [
      "start cleaning outlier on  price\n",
      "cleaning outlier on  price  was finished!\n",
      "start cleaning outlier on  car_age\n",
      "cleaning outlier on  car_age  was finished!\n",
      "start cleaning outlier on  odometer\n",
      "cleaning outlier on  odometer  was finished!\n"
     ]
    }
   ],
   "source": [
    "# Membuat fungsi untuk mengiris nilai ekstrim berdasarkan kondisi yang telah ditentukan untuk kedua kalinya\n",
    "for column in list_of_selected_column:\n",
    "    print('start cleaning outlier on ', column)\n",
    "    lower, upper = upper_lower_whisker(column)\n",
    "    new_df_2 = new_df_2[(new_df_2[column] > lower) & (new_df_2[column] < upper)]\n",
    "    print('cleaning outlier on ', column, ' was finished!')"
   ]
  },
  {
   "cell_type": "markdown",
   "metadata": {},
   "source": [
    "Fungsi pengirisan data sudah kita salin pada bagian saat ini. Kita perlu mengingat bahwa pengirisan data  dilakukan dengan cara mengeliminasi nilai-nilai yang melebihi batas atas dan bawah, sisa nilai-nilai yang termasuk dalam dua kondisi tersebut akan disimpan dalam variabel baru. Selanjutnya kita akan memeriksa kembali setiap kolom yang sudah dihapus nilai ekstrimnya, apakah masih terdapat *outlier* atau tidak."
   ]
  },
  {
   "cell_type": "code",
   "execution_count": 85,
   "metadata": {},
   "outputs": [
    {
     "data": {
      "image/png": "[encoded data removed]",
      "text/plain": [
       "<Figure size 432x288 with 1 Axes>"
      ]
     },
     "metadata": {
      "needs_background": "light"
     },
     "output_type": "display_data"
    }
   ],
   "source": [
    "# Memeriksa outlier pada kolom `price` dalam DataFrame baru\n",
    "new_df_2.boxplot('price')\n",
    "plt.show()"
   ]
  },
  {
   "cell_type": "markdown",
   "metadata": {},
   "source": [
    "Melalui grafik di atas, kita dapat melihat bahwa nilai *outlier* sudah tidak sebanyak pada tahap penghapusan nilai ekstrim sebelumnya, di mana nilai *outlier*-nya mencapai sekitar harga kendaraan 35000. Dengan jelas kita lihat **jumlah *outlier* hanya tersisa sedikit saja** pada bagian batas (*upper whisker*) atas boxplot. Sekarang ini walaupun masih terdapat *outlier*, kualitas data yang kita miliki dalam kolom ini menjadi semakin baik. Dengan demikian kita perlu untuk **melakukan penghapusan *outlier* untuk kolom ini sekali lagi**."
   ]
  },
  {
   "cell_type": "code",
   "execution_count": 86,
   "metadata": {},
   "outputs": [
    {
     "data": {
      "image/png": "[encoded data removed]",
      "text/plain": [
       "<Figure size 432x288 with 1 Axes>"
      ]
     },
     "metadata": {
      "needs_background": "light"
     },
     "output_type": "display_data"
    }
   ],
   "source": [
    "# Memeriksa outlier pada kolom `car_age` dalam DataFrame baru\n",
    "new_df_2.boxplot('car_age')\n",
    "plt.show()"
   ]
  },
  {
   "cell_type": "markdown",
   "metadata": {},
   "source": [
    "Boxplot dari parameter usia kendaraan sudah dapat dilihat. Kabar baiknya kita sudah menghapus seluruh nilai ekstrim atau *outlier* dalam kolom `car_age`! Terlihat pada **bagian batas atas (*upper whisker*) tidak terdapat lagi satupun nilai ekstrim** dan boxplot ini dapat dibaca dengan sangat jelas. Berarti kita hanya melakukan dua kali penghapusan nilai *outlier* dalam kolom ini dan hasilnya langsung terlihat. Untuk lebih jelasnya mengenai penjelasan bagian ini akan kita bahas dalam tahapan pengerjaan proyek selanjutnya."
   ]
  },
  {
   "cell_type": "code",
   "execution_count": 87,
   "metadata": {},
   "outputs": [
    {
     "data": {
      "image/png": "[encoded data removed]",
      "text/plain": [
       "<Figure size 432x288 with 1 Axes>"
      ]
     },
     "metadata": {
      "needs_background": "light"
     },
     "output_type": "display_data"
    }
   ],
   "source": [
    "# Memeriksa outlier pada kolom `odometer` dalam DataFrame baru\n",
    "new_df_2.boxplot('odometer')\n",
    "plt.show()"
   ]
  },
  {
   "cell_type": "markdown",
   "metadata": {},
   "source": [
    "Bisakah kita membandingkannya dengan tahap penghapusan nilai ekstrim sebelumnya? Ya, tentu saja. Untuk nilai ekstrim sebelumnya masih ada yang nilainya terpaut di atas jarak tempuh kendaraannya 250000. Sekarang ini walaupun masih ada nilai *outlier*, kita dapat membandingkannya bahwa **jumlah nilai ekstrimnya menjadi lebih sedikit**. Berdasarkan pernyataan sebelumnya dan sama dengan kolom `price`, sepertinya kita hanya **butuh satu kali lagi untuk menghapus nilai *outlier* bagi kolom ini**."
   ]
  },
  {
   "cell_type": "markdown",
   "metadata": {},
   "source": [
    "### Menangani *Outlier* pada Kolom `price` dan `odometer` (Tahap 3)"
   ]
  },
  {
   "cell_type": "markdown",
   "metadata": {},
   "source": [
    "Bagian terakhir dalam penanganan nilai ekstrim saat ini akan dilakukan secara khusus untuk kolom `price` dan `odometer`. Menurut hasil penghapusan nilai ekstrim tahap kedua, kita melihat bahwa untuk parameter harga dan jarak tempuh kendaraan masih memiliki *outlier* walaupun jumlahnya sangat sedikit. Pekerjaan kita saat ini sebenarnya hanya kembali mengulang pada tahapan-tahapan sebelumnya dengan menyalin kode fungsi untuk menentukan batas atas dan bawah, fungsi mengiris nilai ekstrim berdasarkan kondisi yang telah kita tentukan, dan mengecek kembali apakah masih ada nilai ekstrim atau tidak.\n",
    "\n",
    "Kita akan terlebih dahulu menemukan batas atas dan bawah outlier dengan cara menentukan kuartil atas dan kuartil bawah, mencari rentang interkuartilnya, dan menentukan batas atas dan bawahnya menggunakan rumus yang sama dalam sebuah fungsi."
   ]
  },
  {
   "cell_type": "code",
   "execution_count": 88,
   "metadata": {},
   "outputs": [],
   "source": [
    "# Menentukan batas atas dan bawah outlier menggunakan fungsi buatan\n",
    "list_of_selected_column = ['price', 'car_age', 'odometer']\n",
    "\n",
    "def upper_lower_whisker(column_name=''):\n",
    "    Q1  = new_df_2[column_name].quantile(0.25)\n",
    "    Q3  = new_df_2[column_name].quantile(0.75)\n",
    "    IQR = Q3 - Q1\n",
    "    lower_whisker = Q1 - (1.5 * IQR)\n",
    "    upper_whisker = Q3 + (1.5 * IQR)\n",
    "\n",
    "    return lower_whisker, upper_whisker\n",
    "\n",
    "new_df_3 = new_df_2.copy()"
   ]
  },
  {
   "cell_type": "markdown",
   "metadata": {},
   "source": [
    "Kode untuk menentukan nilai batas atas dan bawah menggunakan fungsi sudah kita salin kembali. Kita juga tidak lupa untuk memakai *dataset* baru dari hasil penghapusan nilai ekstrim sebelumnya. Sehabis ini kita akan menyalin lagi kode yang memuat fungsi buatan untuk mengiris data berdasarkan suatu kondisi."
   ]
  },
  {
   "cell_type": "code",
   "execution_count": 91,
   "metadata": {},
   "outputs": [
    {
     "name": "stdout",
     "output_type": "stream",
     "text": [
      "start cleaning outlier on  price\n",
      "cleaning outlier on  price  was finished!\n",
      "start cleaning outlier on  car_age\n",
      "cleaning outlier on  car_age  was finished!\n",
      "start cleaning outlier on  odometer\n",
      "cleaning outlier on  odometer  was finished!\n"
     ]
    }
   ],
   "source": [
    "# Membuat fungsi untuk mengiris nilai ekstrim berdasarkan kondisi yang telah ditentukan untuk ketiga kalinya\n",
    "for column in list_of_selected_column:\n",
    "    print('start cleaning outlier on ', column)\n",
    "    lower, upper = upper_lower_whisker(column)\n",
    "    new_df_3 = new_df_3[(new_df_3[column] > lower) & (new_df_3[column] < upper)].reset_index(drop=True)\n",
    "    print('cleaning outlier on ', column, ' was finished!')"
   ]
  },
  {
   "cell_type": "markdown",
   "metadata": {},
   "source": [
    "Seperti yang telah kita jelaskan pada tahap kedua, pengirisan data dilakukan dengan cara mengeliminasi nilai-nilai yang melebihi batas atas dan bawah, sisa nilai-nilai yang termasuk dalam dua kondisi tersebut akan disimpan dalam variabel baru. Bagian akhir dari penghapusan nilai *outlier* saat ini kita akan memeriksa kembali setiap kolom yang sudah dihapus nilai ekstrimnya, apakah masih terdapat *outlier* atau tidak."
   ]
  },
  {
   "cell_type": "code",
   "execution_count": 92,
   "metadata": {},
   "outputs": [
    {
     "data": {
      "image/png": "[encoded data removed]",
      "text/plain": [
       "<Figure size 432x288 with 1 Axes>"
      ]
     },
     "metadata": {
      "needs_background": "light"
     },
     "output_type": "display_data"
    }
   ],
   "source": [
    "# Memeriksa outlier pada kolom `price` dalam DataFrame baru\n",
    "new_df_3.boxplot('price')\n",
    "plt.show()"
   ]
  },
  {
   "cell_type": "markdown",
   "metadata": {},
   "source": [
    "Sepertinya kita melihat adanya perubahan besar! Dapat dilihat dari boxplot yang sudah disajikan untuk kolom harga kendaraan saat ini, **nilai ekstrim atau *outlier* tidak terdeteksi sama sekali**. Itu artinya kualitas data kita menjadi semakin membaik dan khususnya boxplot dapat dibaca dengan sangat jelas. Perjalanan kita untuk menghapus nilai *outlier* dalam kolom `price` sudah berhenti sampai di sini."
   ]
  },
  {
   "cell_type": "code",
   "execution_count": 94,
   "metadata": {},
   "outputs": [
    {
     "data": {
      "image/png": "[encoded data removed]",
      "text/plain": [
       "<Figure size 432x288 with 1 Axes>"
      ]
     },
     "metadata": {
      "needs_background": "light"
     },
     "output_type": "display_data"
    }
   ],
   "source": [
    "# Memeriksa outlier pada kolom `odometer` dalam DataFrame baru\n",
    "new_df_3.boxplot('odometer')\n",
    "plt.show()"
   ]
  },
  {
   "cell_type": "markdown",
   "metadata": {},
   "source": [
    "Kita mendapatkan kabar baik lagi saat ini! Nilai *outlier* dalam kolom `odometer` nampaknya sudah tidak ada lagi sekarang ini. Kualitas data yang kita harapkan untuk parameter jarak tempuh kendaraan ini sudah kita dapatkan. Dengan demikian, perjalanan kita dalam menghapus nilai ekstrim untuk ketiga parameter yang bermasalah sudah berakhir saat ini. Kerja yang baik!"
   ]
  },
  {
   "cell_type": "markdown",
   "metadata": {},
   "source": [
    "## Mempelajari Parameter Inti Tanpa Outlier"
   ]
  },
  {
   "cell_type": "markdown",
   "metadata": {},
   "source": [
    "Kembali lagi kita masuk dalam bagian eksplorasi data untuk mempelajari beberapa parameter. Pada pengerjaan proyek bagian ini akan berhubungan dengan kedua sub-bab sebelumnya yang telah kita kerjakan, yaitu mempelajari parameter yang mengandung nilai ekstrim dan penanganan nilai *outlier*. Pembahasan saat ini cenderung kepada kegiatan membandingkan parameter yang memiliki nilai *outlier* dengan parameter yang sudah bersih seluruhnya dari nilai *outlier*. Untuk parameter-parameter yang akan kita bandingkan saat ini ada tiga, yaitu:\n",
    "- Harga (`price`)\n",
    "- Usia kendaraan ketika iklan ditayangkan (`car_age`)\n",
    "- Jarak tempuh kendaraan (`odometer`)\n",
    "\n",
    "Perbandingan akan dilakukan dengan menjelaskan perbedaan sebelum dan sesudah kolom dihapus nilai *outlier*-nya dengan menggunakan grafik *boxplot* serta *histogram* yang telah dibuat dalam tahapan-tahapan sebelumnya."
   ]
  },
  {
   "cell_type": "markdown",
   "metadata": {},
   "source": [
    "### Membandingkan Paramater Harga dari Kedua *Dataset* yang Berbeda"
   ]
  },
  {
   "cell_type": "markdown",
   "metadata": {},
   "source": [
    "Parameter pertama yang kita selidiki dan bandingkan adalah berasal dari kolom `price`. Langkah pertama yang akan kita lakukan yaitu dengan membuat histogram dan boxplot dari *dataset* yang belum dihapus nilai *outlier*-nya. Setelah itu kita akan membuat kembali histogram dan boxplot tetapi dari *dataset* yang sudah disingkirkan nilai ekstrimnya. Setiap perbedaan sebelum dan sesudah akan dijelaskan secara rinci menggunakan poin."
   ]
  },
  {
   "cell_type": "markdown",
   "metadata": {},
   "source": [
    "**Parameter harga kendaraan sebelum dihapus *outlier*-nya**\n",
    "\n",
    "Dalam pengerjaan bagian ini kita akan terlebih dahulu menampilkan grafik histogram dan boxplot dari *dataset* awal yang belum ditangani *outlier*-nya serta menjelaskan isi grafiknya. Caranya mudah kita hanya perlu mengambil kembali kode yang memuat pembuatan histogram dan boxplot dalam bagian pengerjaan proyek 1.6, yaitu mempelajari parameter inti."
   ]
  },
  {
   "cell_type": "code",
   "execution_count": 95,
   "metadata": {},
   "outputs": [
    {
     "data": {
      "image/png": "[encoded data removed]",
      "text/plain": [
       "<Figure size 432x288 with 1 Axes>"
      ]
     },
     "metadata": {
      "needs_background": "light"
     },
     "output_type": "display_data"
    }
   ],
   "source": [
    "# Menampilkan histogram kolom `price` sebelum dihapus nilai ekstrimnya\n",
    "dataframe.hist('price', bins=100)\n",
    "plt.show()"
   ]
  },
  {
   "cell_type": "markdown",
   "metadata": {},
   "source": [
    "Kita sudah membuat kembali histogramnya dan ini adalah penjelasan ulang yang sebelumnya kita paparkan dalam bentuk poin:\n",
    "- Histogram terlihat terlalu himpit di bagian kiri grafik karena terdapat banyak nilai ekstrim untuk harga kendaraan di atas 50000\n",
    "- Salah satu contoh nilai ekstrim dalam data pada kolom ini adalah adanya harga kendaraan yang lebih dari 350000\n",
    "- Puncak histogram ini ternyata berada di bawah harga 10000 atau lebih tepatnya ada di harga 5000, ini baru dapat dilihat jikalau kita mengatur rentang sumbu X\n",
    "- Ada cukup banyak harga kendaraan yang mendekati 0.\n",
    "\n",
    "Kesimpulan dari grafik ini adalah terdapat puncak yang sangat tinggi yang kita tidak dapat ketahui dengan jelas karena grafiknya sulit untuk dibaca dan nilai dari sumbu X-nya terlihat mencapai lebih dari 350000 sedangkan banyak batang histogramnya yang berkumpul di bawah harga kendaraan 60000."
   ]
  },
  {
   "cell_type": "code",
   "execution_count": 96,
   "metadata": {},
   "outputs": [
    {
     "data": {
      "image/png": "[encoded data removed]",
      "text/plain": [
       "<Figure size 432x288 with 1 Axes>"
      ]
     },
     "metadata": {
      "needs_background": "light"
     },
     "output_type": "display_data"
    }
   ],
   "source": [
    "# Memeriksa outlier kolom `price` sebelum dihapus nilai ekstrimnya\n",
    "dataframe.boxplot('price')\n",
    "plt.show()"
   ]
  },
  {
   "cell_type": "markdown",
   "metadata": {},
   "source": [
    "Boxplot di atas menggambarkan data yang banyak mengandung nilai ekstrim dalam kolom `price`. Berikut adalah penjelasan dari grafik di atas:\n",
    "- Grafik tidak dapat dibaca dengan jelas karena nilai *outlier*-nya banyak\n",
    "- Batas atas (*upper whisker*) dari boxplot terpaut pada harga 35000 dan untuk batas bawahnya (*lower whisker*) yaitu 0\n",
    "- Median dari parameter harga berada tepat di bawah harga 10000\n",
    "\n",
    "Kesimpulan dari boxplot ini adalah kita dapat melihat banyak nilai ekstrim yang menyebabkan *box*-nya terlalu terhimpit di bagian bawah grafik sehingga jikalau kita ingin melihat median dan nilai batas atas dan bawahnya, kita perlu mengatur rentang sumbu Y-nya secara spesifik."
   ]
  },
  {
   "cell_type": "markdown",
   "metadata": {},
   "source": [
    "**Parameter harga kendaraan setelah dihapus *outlier*-nya**\n",
    "\n",
    "Bagian pengerjaan saat ini yaitu kita akan menampilkan histogram dan boxplot dari parameter harga kendaraan yang sudah dihapus nilai *outlier*-nya dalam *dataset* baru serta memberikan penjelasan atas hasil perbandingan dengan parameter kendaraan yang belum dihapus nilai *outlier*-nya. Bagian ini kita juga hanya perlu untuk menyalin kembali hasil pekerjaan kita dalam tahapan proyek sebelumnya, tepatnya pada bagian menangani *outlier*."
   ]
  },
  {
   "cell_type": "code",
   "execution_count": 97,
   "metadata": {},
   "outputs": [
    {
     "data": {
      "image/png": "[encoded data removed]",
      "text/plain": [
       "<Figure size 432x288 with 1 Axes>"
      ]
     },
     "metadata": {
      "needs_background": "light"
     },
     "output_type": "display_data"
    }
   ],
   "source": [
    "# Menampilkan histogram kolom `price` setelah dihapus nilai ekstrimnya\n",
    "new_df_3.hist('price', bins=50)\n",
    "plt.show()"
   ]
  },
  {
   "cell_type": "markdown",
   "metadata": {},
   "source": [
    "Histogram untuk kolom `price` terlihat berbeda jauh dengan histogram yang ada nilai ekstrimnya. Berikut ini merupakan penjelasan dari grafik di atas:\n",
    "- Karena nilai ekstrim sudah disingkirkan, kita dapat dengan **lebih mudah membaca dan menginterpretasikan** histogram untuk parameter harga kendaraan ini. Perbedaan jelasnya yaitu dalam histogram sebelum ini kita dapat melihat batang-batangnya menyempit pada bagian kiri grafik, sedangkan untuk histogram ini **sebaran batangnya lebih menyeluruh**\n",
    "- Nilai **batas sumbu X saat ini hanya mencapai kurang dari 35000**, berbeda dengan histogram sebelumnya yang mencapai lebih dari 350000. Itu dikarenakan kita sudah menentukan nilai batas atas saat menyingkirkan nilai *outlier*\n",
    "- Tanpa perlu memperjelas histogram dengan menentukan rentang sumbu X, kita sudah dapat membaca kedua puncak dari histogram berada di antara harga kendaraan 5000\n",
    "- Setelah menghapus seluruh nilai ekstrim, saat ini kita memiliki kualitas data dalam kolom `price` yang jauh lebih baik."
   ]
  },
  {
   "cell_type": "code",
   "execution_count": 98,
   "metadata": {},
   "outputs": [
    {
     "data": {
      "image/png": "[encoded data removed]",
      "text/plain": [
       "<Figure size 432x288 with 1 Axes>"
      ]
     },
     "metadata": {
      "needs_background": "light"
     },
     "output_type": "display_data"
    }
   ],
   "source": [
    "# Memeriksa outlier pada kolom `price` setelah dihapus nilai ekstrimnya\n",
    "new_df_3.boxplot('price')\n",
    "plt.show()"
   ]
  },
  {
   "cell_type": "markdown",
   "metadata": {},
   "source": [
    "Penghapusan nilai ekstrim dalam parameter harga kendaraan memiliki manfaat yang menonjol. Berikut penjelasan dari boxplot yang sudah dihapus nilai *outlier*-nya:\n",
    "- Keuntungannya yaitu kita **dapat membaca dengan jelas grafik ini karena tidak terdapat sama sekali nilai ekstrim** sehingga tampilan *box* menjadi lebih mudah dilihat\n",
    "- Batas atas (*upper whisker*) telah berubah menjadi sekitar 32500\n",
    "- Untuk nilai mediannya hampir sama yaitu di bawah dari 10000 dan hanya berubah sedikit saja."
   ]
  },
  {
   "cell_type": "markdown",
   "metadata": {},
   "source": [
    "### Membandingkan Paramater Usia Kendaraan dari Kedua *Dataset* yang Berbeda"
   ]
  },
  {
   "cell_type": "markdown",
   "metadata": {},
   "source": [
    "Parameter kedua yang akan kita pelajari dan bandingkan adalah usia kendaraan yang berasal dari kolom `car_age`. Seperti bagian parameter sebelumnya, kita akan terlebih dahulu menampilkan histogram dan boxplot dari *dataset* yang memiliki nilai ekstrim dan setelah itu barulah kita akan menampilkan histogram dan boxplot tanpa nilai ekstrim beserta penjelasannya."
   ]
  },
  {
   "cell_type": "markdown",
   "metadata": {},
   "source": [
    "**Parameter usia kendaraan sebelum dihapus *outlier*-nya**\n",
    "\n",
    "Hal yang dibutuhkan untuk bagian ini adalah dengan merujuk pekerjaan kita pada poin 1.6 yaitu mempelajari parameter inti dan setelah itu kita dapat mengambil kembali *dataset* lama kita yang berisikan nilai *outlier*. Berikut ini histogram dan boxplot dari kolom `car_age` yang memiliki nilai ekstrim."
   ]
  },
  {
   "cell_type": "code",
   "execution_count": 99,
   "metadata": {},
   "outputs": [
    {
     "data": {
      "image/png": "[encoded data removed]",
      "text/plain": [
       "<Figure size 432x288 with 1 Axes>"
      ]
     },
     "metadata": {
      "needs_background": "light"
     },
     "output_type": "display_data"
    }
   ],
   "source": [
    "# Menampilkan histogram kolom `car_age` sebelum dihapus nilai ekstrimnya\n",
    "dataframe.hist('car_age', bins=100)\n",
    "plt.show()"
   ]
  },
  {
   "cell_type": "markdown",
   "metadata": {},
   "source": [
    "Histogram kolom `car_age` yang sebelum ditangani nilai *outlier*-nya sudah berhasil ditampilkan kembali. Kita mendapatkan beberapa kesimpulan berupa:\n",
    "- Histogram terlihat terlalu menyempit pada bagian kiri karena adanya nilai dari usia kendaraan lebih dari 100 tahun\n",
    "- Usia kendaraan yang mendekati 0 dan di bawah 20 tahun sepertinya lebih dominan dan menjadi puncak tajam dengan jumlahnya yang melampaui 4000 dan 5000\n",
    "- Setelah mencapai lebih dari 50 tahun, batangnya mulai tidak terlihat lagi karena jumlahnya yang sangat sedikit.\n",
    "\n",
    "Kesimpulan keseluruhan dari pernyataan sebelumnya adalah grafik boxplot tidak terlihat dengan jelas karena terdistorsi oleh banyaknya usia kendaraan yang tergolong menjadi nilai ekstrim dan banyak batang histogram yang berkumpul di bawah angka 40 tahun."
   ]
  },
  {
   "cell_type": "code",
   "execution_count": 100,
   "metadata": {},
   "outputs": [
    {
     "data": {
      "image/png": "[encoded data removed]",
      "text/plain": [
       "<Figure size 432x288 with 1 Axes>"
      ]
     },
     "metadata": {
      "needs_background": "light"
     },
     "output_type": "display_data"
    }
   ],
   "source": [
    "# Menampilkan outlier kolom `car_age` sebelum dihapus nilai ekstrimnya\n",
    "dataframe.boxplot('car_age')\n",
    "plt.show()"
   ]
  },
  {
   "cell_type": "markdown",
   "metadata": {},
   "source": [
    "Boxplot dari kolom `car_age` yang mengandung *outlier* di atas sudah berhasil ditampilkan kembali. Dari grafik itu menjelaskan beberapa arti, yaitu:\n",
    "- Terdapat nilai ekstrim untuk usia kendaraan yang mencapai lebih dari 100 tahun\n",
    "- Jumlah nilai *outlier*-nya terlihat sangat banyak sehingga terlihat seperti menghimpit *box*-nya\n",
    "- Median dari parameter ini berada pada kisaran usia kendaraan 8 tahun\n",
    "\n",
    "Kesimpulan keseluruhan dari boxplot di atas seperti pada permasalahan pada grafik sebelumnya, yaitu banyak nilai ekstrim yang membuat boxplot ini sulit untuk dicari nilai median dan batas atasnya."
   ]
  },
  {
   "cell_type": "markdown",
   "metadata": {},
   "source": [
    "**Parameter usia kendaraan setelah dihapus *outlier*-nya**\n",
    "\n",
    "Untuk mengerjakan bagian ini, kita akan mengambil *dataset* hasil dari pengirisan data dari nilai ekstrim dan membuat histogram dan boxplot-nya beserta dengan penjelasan mengenai informasi kedua grafiknya terhadap grafik usia kendaraan yang mengandung nilai ekstrim."
   ]
  },
  {
   "cell_type": "code",
   "execution_count": 101,
   "metadata": {},
   "outputs": [
    {
     "data": {
      "image/png": "[encoded data removed]",
      "text/plain": [
       "<Figure size 432x288 with 1 Axes>"
      ]
     },
     "metadata": {
      "needs_background": "light"
     },
     "output_type": "display_data"
    }
   ],
   "source": [
    "# Menampilkan histogram kolom `car_age` setelah dihapus nilai ekstrimnya\n",
    "new_df_3.hist('car_age', bins=20)\n",
    "plt.show()"
   ]
  },
  {
   "cell_type": "markdown",
   "metadata": {},
   "source": [
    "Dari grafik histogram yang telah dihapus nilai *outlier*-nya, kita dapat melihat beberapa perbedaan yang mencolok. Berikut ini merupakan informasi dari histogram di atas dan perbedaanya dengan histogram sebelumnya:\n",
    "- Grafik histogram saat ini terlihat **lebih mudah dan sederhana ketika dibaca** dibandingkan dengan histogram sebelumnya serta seluruh batang tersebar secara merata\n",
    "- Banyak kendaraan yang berusia 8 tahun dengan frekuensi sebanyak hampir 4000 kendaraan\n",
    "- Dalam grafik sebelumnya kita melihat bahwa *grid* sumbu X mencapai hingga 100 tahun. Setelah dihapus nilai ekstrimnya, batas *grid* telah berubah menjadi kurang dari 25 tahun. Itu berarti kita telah menghapus banyak nilai ekstrim, dan\n",
    "- Kualitas data dalam kolom `car_age` ini menjadi **jauh lebih baik**."
   ]
  },
  {
   "cell_type": "code",
   "execution_count": 102,
   "metadata": {},
   "outputs": [
    {
     "data": {
      "image/png": "[encoded data removed]",
      "text/plain": [
       "<Figure size 432x288 with 1 Axes>"
      ]
     },
     "metadata": {
      "needs_background": "light"
     },
     "output_type": "display_data"
    }
   ],
   "source": [
    "# Menampilkan outlier kolom `car_age` setelah dihapus nilai ekstrimnya\n",
    "new_df_3.boxplot('car_age')\n",
    "plt.show()"
   ]
  },
  {
   "cell_type": "markdown",
   "metadata": {},
   "source": [
    "Ketika kita menyingkirkan nilai ekstrim, bentuk dari grafik boxplot dapat berubah secara drastis. Contohnya seperti untuk boxplot dari parameter usia kendaraan ini. Berikut beberapa fakta menarik yang kita temukan dari boxplot di atas:\n",
    "- Kabar baik yang kita dapatkan adalah dalam **boxplot di atas tidak terdapat sama sekali nilai ekstrim**. Dibandingkan dengan boxplot sebelumnya yang terdapat nilai terpaut melebihi batas atas, kita **dapat dengan mudah melihat bagian *box* serta batas atas dan bawah dari boxplot** ini\n",
    "- Kita dapat menentukan nilai kuartil atas dan kuartil bawahnya dengan mudah, dan\n",
    "- Nilai mediannya terlihat di sekitar angka 8 dan hanya berubah sedikit saja."
   ]
  },
  {
   "cell_type": "markdown",
   "metadata": {},
   "source": [
    "### Membandingkan Parameter Jarak Tempuh Kendaraan dari Kedua *Dataset* yang Berbeda"
   ]
  },
  {
   "cell_type": "markdown",
   "metadata": {},
   "source": [
    "Parameter terakhir yang akan kita pelajari dan bandingkan yaitu parameter yang berbicara mengenai jarak tempuh kendaraan. Serupa dengan kedua bagian pengerjaan sebelumnya, kita akan terlebih dahulu menampilkan dan menjelaskan grafik histogram dan boxplot pada kolom `odometer` menggunakan *dataset* yang mengandung nilai *outlier* pada kolom tersebut."
   ]
  },
  {
   "cell_type": "markdown",
   "metadata": {},
   "source": [
    "**Parameter jarak tempuh kendaraan sebelum dihapus *outlier*-nya**\n",
    "\n",
    "Pengerjaan pertama dalam bagian ini adalah dengan cara menampilkan histogram dan boxplot dari *dataset* yang memiliki nilai ekstrim dalam kolom `odometer`. Berikut ini merupakan grafik beserta penjelasannya."
   ]
  },
  {
   "cell_type": "code",
   "execution_count": 103,
   "metadata": {},
   "outputs": [
    {
     "data": {
      "image/png": "[encoded data removed]",
      "text/plain": [
       "<Figure size 432x288 with 1 Axes>"
      ]
     },
     "metadata": {
      "needs_background": "light"
     },
     "output_type": "display_data"
    }
   ],
   "source": [
    "# Menampilkan histogram kolom `odometer` sebelum dihapus nilai ekstrimnya\n",
    "dataframe.hist('odometer', bins=100)\n",
    "plt.show()"
   ]
  },
  {
   "cell_type": "markdown",
   "metadata": {},
   "source": [
    "Histogram dari kolom `odometer` sudah kita tampilkan kembali dalam bagian ini. Berikut ini adalah penjelasan mengenai permasalahan yang terdapat pada grafik histogram di atas:\n",
    "- Histogram terlihat sedikit menyempit pada bagian kiri grafik sehingga cukup sulit untuk dibaca dengan jelas\n",
    "- Terdapat banyak nilai ekstrim, bahkan ada yang jarak tempuh kendaraannya mencapai 1000000\n",
    "- Setelah jarak tempuh kendaraan lebih dari 400000, kita tidak dapat melihat batangnya karena jumlahnya yang sangat sedikit dan tersebar hingga angka 1000000. Inilah yang menyebabkan batang-batangnya bergeser hingga menghimpit bagian kiri grafik.\n",
    "\n",
    "Kesimpulan keseluruhan dari penjelasan di atas yaitu untuk keterbacaan grafik tidaklah baik. Contohnya jikalau kita ingin mencari nilai puncaknya pada sumbu X, kita harus terlebih dahulu menetapkan suatu rentang sekitar untuk puncak grafiknya."
   ]
  },
  {
   "cell_type": "code",
   "execution_count": 104,
   "metadata": {},
   "outputs": [
    {
     "data": {
      "image/png": "[encoded data removed]",
      "text/plain": [
       "<Figure size 432x288 with 1 Axes>"
      ]
     },
     "metadata": {
      "needs_background": "light"
     },
     "output_type": "display_data"
    }
   ],
   "source": [
    "# Menampilkan outlier kolom `odometer` sebelum dihapus nilai ekstrimnya\n",
    "dataframe.boxplot('odometer')\n",
    "plt.show()"
   ]
  },
  {
   "cell_type": "markdown",
   "metadata": {},
   "source": [
    "Boxplot mengenai informasi nilai ekstrim dalam parameter jarak tempuh kendaraan telah disediakan lagi untuk saat ini. Inilah beberapa poin penjelasan mengenai permasalahan dari grafik di atas:\n",
    "- Terdapat beberapa nilai ekstrim jarak tempuh kendaraan yang sangat besar hingga hampir mencapai 1000000 dan ini menyebabkan nilai pada sumbu Y ditampilkan dalam bentuk jutaan\n",
    "- Terlalu banyak nilai *outlier* yang terpaut pada bagian atas setelah batas atas sehingga boxplot di atas tidak dapat dijelaskan dengan mudah\n",
    "- Hasil dari banyaknya nilai ekstrim mendistorsi nilai dalam data pada kolom `odometer` ini.\n",
    "\n",
    "Kesimpulan dari keseluruhan pernyataan di atas adalah untuk boxplot dalam kolom `odometer` saat ini terdapat banyak nilai ekstrim yang membuat boxplot terhimpit di bagian bawah grafik sehingga kita perlu untuk menghapus nilai ekstrimnya."
   ]
  },
  {
   "cell_type": "markdown",
   "metadata": {},
   "source": [
    "**Parameter jarak tempuh kendaraan setelah dihapus *outlier*-nya**\n",
    "\n",
    "Bagian akhir dalam mempelajari dan membandingkan parameter jarak tempuh kendaraan saat ini yaitu dengan cara menampilkan hasil dari penghapusan nilai *outlier* menggunakan histogram dan boxplot. Untuk *dataset*-nya kita gunakan yang baru hasil dari pengirisan data untuk menghilangkan nilai ekstrim dalam parameter ini. Berikut ini merupakan grafik serta penjelasan dari hasil penghapusan nilai *outlier* dalam kolom `odometer`."
   ]
  },
  {
   "cell_type": "code",
   "execution_count": 105,
   "metadata": {},
   "outputs": [
    {
     "data": {
      "image/png": "[encoded data removed]",
      "text/plain": [
       "<Figure size 432x288 with 1 Axes>"
      ]
     },
     "metadata": {
      "needs_background": "light"
     },
     "output_type": "display_data"
    }
   ],
   "source": [
    "# Menampilkan histogram kolom `odometer` setelah dihapus nilai ekstrimnya\n",
    "new_df_3.hist('odometer', bins=50)\n",
    "plt.show()"
   ]
  },
  {
   "cell_type": "markdown",
   "metadata": {},
   "source": [
    "Penghapusan nilai ekstrim berdampak pada hasil histogram dalam kasus ini dan kita bisa melihat perbedaannya. Berikut ini adalah penjelasan mengenai informasi yang dapat kita tarik dari histogram baru di atas:\n",
    "- Histogram sebelumnya terlihat menyempit di bagian kiri dan cukup sulit dibaca, tetapi saat ini **ketika nilai *outlier*-nya sudah disingkirkan kita dapat membacanya dengan baik**\n",
    "- Nilai dari sumbu X atau jarak tempuh kendaraan yang sebelumnya mencapai 1000000, **sekarang ini batasnya hanya menjadi sekitar 250000**. Itu karena kita telah menentukan batas atas *outlier* dan menghapus nilai yang melebihi batas tersebut, dan\n",
    "- Tanpa perlu menentukan rentang untuk memperjelas histogram, kita dapat menentukan kedua puncak menonjol dalam histogram baru di atas."
   ]
  },
  {
   "cell_type": "code",
   "execution_count": 106,
   "metadata": {},
   "outputs": [
    {
     "data": {
      "image/png": "[encoded data removed]",
      "text/plain": [
       "<Figure size 432x288 with 1 Axes>"
      ]
     },
     "metadata": {
      "needs_background": "light"
     },
     "output_type": "display_data"
    }
   ],
   "source": [
    "# Menampilkan outlier kolom `odometer` setelah dihapus nilai ekstrimnya\n",
    "new_df_3.boxplot('odometer')\n",
    "plt.show()"
   ]
  },
  {
   "cell_type": "markdown",
   "metadata": {},
   "source": [
    "Nilai ekstrim yang telah dihapus juga berdampak kepada hasil dari boxplot yang berbeda dengan sebelumnya. Walaupun dalam boxplot di atas masih terdapat sedikit *outlier*, berikut ini adalah penjelasan mengenai temuan kita saat ini:\n",
    "- Boxplot baru di atas **lebih baik tampilan dan keterbacaannya**, kerena kita dapat dengan mudah menentukan beberapa komponen boxplot seperti kuartil atas, kuartil bawah, median, dan batas atasnya\n",
    "- Nilai dari sumbu Y sebelumnya mencapai 1000000, tetapi sekarang sama seperti histogram di atas yaitu hanya mencapai 250000\n",
    "- Berbeda dengan boxplot sebelum dihapus nilai ekstrimnya, kita melihat dengan pasti bahwa **tidak ada lagi nilai ektrim untuk kolom ini**\n",
    "- Walaupun banyak nilai yang terhapus, kita dapat melihat untuk **nilai mediannya masih tetap di atas 100000** dan hanya berubah sedikit.\n",
    "\n",
    "Pada akhirnya kita dapat menyelesaikan pengerjaan proyek untuk tahapan membandingkan parameter yang berisi nilai ekstrim dengan yang sudah dihapus nilai ekstrimnya. Kita pula dapat menyimpulkan bahwa penghapusan nilai *outlier* dapat meningkatkan keterbacaan grafik menjadi lebih baik dan kualitas datanya menjadi lebih baik."
   ]
  },
  {
   "cell_type": "markdown",
   "metadata": {},
   "source": [
    "## Masa Berlaku Iklan "
   ]
  },
  {
   "cell_type": "markdown",
   "metadata": {},
   "source": [
    "Pekerjaan kita saat ini sudah mencapai dalam eksplorasi data mengenai masa berlaku iklan yang dapat dilihat dalam kolom `days_listed`. Dalam bagian eksplorasi saat ini kita akan mencari nilai rata-rata (*mean*) serta mediannya. Tidak hanya itu kita juga memerlukan data mengenai iklan dengan penayangan tercepat dan iklan dengan penayangan yang sangat lama."
   ]
  },
  {
   "cell_type": "code",
   "execution_count": 107,
   "metadata": {},
   "outputs": [
    {
     "data": {
      "text/html": [
       "<div>\n",
       "<style scoped>\n",
       "    .dataframe tbody tr th:only-of-type {\n",
       "        vertical-align: middle;\n",
       "    }\n",
       "\n",
       "    .dataframe tbody tr th {\n",
       "        vertical-align: top;\n",
       "    }\n",
       "\n",
       "    .dataframe thead th {\n",
       "        text-align: right;\n",
       "    }\n",
       "</style>\n",
       "<table border=\"1\" class=\"dataframe\">\n",
       "  <thead>\n",
       "    <tr style=\"text-align: right;\">\n",
       "      <th></th>\n",
       "      <th>price</th>\n",
       "      <th>model_year</th>\n",
       "      <th>model</th>\n",
       "      <th>condition</th>\n",
       "      <th>cylinders</th>\n",
       "      <th>fuel</th>\n",
       "      <th>odometer</th>\n",
       "      <th>transmission</th>\n",
       "      <th>type</th>\n",
       "      <th>paint_color</th>\n",
       "      <th>is_4wd</th>\n",
       "      <th>date_posted</th>\n",
       "      <th>days_listed</th>\n",
       "      <th>year_posted</th>\n",
       "      <th>month_posted</th>\n",
       "      <th>week_posted</th>\n",
       "      <th>car_age</th>\n",
       "      <th>average_odometer</th>\n",
       "      <th>condition_metric</th>\n",
       "    </tr>\n",
       "  </thead>\n",
       "  <tbody>\n",
       "    <tr>\n",
       "      <th>0</th>\n",
       "      <td>9400.0</td>\n",
       "      <td>2011</td>\n",
       "      <td>bmw x5</td>\n",
       "      <td>good</td>\n",
       "      <td>6</td>\n",
       "      <td>gas</td>\n",
       "      <td>145000.0</td>\n",
       "      <td>automatic</td>\n",
       "      <td>SUV</td>\n",
       "      <td>unknown</td>\n",
       "      <td>True</td>\n",
       "      <td>2018-06-23</td>\n",
       "      <td>19</td>\n",
       "      <td>2018</td>\n",
       "      <td>6</td>\n",
       "      <td>5</td>\n",
       "      <td>8</td>\n",
       "      <td>18125.000000</td>\n",
       "      <td>2</td>\n",
       "    </tr>\n",
       "    <tr>\n",
       "      <th>1</th>\n",
       "      <td>25500.0</td>\n",
       "      <td>2011</td>\n",
       "      <td>ford f-150</td>\n",
       "      <td>good</td>\n",
       "      <td>6</td>\n",
       "      <td>gas</td>\n",
       "      <td>88705.0</td>\n",
       "      <td>automatic</td>\n",
       "      <td>pickup</td>\n",
       "      <td>white</td>\n",
       "      <td>True</td>\n",
       "      <td>2018-10-19</td>\n",
       "      <td>50</td>\n",
       "      <td>2018</td>\n",
       "      <td>10</td>\n",
       "      <td>4</td>\n",
       "      <td>8</td>\n",
       "      <td>11088.125000</td>\n",
       "      <td>2</td>\n",
       "    </tr>\n",
       "    <tr>\n",
       "      <th>2</th>\n",
       "      <td>5500.0</td>\n",
       "      <td>2013</td>\n",
       "      <td>hyundai sonata</td>\n",
       "      <td>like new</td>\n",
       "      <td>4</td>\n",
       "      <td>gas</td>\n",
       "      <td>110000.0</td>\n",
       "      <td>automatic</td>\n",
       "      <td>sedan</td>\n",
       "      <td>red</td>\n",
       "      <td>False</td>\n",
       "      <td>2019-02-07</td>\n",
       "      <td>79</td>\n",
       "      <td>2019</td>\n",
       "      <td>2</td>\n",
       "      <td>3</td>\n",
       "      <td>7</td>\n",
       "      <td>15714.285714</td>\n",
       "      <td>4</td>\n",
       "    </tr>\n",
       "    <tr>\n",
       "      <th>3</th>\n",
       "      <td>1500.0</td>\n",
       "      <td>2003</td>\n",
       "      <td>ford f-150</td>\n",
       "      <td>fair</td>\n",
       "      <td>8</td>\n",
       "      <td>gas</td>\n",
       "      <td>181613.0</td>\n",
       "      <td>automatic</td>\n",
       "      <td>pickup</td>\n",
       "      <td>unknown</td>\n",
       "      <td>False</td>\n",
       "      <td>2019-03-22</td>\n",
       "      <td>9</td>\n",
       "      <td>2019</td>\n",
       "      <td>3</td>\n",
       "      <td>4</td>\n",
       "      <td>17</td>\n",
       "      <td>10683.117647</td>\n",
       "      <td>1</td>\n",
       "    </tr>\n",
       "    <tr>\n",
       "      <th>4</th>\n",
       "      <td>14900.0</td>\n",
       "      <td>2017</td>\n",
       "      <td>chrysler 200</td>\n",
       "      <td>excellent</td>\n",
       "      <td>4</td>\n",
       "      <td>gas</td>\n",
       "      <td>80903.0</td>\n",
       "      <td>automatic</td>\n",
       "      <td>sedan</td>\n",
       "      <td>black</td>\n",
       "      <td>False</td>\n",
       "      <td>2019-04-02</td>\n",
       "      <td>28</td>\n",
       "      <td>2019</td>\n",
       "      <td>4</td>\n",
       "      <td>1</td>\n",
       "      <td>3</td>\n",
       "      <td>26967.666667</td>\n",
       "      <td>3</td>\n",
       "    </tr>\n",
       "  </tbody>\n",
       "</table>\n",
       "</div>"
      ],
      "text/plain": [
       "     price  model_year           model  condition  cylinders fuel  odometer  \\\n",
       "0   9400.0        2011          bmw x5       good          6  gas  145000.0   \n",
       "1  25500.0        2011      ford f-150       good          6  gas   88705.0   \n",
       "2   5500.0        2013  hyundai sonata   like new          4  gas  110000.0   \n",
       "3   1500.0        2003      ford f-150       fair          8  gas  181613.0   \n",
       "4  14900.0        2017    chrysler 200  excellent          4  gas   80903.0   \n",
       "\n",
       "  transmission    type paint_color  is_4wd date_posted  days_listed  \\\n",
       "0    automatic     SUV     unknown    True  2018-06-23           19   \n",
       "1    automatic  pickup       white    True  2018-10-19           50   \n",
       "2    automatic   sedan         red   False  2019-02-07           79   \n",
       "3    automatic  pickup     unknown   False  2019-03-22            9   \n",
       "4    automatic   sedan       black   False  2019-04-02           28   \n",
       "\n",
       "   year_posted  month_posted  week_posted  car_age  average_odometer  \\\n",
       "0         2018             6            5        8      18125.000000   \n",
       "1         2018            10            4        8      11088.125000   \n",
       "2         2019             2            3        7      15714.285714   \n",
       "3         2019             3            4       17      10683.117647   \n",
       "4         2019             4            1        3      26967.666667   \n",
       "\n",
       "   condition_metric  \n",
       "0                 2  \n",
       "1                 2  \n",
       "2                 4  \n",
       "3                 1  \n",
       "4                 3  "
      ]
     },
     "execution_count": 107,
     "metadata": {},
     "output_type": "execute_result"
    }
   ],
   "source": [
    "# Tampilan data dari dataset baru\n",
    "new_df_3.head()"
   ]
  },
  {
   "cell_type": "markdown",
   "metadata": {},
   "source": [
    "Untuk pengerjaan bagian ini dan seterusnya kita tidak lupa untuk memberitahukan bahwa *dataset* yang akan kita gunakan merupakan *dataset* baru dari hasil akhir pengirisan data untuk menghilangkan nilai ekstrim. Kita dapat memulai eksplorasi untuk menjawab 4 pertanyaan sebelumnya dengan mudah menggunakan metode `.describe()` terhadap kolom `days_listed`."
   ]
  },
  {
   "cell_type": "code",
   "execution_count": 108,
   "metadata": {},
   "outputs": [
    {
     "data": {
      "text/html": [
       "<div>\n",
       "<style scoped>\n",
       "    .dataframe tbody tr th:only-of-type {\n",
       "        vertical-align: middle;\n",
       "    }\n",
       "\n",
       "    .dataframe tbody tr th {\n",
       "        vertical-align: top;\n",
       "    }\n",
       "\n",
       "    .dataframe thead th {\n",
       "        text-align: right;\n",
       "    }\n",
       "</style>\n",
       "<table border=\"1\" class=\"dataframe\">\n",
       "  <thead>\n",
       "    <tr style=\"text-align: right;\">\n",
       "      <th></th>\n",
       "      <th>index</th>\n",
       "      <th>days_listed</th>\n",
       "    </tr>\n",
       "  </thead>\n",
       "  <tbody>\n",
       "    <tr>\n",
       "      <th>0</th>\n",
       "      <td>count</td>\n",
       "      <td>47004.000000</td>\n",
       "    </tr>\n",
       "    <tr>\n",
       "      <th>1</th>\n",
       "      <td>mean</td>\n",
       "      <td>39.550421</td>\n",
       "    </tr>\n",
       "    <tr>\n",
       "      <th>2</th>\n",
       "      <td>std</td>\n",
       "      <td>28.206426</td>\n",
       "    </tr>\n",
       "    <tr>\n",
       "      <th>3</th>\n",
       "      <td>min</td>\n",
       "      <td>0.000000</td>\n",
       "    </tr>\n",
       "    <tr>\n",
       "      <th>4</th>\n",
       "      <td>25%</td>\n",
       "      <td>19.000000</td>\n",
       "    </tr>\n",
       "    <tr>\n",
       "      <th>5</th>\n",
       "      <td>50%</td>\n",
       "      <td>33.000000</td>\n",
       "    </tr>\n",
       "    <tr>\n",
       "      <th>6</th>\n",
       "      <td>75%</td>\n",
       "      <td>53.000000</td>\n",
       "    </tr>\n",
       "    <tr>\n",
       "      <th>7</th>\n",
       "      <td>max</td>\n",
       "      <td>271.000000</td>\n",
       "    </tr>\n",
       "  </tbody>\n",
       "</table>\n",
       "</div>"
      ],
      "text/plain": [
       "   index   days_listed\n",
       "0  count  47004.000000\n",
       "1   mean     39.550421\n",
       "2    std     28.206426\n",
       "3    min      0.000000\n",
       "4    25%     19.000000\n",
       "5    50%     33.000000\n",
       "6    75%     53.000000\n",
       "7    max    271.000000"
      ]
     },
     "execution_count": 108,
     "metadata": {},
     "output_type": "execute_result"
    }
   ],
   "source": [
    "# Menampilkan statistik deskriptif dari kolom `days_listed`\n",
    "new_df_3['days_listed'].describe().reset_index()"
   ]
  },
  {
   "cell_type": "markdown",
   "metadata": {},
   "source": [
    "Kita sudah dapat menjawab seluruh pertanyaan dalam bagian eksplorasi saat ini hanya dengan melihat tabel di atas. Dengan mengunakan nilai rata-rata (*mean*), kita dapat menjelaskan bahwa **nilai rata-rata dari masa iklan ditayangkan adalah sekitar 39.5 hari atau 40 hari** lamanya. Sedangkan untuk **nilai mediannya berada tepat pada waktu selama 33 hari**. Kita dapat melihat adanya perbedaan yang cukup besar antara nilai *mean* dengan *median*. Jikalau kita menggunakan median untuk menjelaskannya, maka secara umum suatu kendaraan diiklankan selama 33 hari lamanya.\n",
    "\n",
    "**Pertanyaan: Lalu kapan suatu iklan dianggap terlalu cepat dan terlalu lama masa penayangannya?**\n",
    "- Berdasarkan tabel yang telah disajikan, kita dapat menentukan untuk **iklan yang ditayangkan dengan cepat hanya bertahan selama 0 hari**. Apa maksud dari angka tersebut? Kita memiliki dua tafsiran untuk menjawab bagian ini. Pertama untuk iklan yang hanya ditayangkan kurang dari 1 hari atau dalam hitungan jam saja **bisa dikarenakan ada kendaraan yang terjual dengan sangat cepat**. Tafsiran lainnya yang kita duga yaitu bisa saja oleh karena suatu hal **iklan tersebut dihapus dalam hari yang sama ketika iklan ditayangkan**\n",
    "- Bagi iklan yang ditayangkan dengan **waktu paling lama dapat kita temukan selama 271 hari**. Hampir satu tahun bukan? Melalui bagian ini kita memiliki praduga bahwa iklan yang masa tayangnya paling lama dikarenakan **kendaraan belum juga terjual hingga berbulan-bulan** sehingga iklannya masih tetap ada. Ini sungguh waktu yang terbilang lama jika kita bandingkan dengan rata-rata masa penayangan kendaraan."
   ]
  },
  {
   "cell_type": "code",
   "execution_count": 109,
   "metadata": {},
   "outputs": [
    {
     "data": {
      "image/png": "[encoded data removed]",
      "text/plain": [
       "<Figure size 432x288 with 1 Axes>"
      ]
     },
     "metadata": {
      "needs_background": "light"
     },
     "output_type": "display_data"
    }
   ],
   "source": [
    "# Menampilkan boxplot dari kolom `days_listed`\n",
    "new_df_3.boxplot('days_listed')\n",
    "plt.show()"
   ]
  },
  {
   "cell_type": "markdown",
   "metadata": {},
   "source": [
    "Pilihan lain dalam eksplorasi saat ini yang dapat kita gunakan adalah dengan menggunakan grafik boxplot. Kita dapat menjawab untuk nilai median, nilai minimum, dan nilai maksimum dari grafik di atas. Kalau kita melihat boxplot dari kolom `days_listed` ini terdapat banyak nilai ekstrim."
   ]
  },
  {
   "cell_type": "markdown",
   "metadata": {},
   "source": [
    "## Harga Rata-Rata Setiap Jenis Kendaraan"
   ]
  },
  {
   "cell_type": "markdown",
   "metadata": {},
   "source": [
    "Eksplorasi data selanjutnya yang akan kita pelajari yaitu mengenai jumlah iklan dan harga rata-rata untuk setiap jenis kendaraan. Tahap pertama yang akan kita lakukan adalah dengan membuat tabel ringkasan mengenai jumlah kendaraan yang diiklankan dengan harga rata-rata berdasarkan jenis kendaraannya. Untuk tahap kedua kita baru bisa membuat sebuah grafik yang menunjukkan ketergantungan jumlah iklan terhadap jenis kendaraan dari tabel ringkasan yang sudah dibuat. Tanpa berlama-lama, mari kita membuat terlebih dahulu tabel ringkasan dalam pengerjaan proyek bagian ini menggunakan *pivot table*."
   ]
  },
  {
   "cell_type": "code",
   "execution_count": 110,
   "metadata": {},
   "outputs": [],
   "source": [
    "# Membuat tabel ringkasan mengenai jumlah kendaraan dengan harga rata-rata berdasarkan jenis kendaraannya\n",
    "pivot_type = new_df_3.pivot_table(index='type', values='price', aggfunc=['mean', 'count'])"
   ]
  },
  {
   "cell_type": "markdown",
   "metadata": {},
   "source": [
    "*Pivot table* mengenai ringkasan jumlah iklan dan harga rata-rata setiap jenis kendaraan sudah kita buat dan berhasil disimpan dalam variabel baru bernama `pivot_type`. Bagaimana ya kira-kira gambaran dari *pivot table* kita sekarang ini? Apakah hasilnya sesuai dengan yang kita harapkan? Mari kita lihat jawabannya dengan meneruskan pekerjaan kita saat ini."
   ]
  },
  {
   "cell_type": "code",
   "execution_count": 111,
   "metadata": {},
   "outputs": [
    {
     "data": {
      "text/html": [
       "<div>\n",
       "<style scoped>\n",
       "    .dataframe tbody tr th:only-of-type {\n",
       "        vertical-align: middle;\n",
       "    }\n",
       "\n",
       "    .dataframe tbody tr th {\n",
       "        vertical-align: top;\n",
       "    }\n",
       "\n",
       "    .dataframe thead tr th {\n",
       "        text-align: left;\n",
       "    }\n",
       "\n",
       "    .dataframe thead tr:last-of-type th {\n",
       "        text-align: right;\n",
       "    }\n",
       "</style>\n",
       "<table border=\"1\" class=\"dataframe\">\n",
       "  <thead>\n",
       "    <tr>\n",
       "      <th></th>\n",
       "      <th>mean</th>\n",
       "      <th>count</th>\n",
       "    </tr>\n",
       "    <tr>\n",
       "      <th></th>\n",
       "      <th>price</th>\n",
       "      <th>price</th>\n",
       "    </tr>\n",
       "    <tr>\n",
       "      <th>type</th>\n",
       "      <th></th>\n",
       "      <th></th>\n",
       "    </tr>\n",
       "  </thead>\n",
       "  <tbody>\n",
       "    <tr>\n",
       "      <th>SUV</th>\n",
       "      <td>10381.558502</td>\n",
       "      <td>11615</td>\n",
       "    </tr>\n",
       "    <tr>\n",
       "      <th>bus</th>\n",
       "      <td>19959.166667</td>\n",
       "      <td>18</td>\n",
       "    </tr>\n",
       "    <tr>\n",
       "      <th>convertible</th>\n",
       "      <td>12947.844037</td>\n",
       "      <td>327</td>\n",
       "    </tr>\n",
       "    <tr>\n",
       "      <th>coupe</th>\n",
       "      <td>13657.162589</td>\n",
       "      <td>1962</td>\n",
       "    </tr>\n",
       "    <tr>\n",
       "      <th>hatchback</th>\n",
       "      <td>6851.742515</td>\n",
       "      <td>1002</td>\n",
       "    </tr>\n",
       "    <tr>\n",
       "      <th>mini-van</th>\n",
       "      <td>8087.836717</td>\n",
       "      <td>1133</td>\n",
       "    </tr>\n",
       "    <tr>\n",
       "      <th>offroad</th>\n",
       "      <td>14648.933735</td>\n",
       "      <td>166</td>\n",
       "    </tr>\n",
       "    <tr>\n",
       "      <th>other</th>\n",
       "      <td>10631.839130</td>\n",
       "      <td>230</td>\n",
       "    </tr>\n",
       "    <tr>\n",
       "      <th>pickup</th>\n",
       "      <td>14937.483529</td>\n",
       "      <td>5950</td>\n",
       "    </tr>\n",
       "    <tr>\n",
       "      <th>sedan</th>\n",
       "      <td>7008.834761</td>\n",
       "      <td>11910</td>\n",
       "    </tr>\n",
       "    <tr>\n",
       "      <th>truck</th>\n",
       "      <td>15033.058376</td>\n",
       "      <td>10638</td>\n",
       "    </tr>\n",
       "    <tr>\n",
       "      <th>van</th>\n",
       "      <td>8910.660870</td>\n",
       "      <td>575</td>\n",
       "    </tr>\n",
       "    <tr>\n",
       "      <th>wagon</th>\n",
       "      <td>9052.787551</td>\n",
       "      <td>1478</td>\n",
       "    </tr>\n",
       "  </tbody>\n",
       "</table>\n",
       "</div>"
      ],
      "text/plain": [
       "                     mean  count\n",
       "                    price  price\n",
       "type                            \n",
       "SUV          10381.558502  11615\n",
       "bus          19959.166667     18\n",
       "convertible  12947.844037    327\n",
       "coupe        13657.162589   1962\n",
       "hatchback     6851.742515   1002\n",
       "mini-van      8087.836717   1133\n",
       "offroad      14648.933735    166\n",
       "other        10631.839130    230\n",
       "pickup       14937.483529   5950\n",
       "sedan         7008.834761  11910\n",
       "truck        15033.058376  10638\n",
       "van           8910.660870    575\n",
       "wagon         9052.787551   1478"
      ]
     },
     "execution_count": 111,
     "metadata": {},
     "output_type": "execute_result"
    }
   ],
   "source": [
    "# Menampilkan pivot table mengenai ringkasan yang telah kita buat sebelumnya\n",
    "pivot_type"
   ]
  },
  {
   "cell_type": "markdown",
   "metadata": {},
   "source": [
    "Ternyata untuk kolom dan indeks dari tabel kita sudah benar! Untuk harga rata-rata dan jumlah iklan setiap kendaraan diringkas berdasarkan tipe kendaraannya sebagai indeks dalam tabel di atas. Tetapi bisakah kita membacanya dengan jelas? Bagaimana dengan judul kolomnya juga, terlihat sedikit memusingkan bukan?\n",
    "- Dilihat dari judul tabel hasil *pivot table* di atas, terlihat **memiliki judul bertingkat pada kedua kolomnya**. Sehingga kita cukup bingung untuk mengartikan isi dari setiap kolomnya. Ini dinamakan sebagai *multi-index* yakni struktur pengindeksan hierarkis yang kita jumpai ketika indeks berisi daftar nilai, bukan satu nilai saja. Ini disebabkan karena kita menempatkan dua nilai aggregat (*mean* dan *count*) dalam ringkasan tabel di atas sehingga nama dari aggregatnya juga ikut disertakan sebagai judul kolom. Langkah yang akan kita lakukan adalah dengan **menamai ulang judul kolom bertingkat dalam *pivot table* kita menggunakan atribut `.columns`**.\n",
    "- Dari isi tabelnya sebenarnya sudah benar, tetapi salah satu tujuan analisis kita saat ini yaitu untuk mencari dua jenis kendaraan dengan jumlah iklan paling banyak. Jumlah iklan di sini maksudnya jumlah kendaraan dari setiap jenis kendaraan yang paling banyak diiklankan. Kalau kita lihat dalam bagian kolom count, **urutannya masih acak dan kita cukup kesulitan dalam menemukan dua jenis kendaraan yang unggul**. Dari permasalahan tersebut, kita akan **melakukan pengurutan nilai dalam kolom jumlah kendaraan (count)** setelah nama kolomnya dirubah."
   ]
  },
  {
   "cell_type": "code",
   "execution_count": 112,
   "metadata": {},
   "outputs": [],
   "source": [
    "# Mengubah nama kolom pivot table menjadi lebih baik\n",
    "pivot_type.columns = ['average_price', 'count_type']"
   ]
  },
  {
   "cell_type": "markdown",
   "metadata": {},
   "source": [
    "Mengenai permasalahan pertama yang muncul dalam *pivot tabel*, kita sudah menyingkirkan nama kolom bertingkat dengan cara menamai kembali setiap kolomnya menggunakan bantuan `.columns()`. Untuk kolom yang menampung harga rata-rata setiap jenis kendaraan kita telah menamainya dengan `average_price` dan untuk kolom yang berisikan jumlah kendaraan pada setiap jenisnya telah dirubah menjadi `count_type`. Kerja yang bagus! Mari kita lihat hasil penamaan kolom setelah kita menangani permasalahan kedua dalam *pivot table* kita."
   ]
  },
  {
   "cell_type": "code",
   "execution_count": 113,
   "metadata": {},
   "outputs": [
    {
     "data": {
      "text/html": [
       "<div>\n",
       "<style scoped>\n",
       "    .dataframe tbody tr th:only-of-type {\n",
       "        vertical-align: middle;\n",
       "    }\n",
       "\n",
       "    .dataframe tbody tr th {\n",
       "        vertical-align: top;\n",
       "    }\n",
       "\n",
       "    .dataframe thead th {\n",
       "        text-align: right;\n",
       "    }\n",
       "</style>\n",
       "<table border=\"1\" class=\"dataframe\">\n",
       "  <thead>\n",
       "    <tr style=\"text-align: right;\">\n",
       "      <th></th>\n",
       "      <th>average_price</th>\n",
       "      <th>count_type</th>\n",
       "    </tr>\n",
       "    <tr>\n",
       "      <th>type</th>\n",
       "      <th></th>\n",
       "      <th></th>\n",
       "    </tr>\n",
       "  </thead>\n",
       "  <tbody>\n",
       "    <tr>\n",
       "      <th>sedan</th>\n",
       "      <td>7008.834761</td>\n",
       "      <td>11910</td>\n",
       "    </tr>\n",
       "    <tr>\n",
       "      <th>SUV</th>\n",
       "      <td>10381.558502</td>\n",
       "      <td>11615</td>\n",
       "    </tr>\n",
       "    <tr>\n",
       "      <th>truck</th>\n",
       "      <td>15033.058376</td>\n",
       "      <td>10638</td>\n",
       "    </tr>\n",
       "    <tr>\n",
       "      <th>pickup</th>\n",
       "      <td>14937.483529</td>\n",
       "      <td>5950</td>\n",
       "    </tr>\n",
       "    <tr>\n",
       "      <th>coupe</th>\n",
       "      <td>13657.162589</td>\n",
       "      <td>1962</td>\n",
       "    </tr>\n",
       "    <tr>\n",
       "      <th>wagon</th>\n",
       "      <td>9052.787551</td>\n",
       "      <td>1478</td>\n",
       "    </tr>\n",
       "    <tr>\n",
       "      <th>mini-van</th>\n",
       "      <td>8087.836717</td>\n",
       "      <td>1133</td>\n",
       "    </tr>\n",
       "    <tr>\n",
       "      <th>hatchback</th>\n",
       "      <td>6851.742515</td>\n",
       "      <td>1002</td>\n",
       "    </tr>\n",
       "    <tr>\n",
       "      <th>van</th>\n",
       "      <td>8910.660870</td>\n",
       "      <td>575</td>\n",
       "    </tr>\n",
       "    <tr>\n",
       "      <th>convertible</th>\n",
       "      <td>12947.844037</td>\n",
       "      <td>327</td>\n",
       "    </tr>\n",
       "    <tr>\n",
       "      <th>other</th>\n",
       "      <td>10631.839130</td>\n",
       "      <td>230</td>\n",
       "    </tr>\n",
       "    <tr>\n",
       "      <th>offroad</th>\n",
       "      <td>14648.933735</td>\n",
       "      <td>166</td>\n",
       "    </tr>\n",
       "    <tr>\n",
       "      <th>bus</th>\n",
       "      <td>19959.166667</td>\n",
       "      <td>18</td>\n",
       "    </tr>\n",
       "  </tbody>\n",
       "</table>\n",
       "</div>"
      ],
      "text/plain": [
       "             average_price  count_type\n",
       "type                                  \n",
       "sedan          7008.834761       11910\n",
       "SUV           10381.558502       11615\n",
       "truck         15033.058376       10638\n",
       "pickup        14937.483529        5950\n",
       "coupe         13657.162589        1962\n",
       "wagon          9052.787551        1478\n",
       "mini-van       8087.836717        1133\n",
       "hatchback      6851.742515        1002\n",
       "van            8910.660870         575\n",
       "convertible   12947.844037         327\n",
       "other         10631.839130         230\n",
       "offroad       14648.933735         166\n",
       "bus           19959.166667          18"
      ]
     },
     "execution_count": 113,
     "metadata": {},
     "output_type": "execute_result"
    }
   ],
   "source": [
    "# Mengurutkan pivot table berdasarkan jumlah kendaraan pada setiap jenisnya\n",
    "new_pivot_type = pivot_type.sort_values(by='count_type', ascending=False)\n",
    "# Menampilkan kembali pivot table-nya\n",
    "new_pivot_type"
   ]
  },
  {
   "cell_type": "markdown",
   "metadata": {},
   "source": [
    "Untuk permasalahan kedua dalam *pivot table* kita sudah selesai dibenahi. Kita hanya perlu untuk mengurutkan nilai dalam salah satu kolom yang sudah dinamai kembali, yaitu `count_type` atau jumlah kendaraan pada setiap jenisnya. Kolom `count_type` diteruskan ke dalam metode `.sort_values()` dengan urutan nilainya dari yang terbesar hingga terkecil. Pada akhirnya untuk masalah yang muncul dalam *pivot table* kita sudah tuntas diperbaiki!\n",
    "\n",
    "Kita telah mendapatkan dua jenis kendaraan yang paling banyak diiklankan, yaitu dari jenis kendaraan **sedan dan SUV** dengan masing-masing jumlah kendaraannya yaitu 11910 dan 11615. Dalam pengerjaan proyek bagian ini kita tidak hanya dituntut untuk membuat ringkasan tabelnya saja, tetapi hal penting yang harus kita lakukan yaitu dengan membuat grafik ketergantungan jumlah iklan pada jenis kendaraan dari *pivot table* yang sudah tersedia."
   ]
  },
  {
   "cell_type": "code",
   "execution_count": 114,
   "metadata": {},
   "outputs": [
    {
     "data": {
      "image/png": "[encoded data removed]",
      "text/plain": [
       "<Figure size 1008x576 with 1 Axes>"
      ]
     },
     "metadata": {
      "needs_background": "light"
     },
     "output_type": "display_data"
    }
   ],
   "source": [
    "# Membuat grafik yang menunjukkan ketergantungan jumlah iklan pada jenis kendaraan\n",
    "new_pivot_type.plot(kind='bar', grid=True, figsize=(14, 8))\n",
    "plt.ylabel('Average Price per Type')\n",
    "plt.xlabel('Type')\n",
    "plt.show()"
   ]
  },
  {
   "cell_type": "markdown",
   "metadata": {},
   "source": [
    "Grafik sudah berhasil ditampilkan menggunakan data dari *pivot table* sebelumnya. Untuk grafik ini kita membuatnya menggunakan diagram batang dengan dua nilai pada setiap jenis kendaraannya, yaitu harga rata-rata kendaraan dan jumlah kendaraan pada setiap jenisnya. Perlu untuk diketahui bahwa untuk harga rata-rata kendaraan memiliki batang berwarna biru, sedangkan jumlah kendaraan pada setiap jenisnya memiliki batang berwarna oranye (dapat dilihat dalam *legend* pada bagian atas kiri grafik). Berikut ini merupakan kesimpulan dari hasil grafik batang yang sudah tersedia.\n",
    "\n",
    "**Kesimpulan mengenai grafik**\n",
    "\n",
    "Kita telah menemukan dua jenis kendaraan yang paling banyak diiklankan yaitu sedan dan SUV. Berikut ini merupakan penjelasan dari pernyataan kita sebelumnya:\n",
    "- Jenis kendaraan sedan menduduki peringkat pertama dengan jenis kendaraan paling banyak iklannya. Kita bisa melihat secara jelas bahwa untuk **jumlah kendaraan dari jenis kendaraan ini sebanyak 11910 dan dengan harga rata-ratanya sebesar 7009**. Apa hubungannya dengan kedua pernyataan sebelumnya? Kita dapat menyatakan dari grafik di atas bahwa untuk jenis kendaraan sedan ini **harganya tergolong paling murah dengan jenis kendaraan lain sehingga untuk jumlah kendaraan yang diiklankan pun jumlahnya paling banyak**. Karena kita tahu bahwa harga kendaraan yang lebih murah memiliki peluang besar untuk terjual dengan cepat dan banyak sehingga jenis kendaraan ini semakin banyak juga diiklankan.\n",
    "- Jenis kendaraan SUV menempati peringkat kedua dengan **jumlah kendaraannya sebanyak 11615 dan harga rata-ratanya sebesar 10382**. Sama seperti jenis kendaraan sedan, untuk kendaraan berjenis SUV jikalau kita perhatikan harga rata-ratanya juga tergolong cukup murah. Kita juga dapat beranggapan bahwa jenis kendaraan ini banyak diiklankan karena tergolong jenis kendaraan favorit.\n",
    "- Bagaimana dengan jenis kendaraan bus? Berbeda dengan jenis kendaraan yang paling banyak iklannya, untuk jenis kendaraan ini kalau diperhatikan **harga rata-ratanya sangat tinggi dibandingkan dengan seluruh jenis kendaraan**. Jumlah harganya yaitu sebesar **19959.16**. Kita beranggapan harga rata-rata dari jenis kendaraan ini paling tinggi karena untuk kendaraan jenis bus memiliki ukuran dan suspensi yang besar. Karena harganya yang tergolong mahal maka hanya sedikit saja yang mau mengiklankan jenis kendaraan ini, yaitu sebanyak **18 kendaraan**."
   ]
  },
  {
   "cell_type": "markdown",
   "metadata": {},
   "source": [
    "## Faktor Harga"
   ]
  },
  {
   "cell_type": "markdown",
   "metadata": {},
   "source": [
    "Pengerjaan bagian proyek sekarang ini adalah dengan menentukan faktor-faktor yang paling memengaruhi harga kendaraan dan menjadi bagian akhir dari pengerjaan proyek saat ini. Kegiatan yang akan kita lakukan yaitu dengan mencari korelasi antara harga kendaraan dengan beberapa parameter tertentu yang terdapat dalam *dataset*. Berikut ini merupakan parameter yang akan kita selidiki:\n",
    "- Usia kendaraan (berdasarkan kolom `car_age`)\n",
    "- Jarak tempuh kendaraan (berdasarkan kolom `odometer`)\n",
    "- Kondisi kendaraan (berdasarkan kolom `condition_metric`)\n",
    "- Tipe transmisi kendaraan (dari kolom `transmission`), dan\n",
    "- Warna kendaraan (dari kolom `paint_color`).\n",
    "\n",
    "Untuk mencari faktor yang paling memengaruhi harga kendaraan saat ini, kita akan mengambilnya berdasarkan dua jenis kendaraan populer dari hasil analisis kita pada tahapan sebelumnya. Itu berarti kita akan melakukan dua analisis berbeda pada masing-masing jenis kendaraan populer. Kita beritahu kembali, untuk dua jenis kendaraan populernya adalah sedan dan SUV. Perlu untuk diberitahu, untuk mencari korelasi terhadap faktor-faktor yang akan kita selidiki nantinya akan menggunakan *scatterplot* khusus untuk kolom numerik dan sisanya untuk kolom kategorik akan kita buat sebuah grafik *boxplot*."
   ]
  },
  {
   "cell_type": "markdown",
   "metadata": {},
   "source": [
    "### Faktor-Faktor yang Memengaruhi Harga Kendaraan Jenis Sedan"
   ]
  },
  {
   "cell_type": "markdown",
   "metadata": {},
   "source": [
    "Saat ini kita akan mencari faktor apa saja yang dapat memengaruhi harga kendaraan dari jenis kendaraan sedan. Hal pertama yang akan kita analisis terlebih dahulu yaitu untuk kolom-kolom yang bersifat numerik dengan menggunakan *scatterplot*. Sebenarnya kita juga dapat menggunakan metode `.corr()` untuk mencari nilai korelasinya, tetapi kita akan tetap menggunakan grafik *scatterplot* sebagai gambarannya. Berikut ini merupakan informasi penting yang telah kita tuliskan saat menafsirkan hasil korelasi pada kolom-kolom numerik selanjutnya (disadur dari dummies.com):\n",
    "- **–1**: memiliki korelasi negatif yang sempurna\n",
    "- **-0.70**: memiliki korelasi kuat negatif\n",
    "- **-0.50**: memiliki korelasi sedang negatif\n",
    "- **-0.30**: memiliki korelasi lemah negatif\n",
    "- **0**: tidak memiliki korelasi\n",
    "- **+0.30**: memiliki korelasi lemah positif\n",
    "- **+0.50**: memiliki korelasi sedang positif\n",
    "- **+0.70**: memiliki korelasi kuat positif\n",
    "- **+1**: memiliki korelasi positif yang sempurna\n",
    "\n",
    "Ingat! Makin dekat koefisiennya dengan -1 atau 1, makin kuat ketergantungannya. Nilai yang mendekati 0 menandakan adanya koneksi yang lemah, sedangkan nilai 0 bisa diartikan bahwa tidak ada koneksi. Hal kedua yang akan kita lakukan adalah membuat *boxplot* untuk kolom-kolom yang sifatnya kategorik dengan syarat setidaknya setiap kategori dalam suatu kolom memiliki 50 iklan."
   ]
  },
  {
   "cell_type": "markdown",
   "metadata": {},
   "source": [
    "**Mencari faktor-faktor yang memengaruhi harga kendaraan pada kolom numerik**\n",
    "\n",
    "Kita akan melakukan analisis korelasi pada suatu parameter menggunakan kolom-kolom numerik. Kolom-kolom yang akan kita periksa nilai korelasinya adalah `car_age`, `odometer`, dan `condition_metric`. Mari kita terlebih dahulu menyaring data dalam *dataset* baru kita dengan kondisi jenis kendaraannya hanya sedan saja."
   ]
  },
  {
   "cell_type": "code",
   "execution_count": 115,
   "metadata": {},
   "outputs": [],
   "source": [
    "# Menyaring data yang berisikan jenis kendaraan sedan\n",
    "new_sedan = new_df_3[new_df_3['type'] == 'sedan'].reset_index(drop=True)"
   ]
  },
  {
   "cell_type": "markdown",
   "metadata": {},
   "source": [
    "Sekarang kita sudah memiliki variabel baru yang menampung data dengan jenis kendaraannya hanya sedan. Selanjutnya mari kita mencari nilai korelasi harga kendaraan terhadap kolom-kolom numerik dalam variabel baru tersebut menggunakan atribut `.corr()`."
   ]
  },
  {
   "cell_type": "code",
   "execution_count": 116,
   "metadata": {},
   "outputs": [
    {
     "data": {
      "text/plain": [
       "price               1.000000\n",
       "model_year          0.618469\n",
       "cylinders          -0.045959\n",
       "odometer           -0.517602\n",
       "is_4wd              0.035058\n",
       "days_listed         0.000003\n",
       "year_posted         0.016813\n",
       "month_posted       -0.019037\n",
       "week_posted        -0.005049\n",
       "car_age            -0.615093\n",
       "average_odometer    0.229294\n",
       "condition_metric    0.287719\n",
       "Name: price, dtype: float64"
      ]
     },
     "execution_count": 116,
     "metadata": {},
     "output_type": "execute_result"
    }
   ],
   "source": [
    "# Menampilkan nilai korelasi dalam variabel `new_sedan`\n",
    "new_sedan.corr()['price']"
   ]
  },
  {
   "cell_type": "markdown",
   "metadata": {},
   "source": [
    "Nilai korelasi harga terhadap beberapa kolom sudah dapat dilihat sekarang. Kita sebenarnya dapat menyimpulkan ketiga parameter yang akan kita analisis hanya melalui data di atas. Tetapi kita akan membuat *scatterplot*-nya masing-masing dan menjelaskan arti dari grafik yang disajikan beserta nilainya yang dapat diambil dari nilai korelasi sebelumnya. Mari kita mulai dari kolom `car_age` terlebih dahulu."
   ]
  },
  {
   "cell_type": "code",
   "execution_count": 117,
   "metadata": {},
   "outputs": [
    {
     "data": {
      "image/png": "[encoded data removed]",
      "text/plain": [
       "<Figure size 432x288 with 1 Axes>"
      ]
     },
     "metadata": {
      "needs_background": "light"
     },
     "output_type": "display_data"
    }
   ],
   "source": [
    "# Membuat scatterplot korelasi harga terhadap usia kendaraan untuk jenis kendaraan sedan\n",
    "new_sedan.plot(kind='scatter', x='price', y='car_age', grid=True)\n",
    "plt.show()"
   ]
  },
  {
   "cell_type": "markdown",
   "metadata": {},
   "source": [
    "Berdasarkan sajian grafik di atas kita dapat melihat sebuah pola grafik yang menurun. Kita dapat menyimpulkan bahwa **usia kendaraan memiliki korelasi negatif yang cukup kuat terhadap harga kendaraan**. Ini juga dapat kita lihat dari nilai korelasinya yang cukup tinggi yaitu **-0.615093**. Arti dari grafik di atas adalah **semakin tinggi usia kendaraannya, maka semakin murah juga harga kendaraannya**. Kalimat sebelumnya jelas bahwa usia kendaraan yang sudah termakan oleh usia nilai jualnya akan semakin rendah. Hal ini dapat dibuktikan dengan semakin banyak titik yang berkumpul ke sebelah kiri grafik."
   ]
  },
  {
   "cell_type": "code",
   "execution_count": 118,
   "metadata": {},
   "outputs": [
    {
     "data": {
      "image/png": "[encoded data removed]",
      "text/plain": [
       "<Figure size 432x288 with 1 Axes>"
      ]
     },
     "metadata": {
      "needs_background": "light"
     },
     "output_type": "display_data"
    }
   ],
   "source": [
    "# Membuat scatterplot korelasi harga terhadap jarak tempuh kendaraan untuk jenis kendaraan sedan\n",
    "new_sedan.plot(kind='scatter', x='price', y='odometer', grid=True)\n",
    "plt.show()"
   ]
  },
  {
   "cell_type": "markdown",
   "metadata": {},
   "source": [
    "Grafik di atas menampilkan informasi mengenai hubungan antara harga kendaraan terhadap jarak jenpuh kendaraan. Pola dari kumpulan titik terlihat serupa dengan hubungan antara usia kendaraan dengan harga kendaraan, yaitu cenderung menurun. Arti dari pola tersebut mengindikasikan bahwa **jarak tempuh kendaraan memiliki korelasi negatif yang sedang terhadap harga kendaraan**. Untuk nilai korelasinya menunjukkan pada angka **-0.517602**. Jikalau kita menjelaskannya dalam bentuk kalimat, **semakin tinggi jarak tempuh yang ada pada suatu kendaraan, maka harganya cenderung akan menurun**. Kalau kita melihat kumpulan titiknya cenderung berkumpul ke bagian kiri grafik dan ini sudah cukup menjelaskan bertambahnya nilai dalam sumbu Y mengakibatkan nilai dalam sumbu X berkurang."
   ]
  },
  {
   "cell_type": "code",
   "execution_count": 119,
   "metadata": {},
   "outputs": [
    {
     "data": {
      "image/png": "[encoded data removed]",
      "text/plain": [
       "<Figure size 432x288 with 1 Axes>"
      ]
     },
     "metadata": {
      "needs_background": "light"
     },
     "output_type": "display_data"
    }
   ],
   "source": [
    "# Membuat scatterplot korelasi harga terhadap jarak kondisi kendaraan untuk jenis kendaraan sedan\n",
    "new_sedan.plot(kind='scatter', x='price', y='condition_metric', grid=True)\n",
    "plt.show()"
   ]
  },
  {
   "cell_type": "markdown",
   "metadata": {},
   "source": [
    "*Scatterplot* dari korelasi antara harga kendaraan terhadap jarak kondisi kendaraan sudah dapat dilihat dan diinterpretasikan hasilnya. Dari grafik yang telah disajikan, kita dapat melihat bahwa pola dari *scatterplot*-nya terlihat tidak jelas. Melalui pernyataan sebelumnya kita dapat mengetahui bahwa **kondisi kendaraan memiliki korelasi positif yang lemah terhadap harga kendaraan**. Nilai korelasi yang didapatkan dari kedua hubungan parameter saat ini adalah **0.287719**. Sehingga kita dapat mengartikan bahwa **walaupun harga kendaraannya berubah, tetapi untuk kualitasnya tetap saja sama**."
   ]
  },
  {
   "cell_type": "markdown",
   "metadata": {},
   "source": [
    "**Mencari faktor-faktor yang memengaruhi harga kendaraan pada kolom kategorik**\n",
    "\n",
    "Setelah melakukan analisis korelasi antara harga kendaraan jenis sedan dengan beberapa parameter dalam kolom numerik, selanjutnya kita akan menganalisis korelasi yang sama dengan parameter dalam kolom kategorik. Kolom tersebut adalah `transmission` dan `paint_color`. Berbeda dengan pengerjaan sebelumnya, saat ini kita akan mengukurnya menggunakan *boxplot*. Sebagai informasi, kita perlu memerhatikan bahwa syarat yang sah dalam menganalisis kolom kategorik yaitu setiap kategori dalam satu kolom setidaknya memiliki 50 iklan. Sebelum membuat boxplot-nya kita perlu mencari nilai unik dalam kolom `transmission` terlebih dahulu untuk memeriksa jumlah iklan pada setiap kategorinya."
   ]
  },
  {
   "cell_type": "code",
   "execution_count": 120,
   "metadata": {},
   "outputs": [
    {
     "data": {
      "text/plain": [
       "automatic    11215\n",
       "manual         564\n",
       "other          131\n",
       "Name: transmission, dtype: int64"
      ]
     },
     "execution_count": 120,
     "metadata": {},
     "output_type": "execute_result"
    }
   ],
   "source": [
    "# Mencari nilai unik kolom `transmission` untuk mengecek jumlah iklan pada setiap kategorinya\n",
    "new_sedan['transmission'].value_counts()"
   ]
  },
  {
   "cell_type": "markdown",
   "metadata": {},
   "source": [
    "Hasil dari nilai unik di atas menggambarkan jumlah masing-masing kateogri dalam kolom `transmission`. Dapat diperhatikan bahwa jumlah kendaraan pada masing-masing kategori sudah memenuhi syarat melebihi dari 50. Kalau kita perhatikan transmisi kendaraan *automatic* untuk jenis kendaraan sedan jumlahnya lebih banyak. Mari kita membuat grafik *boxplot* yang menjelaskan hubungan antara harga kendaraan dengan transmisi kendaraan."
   ]
  },
  {
   "cell_type": "code",
   "execution_count": 121,
   "metadata": {},
   "outputs": [
    {
     "data": {
      "image/png": "[encoded data removed]",
      "text/plain": [
       "<Figure size 1008x576 with 1 Axes>"
      ]
     },
     "metadata": {
      "needs_background": "light"
     },
     "output_type": "display_data"
    }
   ],
   "source": [
    "# Membuat boxplot korelasi antara harga kendaraan dengan transmisi untuk jenis kendaraan sedan\n",
    "plt.figure(figsize=(14, 8))\n",
    "sns.boxplot(data=new_sedan, x='price', y='transmission')\n",
    "plt.title('Correlation between Price and Transmission')\n",
    "plt.show()"
   ]
  },
  {
   "cell_type": "markdown",
   "metadata": {},
   "source": [
    "Boxplot mengenai hubungan antara harga kendaraan jenis sedan dengan transmisi kendaraan sudah dapat ditampilkan. Kita mengetahui bahwa untuk ketiga kategori memiliki nilai *outlier* yang melebihi batas atas dari masing-masing *whisker*. Melalui grafik tersebut kita dapat menjelaskan mengenai:\n",
    "- Bagian boxplot dengan transmisi kendaraannya *automatic* untuk jenis kendaraan sedan jikalau dilihat memiliki nilai median harga kendaraannya tertinggi dengan dua transmisi kendaraan lainnya. Hal ini menandakan bahwa untuk jenis kendaraan sedan yang transmisinya *automatic* memiliki harga rata-rata yang lebih mahal\n",
    "- Transmisi kendaraan *manual* untuk jenis kendaraan sedan memiliki ukuran *box* paling kecil dan arti dari pernyataan tersebut adalah sebaran harga dalam transmisi ini tidak terlalu menyebar. Nilai median harga kendaraannya terlihat tepat dibawah harga 5000 dan menjadi transmisi kendaraan kedua yang harga rata-ratanya cukup tinggi\n",
    "- Untuk bagian boxplot dari kendaraan sedan yang transmisinya *other* memiliki nilai median paling rendah yang menandakan  harga kendaraan berjenis sedan untuk transmisi ini harganya lebih murah. Selain itu untuk panjang *box* dengan transmisi kendaraan ini lebih panjang. Hal ini menandakan bahwa untuk harga kendaraan berjenis sedan dengan transmisinya *other* memiliki sebaran harga yang bervariatif."
   ]
  },
  {
   "cell_type": "markdown",
   "metadata": {},
   "source": [
    "Kita sudah selesai menganalisis hubungan antara harga kendaraan dengan transmisinya. Sekarang kita akan lanjut menghubungkannya dengan parameter warna kendaraan menggunakan kolom `paint_color`. Sebelumnya kita akan mengecek terlebih dahulu untuk jumlah distribusi nilai pada setiap kategori dalam kolom tersebut, jikalau jumlahnya ada yang kurang dari 50, seperti yang telah disepakati kita tidak akan memasukkannya dalam analisis nanti."
   ]
  },
  {
   "cell_type": "code",
   "execution_count": 122,
   "metadata": {},
   "outputs": [
    {
     "data": {
      "text/plain": [
       "unknown    2135\n",
       "silver     2017\n",
       "black      1752\n",
       "grey       1604\n",
       "white      1475\n",
       "blue       1212\n",
       "red         929\n",
       "custom      293\n",
       "brown       248\n",
       "green       192\n",
       "purple       23\n",
       "yellow       21\n",
       "orange        9\n",
       "Name: paint_color, dtype: int64"
      ]
     },
     "execution_count": 122,
     "metadata": {},
     "output_type": "execute_result"
    }
   ],
   "source": [
    "# Mencari nilai unik kolom `paint_color` untuk mengecek jumlah iklan pada setiap kategorinya\n",
    "new_sedan['paint_color'].value_counts()"
   ]
  },
  {
   "cell_type": "markdown",
   "metadata": {},
   "source": [
    "Dari hasil distribusi jumlah nilai pada setiap kategori warna kendaraan untuk jenis kendaraan sedan saat ini, kita menemukan sebuah fakta bahwa untuk warna kendaraan ***purple*, *yellow*, dan *orange*** memiliki jumlah iklan paling sedikit, yaitu tepat di bawah 50. Melalui pernyataan sebelumnya mari kita mengecualikan tiga baris akhir dari data di atas menggunakan indeks baris."
   ]
  },
  {
   "cell_type": "code",
   "execution_count": 123,
   "metadata": {},
   "outputs": [
    {
     "data": {
      "text/plain": [
       "unknown    2135\n",
       "silver     2017\n",
       "black      1752\n",
       "grey       1604\n",
       "white      1475\n",
       "blue       1212\n",
       "red         929\n",
       "custom      293\n",
       "brown       248\n",
       "green       192\n",
       "Name: paint_color, dtype: int64"
      ]
     },
     "execution_count": 123,
     "metadata": {},
     "output_type": "execute_result"
    }
   ],
   "source": [
    "# Menghapus warna kendaraan yang jumlah iklannya di bawah 50\n",
    "new_sedan['paint_color'].value_counts()[:-3]"
   ]
  },
  {
   "cell_type": "markdown",
   "metadata": {},
   "source": [
    "Kita sudah berhasil menyingkirkan 3 warna kendaraan untuk jenis kendaraan sedan saat ini menggunakan indeks dengan cara hanya menampilkan seluruh baris tanpa tiga baris terakhir. Selanjutnya mari kita membuat hasil data di atas menjadi sebuah *list* sebelum diiris menggunakan *dataset* `new_sedan` dan menyimpannya dalam variabel baru."
   ]
  },
  {
   "cell_type": "code",
   "execution_count": 124,
   "metadata": {},
   "outputs": [],
   "source": [
    "# Menyimpan hasil temuan kita sebelumnya\n",
    "paint_color_included = list(new_sedan['paint_color'].value_counts()[:-3].index)"
   ]
  },
  {
   "cell_type": "markdown",
   "metadata": {},
   "source": [
    "Kerja yang baik. Sekarang mari kita terapkan hasil pengirisan dalam kondisi sebelumnya ke dalam irisan data baru pada *dataset* `new_sedan`."
   ]
  },
  {
   "cell_type": "code",
   "execution_count": 125,
   "metadata": {},
   "outputs": [],
   "source": [
    "# Mengiris data menggunakan kondisi yang warna kendaraannya sudah dibuang untuk iklan yang jumlahnya di bawah 50\n",
    "new_sedan_color = new_sedan[new_sedan['paint_color'].isin(paint_color_included).reset_index(drop=True)]"
   ]
  },
  {
   "cell_type": "markdown",
   "metadata": {},
   "source": [
    "Kita sudah berhasil menghapus data untuk warna kendaraan yang jumlahnya kurang dari 50 iklan. Tahap selanjutnya yaitu kita perlu untuk membuat grafik *boxplot* untuk menjelaskan hubungan antara harga kendaraan dengan warna kendaraan pada jenis kendaraan sedan."
   ]
  },
  {
   "cell_type": "code",
   "execution_count": 126,
   "metadata": {},
   "outputs": [
    {
     "data": {
      "image/png": "[encoded data removed]",
      "text/plain": [
       "<Figure size 1008x576 with 1 Axes>"
      ]
     },
     "metadata": {
      "needs_background": "light"
     },
     "output_type": "display_data"
    }
   ],
   "source": [
    "# Membuat boxplot antara harga kendaraan dengan warna kendaraan untuk jenis kendaraan sedan\n",
    "plt.figure(figsize=(14, 8))\n",
    "sns.boxplot(data=new_sedan_color, x='price', y='paint_color')\n",
    "plt.title('Correlation between Price and Paint Color')\n",
    "plt.show()"
   ]
  },
  {
   "cell_type": "markdown",
   "metadata": {},
   "source": [
    "Grafik mengenai boxplot yang menjelaskan kedua nilai antara harga kendaraan dengan warna kendaraan untuk jenis kendaraan sedan jika dilihat memiliki 10 *box* dengan gambaran yang berbeda-beda. Berikut ini merupakan penjelasan dari temuan yang telah kita dapatkan:\n",
    "- Dilihat dari nilai mediannya, untuk setiap warna kendaraan memiliki nilai median yang bervariasi dan tampaknya tidak terlalu jauh satu dengan yang lainnya. Hal tersebut mengindikasikan kepada kita bahwa harga rata-rata pada setiap warna kendaraan untuk jenis kendaraan sedan ini jumlahnya hampir sama satu dengan yang lain\n",
    "- Kalau diperhatikan untuk sebaran nilai *outlier* pada setiap *box*-nya tidak begitu jauh satu sama lain. Sehingga harga kendaraan untuk jenis kendaraan sedan tidak dipengaruhi oleh warna kendaraannya\n",
    "- Jikalau kita perhatikan dengan cermat, untuk nilai median dari harga kendaraan yang berwarna hijau (*green*) cenderung lebih rendah. Itu artinya untuk warna kendaraan tersebut memiliki harga yang jauh lebih murah dibandingkan dengan warna mobil yang lain\n",
    "- Untuk nilai median tertinggi mengenai harga rata-rata kendaraan berdasarkan warnanya, hitam (*black*) terlihat unggul dalam hal ini. Berarti untuk kendaraan berwarna hitam dengan jenis kendaraan sedan memiliki harga yang lebih mahal dibandingkan dengan warna lainnya. Hal ini juga disusul oleh warna kendaraan putih (*white*) yang harga rata-ratanya tidak jauh berbeda."
   ]
  },
  {
   "cell_type": "markdown",
   "metadata": {},
   "source": [
    "**Kesimpulan mengenai faktor-faktor yang memengaruhi harga kendaraan jenis sedan**\n",
    "\n",
    "Eksplorasi dan analisis sudah kita lakukan dalam mencari fakta apa saja yang memengaruhi harga kendaraan berjenis sedan. Sejauh ini analisis dilakukan dengan baik, namun untuk bagian pengerjaan saat kita ingin membuat boxplot untuk kolom `paint_color` kita menemukan ada tiga warna kendaraan yang jumlahnya tidak sesuai dengan kriteria analisis sehingga kita memutuskan untuk menyingkirkannya. Berikut ini kesimpulan singkat per poin yang kita dapatkan sejauh ini:\n",
    "- Usia kendaraan memiliki korelasi negatif yang cukup kuat terhadap harga kendaraan (-0.615093)\n",
    "- Jarak tempuh kendaraan memiliki korelasi negatif yang sedang terhadap harga kendaraan (-0.517602)\n",
    "- Kondisi kendaraan memiliki korelasi positif yang lemah terhadap harga kendaraan (0.287719)\n",
    "- Mengenai transmisi kendaraan dengan harga kendaraan kita telah menemukan beberapa hal. Untuk jenis kendaraan sedan yang transmisinya *automatic* memiliki harga rata-rata yang lebih mahal. Bagi transmisi kendaraan unik (*other*) memiliki nilai median paling rendah yang menandakan harga kendaraan berjenis sedan ini harganya lebih murah dan untuk harganya lebih bervariatif\n",
    "- Mengenai warna kendaraan dengan harga kendaraan terdapat beberapa fakta unik. Dari harga rata-rata pada setiap warna kendaraan untuk jenis kendaraan sedan ini jumlahnya hampir sama satu dengan yang lain. Lalu untuk jenis kendaraan ini tidak dipengaruhi oleh warna kendaraannya."
   ]
  },
  {
   "cell_type": "markdown",
   "metadata": {},
   "source": [
    "### Faktor-Faktor yang Memengaruhi Harga Kendaraan Jenis SUV"
   ]
  },
  {
   "cell_type": "markdown",
   "metadata": {},
   "source": [
    "Pekerjaan akhir kita saat ini akan fokus untuk mencari faktor apa saja yang dapat memengaruhi harga kendaraan dari jenis kendaraan SUV. Sama halnya dengan pekerjaan sebelumnya, kita akan menganalisis untuk kolom-kolom yang bersifat numerik dengan menggunakan *scatterplot* terlebih dahulu. Tidak hanya *scatterplot* saja, kita akan menampilkan nilai korelasi dari harga kendaraan terhadap seluruh kolom numerik dalam *dataset*. Agar kita tidak kesulitan dalam menginterpretasikan hasil korelasi, di bawah ini adalah informasi yang telah kita salin kembali untuk menafsirkan hasil korelasi pada kolom-kolom numerik (disadur dari dummies.com):\n",
    "- **–1**: memiliki korelasi negatif yang sempurna\n",
    "- **-0.70**: memiliki korelasi kuat negatif\n",
    "- **-0.50**: memiliki korelasi sedang negatif\n",
    "- **-0.30**: memiliki korelasi lemah negatif\n",
    "- **0**: tidak memiliki korelasi\n",
    "- **+0.30**: memiliki korelasi lemah positif\n",
    "- **+0.50**: memiliki korelasi sedang positif\n",
    "- **+0.70**: memiliki korelasi kuat positif\n",
    "- **+1**: memiliki korelasi positif yang sempurna\n",
    "\n",
    "Ingat! Makin dekat koefisiennya dengan -1 atau 1, makin kuat ketergantungannya. Nilai yang mendekati 0 menandakan adanya koneksi yang lemah, sedangkan nilai 0 bisa diartikan bahwa tidak ada koneksi. Setelah mencari nilai korelasi terhadap kolom-kolom numerik, langkah akhir yang akan kita lakukan nanti adalah membuat boxplot untuk kolom-kolom yang sifatnya kategorik. Ingat, syarat sah setidaknya setiap kategori dalam suatu kolom memiliki 50 iklan."
   ]
  },
  {
   "cell_type": "markdown",
   "metadata": {},
   "source": [
    "**Mencari faktor-faktor yang memengaruhi harga kendaraan pada kolom numerik**\n",
    "\n",
    "Kesempatan pertama saat ini kita akan melihat korelasi pada suatu parameter menggunakan kolom-kolom numerik. Kolom-kolom yang akan kita periksa nilai korelasinya ada `car_age`, `odometer`, dan `condition_metric`. Namun sebelum kita mencari nilai korelasinya, hal wajib yang perlu dilakukan yaitu menyaring data dalam *dataset* `new_df_3` dengan kondisi jenis kendaraannya hanya SUV. Tanpa terlalu lama mari kita kerjakan bagian ini sekarang juga."
   ]
  },
  {
   "cell_type": "code",
   "execution_count": 127,
   "metadata": {},
   "outputs": [],
   "source": [
    "# Menyaring data yang berisikan jenis kendaraan SUV\n",
    "new_suv = new_df_3[new_df_3['type'] == 'SUV'].reset_index(drop=True)"
   ]
  },
  {
   "cell_type": "markdown",
   "metadata": {},
   "source": [
    "Hasil dari penyaringan dengan jenis kendaraan hanya SUV sudah berhasil disaring dan disimpan dalam variabel `new_suv`. Seperti yang sudah dilakukan dan direncanakan sebelumnya, di bawah penjelasan ini kita akan menampilkan nilai korelasi untuk harga kendaraan (`price`) terhadap seluruh kolom numerik dari variabel di atas menggunakan atribut `.corr()`."
   ]
  },
  {
   "cell_type": "code",
   "execution_count": 128,
   "metadata": {},
   "outputs": [
    {
     "data": {
      "text/plain": [
       "price               1.000000\n",
       "model_year          0.573439\n",
       "cylinders          -0.008287\n",
       "odometer           -0.471418\n",
       "is_4wd              0.113479\n",
       "days_listed        -0.014709\n",
       "year_posted        -0.001686\n",
       "month_posted       -0.004332\n",
       "week_posted         0.015811\n",
       "car_age            -0.571569\n",
       "average_odometer    0.211117\n",
       "condition_metric    0.253796\n",
       "Name: price, dtype: float64"
      ]
     },
     "execution_count": 128,
     "metadata": {},
     "output_type": "execute_result"
    }
   ],
   "source": [
    "# Menampilkan nilai korelasi dalam variabel `new_suv`\n",
    "new_suv.corr()['price']"
   ]
  },
  {
   "cell_type": "markdown",
   "metadata": {},
   "source": [
    "Korelasi harga terhadap seluruh kolom numerik terlihat sekarang. Perlu diperhatikan bahwa nilai korelasi yang telah kita temukan saat ini hanya akan digunakan sebagai referensi penjelasan kita saat menjelaskan korelasi harga dengan tiga kolom numerik menggunakan *scatterplot*. Fakta unik dari nilai korelasi di atas, untuk harga kendaraan berjenis SUV terhadap tahun kendaraan diluncurkan (`model_year`) adalah satu-satunya parameter yang memiliki nilai korelasi positif paling unggul. Kita akan menemukan korelasi harga kendaraan dengan usia kendaraan sesaat lagi."
   ]
  },
  {
   "cell_type": "code",
   "execution_count": 129,
   "metadata": {},
   "outputs": [
    {
     "data": {
      "image/png": "[encoded data removed]",
      "text/plain": [
       "<Figure size 432x288 with 1 Axes>"
      ]
     },
     "metadata": {
      "needs_background": "light"
     },
     "output_type": "display_data"
    }
   ],
   "source": [
    "# Membuat scatterplot korelasi harga terhadap usia kendaraan untuk jenis kendaraan SUV\n",
    "new_suv.plot(kind='scatter', x='price', y='car_age', grid=True)\n",
    "plt.show()"
   ]
  },
  {
   "cell_type": "markdown",
   "metadata": {},
   "source": [
    "*Scatterplot* untuk menunjukkan korelasi harga dengan usia kendaraan jenis SUV dapat kita cermati saat ini. Bicara mengenai pola, jika dilihat dari bagian kiri atas hingga kanan bawah grafik sudah cukup menjelaskan kepada kita bahwa korelasi dalam bagian ini menunjukkan nilai yang negatif (menurun ke bawah). Nilainya sama dengan pernyataan kita sebelumnya, yaitu **-0.571569**. Dalam bentuk sebuah kalimat, kita dapat memberikan argumen bahwa **semakin tinggi usia kendaraan akan menurunkan harga jual dari kendaraannya**. Atau dalam artian lainnya adalah untuk usia kendaraan yang semakin tua biasanya harga jualnya tidak terlalu tinggi. Jikalau kita simpulkan mengenai korelasi saat ini dalam konteks jenis kendaraan SUV, **usia kendaraan memiliki korelasi sedang yang negatif terhadap harga kendaraan**."
   ]
  },
  {
   "cell_type": "code",
   "execution_count": 130,
   "metadata": {},
   "outputs": [
    {
     "data": {
      "image/png": "[encoded data removed]",
      "text/plain": [
       "<Figure size 432x288 with 1 Axes>"
      ]
     },
     "metadata": {
      "needs_background": "light"
     },
     "output_type": "display_data"
    }
   ],
   "source": [
    "# Membuat scatterplot korelasi harga terhadap jarak tempuh kendaraan untuk jenis kendaraan SUV\n",
    "new_suv.plot(kind='scatter', x='price', y='odometer', grid=True)\n",
    "plt.show()"
   ]
  },
  {
   "cell_type": "markdown",
   "metadata": {},
   "source": [
    "Korelasi hubungan antara harga terhadap jarak tempuh kendaraan dapat dilihat hasilnya dalam grafik di atas penjelasan ini. Tren atau pola dari grafik menjelaskan kepada kita bahwa nilai korelasinya negatif, walaupun tidak terlalu kuat. Nilai korelasi dari grafik di atas adalah **-0.471418**. Pendapat kita mengenai nilai korelasi beserta grafik yang sudah dipaparkan saat ini adalah **semakin tinggi jarak tempuh pada kendaraan akan menurunkan harga jualnya meskipun tidak selalu**. Jarak tempuh kendaraan yang tinggi mengindikasikan bahwa kendaraan sudah sering dipakai sehingga bisa saja kualitasnya menurun dan harga jualnya bisa juga berkurang. Mari kita simpulkan pernyataan-pernyataan yang sudah kita jelaskan sebelumnya. Dalam konteks kendaraan berjenis SUV, **jarak tempuh kendaraan memiliki korelasi negatif yang lemah terhadap harga kendaraan**."
   ]
  },
  {
   "cell_type": "code",
   "execution_count": 131,
   "metadata": {},
   "outputs": [
    {
     "data": {
      "image/png": "[encoded data removed]",
      "text/plain": [
       "<Figure size 432x288 with 1 Axes>"
      ]
     },
     "metadata": {
      "needs_background": "light"
     },
     "output_type": "display_data"
    }
   ],
   "source": [
    "# Membuat scatterplot korelasi harga terhadap jarak kondisi kendaraan untuk jenis kendaraan SUV\n",
    "new_suv.plot(kind='scatter', x='price', y='condition_metric', grid=True)\n",
    "plt.show()"
   ]
  },
  {
   "cell_type": "markdown",
   "metadata": {},
   "source": [
    "Korelasi menggunakan *scatterplot* akhir pada analisis kita saat ini dapat menjawab apakah adanya hubungan antara kondisi kendaraan dengan harga kendaraan. Kita bahas terlebih dahulu mengenai tren atau polanya. Menurut sajian dari grafik, polanya terlihat tidak jelas dan seperti simetris horizontal bentuknya. Untuk nilai korelasinya adalah **0.253796**. Argumen kita mengenai pernyataan sebelumnya adalah ketika harga kendaraannya naik maupun turun, untuk kualitas kendaraannya tidak berubah. Kesimpulan akhir dari penjelasan korelasi saat ini untuk konteks kendaraan berjenis SUV yaitu **kondisi kendaraan memiliki korelasi positif yang sangat lemah terhadap harga kendaraan**."
   ]
  },
  {
   "cell_type": "markdown",
   "metadata": {},
   "source": [
    "**Mencari faktor-faktor yang memengaruhi harga kendaraan pada kolom kategorik**\n",
    "\n",
    "Analisis korelasi harga kendaraan dengan beberapa parameter numerik dalam konteks jenis kendaraan SUV telah kita tuntaskan pengerjaannya. Pekerjaan kita belum selesai sampai saat ini karena kita hanya perlu untuk menganalisis dengan dua parameter dalam kolom kategorik seperti yang sudah kita jelaskan pada awal pengerjaan tugas ini. Kolom yang akan dianalisis yaitu `transmission` dan `paint_color` menggunakan grafik *boxplot*. Kita tidak jenuh untuk mengingatkan bahwa syarat sah suatu kategori dalam suatu kolom setidaknya memiliki 50 iklan. Sebelum kita terjun langsung, kita harus melihat jumlah iklan pada setiap kategori dalam kolom `transmission` terlebih dahulu."
   ]
  },
  {
   "cell_type": "code",
   "execution_count": 132,
   "metadata": {},
   "outputs": [
    {
     "data": {
      "text/plain": [
       "automatic    11015\n",
       "manual         443\n",
       "other          157\n",
       "Name: transmission, dtype: int64"
      ]
     },
     "execution_count": 132,
     "metadata": {},
     "output_type": "execute_result"
    }
   ],
   "source": [
    "# Mencari nilai unik kolom `transmission` untuk mengecek jumlah iklan pada setiap kategorinya\n",
    "new_suv['transmission'].value_counts()"
   ]
  },
  {
   "cell_type": "markdown",
   "metadata": {},
   "source": [
    "Data di atas sudah menunjukkan jumlah dari seluruh kategori dalam kolom kategorik `transmission`. Melalui hasil yang dipaparkan, untuk jumlah kendaraan atau jumlah iklan dalam masing-masing kategori melebihi syarat minimum untuk dianalisis. Fakta menarik dari data yang ada saat ini adalah untuk transmisi kendaraan dari jenis SUV yang *automatic* jumlahnya sangat tinggi dibandingkan dengan lainnya. Selanjutnya kita akan membuat grafik *boxplot* untuk menjelaskan hubungan antara harga kendaraan dengan transmisi kendaraan."
   ]
  },
  {
   "cell_type": "code",
   "execution_count": 133,
   "metadata": {
    "scrolled": false
   },
   "outputs": [
    {
     "data": {
      "image/png": "[encoded data removed]",
      "text/plain": [
       "<Figure size 1008x576 with 1 Axes>"
      ]
     },
     "metadata": {
      "needs_background": "light"
     },
     "output_type": "display_data"
    }
   ],
   "source": [
    "# Membuat boxplot korelasi antara harga kendaraan dengan transmisi untuk jenis kendaraan SUV\n",
    "plt.figure(figsize=(14, 8))\n",
    "sns.boxplot(data=new_suv, x='price', y='transmission')\n",
    "plt.title('Correlation between Price and Transmission')\n",
    "plt.show()"
   ]
  },
  {
   "cell_type": "markdown",
   "metadata": {},
   "source": [
    "*Boxplot* mengenai nilai dalam kolom `price` dengan `transmission` saat ini sudah disajikan dan dapat kita interpretasikan. Jikalau kita bandingkan dengan boxplot dari pekerjaan analisis sebelumnya untuk jenis kendaraan sedan, kita menemukan beberapa perbedaan yang cukup signifikan. Berikut ini adalah temuan yang kita sampaikan berdasarkan grafik yang telah tersedia:\n",
    "- Nilai median untuk setiap transmisi kendaraan terlihat lebih bervariasi dan tidak terlalu jauh jaraknya, kecuali untuk transmisi yang unik (*other*)\n",
    "- Untuk jenis transmisi kendaraan *other* nilai mediannya terlihat paling rendah, sehingga harga kendaraan dari transmisi ini cenderung dihargai lebih murah dibandingkan dengan transmisi lainnya\n",
    "- Sebaliknya dari transmisi yang unik, untuk transmisi kendaraan *manual* terlihat lebih dihargai dengan harga jual yang mahal\n",
    "- Transmisi antara *manual* dengan *automatic* memiliki kuartil bawah (Q1), kuartil atas (Q3), dan median yang terbilang cukup berdekatan sehingga harga jualnya cenderung tidak ada perbedaannya\n",
    "- Transmisi untuk *automatic* dan *manual* adalah transmisi yang memiliki nilai pencilan, sehingga jenis transmisi tersebut tidak memiliki pengaruh dengan harga jual kendaraan untuk konteks jenis kendaraan SUV."
   ]
  },
  {
   "cell_type": "markdown",
   "metadata": {},
   "source": [
    "Analisis hubungan antara harga kendaraan dengan transmisi untuk jenis kendaraan SUV sudah rampung pengerjaannya. Pekerjaan akhir dari proyek ini akan kita lakukan analisis dengan parameter warna kendaraan dari kolom `paint_color`. Seperti yang telah kita setujui bahwa sebelum masuk dalam analisis kita perlu untuk melihat terlebih dahulu distribusi nilai pada setiap kategori dalam kolom `paint_color`, apakah ada kategorinya yang memiliki jumlah iklan kurang dari 50 atau tidak. Jikalau ada maka kita akan memisahkannya dari analisis kita selanjutnya."
   ]
  },
  {
   "cell_type": "code",
   "execution_count": 134,
   "metadata": {},
   "outputs": [
    {
     "data": {
      "text/plain": [
       "unknown    2090\n",
       "black      2038\n",
       "white      1818\n",
       "silver     1512\n",
       "grey       1130\n",
       "blue        992\n",
       "red         844\n",
       "green       390\n",
       "brown       349\n",
       "custom      291\n",
       "orange       81\n",
       "yellow       45\n",
       "purple       35\n",
       "Name: paint_color, dtype: int64"
      ]
     },
     "execution_count": 134,
     "metadata": {},
     "output_type": "execute_result"
    }
   ],
   "source": [
    "# Mencari nilai unik kolom `paint_color` untuk mengecek jumlah iklan pada setiap kategorinya\n",
    "new_suv['paint_color'].value_counts()"
   ]
  },
  {
   "cell_type": "markdown",
   "metadata": {},
   "source": [
    "Berdasarkan hasil distribusi jumlah nilai pada setiap kategori warna kendaraan untuk jenis kendaraan SUV, sepertinya kita menemukan ada dua kategori yang jumlah iklannya kurang dari 50. Dua kategori itu ialah ***yellow* dan *purple***. Seperti yang sudah dijelaskan dan disepakati kita akan mengecualikan dua kategori tersebut dengan cara seperti berikut ini."
   ]
  },
  {
   "cell_type": "code",
   "execution_count": 135,
   "metadata": {},
   "outputs": [
    {
     "data": {
      "text/plain": [
       "unknown    2090\n",
       "black      2038\n",
       "white      1818\n",
       "silver     1512\n",
       "grey       1130\n",
       "blue        992\n",
       "red         844\n",
       "green       390\n",
       "brown       349\n",
       "custom      291\n",
       "orange       81\n",
       "Name: paint_color, dtype: int64"
      ]
     },
     "execution_count": 135,
     "metadata": {},
     "output_type": "execute_result"
    }
   ],
   "source": [
    "# Mengecualikan warna kendaraan yang jumlah iklannya di bawah 50\n",
    "new_suv['paint_color'].value_counts()[:-2]"
   ]
  },
  {
   "cell_type": "markdown",
   "metadata": {},
   "source": [
    "Tebak apa yang telah kita lakukan sekarang? Kita sudah mengecualikan dua kategori warna kendaraan yang jumlah iklannya kurang dari syarat menggunakan dua indeks terakhir dari baris data di atas. Pekerjaan kita untuk menghapus nilai bermasalah ini belum selesai sampai sini. Kita perlu memuat hasil data di atas menjadi sebuah *list* sebelum diiris menggunakan *dataset* kita dan menyimpannya dalam variabel lain."
   ]
  },
  {
   "cell_type": "code",
   "execution_count": 136,
   "metadata": {},
   "outputs": [],
   "source": [
    "# Menyimpan hasil temuan kita sebelumnya\n",
    "color_included = list(new_suv['paint_color'].value_counts()[:-2].index)"
   ]
  },
  {
   "cell_type": "markdown",
   "metadata": {},
   "source": [
    "Usaha kita telah berhasil. Kita telah menyimpan pengecualian data sebelumnya dalam variabel `color_included`. Sekarang mari kita terapkan hasil pengirisan dalam kondisi sebelumnya ke dalam irisan data baru dalam *dataset* new_suv."
   ]
  },
  {
   "cell_type": "code",
   "execution_count": 137,
   "metadata": {},
   "outputs": [],
   "source": [
    "# Mengiris data menggunakan kondisi yang warna kendaraannya sudah dibuang untuk iklan yang jumlahnya di bawah 50\n",
    "new_suv_color = new_suv[new_suv['paint_color'].isin(color_included).reset_index(drop=True)]"
   ]
  },
  {
   "cell_type": "markdown",
   "metadata": {},
   "source": [
    "Pekerjaan kita dalam menghapus data untuk warna kendaraan yang jumlahnya kurang dari 50 iklan telah usai. Tahap penting selanjutnya yang menentukan hasil analisis kita yaitu dengan membuat grafik *boxplot* untuk menjelaskan hubungan antara harga kendaraan dengan warna kendaraan pada jenis kendaraan SUV. Untuk kodenya kita bisa rujuk kembali dalam analisis kita sebelumnya."
   ]
  },
  {
   "cell_type": "code",
   "execution_count": 138,
   "metadata": {},
   "outputs": [
    {
     "data": {
      "image/png": "[encoded data removed]",
      "text/plain": [
       "<Figure size 1008x576 with 1 Axes>"
      ]
     },
     "metadata": {
      "needs_background": "light"
     },
     "output_type": "display_data"
    }
   ],
   "source": [
    "# Membuat boxplot antara harga kendaraan dengan warna kendaraan untuk jenis kendaraan SUV\n",
    "plt.figure(figsize=(14, 8))\n",
    "sns.boxplot(data=new_suv_color, x='price', y='paint_color')\n",
    "plt.title('Correlation between Price and Paint Color')\n",
    "plt.show()"
   ]
  },
  {
   "cell_type": "markdown",
   "metadata": {},
   "source": [
    "Hubungan antara nilai harga kendaraan dengan warna kendaraan untuk kolom kategorik saat ini dapat dipahami melalui *boxplot*  di atas. Secara jumlah kita dapat melihat dalam grafik saat ini memiliki 11 *box* yang mewakili masing-masing kategori warna. Kita telah menemukan beberapa informasi yang cukup menarik dari *boxplot* ini, di antarannya yaitu:\n",
    "- Berdasarkan jarak nilai median setiap warna kendaraan, kita menemukan fakta bahwa untuk setiap kendaraan memiliki nilai yang bervarasi dan nampak hampir berjauhan satu dengan yang lain meskipun tidak semuanya. Hal tersebut menyiratkan kepada kita bahwa untuk harga rata-rata setiap warna kendaraan yang nilai mediannya berjauhan memiliki harga yang berbeda satu dengan lainnya\n",
    "- Warna kendaraan hijau (*green*) terlihat memiliki nilai median paling rendah. Berdasarkan pernyataan sebelumnya kita dapat mengetahui bahwa harga kendaraan untuk warna ini cenderung lebih murah dibandingkan dengan warna kendaraan lainnya\n",
    "- Kebalikan dari temuan sebelumnya, kita melihat bahwa warna kendaraan oranye (*orange*) berdasarkan nilai mediannya dapat mengartikan bahwa harga jualnya paling tinggi dibandingkan dengan warna kendaraan lain untuk konteks kendaraan berjenis SUV\n",
    "- Transmisi antara warna kendaraan *silver* dengan *grey* memiliki kuartil bawah (Q1), kuartil atas (Q3), dan median yang terbilang cukup berdekatan sehingga harga jualnya cenderung tidak ada perbedaannya\n",
    "- Jika diperhatikan untuk sebaran nilai *outlier* pada setiap *box*-nya tidak begitu jauh satu sama lain, kecuali untuk warna kendaraan hijau (*green*), oranye (*orange*), dan merah (*red*). Sehingga harga kendaraan untuk jenis kendaraan SUV tidak dipengaruhi oleh warna kendaraannya."
   ]
  },
  {
   "cell_type": "markdown",
   "metadata": {},
   "source": [
    "**Kesimpulan mengenai faktor-faktor yang memengaruhi harga kendaraan jenis SUV**\n",
    "\n",
    "Pengerjaan proyek bagian akhir ini untuk menemukan beberapa faktor antara harga kendaraan untuk kendaraan berjenis SUV sudah rampung dan membuahkan hasil. Kita perlu melaporkan bahwa untuk kolom `paint_color` memiliki dua kategori warna kendaraan yang tidak bisa kita masukkan untuk dianalisis, yaitu untuk warna kendaraan kuning (*yellow*) dan ungu (*purple*). Dengan demikian dari hasil pekerjaan kita hingga saat ini, berikut beberapa kesimpulan yang kita dapatkan pada masing-masing parameter:\n",
    "- Usia kendaraan memiliki korelasi sedang yang negatif terhadap harga kendaraan (-0.571569)\n",
    "- Jarak tempuh kendaraan memiliki korelasi negatif yang lemah terhadap harga kendaraan (-0.471418)\n",
    "- Kondisi kendaraan memiliki korelasi positif yang sangat lemah terhadap harga kendaraan (0.253796)\n",
    "- Mengenai transmisi kendaraan dengan harga kendaraan kita sudah menemukan berbagai infomasi. Contohnya untuk jenis transmisi kendaraan *other* nilai mediannya terlihat paling rendah, sehingga harga kendaraan dari transmisi ini cenderung dihargai lebih murah dibandingkan dengan transmisi lainnya. Untuk transmisi kendaraan *manual* terlihat memiliki harga jual yang mahal dan untuk transmisi *automatic* dan *manual* tidak memiliki pengaruh dengan harga jual kendaraan untuk konteks jenis kendaraan SUV ini\n",
    "- Mengenai warna kendaraan dengan harga kendaraan juga kita menemukan fakta yang tidak boleh dilewatkan. Salah satunya untuk harga rata-rata setiap warna kendaraan yang nilai mediannya berjauhan memiliki harga yang berbeda satu dengan lainnya. Kemudian warna kendaraan oranye (*orange*) berdasarkan nilai mediannya dapat mengartikan bahwa harga jualnya paling tinggi dibandingkan dengan warna kendaraan lain sedangkan untuk warna kendaraan hijau (*green*) merupakan kebalikannya. Terakhir yaitu harga kendaraan untuk jenis kendaraan SUV tidak dipengaruhi oleh warna kendaraannya."
   ]
  },
  {
   "cell_type": "markdown",
   "metadata": {},
   "source": [
    "## Kesimpulan Umum"
   ]
  },
  {
   "cell_type": "markdown",
   "metadata": {},
   "source": [
    "Dimulai dari bagian eksplorasi data awal dan diakhiri dengan bagian pengerjaan proyek yang menantang, pada akhirnya kita sudah menyelesaikan semua kebutuhan dan perintah yang diberikan kepada kita untuk proyek saat ini. Ada banyak hal yang kita temui, pelajari, dan ambil aksi dari setiap keputusan yang muncul dari sebuah permasalahan sehingga kita dapat mengetahui bahwa tahapan eksplorasi data cakupannya luas dan memerlukan ketelitian sebelum menentukan sebuah kesimpulan. Untuk pengerjaan proyek yang paling menantang dan membutuhkan waktu yang panjang untuk dikerjakan yaitu dalam bagian menganalisis faktor harga terhadap beberapa parameter. Karena seluruh bagian dalam proyek ini telah selesai dikerjakan, maka dengan penuh semangat kita menginformasikan beberapa kesimpulan menyeluruh dari setiap langkah yang telah kita lakukan.\n",
    "\n",
    "**Tahap Eksplorasi Awal**\n",
    "\n",
    "Bagian pengerjaan proyek saat ini lebih fokus dalam eksplorasi mengenai informasi pada data yang diberikan kepada kita dengan cara melihat melihat nilai yang hilang, melihat ketepatan tipe data pada setiap kolom. Kita menemukan bahwa ada 5 kolom yang berisi nilai hilang dengan jumlah yang bervariatif. Kolomnya ada `is_4wd`, `paint_color`, `odometer`, `cylinders`, dan `model_year`. Untuk kolom-kolom yang memiliki tipe data aneh juga jumlahnya sama dengan nilai hilang, yaitu `price`, `model_year`, `cylinders`, `is_4wd`, dan `date_posted`.\n",
    "\n",
    "**Mengatasi Nilai Hilang dan Tipe Data Bermasalah**\n",
    "\n",
    "Pekerjaan kita dalam bagian ini tergolong mudah dan cepat untuk diselesaikan. Inti dari pekerjaan kita saat ini adalah mengisi nilai hilang untuk 5 kolom yang telah disebutkan. Berikut solusi dari pengisian data untuk 5 kolom dengan nilai hilang yang telah kita lakukan:\n",
    "- `is_4wd`: kita telah mengisinya dengan nilai 0 dalam kondisi *Boolean* artinya ***False***\n",
    "- `paint_color`: mengisinya dengan nilai ***unknown*** karena kita tidak tahu pasti setiap warna kendaraan yang hilang nilainya\n",
    "- `odometer`: mengisi nilai hilang menggunakan nilai median berdasarkan kolom `condition`\n",
    "- `cylinders`: mengisi nilai hilang menggunakan nilai median berdasarkan kolom `model`\n",
    "- `model_year`: mengisi nilai hilang menggunakan nilai median berdasarkan kolom `model`.\n",
    "\n",
    "Selain itu kita juga telah memperbaiki tipe data yang bermasalah dan berikut ini solusi yang sudah kita kerjakan:\n",
    "- `price`: tipe datanya adalah integer dan sudah berubah menjadi ***float***\n",
    "- `model_year`: tipe datanya adalah float dan sudah berubah menjadi ***integer***\n",
    "- `cylinders`: tipe datanya adalah float dan sudah berubah menjadi ***integer***\n",
    "- `is_4wd`: tipe datanya adalah float dan sudah berubah menjadi ***boolean***\n",
    "- `date_posted`: tipe data dalam kolom ini adalah object dan sudah beralih menjadi ***datetime***.\n",
    "\n",
    "**Pengategorian Data**\n",
    "\n",
    "Fokus pekerjaan proyek bagian ini adalah dengan cara memperbaiki kualitas datanya agar dapat digunakan untuk tahapan eksplorasi dan analisis. Dalam tahapan pengerjaan ini juga kita telah menambahkan beberapa kolom baru dari hasil penjumlahan, pengurangan, dan pembagian beberapa kolom. Berikut ini hasil dari pekerjaan kita dalam pengategorian data:\n",
    "- Menambahkan kolom mengenai hari dalam minggu, bulan, dan tahun iklan ditayangkan berdasarkan kolom `date_posted`\n",
    "- Menambahkan kolom mengenai usia kendaraan (dalam tahun) ketika iklan ditayangkan dengan cara mengurangi tahun ketika kendaraan ditayangkan dengan tahun ketika kendaraan diluncurkan. Bagi yang hasil pengurangannya 0 terdapat sebanyak 2152 kolom, sehingga kita mengambil langkah dengan cara mengganti nilainya menjadi 1 untuk mencegah nilai tak terhingga (*infinite*) ketika kita mencari jarak tempuh kendaraan per tahun yang akan menggunakan kolom `car_age` sebagai pembaginya\n",
    "- Menambahkan kolom mengenai jarak tempuh rata-rata kendaraan per tahun dengan cara mencari kolom yang berisi data mengenai jarak tempuh kendaraan dan membaginya dengan kolom mengenai usia kendaraan, dan\n",
    "- Menambahkan kolom mengenai skala numerik dari kolom `condition` yang dimulai dari skala 0 untuk kondisi kendaraan *salvage* hingga skala 5 untuk kondisi kendaraan *new*.\n",
    "\n",
    "Hasil dari pengategorian dan perbaikan kualitas data menambah 6 kolom baru dalam *dataset* kita.\n",
    "\n",
    "**Mempelajari Parameter Inti dan Menghapus Nilai Ekstrim**\n",
    "\n",
    "Tujuan dari pekerjaan bagian ini adalah untuk mempelajari bagaimana *outlier* dapat memengaruhi bentuk dan keterbacaan data. Pengerjaan tugas ini akan kita mudahkan dengan menggunakan bantuan grafik berupa histogram dan boxplot. Dari parameter harga, usia kendaraan, dan jarak tempuh memiliki banyak nilai ekstrim yang harus ditangani, kecuali untuk parameter jumlah silinder dengan kondisi kendaraan. Penghapusan nilai ekstrim untuk 3 parameter bermasalah dilakukan dengan menentukan batas atas dan bawah dan mengiris data yang hanya memuat rentang nilai di antara batas bawah dan batas atas untuk setiap kolom yang memiliki nilai ekstrim.  Berikut ini merupakan parameter yang telah kita selidiki yang terdapat nilai *outlier* beserta hasil dari penghapusan nilai *outlier* yang ada:\n",
    "\n",
    "- Harga (`price`): tidak terdapat nilai *outlier* dan boxplot sudah dapat dibaca dengan baik\n",
    "- Usia kendaraan ketika iklan ditayangkan (`car_age`): tidak ditemukan lagi nilai ekstrim\n",
    "- Jarak tempuh (`odometer`): tidak terdapat nilai *outlier* lagi dan grafik boxplot sudah terlihat dengan jelas\n",
    "- Jumlah silinder (`cylinders`): kita tidak melakukan perbaikan karena tidak ada nilai ekstrim dan termasuk dalam kolom kategorik\n",
    "- Kondisi (`condition_metric`): kita tidak melakukan perbaikan karena tidak ada nilai ekstrim dan termasuk dalam kolom kategorik.\n",
    "\n",
    "**Mempelajari Masa Berlaku Iklan**\n",
    "\n",
    "Untuk eksplorasi data mengenai masa berlaku iklan kita lakukan menggunakan kolom `days_listed`. Dalam bagian eksplorasi saat ini kita telah menemukan bahwa **nilai rata-rata (*mean*) dari masa iklan ditayangkan adalah sekitar 39.5 hari atau 40 hari lamanya**. Sedangkan untuk **nilai mediannya berada tepat pada waktu selama 33 hari**. serta mediannya. Untuk **iklan yang ditayangkan dengan cepat hanya bertahan selama 0 hari sedangkan waktu iklan ditayangkan paling lama ditemukan selama 271 hari**.\n",
    "\n",
    "**Mengetahui Harga Rata-Rata Setiap Jenis Kendaraan**\n",
    "\n",
    "Tahap yang telah kita lakukan adalah dengan membuat tabel ringkasan mengenai jumlah kendaraan yang diiklankan dengan harga rata-rata berdasarkan jenis kendaraannya. Kita telah mendapatkan dua jenis kendaraan yang paling banyak diiklankan, yaitu dari jenis kendaraan **sedan dan SUV** dengan masing-masing jumlah kendaraannya yaitu **11910 dan 11615**. Dalam pengerjaan proyek bagian ini kita tidak hanya dituntut untuk membuat ringkasan tabelnya saja, tetapi hal penting yang harus kita lakukan yaitu dengan membuat grafik ketergantungan jumlah iklan pada jenis kendaraan dari *pivot table* yang sudah ada.\n",
    "\n",
    "**Mencari Faktor Apa Saja yang Dapat Memengaruhi Harga Kendaraan untuk Jenis Sedan dan SUV**\n",
    "\n",
    "Pengerjaan penentu dan akhir proyek ini adalah dengan menentukan faktor-faktor yang paling memengaruhi harga kendaraan dengan beberapa kolom. Analisis untuk kolom-kolom yang bersifat numerik dengan menggunakan *scatterplot* sedangkan untuk kolom-kolom kategorik menggunakan *boxplot*. Untuk kolom kategorik memiliki syarat setidaknya harus memiliki jumlah iklan sebanyak 50 baru dapat kita analisis. Berikut ini hasil dari eksplorasi dan analisis yang telah kita temukan untuk kedua jenis kendaraan yang populer.\n",
    "\n",
    "**Kesimpulan mengenai faktor-faktor yang memengaruhi harga kendaraan jenis sedan**\n",
    "\n",
    "Sejauh ini analisis dilakukan dengan baik, namun untuk bagian pengerjaan saat kita ingin membuat boxplot untuk kolom `paint_color` kita menemukan ada tiga warna kendaraan yang jumlahnya tidak sesuai dengan kriteria analisis sehingga kita memutuskan untuk menyingkirkannya. Berikut ini kesimpulan singkat per poin yang kita dapatkan sejauh ini:\n",
    "- Usia kendaraan memiliki korelasi negatif yang cukup kuat terhadap harga kendaraan (-0.615093)\n",
    "- Jarak tempuh kendaraan memiliki korelasi negatif yang sedang terhadap harga kendaraan (-0.517602)\n",
    "- Kondisi kendaraan memiliki korelasi positif yang lemah terhadap harga kendaraan (0.287719)\n",
    "- Mengenai transmisi kendaraan dengan harga kendaraan kita telah menemukan beberapa hal. Untuk jenis kendaraan sedan yang transmisinya *automatic* memiliki harga rata-rata yang lebih mahal. Bagi transmisi kendaraan unik (*other*) memiliki nilai median paling rendah yang menandakan harga kendaraan berjenis sedan ini harganya lebih murah dan untuk harganya lebih bervariatif\n",
    "- Mengenai warna kendaraan dengan harga kendaraan terdapat beberapa fakta unik. Dari harga rata-rata pada setiap warna kendaraan untuk jenis kendaraan sedan ini jumlahnya hampir sama satu dengan yang lain. Lalu untuk jenis kendaraan ini tidak dipengaruhi oleh warna kendaraannya.\n",
    "\n",
    "\n",
    "**Kesimpulan mengenai faktor-faktor yang memengaruhi harga kendaraan jenis SUV**\n",
    "\n",
    "Kita perlu melaporkan bahwa untuk kolom `paint_color` memiliki dua kategori warna kendaraan yang tidak bisa kita masukkan untuk dianalisis, yaitu untuk warna kendaraan kuning (*yellow*) dan ungu (*purple*). Dengan demikian dari hasil pekerjaan kita hingga saat ini, berikut beberapa kesimpulan yang kita dapatkan pada masing-masing parameter:\n",
    "- Usia kendaraan memiliki korelasi sedang yang negatif terhadap harga kendaraan (-0.571569)\n",
    "- Jarak tempuh kendaraan memiliki korelasi negatif yang lemah terhadap harga kendaraan (-0.471418)\n",
    "- Kondisi kendaraan memiliki korelasi positif yang sangat lemah terhadap harga kendaraan (0.253796)\n",
    "- Mengenai transmisi kendaraan dengan harga kendaraan kita sudah menemukan berbagai infomasi. Contohnya untuk jenis transmisi kendaraan *other* nilai mediannya terlihat paling rendah, sehingga harga kendaraan dari transmisi ini cenderung dihargai lebih murah dibandingkan dengan transmisi lainnya. Untuk transmisi kendaraan *manual* terlihat memiliki harga jual yang mahal dan untuk transmisi *automatic* dan *manual* tidak memiliki pengaruh dengan harga jual kendaraan untuk konteks jenis kendaraan SUV ini\n",
    "- Mengenai warna kendaraan dengan harga kendaraan juga kita menemukan fakta yang tidak boleh dilewatkan. Salah satunya untuk harga rata-rata setiap warna kendaraan yang nilai mediannya berjauhan memiliki harga yang berbeda satu dengan lainnya. Kemudian warna kendaraan oranye (*orange*) berdasarkan nilai mediannya dapat mengartikan bahwa harga jualnya paling tinggi dibandingkan dengan warna kendaraan lain sedangkan untuk warna kendaraan hijau (*green*) merupakan kebalikannya. Terakhir yaitu harga kendaraan untuk jenis kendaraan SUV tidak dipengaruhi oleh warna kendaraannya."
   ]
  }
 ],
 "metadata": {
  "ExecuteTimeLog": [
   {
    "duration": 828,
    "start_time": "2021-11-16T09:21:11.304Z"
   },
   {
    "duration": 893,
    "start_time": "2021-11-16T09:21:17.728Z"
   },
   {
    "duration": 1150,
    "start_time": "2021-11-16T09:21:29.568Z"
   },
   {
    "duration": 3,
    "start_time": "2021-11-16T09:24:14.495Z"
   },
   {
    "duration": 120,
    "start_time": "2021-11-16T09:24:46.630Z"
   },
   {
    "duration": 3,
    "start_time": "2021-11-16T09:28:27.882Z"
   },
   {
    "duration": 4,
    "start_time": "2021-11-16T09:29:54.281Z"
   },
   {
    "duration": 3,
    "start_time": "2021-11-16T09:30:45.936Z"
   },
   {
    "duration": 4,
    "start_time": "2021-11-16T09:31:06.300Z"
   },
   {
    "duration": 113,
    "start_time": "2021-11-16T09:31:37.208Z"
   },
   {
    "duration": 143,
    "start_time": "2021-11-16T09:31:48.656Z"
   },
   {
    "duration": 98,
    "start_time": "2021-11-16T09:31:55.678Z"
   },
   {
    "duration": 3,
    "start_time": "2021-11-16T09:32:08.535Z"
   },
   {
    "duration": 111,
    "start_time": "2021-11-16T09:32:10.120Z"
   },
   {
    "duration": 3,
    "start_time": "2021-11-16T09:32:15.732Z"
   },
   {
    "duration": 4,
    "start_time": "2021-11-16T09:32:29.423Z"
   },
   {
    "duration": 3,
    "start_time": "2021-11-16T10:03:03.074Z"
   },
   {
    "duration": 3,
    "start_time": "2021-11-16T10:10:01.288Z"
   },
   {
    "duration": 3,
    "start_time": "2021-11-16T10:10:46.923Z"
   },
   {
    "duration": 121,
    "start_time": "2021-11-16T10:37:46.494Z"
   },
   {
    "duration": 125,
    "start_time": "2021-11-16T10:38:20.632Z"
   },
   {
    "duration": 112,
    "start_time": "2021-11-16T10:46:53.001Z"
   },
   {
    "duration": 110,
    "start_time": "2021-11-16T10:48:25.775Z"
   },
   {
    "duration": 3,
    "start_time": "2021-11-16T10:50:18.720Z"
   },
   {
    "duration": 4,
    "start_time": "2021-11-16T10:50:37.649Z"
   },
   {
    "duration": 2,
    "start_time": "2021-11-16T10:50:51.884Z"
   },
   {
    "duration": 3,
    "start_time": "2021-11-16T10:51:56.237Z"
   },
   {
    "duration": 101,
    "start_time": "2021-11-16T10:53:13.791Z"
   },
   {
    "duration": 3,
    "start_time": "2021-11-16T10:55:59.186Z"
   },
   {
    "duration": 3,
    "start_time": "2021-11-16T10:56:10.751Z"
   },
   {
    "duration": 3,
    "start_time": "2021-11-16T10:56:49.038Z"
   },
   {
    "duration": 3,
    "start_time": "2021-11-16T10:56:49.174Z"
   },
   {
    "duration": 4,
    "start_time": "2021-11-16T10:56:49.414Z"
   },
   {
    "duration": 3,
    "start_time": "2021-11-16T10:56:49.680Z"
   },
   {
    "duration": 3,
    "start_time": "2021-11-16T10:56:50.370Z"
   },
   {
    "duration": 114,
    "start_time": "2021-11-16T10:59:34.518Z"
   },
   {
    "duration": 3,
    "start_time": "2021-11-16T11:01:41.201Z"
   },
   {
    "duration": 116,
    "start_time": "2021-11-16T11:01:48.754Z"
   },
   {
    "duration": 3,
    "start_time": "2021-11-16T11:02:16.685Z"
   },
   {
    "duration": 3,
    "start_time": "2021-11-16T11:02:19.479Z"
   },
   {
    "duration": 3,
    "start_time": "2021-11-16T11:02:47.067Z"
   },
   {
    "duration": 3,
    "start_time": "2021-11-16T11:02:49.353Z"
   },
   {
    "duration": 3,
    "start_time": "2021-11-16T11:03:07.835Z"
   },
   {
    "duration": 3,
    "start_time": "2021-11-16T11:03:07.953Z"
   },
   {
    "duration": 112,
    "start_time": "2021-11-16T11:07:52.072Z"
   },
   {
    "duration": 187,
    "start_time": "2021-11-16T11:09:23.468Z"
   },
   {
    "duration": 4,
    "start_time": "2021-11-16T11:10:01.455Z"
   },
   {
    "duration": 3,
    "start_time": "2021-11-16T11:10:05.069Z"
   },
   {
    "duration": 4,
    "start_time": "2021-11-16T11:10:13.376Z"
   },
   {
    "duration": 3,
    "start_time": "2021-11-16T11:10:14.434Z"
   },
   {
    "duration": 3,
    "start_time": "2021-11-16T11:10:22.853Z"
   },
   {
    "duration": 4,
    "start_time": "2021-11-16T11:27:29.279Z"
   },
   {
    "duration": 4,
    "start_time": "2021-11-16T11:29:08.919Z"
   },
   {
    "duration": 118,
    "start_time": "2021-11-16T11:29:46.703Z"
   },
   {
    "duration": 437,
    "start_time": "2021-11-16T11:36:02.181Z"
   },
   {
    "duration": 157,
    "start_time": "2021-11-16T11:36:14.388Z"
   },
   {
    "duration": 207,
    "start_time": "2021-11-16T11:47:15.898Z"
   },
   {
    "duration": 3,
    "start_time": "2021-11-16T11:53:52.092Z"
   },
   {
    "duration": 3,
    "start_time": "2021-11-16T11:53:52.236Z"
   },
   {
    "duration": 3,
    "start_time": "2021-11-16T11:59:12.005Z"
   },
   {
    "duration": 112,
    "start_time": "2021-11-16T12:00:33.446Z"
   },
   {
    "duration": 3,
    "start_time": "2021-11-16T12:02:14.453Z"
   },
   {
    "duration": 3,
    "start_time": "2021-11-16T12:02:39.512Z"
   },
   {
    "duration": 106,
    "start_time": "2021-11-16T12:03:03.460Z"
   }
  ],
  "kernelspec": {
   "display_name": "Python 3 (ipykernel)",
   "language": "python",
   "name": "python3"
  },
  "language_info": {
   "codemirror_mode": {
    "name": "ipython",
    "version": 3
   },
   "file_extension": ".py",
   "mimetype": "text/x-python",
   "name": "python",
   "nbconvert_exporter": "python",
   "pygments_lexer": "ipython3",
   "version": "3.9.19"
  },
  "toc": {
   "base_numbering": 1,
   "nav_menu": {},
   "number_sections": true,
   "sideBar": true,
   "skip_h1_title": false,
   "title_cell": "Table of Contents",
   "title_sidebar": "Contents",
   "toc_cell": false,
   "toc_position": {
    "height": "calc(100% - 180px)",
    "left": "10px",
    "top": "150px",
    "width": "261.797px"
   },
   "toc_section_display": true,
   "toc_window_display": false
  }
 },
 "nbformat": 4,
 "nbformat_minor": 2
}
