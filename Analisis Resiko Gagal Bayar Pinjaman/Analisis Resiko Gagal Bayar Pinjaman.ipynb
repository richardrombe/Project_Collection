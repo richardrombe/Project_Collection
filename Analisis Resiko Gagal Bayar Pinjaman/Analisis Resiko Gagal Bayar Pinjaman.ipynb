{
 "cells": [
  {
   "cell_type": "markdown",
   "metadata": {},
   "source": [
    "# Menganalisis Risiko Gagal Bayar Peminjam"
   ]
  },
  {
   "cell_type": "markdown",
   "metadata": {},
   "source": [
    "Pada kesempatan ini kita diajak untuk mengerjakan suatu proyek yang cukup menantang dan menguji kemampuan analisis kita. Tugas atau tujuan yang akan dilakukan saat ini adalah untuk mencari tahu apakah terdapat pengaruh antara status perkawinan, jumlah anak, dan pendapatan nasabah terhadap probabilitas gagal bayar dalam melunaskan pinjamannya. Narasi dalam tugas ini menggambarkan kita sebagai seorang data analis diberikan tanggung jawab oleh pihak divisi kredit suatu bank untuk membuat laporan mengenai hasil uji hipotesis dari data yang diberikan dan hasilnya dapat dipertimbangkan saat membuat penilaian kredit untuk para calon nasabah. Data yang diberikan untuk proyek ini tidaklah sempurna dan belum bisa digunakan untuk dianalisis. Berikut ini merupakan hipotesis yang akan kita uji pada hasil akhir dari bagian proyek ini:\n",
    "- Apakah terdapat hubungan antara **memiliki anak** dan probabilitas seseorang melakukan gagal bayar pinjaman?\n",
    "- Apakah terdapat hubungan antara **status perkawinan** dan probabilitas seseorang melakukan gagal bayar pinjaman?\n",
    "- Apakah terdapat hubungan antara **tingkat pendapatan** dan probabilitas seseorang melakukan gagal bayar pinjaman?\n",
    "- Bagaimana **perbedaan tujuan pinjaman** memengaruhi probabilitas seseorang melakukan gagal bayar pinjaman?\n",
    "\n",
    "Proyek yang tertera ini tidak hanya mencari tahu hubungan beberapa hipotesis saja, tetapi proyek ini akan membahas lebih rinci lagi mulai dari mengeksplor data yang telah diberikan, merubah tipe data, mengelompokkan data berdasarkan kategori yang tepat, serta memperbaiki nilai yang hilang dalam beberapa kolom data. Melalui beberapa tahapan yang cukup kompleks tersebut, pada akhirnya proses pengujian hipotesis baru dapat dilakukan dan kesimpulan keseluruhan dapat diberikan. Dengan demikian, dari penjelasan awal ini kita bisa bisa mengetahui apa saja yang harus dikerjakan dan pengerjaan tugas bisa dilakukan. Mari kita membuat proyek ini dengan baik dan terlihat profesional seperti layaknya seorang data analis!"
   ]
  },
  {
   "cell_type": "markdown",
   "metadata": {},
   "source": [
    "## Buka File Data dan Baca Informasi Umumnya."
   ]
  },
  {
   "cell_type": "markdown",
   "metadata": {},
   "source": [
    "Sebelum melakukan eksplorasi data, ada baiknya kita harus membuat sebuah *library* yang akan menunjang pengerjaan proyek ini, yaitu dengan memanfaatkan **Pandas**. Setelah mendefinisikan *library*, kita bisa memuat datanya dengan menggunakan file path yang telah diberikan."
   ]
  },
  {
   "cell_type": "code",
   "execution_count": 1,
   "metadata": {},
   "outputs": [],
   "source": [
    "# Muat semua library\n",
    "import pandas as pd"
   ]
  },
  {
   "cell_type": "markdown",
   "metadata": {},
   "source": [
    "Selanjutnya kita hanya perlu untuk memanggil *dataset* menggunakan *file path* yang sudah diberikan untuk proyek ini dan menyimpannya dalam variabel bernama `data`."
   ]
  },
  {
   "cell_type": "code",
   "execution_count": 2,
   "metadata": {},
   "outputs": [],
   "source": [
    "# Muat datanya\n",
    "data = pd.read_csv('/datasets/credit_scoring_eng.csv')"
   ]
  },
  {
   "cell_type": "markdown",
   "metadata": {},
   "source": [
    "Semua sudah berjalan dengan baik dan data dapat dibaca. Itu artinya kita dapat memulai pengerjaan proyek ini dengan bagian eksplorasi data."
   ]
  },
  {
   "cell_type": "markdown",
   "metadata": {},
   "source": [
    "## Eksplorasi Data\n",
    "\n",
    "File data sudah dibuat dan disimpan dengan berhasil. Saat ini kita sudah memasuki dalam tahapan eksplorasi data. Pada bagian ini akan lebih membahas mengenai informasi umum mengenai data yang kita miliki dan mencari nilai yang hilang. Untuk memudahkan dan memberikan gambaran mengenai data yang akan kita analisis, berikut ini merupakan deskripsi data yang berisi informasi nama-nama kolom yang terdapat dalam *dataset* kita.\n",
    "\n",
    "**Deskripsi data**\n",
    "- `children` - jumlah anak dalam keluarga\n",
    "- `days_employed` - pengalaman kerja nasabah dalam hari\n",
    "- `dob_years` - usia nasabah dalam tahun\n",
    "- `education` - tingkat pendidikan nasabah\n",
    "- `education_id` - pengidentifikasi untuk tingkat pendidikan nasabah\n",
    "- `family_status` - status perkawinan\n",
    "- `family_status_id` - pengidentifikasi untuk status perkawinan nasabah\n",
    "- `gender` - jenis kelamin nasabah\n",
    "- `income_type` - jenis pekerjaan\n",
    "- `debt` - apakah nasabah pernah melakukan gagal bayar pinjaman\n",
    "- `total_income` - pendapatan bulanan\n",
    "- `purpose` - tujuan mendapatkan pinjaman\n",
    "\n",
    "Data yang kita miliki saat ini memiliki sebanyak 12 kolom yang berisi informasi pribadi setiap nasabah mulai dari jumlah anak, pekerjaan, pendidikan, pendapatan dan sebagainya. Sekarang waktunya bagi kita untuk menjelajahi data yang ada dengan tahap awal yaitu melihat jumlah kolom dan baris."
   ]
  },
  {
   "cell_type": "code",
   "execution_count": 5,
   "metadata": {},
   "outputs": [
    {
     "data": {
      "text/plain": [
       "(21525, 12)"
      ]
     },
     "execution_count": 5,
     "metadata": {},
     "output_type": "execute_result"
    }
   ],
   "source": [
    "# Mari kita lihat berapa banyak baris dan kolom yang dimiliki oleh dataset kita\n",
    "data.shape"
   ]
  },
  {
   "cell_type": "markdown",
   "metadata": {},
   "source": [
    "Dari eksekusi kode di atas, kita dapat melihat dua nominal angka yang tergabung dalam satu tanda kurung. Untuk arti dari nominal angka pada sisi kiri menjelaskan bahwa dalam data ini terdapat sebanyak 21525 baris data, sedangkan untuk sisi kanan memiliki arti bahwa dalam data kita terdapat sebanyak 12 kolom. Selanjutnya mari kita lihat gambaran informasi dalam data kita dengan memunculkan beberapa baris pertama."
   ]
  },
  {
   "cell_type": "code",
   "execution_count": 6,
   "metadata": {
    "scrolled": true
   },
   "outputs": [
    {
     "data": {
      "text/html": [
       "<div>\n",
       "<style scoped>\n",
       "    .dataframe tbody tr th:only-of-type {\n",
       "        vertical-align: middle;\n",
       "    }\n",
       "\n",
       "    .dataframe tbody tr th {\n",
       "        vertical-align: top;\n",
       "    }\n",
       "\n",
       "    .dataframe thead th {\n",
       "        text-align: right;\n",
       "    }\n",
       "</style>\n",
       "<table border=\"1\" class=\"dataframe\">\n",
       "  <thead>\n",
       "    <tr style=\"text-align: right;\">\n",
       "      <th></th>\n",
       "      <th>children</th>\n",
       "      <th>days_employed</th>\n",
       "      <th>dob_years</th>\n",
       "      <th>education</th>\n",
       "      <th>education_id</th>\n",
       "      <th>family_status</th>\n",
       "      <th>family_status_id</th>\n",
       "      <th>gender</th>\n",
       "      <th>income_type</th>\n",
       "      <th>debt</th>\n",
       "      <th>total_income</th>\n",
       "      <th>purpose</th>\n",
       "    </tr>\n",
       "  </thead>\n",
       "  <tbody>\n",
       "    <tr>\n",
       "      <th>0</th>\n",
       "      <td>1</td>\n",
       "      <td>-8437.673028</td>\n",
       "      <td>42</td>\n",
       "      <td>bachelor's degree</td>\n",
       "      <td>0</td>\n",
       "      <td>married</td>\n",
       "      <td>0</td>\n",
       "      <td>F</td>\n",
       "      <td>employee</td>\n",
       "      <td>0</td>\n",
       "      <td>40620.102</td>\n",
       "      <td>purchase of the house</td>\n",
       "    </tr>\n",
       "    <tr>\n",
       "      <th>1</th>\n",
       "      <td>1</td>\n",
       "      <td>-4024.803754</td>\n",
       "      <td>36</td>\n",
       "      <td>secondary education</td>\n",
       "      <td>1</td>\n",
       "      <td>married</td>\n",
       "      <td>0</td>\n",
       "      <td>F</td>\n",
       "      <td>employee</td>\n",
       "      <td>0</td>\n",
       "      <td>17932.802</td>\n",
       "      <td>car purchase</td>\n",
       "    </tr>\n",
       "    <tr>\n",
       "      <th>2</th>\n",
       "      <td>0</td>\n",
       "      <td>-5623.422610</td>\n",
       "      <td>33</td>\n",
       "      <td>Secondary Education</td>\n",
       "      <td>1</td>\n",
       "      <td>married</td>\n",
       "      <td>0</td>\n",
       "      <td>M</td>\n",
       "      <td>employee</td>\n",
       "      <td>0</td>\n",
       "      <td>23341.752</td>\n",
       "      <td>purchase of the house</td>\n",
       "    </tr>\n",
       "    <tr>\n",
       "      <th>3</th>\n",
       "      <td>3</td>\n",
       "      <td>-4124.747207</td>\n",
       "      <td>32</td>\n",
       "      <td>secondary education</td>\n",
       "      <td>1</td>\n",
       "      <td>married</td>\n",
       "      <td>0</td>\n",
       "      <td>M</td>\n",
       "      <td>employee</td>\n",
       "      <td>0</td>\n",
       "      <td>42820.568</td>\n",
       "      <td>supplementary education</td>\n",
       "    </tr>\n",
       "    <tr>\n",
       "      <th>4</th>\n",
       "      <td>0</td>\n",
       "      <td>340266.072047</td>\n",
       "      <td>53</td>\n",
       "      <td>secondary education</td>\n",
       "      <td>1</td>\n",
       "      <td>civil partnership</td>\n",
       "      <td>1</td>\n",
       "      <td>F</td>\n",
       "      <td>retiree</td>\n",
       "      <td>0</td>\n",
       "      <td>25378.572</td>\n",
       "      <td>to have a wedding</td>\n",
       "    </tr>\n",
       "  </tbody>\n",
       "</table>\n",
       "</div>"
      ],
      "text/plain": [
       "   children  days_employed  dob_years            education  education_id  \\\n",
       "0         1   -8437.673028         42    bachelor's degree             0   \n",
       "1         1   -4024.803754         36  secondary education             1   \n",
       "2         0   -5623.422610         33  Secondary Education             1   \n",
       "3         3   -4124.747207         32  secondary education             1   \n",
       "4         0  340266.072047         53  secondary education             1   \n",
       "\n",
       "       family_status  family_status_id gender income_type  debt  total_income  \\\n",
       "0            married                 0      F    employee     0     40620.102   \n",
       "1            married                 0      F    employee     0     17932.802   \n",
       "2            married                 0      M    employee     0     23341.752   \n",
       "3            married                 0      M    employee     0     42820.568   \n",
       "4  civil partnership                 1      F     retiree     0     25378.572   \n",
       "\n",
       "                   purpose  \n",
       "0    purchase of the house  \n",
       "1             car purchase  \n",
       "2    purchase of the house  \n",
       "3  supplementary education  \n",
       "4        to have a wedding  "
      ]
     },
     "execution_count": 6,
     "metadata": {},
     "output_type": "execute_result"
    }
   ],
   "source": [
    "# Mari tampilkan 5 baris pertama\n",
    "data.head()"
   ]
  },
  {
   "cell_type": "markdown",
   "metadata": {},
   "source": [
    "Tabel data sudah kita tampilkan dan dapat dilihat bahwa benar data terdiri dari 12 kolom dan kita hanya menampilka lima baris saja sebagai gambaran umum. Sejauh mata memandang, untuk beberapa kolom saat ini mungkin terlihat baik-baik saja dan memiliki nilai yang tidak ada masalahnya. Tetapi dari sampel data di atas, contohnya seperti dalam kolom `days_employed` atau hari kerja nasabah memiliki nilai hari yang negatif dan kita harus mengganti nilainya menjadi positif. Selain itu dalam kolom `education` terlihat dari jenjang pendidikan nasabah yang memiliki nilai yang berbeda-beda tetapi memiliki makna yang sama, maka kita perlu menggantinya dalam satu nilai yang sama. Untuk kedua kolom tersebut akan kita lebih lanjut jelaskan dan ubah nilainya dalam tahapan Transformasi data."
   ]
  },
  {
   "cell_type": "markdown",
   "metadata": {},
   "source": [
    "[Jelaskan apa yang kamu lihat dan perhatikan dalam sampel data yang kamu tampilkan. Apakah terdapat masalah yang mungkin memerlukan penyelidikan dan perubahan lebih lanjut?]"
   ]
  },
  {
   "cell_type": "code",
   "execution_count": 7,
   "metadata": {
    "scrolled": false
   },
   "outputs": [
    {
     "name": "stdout",
     "output_type": "stream",
     "text": [
      "<class 'pandas.core.frame.DataFrame'>\n",
      "RangeIndex: 21525 entries, 0 to 21524\n",
      "Data columns (total 12 columns):\n",
      " #   Column            Non-Null Count  Dtype  \n",
      "---  ------            --------------  -----  \n",
      " 0   children          21525 non-null  int64  \n",
      " 1   days_employed     19351 non-null  float64\n",
      " 2   dob_years         21525 non-null  int64  \n",
      " 3   education         21525 non-null  object \n",
      " 4   education_id      21525 non-null  int64  \n",
      " 5   family_status     21525 non-null  object \n",
      " 6   family_status_id  21525 non-null  int64  \n",
      " 7   gender            21525 non-null  object \n",
      " 8   income_type       21525 non-null  object \n",
      " 9   debt              21525 non-null  int64  \n",
      " 10  total_income      19351 non-null  float64\n",
      " 11  purpose           21525 non-null  object \n",
      "dtypes: float64(2), int64(5), object(5)\n",
      "memory usage: 2.0+ MB\n"
     ]
    }
   ],
   "source": [
    "# Dapatkan informasi data\n",
    "data.info()"
   ]
  },
  {
   "cell_type": "markdown",
   "metadata": {},
   "source": [
    "Pada tahap di atas kita telah menerapkan fungsi `info()` dalam data kita untuk mencari informasi mengenai data secara lengkap dibandingkan dengan memanggil fungsi `shape`. Untuk jumlah baris , kolom, dan tipe data terlihat sudah benar dan tidak ada masalah hingga saat ini. Tetapi jikalau kita lihat lebih jeli lagi, dalam kolom `days_employed` dan `total_income` memiliki selisih nilai dengan jumlah baris data sesungguhnya atau dengan kata lain kedua kolom tersebut memiliki nilai yang hilang. Uniknya kedua kolom tersebut memiliki jumlah nilai hilang yang sama. Untuk lebih jelasnya mari kita melihat nilai yang hilang dalam kolom `days_employed` dengan menerapkan filter khusus untuk menyaring nilai yang hilang, yaitu menggunakan `isna()`"
   ]
  },
  {
   "cell_type": "code",
   "execution_count": 8,
   "metadata": {},
   "outputs": [
    {
     "data": {
      "text/html": [
       "<div>\n",
       "<style scoped>\n",
       "    .dataframe tbody tr th:only-of-type {\n",
       "        vertical-align: middle;\n",
       "    }\n",
       "\n",
       "    .dataframe tbody tr th {\n",
       "        vertical-align: top;\n",
       "    }\n",
       "\n",
       "    .dataframe thead th {\n",
       "        text-align: right;\n",
       "    }\n",
       "</style>\n",
       "<table border=\"1\" class=\"dataframe\">\n",
       "  <thead>\n",
       "    <tr style=\"text-align: right;\">\n",
       "      <th></th>\n",
       "      <th>children</th>\n",
       "      <th>days_employed</th>\n",
       "      <th>dob_years</th>\n",
       "      <th>education_id</th>\n",
       "      <th>family_status_id</th>\n",
       "      <th>debt</th>\n",
       "      <th>total_income</th>\n",
       "    </tr>\n",
       "  </thead>\n",
       "  <tbody>\n",
       "    <tr>\n",
       "      <th>count</th>\n",
       "      <td>21525.000000</td>\n",
       "      <td>19351.000000</td>\n",
       "      <td>21525.000000</td>\n",
       "      <td>21525.000000</td>\n",
       "      <td>21525.000000</td>\n",
       "      <td>21525.000000</td>\n",
       "      <td>19351.000000</td>\n",
       "    </tr>\n",
       "    <tr>\n",
       "      <th>mean</th>\n",
       "      <td>0.538908</td>\n",
       "      <td>63046.497661</td>\n",
       "      <td>43.293380</td>\n",
       "      <td>0.817236</td>\n",
       "      <td>0.972544</td>\n",
       "      <td>0.080883</td>\n",
       "      <td>26787.568355</td>\n",
       "    </tr>\n",
       "    <tr>\n",
       "      <th>std</th>\n",
       "      <td>1.381587</td>\n",
       "      <td>140827.311974</td>\n",
       "      <td>12.574584</td>\n",
       "      <td>0.548138</td>\n",
       "      <td>1.420324</td>\n",
       "      <td>0.272661</td>\n",
       "      <td>16475.450632</td>\n",
       "    </tr>\n",
       "    <tr>\n",
       "      <th>min</th>\n",
       "      <td>-1.000000</td>\n",
       "      <td>-18388.949901</td>\n",
       "      <td>0.000000</td>\n",
       "      <td>0.000000</td>\n",
       "      <td>0.000000</td>\n",
       "      <td>0.000000</td>\n",
       "      <td>3306.762000</td>\n",
       "    </tr>\n",
       "    <tr>\n",
       "      <th>25%</th>\n",
       "      <td>0.000000</td>\n",
       "      <td>-2747.423625</td>\n",
       "      <td>33.000000</td>\n",
       "      <td>1.000000</td>\n",
       "      <td>0.000000</td>\n",
       "      <td>0.000000</td>\n",
       "      <td>16488.504500</td>\n",
       "    </tr>\n",
       "    <tr>\n",
       "      <th>50%</th>\n",
       "      <td>0.000000</td>\n",
       "      <td>-1203.369529</td>\n",
       "      <td>42.000000</td>\n",
       "      <td>1.000000</td>\n",
       "      <td>0.000000</td>\n",
       "      <td>0.000000</td>\n",
       "      <td>23202.870000</td>\n",
       "    </tr>\n",
       "    <tr>\n",
       "      <th>75%</th>\n",
       "      <td>1.000000</td>\n",
       "      <td>-291.095954</td>\n",
       "      <td>53.000000</td>\n",
       "      <td>1.000000</td>\n",
       "      <td>1.000000</td>\n",
       "      <td>0.000000</td>\n",
       "      <td>32549.611000</td>\n",
       "    </tr>\n",
       "    <tr>\n",
       "      <th>max</th>\n",
       "      <td>20.000000</td>\n",
       "      <td>401755.400475</td>\n",
       "      <td>75.000000</td>\n",
       "      <td>4.000000</td>\n",
       "      <td>4.000000</td>\n",
       "      <td>1.000000</td>\n",
       "      <td>362496.645000</td>\n",
       "    </tr>\n",
       "  </tbody>\n",
       "</table>\n",
       "</div>"
      ],
      "text/plain": [
       "           children  days_employed     dob_years  education_id  \\\n",
       "count  21525.000000   19351.000000  21525.000000  21525.000000   \n",
       "mean       0.538908   63046.497661     43.293380      0.817236   \n",
       "std        1.381587  140827.311974     12.574584      0.548138   \n",
       "min       -1.000000  -18388.949901      0.000000      0.000000   \n",
       "25%        0.000000   -2747.423625     33.000000      1.000000   \n",
       "50%        0.000000   -1203.369529     42.000000      1.000000   \n",
       "75%        1.000000    -291.095954     53.000000      1.000000   \n",
       "max       20.000000  401755.400475     75.000000      4.000000   \n",
       "\n",
       "       family_status_id          debt   total_income  \n",
       "count      21525.000000  21525.000000   19351.000000  \n",
       "mean           0.972544      0.080883   26787.568355  \n",
       "std            1.420324      0.272661   16475.450632  \n",
       "min            0.000000      0.000000    3306.762000  \n",
       "25%            0.000000      0.000000   16488.504500  \n",
       "50%            0.000000      0.000000   23202.870000  \n",
       "75%            1.000000      0.000000   32549.611000  \n",
       "max            4.000000      1.000000  362496.645000  "
      ]
     },
     "execution_count": 8,
     "metadata": {},
     "output_type": "execute_result"
    }
   ],
   "source": [
    "# Mendapatkan informasi data menggunakan `describe()`\n",
    "data.describe()"
   ]
  },
  {
   "cell_type": "markdown",
   "metadata": {},
   "source": [
    "Sebelumnya kita sudah menampilkan informasi umum *dataset* menggunakan `info()` untuk melihat tipe data, nama-nama kolom, jumlah baris, dan mengindikasikan adanya nilai hilang. Untuk kesempatan saat ini kita juga telah melihat informasi data, secara khusus untuk kolom-kolom numerik dalam *dataset* ini. Dari bagian ini juga sudah terlihat bahwa untuk kolom `days_employed` dan `total_income` jumlahnya berbeda dengan kolom lain pada bagian *count*. Sedikit *spoiler* saja, kita melihat adanya nilai minimal yang aneh untuk kolom `children` dan `days_employed`! Keanehan itu berupa nilainya berjumlah negatif dan tidak masuk akal. Untuk kejanggalan ini kita akan bahas lebih lanjut dan memperbaikinya dalam tahapan transformasi data."
   ]
  },
  {
   "cell_type": "code",
   "execution_count": 9,
   "metadata": {
    "scrolled": false
   },
   "outputs": [
    {
     "data": {
      "text/html": [
       "<div>\n",
       "<style scoped>\n",
       "    .dataframe tbody tr th:only-of-type {\n",
       "        vertical-align: middle;\n",
       "    }\n",
       "\n",
       "    .dataframe tbody tr th {\n",
       "        vertical-align: top;\n",
       "    }\n",
       "\n",
       "    .dataframe thead th {\n",
       "        text-align: right;\n",
       "    }\n",
       "</style>\n",
       "<table border=\"1\" class=\"dataframe\">\n",
       "  <thead>\n",
       "    <tr style=\"text-align: right;\">\n",
       "      <th></th>\n",
       "      <th>children</th>\n",
       "      <th>days_employed</th>\n",
       "      <th>dob_years</th>\n",
       "      <th>education</th>\n",
       "      <th>education_id</th>\n",
       "      <th>family_status</th>\n",
       "      <th>family_status_id</th>\n",
       "      <th>gender</th>\n",
       "      <th>income_type</th>\n",
       "      <th>debt</th>\n",
       "      <th>total_income</th>\n",
       "      <th>purpose</th>\n",
       "    </tr>\n",
       "  </thead>\n",
       "  <tbody>\n",
       "    <tr>\n",
       "      <th>12</th>\n",
       "      <td>0</td>\n",
       "      <td>NaN</td>\n",
       "      <td>65</td>\n",
       "      <td>secondary education</td>\n",
       "      <td>1</td>\n",
       "      <td>civil partnership</td>\n",
       "      <td>1</td>\n",
       "      <td>M</td>\n",
       "      <td>retiree</td>\n",
       "      <td>0</td>\n",
       "      <td>NaN</td>\n",
       "      <td>to have a wedding</td>\n",
       "    </tr>\n",
       "    <tr>\n",
       "      <th>26</th>\n",
       "      <td>0</td>\n",
       "      <td>NaN</td>\n",
       "      <td>41</td>\n",
       "      <td>secondary education</td>\n",
       "      <td>1</td>\n",
       "      <td>married</td>\n",
       "      <td>0</td>\n",
       "      <td>M</td>\n",
       "      <td>civil servant</td>\n",
       "      <td>0</td>\n",
       "      <td>NaN</td>\n",
       "      <td>education</td>\n",
       "    </tr>\n",
       "    <tr>\n",
       "      <th>29</th>\n",
       "      <td>0</td>\n",
       "      <td>NaN</td>\n",
       "      <td>63</td>\n",
       "      <td>secondary education</td>\n",
       "      <td>1</td>\n",
       "      <td>unmarried</td>\n",
       "      <td>4</td>\n",
       "      <td>F</td>\n",
       "      <td>retiree</td>\n",
       "      <td>0</td>\n",
       "      <td>NaN</td>\n",
       "      <td>building a real estate</td>\n",
       "    </tr>\n",
       "    <tr>\n",
       "      <th>41</th>\n",
       "      <td>0</td>\n",
       "      <td>NaN</td>\n",
       "      <td>50</td>\n",
       "      <td>secondary education</td>\n",
       "      <td>1</td>\n",
       "      <td>married</td>\n",
       "      <td>0</td>\n",
       "      <td>F</td>\n",
       "      <td>civil servant</td>\n",
       "      <td>0</td>\n",
       "      <td>NaN</td>\n",
       "      <td>second-hand car purchase</td>\n",
       "    </tr>\n",
       "    <tr>\n",
       "      <th>55</th>\n",
       "      <td>0</td>\n",
       "      <td>NaN</td>\n",
       "      <td>54</td>\n",
       "      <td>secondary education</td>\n",
       "      <td>1</td>\n",
       "      <td>civil partnership</td>\n",
       "      <td>1</td>\n",
       "      <td>F</td>\n",
       "      <td>retiree</td>\n",
       "      <td>1</td>\n",
       "      <td>NaN</td>\n",
       "      <td>to have a wedding</td>\n",
       "    </tr>\n",
       "    <tr>\n",
       "      <th>...</th>\n",
       "      <td>...</td>\n",
       "      <td>...</td>\n",
       "      <td>...</td>\n",
       "      <td>...</td>\n",
       "      <td>...</td>\n",
       "      <td>...</td>\n",
       "      <td>...</td>\n",
       "      <td>...</td>\n",
       "      <td>...</td>\n",
       "      <td>...</td>\n",
       "      <td>...</td>\n",
       "      <td>...</td>\n",
       "    </tr>\n",
       "    <tr>\n",
       "      <th>21489</th>\n",
       "      <td>2</td>\n",
       "      <td>NaN</td>\n",
       "      <td>47</td>\n",
       "      <td>Secondary Education</td>\n",
       "      <td>1</td>\n",
       "      <td>married</td>\n",
       "      <td>0</td>\n",
       "      <td>M</td>\n",
       "      <td>business</td>\n",
       "      <td>0</td>\n",
       "      <td>NaN</td>\n",
       "      <td>purchase of a car</td>\n",
       "    </tr>\n",
       "    <tr>\n",
       "      <th>21495</th>\n",
       "      <td>1</td>\n",
       "      <td>NaN</td>\n",
       "      <td>50</td>\n",
       "      <td>secondary education</td>\n",
       "      <td>1</td>\n",
       "      <td>civil partnership</td>\n",
       "      <td>1</td>\n",
       "      <td>F</td>\n",
       "      <td>employee</td>\n",
       "      <td>0</td>\n",
       "      <td>NaN</td>\n",
       "      <td>wedding ceremony</td>\n",
       "    </tr>\n",
       "    <tr>\n",
       "      <th>21497</th>\n",
       "      <td>0</td>\n",
       "      <td>NaN</td>\n",
       "      <td>48</td>\n",
       "      <td>BACHELOR'S DEGREE</td>\n",
       "      <td>0</td>\n",
       "      <td>married</td>\n",
       "      <td>0</td>\n",
       "      <td>F</td>\n",
       "      <td>business</td>\n",
       "      <td>0</td>\n",
       "      <td>NaN</td>\n",
       "      <td>building a property</td>\n",
       "    </tr>\n",
       "    <tr>\n",
       "      <th>21502</th>\n",
       "      <td>1</td>\n",
       "      <td>NaN</td>\n",
       "      <td>42</td>\n",
       "      <td>secondary education</td>\n",
       "      <td>1</td>\n",
       "      <td>married</td>\n",
       "      <td>0</td>\n",
       "      <td>F</td>\n",
       "      <td>employee</td>\n",
       "      <td>0</td>\n",
       "      <td>NaN</td>\n",
       "      <td>building a real estate</td>\n",
       "    </tr>\n",
       "    <tr>\n",
       "      <th>21510</th>\n",
       "      <td>2</td>\n",
       "      <td>NaN</td>\n",
       "      <td>28</td>\n",
       "      <td>secondary education</td>\n",
       "      <td>1</td>\n",
       "      <td>married</td>\n",
       "      <td>0</td>\n",
       "      <td>F</td>\n",
       "      <td>employee</td>\n",
       "      <td>0</td>\n",
       "      <td>NaN</td>\n",
       "      <td>car purchase</td>\n",
       "    </tr>\n",
       "  </tbody>\n",
       "</table>\n",
       "<p>2174 rows × 12 columns</p>\n",
       "</div>"
      ],
      "text/plain": [
       "       children  days_employed  dob_years            education  education_id  \\\n",
       "12            0            NaN         65  secondary education             1   \n",
       "26            0            NaN         41  secondary education             1   \n",
       "29            0            NaN         63  secondary education             1   \n",
       "41            0            NaN         50  secondary education             1   \n",
       "55            0            NaN         54  secondary education             1   \n",
       "...         ...            ...        ...                  ...           ...   \n",
       "21489         2            NaN         47  Secondary Education             1   \n",
       "21495         1            NaN         50  secondary education             1   \n",
       "21497         0            NaN         48    BACHELOR'S DEGREE             0   \n",
       "21502         1            NaN         42  secondary education             1   \n",
       "21510         2            NaN         28  secondary education             1   \n",
       "\n",
       "           family_status  family_status_id gender    income_type  debt  \\\n",
       "12     civil partnership                 1      M        retiree     0   \n",
       "26               married                 0      M  civil servant     0   \n",
       "29             unmarried                 4      F        retiree     0   \n",
       "41               married                 0      F  civil servant     0   \n",
       "55     civil partnership                 1      F        retiree     1   \n",
       "...                  ...               ...    ...            ...   ...   \n",
       "21489            married                 0      M       business     0   \n",
       "21495  civil partnership                 1      F       employee     0   \n",
       "21497            married                 0      F       business     0   \n",
       "21502            married                 0      F       employee     0   \n",
       "21510            married                 0      F       employee     0   \n",
       "\n",
       "       total_income                   purpose  \n",
       "12              NaN         to have a wedding  \n",
       "26              NaN                 education  \n",
       "29              NaN    building a real estate  \n",
       "41              NaN  second-hand car purchase  \n",
       "55              NaN         to have a wedding  \n",
       "...             ...                       ...  \n",
       "21489           NaN         purchase of a car  \n",
       "21495           NaN          wedding ceremony  \n",
       "21497           NaN       building a property  \n",
       "21502           NaN    building a real estate  \n",
       "21510           NaN              car purchase  \n",
       "\n",
       "[2174 rows x 12 columns]"
      ]
     },
     "execution_count": 9,
     "metadata": {},
     "output_type": "execute_result"
    }
   ],
   "source": [
    "# Mari kita lihat tabel yang telah difilter dengan nilai yang hilang di kolom pertama yang mengandung data yang hilang\n",
    "data[data['days_employed'].isna()]"
   ]
  },
  {
   "cell_type": "markdown",
   "metadata": {},
   "source": [
    "Setelah melakukan penyaringan data yang memiliki nilai hilang dalam kolom pertama, kita dapat melihat bahwa jumlah nilai yang hilang dalam kolom `days_employed` sebanyak 2174 baris. Seperti yang telah dijelaskan sebelumnya bahwa kolom `days_employed` dan `total_income` memiliki nilai hilang yang sama, sehingga kita dapat mengatakan bahwa nilai hilang dalam data ini terlihat simetris. Sekarang mari kita lihat dan buktikan bahwa jumlah nilai hilang antara `days_employed` dan `total_income` setara dalam keseluruhan kolom data."
   ]
  },
  {
   "cell_type": "code",
   "execution_count": 10,
   "metadata": {
    "scrolled": true
   },
   "outputs": [
    {
     "data": {
      "text/plain": [
       "children               0\n",
       "days_employed       2174\n",
       "dob_years              0\n",
       "education              0\n",
       "education_id           0\n",
       "family_status          0\n",
       "family_status_id       0\n",
       "gender                 0\n",
       "income_type            0\n",
       "debt                   0\n",
       "total_income        2174\n",
       "purpose                0\n",
       "dtype: int64"
      ]
     },
     "execution_count": 10,
     "metadata": {},
     "output_type": "execute_result"
    }
   ],
   "source": [
    "# Mari kita terapkan beberapa kondisi untuk memfilter data dan melihat jumlah baris dalam tabel yang telah difilter.\n",
    "data.isna().sum()"
   ]
  },
  {
   "cell_type": "markdown",
   "metadata": {},
   "source": [
    "Kita sudah mengetahui jumlah nilai yang hilang sebanyak 2174 baris. Bagaimana jikalau kita lihat persentase nilai hilangnya?"
   ]
  },
  {
   "cell_type": "code",
   "execution_count": 11,
   "metadata": {
    "scrolled": false
   },
   "outputs": [
    {
     "data": {
      "text/plain": [
       "children            0.000000\n",
       "days_employed       0.100999\n",
       "dob_years           0.000000\n",
       "education           0.000000\n",
       "education_id        0.000000\n",
       "family_status       0.000000\n",
       "family_status_id    0.000000\n",
       "gender              0.000000\n",
       "income_type         0.000000\n",
       "debt                0.000000\n",
       "total_income        0.100999\n",
       "purpose             0.000000\n",
       "dtype: float64"
      ]
     },
     "execution_count": 11,
     "metadata": {},
     "output_type": "execute_result"
    }
   ],
   "source": [
    "# Melihat persentase jumlah nilai hilang dalam setiap kolom\n",
    "data.isna().sum() / len(data)"
   ]
  },
  {
   "cell_type": "markdown",
   "metadata": {},
   "source": [
    "**Kesimpulan sementara**\n",
    "\n",
    "Dari hasil yang telah diberikan di atas telah memastikan bahwa nilai yang hilang dalam data kita setelah disaring sudah memiliki jumlah nilai hilang yang sama dalam tahapan sebelumnya. Berarti sejauh ini memang nilai hilang dalam data kita terlihat simetris dan disebabkan oleh faktor atau karakteristik tertentu. Jika kita melihat dari persentase nilai hilang yang telah dilakukan dalam blok kode sebelumnya, terlihat bahwa **sekitar 10%** data dalam kolom `days_employed` dan `total_income` memilki nilai hilang yang bisa dikatakan tidak sedikit. \n",
    "\n",
    "Dalam tahap Transformasi data selanjutnya kita perlu mengisi nilai yang hilang dalam kedua kolom tersebut. Selanjutnya kita akan memeriksa distribusi dalam data yang hilang dengan data asli untuk dibandingkan. Langkahnya yaitu dengan menyaring data yang hilang dalam kolom `days_employed` dan `total_income` lalu menyimpannya dalam variabel baru. Setelah itu kita bisa memeriksa distribusi dalam kolom yang memiliki nilai hilang, membandingkannya dengan data asli, dan memeriksa apakah dalam data yang nilainya hilang terdapat sebuah pola atau tidak."
   ]
  },
  {
   "cell_type": "code",
   "execution_count": 12,
   "metadata": {},
   "outputs": [],
   "source": [
    "# Mari kita periksa nasabah yang tidak memiliki data tentang karakteristik yang teridentifikasi dan kolom dengan nilai yang hilang\n",
    "data_null = data[(data['days_employed'].isna()) & (data['total_income'].isna())].reset_index(drop = True)"
   ]
  },
  {
   "cell_type": "markdown",
   "metadata": {},
   "source": [
    "Kita akan memeriksa datanya kembali apakah sesuai dengan jumlah data yang hilang atau tidak di bawah ini."
   ]
  },
  {
   "cell_type": "code",
   "execution_count": 13,
   "metadata": {},
   "outputs": [
    {
     "data": {
      "text/html": [
       "<div>\n",
       "<style scoped>\n",
       "    .dataframe tbody tr th:only-of-type {\n",
       "        vertical-align: middle;\n",
       "    }\n",
       "\n",
       "    .dataframe tbody tr th {\n",
       "        vertical-align: top;\n",
       "    }\n",
       "\n",
       "    .dataframe thead th {\n",
       "        text-align: right;\n",
       "    }\n",
       "</style>\n",
       "<table border=\"1\" class=\"dataframe\">\n",
       "  <thead>\n",
       "    <tr style=\"text-align: right;\">\n",
       "      <th></th>\n",
       "      <th>children</th>\n",
       "      <th>days_employed</th>\n",
       "      <th>dob_years</th>\n",
       "      <th>education</th>\n",
       "      <th>education_id</th>\n",
       "      <th>family_status</th>\n",
       "      <th>family_status_id</th>\n",
       "      <th>gender</th>\n",
       "      <th>income_type</th>\n",
       "      <th>debt</th>\n",
       "      <th>total_income</th>\n",
       "      <th>purpose</th>\n",
       "    </tr>\n",
       "  </thead>\n",
       "  <tbody>\n",
       "    <tr>\n",
       "      <th>1726</th>\n",
       "      <td>0</td>\n",
       "      <td>NaN</td>\n",
       "      <td>38</td>\n",
       "      <td>secondary education</td>\n",
       "      <td>1</td>\n",
       "      <td>married</td>\n",
       "      <td>0</td>\n",
       "      <td>F</td>\n",
       "      <td>employee</td>\n",
       "      <td>0</td>\n",
       "      <td>NaN</td>\n",
       "      <td>to own a car</td>\n",
       "    </tr>\n",
       "  </tbody>\n",
       "</table>\n",
       "</div>"
      ],
      "text/plain": [
       "      children  days_employed  dob_years            education  education_id  \\\n",
       "1726         0            NaN         38  secondary education             1   \n",
       "\n",
       "     family_status  family_status_id gender income_type  debt  total_income  \\\n",
       "1726       married                 0      F    employee     0           NaN   \n",
       "\n",
       "           purpose  \n",
       "1726  to own a car  "
      ]
     },
     "execution_count": 13,
     "metadata": {},
     "output_type": "execute_result"
    }
   ],
   "source": [
    "# Menampilkan sampel *dataset* baru yang berisi nilai hilang dalam kedua kolom\n",
    "data_null.sample()"
   ]
  },
  {
   "cell_type": "markdown",
   "metadata": {},
   "source": [
    "Kita sudah menyimpan data yang memiliki nilai hilang dalam kedua kolom pada suatu variabel baru dan dengan urutan indeks baru. Artinya kita dapat memeriksa distribusi kolom-kolom data di atas dan menjelaskannya. Sebenarnya kita hanya perlu melihat distribusi untuk kolom kategorik saja, tetapi karena kita akan membandingkannya dengan data yang asli, maka akan lebih baik jika kita memeriksa distribusi untuk keseluruhan kolom. Mari kita mulai melihat distribusi dalam data yang memiliki nilai hilang pada kolom `children` terlebih dahulu."
   ]
  },
  {
   "cell_type": "code",
   "execution_count": 14,
   "metadata": {
    "scrolled": false
   },
   "outputs": [
    {
     "data": {
      "text/plain": [
       " 0     0.661914\n",
       " 1     0.218491\n",
       " 2     0.093836\n",
       " 3     0.016559\n",
       " 20    0.004140\n",
       " 4     0.003220\n",
       "-1     0.001380\n",
       " 5     0.000460\n",
       "Name: children, dtype: float64"
      ]
     },
     "execution_count": 14,
     "metadata": {},
     "output_type": "execute_result"
    }
   ],
   "source": [
    "# Periksalah distribusinya\n",
    "data_null['children'].value_counts(normalize = True)"
   ]
  },
  {
   "cell_type": "markdown",
   "metadata": {},
   "source": [
    "Dari hasil eksekusi kode di atas, kita dapat melihat distribusi dari kolom `children` dalam bentuk persentase. Jika dijelaskan dalam sebuah kalimat, maka nasabah yang memiliki nilai yang hilang dalam data tersebut lebih dominan berasal dari **nasabah yang tidak memiliki anak sekitar 66%**. Kita dapat menemukan nilai yang unik dalam data di atas yaitu ada nasabah yang memiliki jumlah anak 20 dan -1. Hal ini tentu tidak akan kita biarkan dan akan diperbaiki dalam fase pengerjaan proyek selanjutnya."
   ]
  },
  {
   "cell_type": "code",
   "execution_count": 15,
   "metadata": {
    "scrolled": false
   },
   "outputs": [
    {
     "data": {
      "text/plain": [
       "34    0.031739\n",
       "40    0.030359\n",
       "31    0.029899\n",
       "42    0.029899\n",
       "35    0.029439\n",
       "36    0.028979\n",
       "47    0.027139\n",
       "41    0.027139\n",
       "30    0.026679\n",
       "28    0.026219\n",
       "57    0.025759\n",
       "58    0.025759\n",
       "54    0.025299\n",
       "38    0.024839\n",
       "56    0.024839\n",
       "37    0.024379\n",
       "52    0.024379\n",
       "39    0.023459\n",
       "33    0.023459\n",
       "50    0.023459\n",
       "51    0.022999\n",
       "45    0.022999\n",
       "49    0.022999\n",
       "29    0.022999\n",
       "43    0.022999\n",
       "46    0.022079\n",
       "55    0.022079\n",
       "48    0.021159\n",
       "53    0.020239\n",
       "44    0.020239\n",
       "60    0.017939\n",
       "61    0.017479\n",
       "62    0.017479\n",
       "64    0.017019\n",
       "32    0.017019\n",
       "27    0.016559\n",
       "23    0.016559\n",
       "26    0.016099\n",
       "59    0.015639\n",
       "63    0.013339\n",
       "25    0.010580\n",
       "24    0.009660\n",
       "66    0.009200\n",
       "65    0.009200\n",
       "21    0.008280\n",
       "22    0.007820\n",
       "67    0.007360\n",
       "0     0.004600\n",
       "68    0.004140\n",
       "69    0.002300\n",
       "20    0.002300\n",
       "71    0.002300\n",
       "70    0.001380\n",
       "72    0.000920\n",
       "19    0.000460\n",
       "73    0.000460\n",
       "Name: dob_years, dtype: float64"
      ]
     },
     "execution_count": 15,
     "metadata": {},
     "output_type": "execute_result"
    }
   ],
   "source": [
    "# Memeriksa distribusi dari data_null untuk kolom `dob_years`\n",
    "data_null['dob_years'].value_counts(normalize = True)"
   ]
  },
  {
   "cell_type": "markdown",
   "metadata": {},
   "source": [
    "Dari kolom `dob_years` sebelumnya terdapat beragam usia dari nasabah dalam data yang kita miliki. Terlihat bahwa sebesar **3.17%** data dalam kolom di atas di dominasi dari nasabah yang berusia **34 tahun**. Jikalau kita melihat lebih jeli, terdapat keanehan dalam usia nasabah di data ini, yaitu ada yang masih berusia 0 tahun. Kita akan memperbaiki data ini dalam tahapan Transformasi data."
   ]
  },
  {
   "cell_type": "code",
   "execution_count": 16,
   "metadata": {
    "scrolled": false
   },
   "outputs": [
    {
     "data": {
      "text/plain": [
       "secondary education    0.647654\n",
       "bachelor's degree      0.228151\n",
       "SECONDARY EDUCATION    0.030819\n",
       "Secondary Education    0.029899\n",
       "some college           0.025299\n",
       "Bachelor's Degree      0.011500\n",
       "BACHELOR'S DEGREE      0.010580\n",
       "primary education      0.008740\n",
       "SOME COLLEGE           0.003220\n",
       "Some College           0.003220\n",
       "Primary Education      0.000460\n",
       "PRIMARY EDUCATION      0.000460\n",
       "Name: education, dtype: float64"
      ]
     },
     "execution_count": 16,
     "metadata": {},
     "output_type": "execute_result"
    }
   ],
   "source": [
    "# Memeriksa distribusi dari data_null untuk kolom `education`\n",
    "data_null['education'].value_counts(normalize = True)"
   ]
  },
  {
   "cell_type": "markdown",
   "metadata": {},
   "source": [
    "Kita sudah mendapatkan hasil distribusi untuk kolom `education` dari data yang memiliki nilai hilang. Terlihat ada banyak jenis atau tingkat pendidikan dari nasabah, tetapi nilainya sebenarnya memiliki makna yang sama atau terlihat redundan. Jikalau kita membahas distribusinya, sebesar **64.7 %** distribusi data hilang dalam kolom `education` berasal dari nasabah yang memiliki jenjang pendidikan ***secondary education***."
   ]
  },
  {
   "cell_type": "code",
   "execution_count": 17,
   "metadata": {},
   "outputs": [
    {
     "data": {
      "text/plain": [
       "1    0.708372\n",
       "0    0.250230\n",
       "2    0.031739\n",
       "3    0.009660\n",
       "Name: education_id, dtype: float64"
      ]
     },
     "execution_count": 17,
     "metadata": {},
     "output_type": "execute_result"
    }
   ],
   "source": [
    "# Memeriksa distribusi dari data_null untuk kolom `education_id`\n",
    "data_null['education_id'].value_counts(normalize = True)"
   ]
  },
  {
   "cell_type": "markdown",
   "metadata": {},
   "source": [
    "`education_id` menjelaskan mengenai pengindetifikasian atau nilai unik dari tingkat pendidikan nasabah. Dari hasil eksekusi kode di atas, kita dapat menyimpulkan bahwa distribusi nilai hilang dalam kolom tersebut berasal dari kode tingkat pendidikan **nomor 1** sebesar **70.8%**."
   ]
  },
  {
   "cell_type": "code",
   "execution_count": 18,
   "metadata": {
    "scrolled": false
   },
   "outputs": [
    {
     "data": {
      "text/plain": [
       "married              0.568997\n",
       "civil partnership    0.203312\n",
       "unmarried            0.132475\n",
       "divorced             0.051518\n",
       "widow / widower      0.043698\n",
       "Name: family_status, dtype: float64"
      ]
     },
     "execution_count": 18,
     "metadata": {},
     "output_type": "execute_result"
    }
   ],
   "source": [
    "# Memeriksa distribusi dari data_null untuk kolom `family_status`\n",
    "data_null['family_status'].value_counts(normalize = True)"
   ]
  },
  {
   "cell_type": "markdown",
   "metadata": {},
   "source": [
    "Kita sudah berhasil menemukan hasil distribusi data yang hilang dalam kolom `family_status`. Dari distribusi nilai di atas menjelaskan kepada kita bahwa nilai yang hilang dalam data ini sebagian besar berasal dari nasabah yang memiliki status keluarga ***married*** atau sudah menikah sebesar **56.8%**. Posisi kedua ditempati dari status keluarga ***civil partnership*** sebesar **20.3%**."
   ]
  },
  {
   "cell_type": "code",
   "execution_count": 19,
   "metadata": {},
   "outputs": [
    {
     "data": {
      "text/plain": [
       "0    0.568997\n",
       "1    0.203312\n",
       "4    0.132475\n",
       "3    0.051518\n",
       "2    0.043698\n",
       "Name: family_status_id, dtype: float64"
      ]
     },
     "execution_count": 19,
     "metadata": {},
     "output_type": "execute_result"
    }
   ],
   "source": [
    "# Memeriksa distribusi dari data_null untuk kolom `family_status_id`\n",
    "data_null['family_status_id'].value_counts(normalize = True)"
   ]
  },
  {
   "cell_type": "markdown",
   "metadata": {},
   "source": [
    "Untuk kolom `family_status_id` menjelaskan kepada kita mengenai pengindetifikasian atau nilai unik dari status perkawinan keluarga yang berhubungan dengan kolom sebelumnya. Berdasarkan hasil distribusi di atas, data yang memiliki nilai hilang berdasarkan kolom `family_status_id` lebih dominan berasal dari nilai unik **nomor 0** sebesar **56.8%**."
   ]
  },
  {
   "cell_type": "code",
   "execution_count": 20,
   "metadata": {},
   "outputs": [
    {
     "data": {
      "text/plain": [
       "F    0.682613\n",
       "M    0.317387\n",
       "Name: gender, dtype: float64"
      ]
     },
     "execution_count": 20,
     "metadata": {},
     "output_type": "execute_result"
    }
   ],
   "source": [
    "# Memeriksa distribusi dari data_null untuk kolom `gender`\n",
    "data_null['gender'].value_counts(normalize = True)"
   ]
  },
  {
   "cell_type": "markdown",
   "metadata": {},
   "source": [
    "Mengenai kolom di atas berbicara mengenai jenis kelamin dari nasabah. Untuk hasil distribusi yang sudah didapatkan, kita dapat mengetahui bahwa data yang memiliki nilai hilang berdasarkan kolom `gender` lebih di dominasi dari nasabah yang berjenis kelamin ***F (Female)*** atau **Perempuan** sebesar **68.2%**. Sisa dari nilai distribusi tersebut datang dari nasabah yang berjenis kelamin laki-laki."
   ]
  },
  {
   "cell_type": "code",
   "execution_count": 21,
   "metadata": {
    "scrolled": false
   },
   "outputs": [
    {
     "data": {
      "text/plain": [
       "employee         0.508280\n",
       "business         0.233671\n",
       "retiree          0.189972\n",
       "civil servant    0.067617\n",
       "entrepreneur     0.000460\n",
       "Name: income_type, dtype: float64"
      ]
     },
     "execution_count": 21,
     "metadata": {},
     "output_type": "execute_result"
    }
   ],
   "source": [
    "# Memeriksa distribusi dari data_null untuk kolom `income_type`\n",
    "data_null['income_type'].value_counts(normalize = True)"
   ]
  },
  {
   "cell_type": "markdown",
   "metadata": {},
   "source": [
    "Dari kolom kode di atas menjelaskan kepada kita mengenai jenis pendapatan nasabah. Berdasarkan dari hasil eksekusi blok kode sebelumnya secara jelas menampilkan distribusi nilai hilang berdasarkan kolom `income_type` sebagian besar berasal dari nasabah yang bekerja sebagai ***employee*** atau **karyawan kantoran** sebesar **50.8%**."
   ]
  },
  {
   "cell_type": "code",
   "execution_count": 22,
   "metadata": {},
   "outputs": [
    {
     "data": {
      "text/plain": [
       "0    0.921803\n",
       "1    0.078197\n",
       "Name: debt, dtype: float64"
      ]
     },
     "execution_count": 22,
     "metadata": {},
     "output_type": "execute_result"
    }
   ],
   "source": [
    "# Memeriksa distribusi dari data_null untuk kolom `debt`\n",
    "data_null['debt'].value_counts(normalize = True)"
   ]
  },
  {
   "cell_type": "markdown",
   "metadata": {},
   "source": [
    "Kita sudah hampir sampai pada bagian akhir dari analisis distribusi dalam data yang memiliki nilai hilang dan untuk pembahasan bagian ini menjelaskan mengenai kolom `debt` atau hutang nasabah. Perlu untuk diketahui bahwa nilai dari kolom ini hanya ada **0** dan **1**. Artinya untuk nilai **0** menjelaskan bahwa nasabah tidak pernah gagal untuk membayar pinjaman atau hutang sedangkan untuk nilai **1** memiliki arti sebaliknya. Dari dstribusi yang sudah didapatkan menjelaskan kepada kita bahwa **hampir seluruh nasabah tidak pernah gagal bayar pinjaman** dengan persentase sebesar **92.1%** dalam data yang memiliki nilai hilang. Untuk sisanya sebesar **7.81%** mengatakan sebaliknya yaitu **nasabah pernah gagal melunasi pinjaman**."
   ]
  },
  {
   "cell_type": "code",
   "execution_count": 23,
   "metadata": {
    "scrolled": false
   },
   "outputs": [
    {
     "data": {
      "text/plain": [
       "having a wedding                            0.042318\n",
       "to have a wedding                           0.037259\n",
       "wedding ceremony                            0.034959\n",
       "construction of own property                0.034499\n",
       "housing transactions                        0.034039\n",
       "buy real estate                             0.033119\n",
       "transactions with my real estate            0.032659\n",
       "purchase of the house for my family         0.032659\n",
       "housing renovation                          0.032199\n",
       "transactions with commercial real estate    0.032199\n",
       "buy commercial real estate                  0.030819\n",
       "buying property for renting out             0.029899\n",
       "property                                    0.028519\n",
       "buy residential real estate                 0.028059\n",
       "real estate transactions                    0.028059\n",
       "housing                                     0.027599\n",
       "building a property                         0.027139\n",
       "cars                                        0.026219\n",
       "going to university                         0.025759\n",
       "to become educated                          0.025299\n",
       "second-hand car purchase                    0.024839\n",
       "buying my own car                           0.024379\n",
       "to own a car                                0.023919\n",
       "purchase of the house                       0.023919\n",
       "to get a supplementary education            0.023459\n",
       "getting an education                        0.022999\n",
       "supplementary education                     0.022079\n",
       "profile education                           0.021619\n",
       "purchase of a car                           0.021159\n",
       "purchase of my own house                    0.021159\n",
       "building a real estate                      0.021159\n",
       "car purchase                                0.019779\n",
       "education                                   0.019319\n",
       "buying a second-hand car                    0.019319\n",
       "car                                         0.018859\n",
       "university education                        0.018399\n",
       "getting higher education                    0.016559\n",
       "to buy a car                                0.013799\n",
       "Name: purpose, dtype: float64"
      ]
     },
     "execution_count": 23,
     "metadata": {},
     "output_type": "execute_result"
    }
   ],
   "source": [
    "# Memeriksa distribusi dari data_null untuk kolom `purpose`\n",
    "data_null['purpose'].value_counts(normalize = True)"
   ]
  },
  {
   "cell_type": "markdown",
   "metadata": {},
   "source": [
    "Bagian akhir dari analisis distribusi data untuk data yang memiliki nilai hilang saat ini membahas mengenai tujuan atau `purpose` dari nasabah mengambil pinjaman dalam bank. Dari distribusi di atas memiliki banyak jenis nilai atau kategori alasan nasabah melakukan pinjaman. Dari distribusi yang sudah didapatkan sebelumnya, kita dapat melihat bahwa posisi alasan dari ***having a wedding*** atau untuk **melaksanakan pernikahan** menduduki peringkat pertama sebesar **4.23%**."
   ]
  },
  {
   "cell_type": "markdown",
   "metadata": {},
   "source": [
    "**Kemungkinan penyebab hilangnya nilai dalam data**\n",
    "\n",
    "Kita sudah melakukan pemeriksaan distribusi nilai dalam setiap kolom dari data yang memiliki nilai hilang pada kolom `days_employed` dan `total_income`. Tidak semua nilai dalam data yang hilang dari hasil distribusi yang telah kita lihat muncul seperti data asli yang kita miliki. Penyebab hilangnya data bisa terjadi oleh beberapa faktor atau kondisi dan untuk kasus ini kita bisa berasumsi bahwa data yang hilang bisa saja disebabkan oleh sistem yang sedang galat saat akan menyimpan data nasabah dan bisa juga dikarenakan kedua kolom yang memiliki nilai hilang tersebut tidak wajib diisi oleh nasabah sehingga nilainya kosong. Ini hanya praduga saja dan bisa saja salah. Untuk saat ini kita belum bisa melihat apakah nilai yang hilang dalam data kita memiliki pola atau tidak sehingga kesimpulan sementara bahwa nilai yang hilang dalam data kita bersifat acak. Tahapan selanjutnya kita akan memeriksa distribusi nilai dari *dataframe* asli yang kita miliki dengan langkah serupa seperti tahapan sebelumnya dan kita akan membandingkannya dengan distribusi nilai sebelumnya."
   ]
  },
  {
   "cell_type": "code",
   "execution_count": 24,
   "metadata": {
    "scrolled": false
   },
   "outputs": [
    {
     "data": {
      "text/plain": [
       " 0     0.657329\n",
       " 1     0.223833\n",
       " 2     0.095470\n",
       " 3     0.015331\n",
       " 20    0.003531\n",
       "-1     0.002184\n",
       " 4     0.001905\n",
       " 5     0.000418\n",
       "Name: children, dtype: float64"
      ]
     },
     "execution_count": 24,
     "metadata": {},
     "output_type": "execute_result"
    }
   ],
   "source": [
    "# Memeriksa distribusi di seluruh dataset, mulai dari kolom `children`\n",
    "data['children'].value_counts(normalize = True)"
   ]
  },
  {
   "cell_type": "markdown",
   "metadata": {},
   "source": [
    "Kita sudah mendapatkan distribusi nilai dalam kolom `children` dari data asli. Jikalau kita melihat dari data yang memiliki nilai hilang jumlah nasabah yang tidak memiliki anak lebih dominan sekitar 66%. Hal ini masih sama kita temukan ketika dibandingkan dengan distribusi nilai dari data asli yaitu dengan persentase yang hampir serupa sebesar **65.7%** berasal dari **nasabah yang tidak memiliki anak**. Jikalau kita melihat dan membandingkan kedua distribusinya **terlihat hampir mirip** dan hanya terjadi sedikit perubahan posisi saja antara angka -1 dan 4."
   ]
  },
  {
   "cell_type": "code",
   "execution_count": 25,
   "metadata": {
    "scrolled": false
   },
   "outputs": [
    {
     "data": {
      "text/plain": [
       "-327.685916     0.005168\n",
       "-1580.622577    0.005168\n",
       "-4122.460569    0.005168\n",
       "-2828.237691    0.005168\n",
       "-2636.090517    0.005168\n",
       "                  ...   \n",
       "-7120.517564    0.005168\n",
       "-2146.884040    0.005168\n",
       "-881.454684     0.005168\n",
       "-794.666350     0.005168\n",
       "-3382.113891    0.005168\n",
       "Name: days_employed, Length: 19351, dtype: float64"
      ]
     },
     "execution_count": 25,
     "metadata": {},
     "output_type": "execute_result"
    }
   ],
   "source": [
    "# Memeriksa distribusi dari data asli untuk kolom `days_employed`\n",
    "data['days_employed'].value_counts(normalize = True) * 100"
   ]
  },
  {
   "cell_type": "markdown",
   "metadata": {},
   "source": [
    "Untuk nilai dari kolom `days_employed` sebenarnya memiliki banyak nilai yang beragam dan tidak termasuk dalam kolom kategorik. Seperti yang kita ketahui sebelumnya bahwa banyak atau hampir seluruh nilai dari kolom tersebut tidak benar karena memiliki jumlah yang negatif. Jikalau kita melihat distribusi nilainya memiliki jumlah yang serupa untuk seluruh nilainya, yaitu sekitar **0.005%** dengan jumlah hari bekerja sebanyak **-327.68** menduduki posisi pertama."
   ]
  },
  {
   "cell_type": "code",
   "execution_count": 26,
   "metadata": {
    "scrolled": false
   },
   "outputs": [
    {
     "data": {
      "text/plain": [
       "35    0.028664\n",
       "40    0.028293\n",
       "41    0.028200\n",
       "34    0.028014\n",
       "38    0.027782\n",
       "42    0.027735\n",
       "33    0.026992\n",
       "39    0.026620\n",
       "31    0.026016\n",
       "36    0.025784\n",
       "44    0.025412\n",
       "29    0.025319\n",
       "30    0.025087\n",
       "48    0.024994\n",
       "37    0.024948\n",
       "50    0.023879\n",
       "43    0.023833\n",
       "32    0.023693\n",
       "49    0.023600\n",
       "28    0.023368\n",
       "45    0.023089\n",
       "27    0.022904\n",
       "56    0.022625\n",
       "52    0.022485\n",
       "47    0.022300\n",
       "54    0.022253\n",
       "46    0.022067\n",
       "58    0.021417\n",
       "57    0.021370\n",
       "53    0.021324\n",
       "51    0.020813\n",
       "59    0.020627\n",
       "55    0.020581\n",
       "26    0.018955\n",
       "60    0.017515\n",
       "25    0.016585\n",
       "61    0.016492\n",
       "62    0.016353\n",
       "63    0.012497\n",
       "64    0.012311\n",
       "24    0.012265\n",
       "23    0.011800\n",
       "65    0.009013\n",
       "66    0.008502\n",
       "22    0.008502\n",
       "67    0.007758\n",
       "21    0.005157\n",
       "0     0.004692\n",
       "68    0.004599\n",
       "69    0.003949\n",
       "70    0.003020\n",
       "71    0.002695\n",
       "20    0.002369\n",
       "72    0.001533\n",
       "19    0.000650\n",
       "73    0.000372\n",
       "74    0.000279\n",
       "75    0.000046\n",
       "Name: dob_years, dtype: float64"
      ]
     },
     "execution_count": 26,
     "metadata": {},
     "output_type": "execute_result"
    }
   ],
   "source": [
    "# Memeriksa distribusi dari data asli untuk kolom `dob_years`\n",
    "data['dob_years'].value_counts(normalize = True)"
   ]
  },
  {
   "cell_type": "markdown",
   "metadata": {},
   "source": [
    "Untuk kesempatan ini kita akan membahas distribusi data dalam kolom `dob_years` atau usia dari nasabah. Kalau untuk distribusi dalam kolom ini dari data yang memiliki nilai hilang sebelumnya, kita mendapatkan bahwa usia 34 tahun berada dalam peringkat pertama sebesar 3.17%. Tetapi jika kita melihat dari hasil distribusi nilai untuk peringkat pertama dalam data asli ini memiliki nilai yang berbeda, yaitu berasal dari usia **35 tahun** dengan persentase sebesar **2.86%**. Untuk perbandingan kedua hasil distribusi yang kita dapatkan untuk kolom ini juga memiliki **urutan yang berbeda atau acak** sehingga **tidak memiliki distribusi yang jelas**, tidak seperti dalam kolom `children`."
   ]
  },
  {
   "cell_type": "code",
   "execution_count": 27,
   "metadata": {
    "scrolled": false
   },
   "outputs": [
    {
     "data": {
      "text/plain": [
       "secondary education    0.638792\n",
       "bachelor's degree      0.219187\n",
       "SECONDARY EDUCATION    0.035865\n",
       "Secondary Education    0.033031\n",
       "some college           0.031034\n",
       "BACHELOR'S DEGREE      0.012729\n",
       "Bachelor's Degree      0.012451\n",
       "primary education      0.011614\n",
       "Some College           0.002184\n",
       "SOME COLLEGE           0.001347\n",
       "PRIMARY EDUCATION      0.000790\n",
       "Primary Education      0.000697\n",
       "graduate degree        0.000186\n",
       "Graduate Degree        0.000046\n",
       "GRADUATE DEGREE        0.000046\n",
       "Name: education, dtype: float64"
      ]
     },
     "execution_count": 27,
     "metadata": {},
     "output_type": "execute_result"
    }
   ],
   "source": [
    "# Memeriksa distribusi dari data asli untuk kolom `education`\n",
    "data['education'].value_counts(normalize = True)"
   ]
  },
  {
   "cell_type": "markdown",
   "metadata": {},
   "source": [
    "Saat ini kita membahas mengenai distribusi nilai dalam kolom `education` dalam data asli yang kita punya. Berdasarkan hasil sebelumnya untuk data yang memiliki nilai hilang dalam kolom ini, sebesar 64.7% nilai berasal dari nasabah yang memiliki jenjang pendidikan *secondary education*. Untuk distribusi dalam blok kode di atas juga mengatakan hal yang serupa dalam peringkat dan persentase yang hampir serupa, yaitu di dominasi dari nasabah yang jenjang pendidikannya ***secondary education*** dengan persentase **63.8%**. Lalu untuk perbandingan kedua distribusi kolom ini **terlihat serupa**, kecuali untuk nasabah yang jenjang pendidikannya ***graduate degree*** tidak terdapat dalam distribusi data yang memiliki nilai hilang."
   ]
  },
  {
   "cell_type": "code",
   "execution_count": 28,
   "metadata": {},
   "outputs": [
    {
     "data": {
      "text/plain": [
       "1    0.707689\n",
       "0    0.244367\n",
       "2    0.034564\n",
       "3    0.013101\n",
       "4    0.000279\n",
       "Name: education_id, dtype: float64"
      ]
     },
     "execution_count": 28,
     "metadata": {},
     "output_type": "execute_result"
    }
   ],
   "source": [
    "# Memeriksa distribusi dari data asli untuk kolom `education_id`\n",
    "data['education_id'].value_counts(normalize = True)"
   ]
  },
  {
   "cell_type": "markdown",
   "metadata": {},
   "source": [
    "Penjelasan mengenai isi dari kolom `education_id` sudah kita ketahui sebelumnya dan saat ini kita akan membahas mengenai distribusi data dari kolom tersebut untuk data aslinya. Kita sudah mengetahui bahwa untuk nomor pengidentifikasian jenjang pendidikan dari nomor 1 berada dalam posisi atas dengan persentase 70.8%. Uniknya hal ini dapat kita jumpai dalam kasus ini, yaitu **nomor 1** juga berada dalam posisi teratas dengan persentase dominan sebesar **70.7%** atau memiliki selisih yang sangat sedikit dengan distribusi data yang memiliki nilai hilang. Berdasarkan urutan dan persentase kedua distribusi dapat dilihat **hampir serupa dan berurutan**, kecuali untuk nomor 4 tidak terdapat dalam distribusi data sebelumnya."
   ]
  },
  {
   "cell_type": "code",
   "execution_count": 29,
   "metadata": {
    "scrolled": false
   },
   "outputs": [
    {
     "data": {
      "text/plain": [
       "married              0.575145\n",
       "civil partnership    0.194053\n",
       "unmarried            0.130685\n",
       "divorced             0.055517\n",
       "widow / widower      0.044599\n",
       "Name: family_status, dtype: float64"
      ]
     },
     "execution_count": 29,
     "metadata": {},
     "output_type": "execute_result"
    }
   ],
   "source": [
    "# Memeriksa distribusi dari data asli untuk kolom `family_status`\n",
    "data['family_status'].value_counts(normalize = True)"
   ]
  },
  {
   "cell_type": "markdown",
   "metadata": {},
   "source": [
    "Mari kita membahas dan menjelaskan isi dari distribusi data untuk kolom `family_status` di atas. Untuk posisi utama dari hasil yang kita dapatkan menjelaskan bahwa status perkawinan ***married*** atau **sudah menikah** mendominasi keseluruhan isi nilai dalam kolom `family_status`untuk data yang asli sebesar **57.5%**. Kalau kita bandingkan berdasarkan posisi dan persentase untuk distribusi data yang memiliki nilai hilang sebelumnya, posisinya juga serupa dengan hasil di atas dan persentasenya juga hanya memiliki selisih yang sangat sedikit. Sehingga kita dapat menyatakan bahwa untuk kedua distribusi data dalam kolom `family_status` ini **distribusi nilainya serupa**."
   ]
  },
  {
   "cell_type": "code",
   "execution_count": 30,
   "metadata": {},
   "outputs": [
    {
     "data": {
      "text/plain": [
       "0    0.575145\n",
       "1    0.194053\n",
       "4    0.130685\n",
       "3    0.055517\n",
       "2    0.044599\n",
       "Name: family_status_id, dtype: float64"
      ]
     },
     "execution_count": 30,
     "metadata": {},
     "output_type": "execute_result"
    }
   ],
   "source": [
    "# Memeriksa distribusi dari data asli untuk kolom `family_status_id`\n",
    "data['family_status_id'].value_counts(normalize = True)"
   ]
  },
  {
   "cell_type": "markdown",
   "metadata": {},
   "source": [
    "Distribusi dalam kolom di atas menjelaskan persentase dan urutan nilai untuk kolom `family_status_id`. Hasil dari distribusi yang dapat dijelaskan yaitu bahwa nomor pengidentifikasian status keluarga untuk **nomor 0** menduduki peringkat pertama dengan persentase paling besar, yaitu sebesar **57.5%**. Hal ini kita temukan serupa untuk distribusi data yang memiliki nilai hilang dalam kolom ini, yaitu nomor 0 berada pada posisi puncak dengan selisih persentase sedikit. Sehingga kita dapat menyatakan bahwa kedua distribusi yang telah ditemukan untuk kolom ini **terlihat mirip**."
   ]
  },
  {
   "cell_type": "code",
   "execution_count": 31,
   "metadata": {},
   "outputs": [
    {
     "data": {
      "text/plain": [
       "F      0.661370\n",
       "M      0.338583\n",
       "XNA    0.000046\n",
       "Name: gender, dtype: float64"
      ]
     },
     "execution_count": 31,
     "metadata": {},
     "output_type": "execute_result"
    }
   ],
   "source": [
    "# Memeriksa distribusi dari data asli untuk kolom `gender`\n",
    "data['gender'].value_counts(normalize = True)"
   ]
  },
  {
   "cell_type": "markdown",
   "metadata": {},
   "source": [
    "Untuk kolom `gender` dari distribusi data yang asli saat ini sudah terlihat hasilnya. Dikatakan dari hasil sebelumnya bahwa untuk nasabah yang berjenis kelamin ***F (Female)*** atau **Perempuan** menduduki posisi utama sebesar **66.1%** lebih unggul dibandingkan dengan jenis kelamin ***M (Male)*** atau **Pria** yang hanya sebesar **33.8%**. Urutan dan persentase yang beda tipis dengan distribusi data yang memiliki nilai hilang dapat dikatakan serupa atau mirip dengan hasil dalam blok kode di atas. Kita juga dapat menemukan nilai **XNA** atau nasabah dengan jenis kelamin yang tidak diketahui dengan persentase yang sangat minim. Kita dapat mengatakan bahwa dalam kolom `gender` ini **memiliki distribusi nilai yang mirip** jika dibandingkan kedua distribusinya."
   ]
  },
  {
   "cell_type": "code",
   "execution_count": 32,
   "metadata": {
    "scrolled": false
   },
   "outputs": [
    {
     "data": {
      "text/plain": [
       "employee                       0.516562\n",
       "business                       0.236237\n",
       "retiree                        0.179141\n",
       "civil servant                  0.067782\n",
       "unemployed                     0.000093\n",
       "entrepreneur                   0.000093\n",
       "paternity / maternity leave    0.000046\n",
       "student                        0.000046\n",
       "Name: income_type, dtype: float64"
      ]
     },
     "execution_count": 32,
     "metadata": {},
     "output_type": "execute_result"
    }
   ],
   "source": [
    "# Memeriksa distribusi dari data asli untuk kolom `income_type`\n",
    "data['income_type'].value_counts(normalize = True)"
   ]
  },
  {
   "cell_type": "markdown",
   "metadata": {},
   "source": [
    "Membahas langsung mengenai distribusi nilai dari kolom `income_type` untuk data yang asli, kita dapat menemukan bahwa posisi puncak dalam hasil eksekusi di atas di dominasi dari nasabah yang bekerja sebagai ***employee*** sebesar **51.6%**. Jika kita bandingkan lagi dengan distribusi yang memiliki nilai hilang, untuk posisi utamanya juga sama dan dengan selisih persentase yang tipis. Sekilas untuk kedua distribusi nilai jika dibandingkan memiliki urutan atau posisi yang sama, tetapi ada tambahan nilai dalam distribusi data asli untuk kolom ini seperti yang tertera di atas sehingga **kedua distribusi nilai tidak memiliki kemiripan**."
   ]
  },
  {
   "cell_type": "code",
   "execution_count": 33,
   "metadata": {},
   "outputs": [
    {
     "data": {
      "text/plain": [
       "0    0.919117\n",
       "1    0.080883\n",
       "Name: debt, dtype: float64"
      ]
     },
     "execution_count": 33,
     "metadata": {},
     "output_type": "execute_result"
    }
   ],
   "source": [
    "# Memeriksa distribusi dari data asli untuk kolom `debt`\n",
    "data['debt'].value_counts(normalize = True)"
   ]
  },
  {
   "cell_type": "markdown",
   "metadata": {},
   "source": [
    "Penjelasan mengenai arti angka dalam kolom `debt` sudah dijelaskan dalam mencari distribusi nilai yang memiliki nilai hilang, sehingga kita dapat langsung menjelaskan hasil distribusinya. Tertera hasil di atas bahwa untuk **nomor 0** atau **nasabah yang tidak pernah gagal membayar pinjaman** berada dalam posisi teratas dengan persentase terbesar, yaitu **91.9%** dan sisanya berasal dari kondisi sebaliknya sekitar 8%. Kalau kita melihat kembali hasil distribusi untuk kolom ini dalam data yang memiliki nilai hilang juga mempunyai posisi dan persentase yang sangat mirip, sehingga kita dapat mengatakan bahwa **terdapat keserupaan** dalam kedua distribusi nilai untuk kolom ini."
   ]
  },
  {
   "cell_type": "code",
   "execution_count": 34,
   "metadata": {},
   "outputs": [
    {
     "data": {
      "text/plain": [
       "42413.096    0.010335\n",
       "17312.717    0.010335\n",
       "31791.384    0.010335\n",
       "14427.878    0.005168\n",
       "20837.034    0.005168\n",
       "               ...   \n",
       "27715.458    0.005168\n",
       "23834.534    0.005168\n",
       "26124.613    0.005168\n",
       "28692.182    0.005168\n",
       "41428.916    0.005168\n",
       "Name: total_income, Length: 19348, dtype: float64"
      ]
     },
     "execution_count": 34,
     "metadata": {},
     "output_type": "execute_result"
    }
   ],
   "source": [
    "# Memeriksa distribusi dari data asli untuk kolom `total_income`\n",
    "data['total_income'].value_counts(normalize = True) * 100"
   ]
  },
  {
   "cell_type": "markdown",
   "metadata": {},
   "source": [
    "Nilai dari kolom `total_income` sebenarnya memiliki banyak nilai yang beragam dan tidak termasuk dalam kolom kategorik. Jika kita melihat untuk nasabah dengan jumlah pendapatan sebanyak **42413.096** dengan persentase yang cukup kecil yaitu sekitar **0.01** berada dalam posisi unggul."
   ]
  },
  {
   "cell_type": "code",
   "execution_count": 35,
   "metadata": {},
   "outputs": [
    {
     "data": {
      "text/plain": [
       "wedding ceremony                            0.037027\n",
       "having a wedding                            0.036098\n",
       "to have a wedding                           0.035958\n",
       "real estate transactions                    0.031405\n",
       "buy commercial real estate                  0.030848\n",
       "housing transactions                        0.030337\n",
       "buying property for renting out             0.030337\n",
       "transactions with commercial real estate    0.030244\n",
       "housing                                     0.030058\n",
       "purchase of the house                       0.030058\n",
       "purchase of the house for my family         0.029779\n",
       "construction of own property                0.029501\n",
       "property                                    0.029454\n",
       "transactions with my real estate            0.029268\n",
       "building a real estate                      0.029082\n",
       "buy real estate                             0.028990\n",
       "purchase of my own house                    0.028804\n",
       "building a property                         0.028804\n",
       "housing renovation                          0.028432\n",
       "buy residential real estate                 0.028200\n",
       "buying my own car                           0.023461\n",
       "going to university                         0.023043\n",
       "car                                         0.022997\n",
       "second-hand car purchase                    0.022718\n",
       "to own a car                                0.022300\n",
       "buying a second-hand car                    0.022253\n",
       "cars                                        0.022207\n",
       "to buy a car                                0.021928\n",
       "supplementary education                     0.021463\n",
       "car purchase                                0.021463\n",
       "purchase of a car                           0.021138\n",
       "university education                        0.021045\n",
       "education                                   0.020767\n",
       "to get a supplementary education            0.020767\n",
       "getting an education                        0.020581\n",
       "profile education                           0.020256\n",
       "getting higher education                    0.019791\n",
       "to become educated                          0.019141\n",
       "Name: purpose, dtype: float64"
      ]
     },
     "execution_count": 35,
     "metadata": {},
     "output_type": "execute_result"
    }
   ],
   "source": [
    "# Memeriksa distribusi dari data asli untuk kolom `purpose`\n",
    "data['purpose'].value_counts(normalize = True)"
   ]
  },
  {
   "cell_type": "markdown",
   "metadata": {},
   "source": [
    "Bagian akhir dari analisis distribusi nilai untuk *dataframe* yang asli sudah mencapai bagian akhir, yaitu mengenai kolom `purpose`. Untuk hasil yang didapatkan dalam eksekusi blok kode sebelumnya menjelaskan bahwa alasan nasabah melakukan peminjaman dari ***wedding ceremony*** berada dalam posisi utama dengan persentase sebesar **3.70%**. Jikalau dibandingkan dengan distribusi nilai yang terdapat nilai hilang sebenarnya memiliki makna yang sama tetapi berbeda hasil nilainya karena adanya redundansi nilai dengan makna yang sama. Kalau kita juga melihat dari urutan atau pola dari kedua distribusi yang telah dilakukan memiliki **hasil yang acak urutannya** dan berbeda satu dengan lainnya sehingga dapat dikatakan bahwa **tidak terdapat kemiripan** dalam kedua distribusi nilai untuk kolom ini."
   ]
  },
  {
   "cell_type": "markdown",
   "metadata": {},
   "source": [
    "**Kesimpulan sementara**\n",
    "\n",
    "Pemeriksaan distribusi nilai dalam seluruh kolom dari data atau *dataset* yang asli telah selesai kita lakukan dan bandingkan dengan distribusi nilai yang memiliki nilai hilang dalam tahapan sebelumnya. Hasil yang dapat kita simpulkan sejauh ini mengenai pekerjaan yang telah kita lakukan sebelumnya adalah bahwa distribusi dalam *dataset* yang asli dengan distribusi data yang telah disaring (memiliki nilai hilang) **sebagian besar kolomnya memiliki distribusi nilai yang serupa**. Kita tidak dapat menyimpulkan bahwa distribusi nilai setiap kolom yang sudah dibandingkan tersebut memiliki sebuah pola karena distribusi nilai hanya mengukur seberapa besar sebaran nilai yang ada dalam suatu kolom. Untuk membuktikan lebih lanjut lagi, mari kita lakukan sedikit eksplorasi dengan mencari pola lain yang bisa saja mengakibatkan nilai hilang dalam *dataset* kita."
   ]
  },
  {
   "cell_type": "markdown",
   "metadata": {},
   "source": [
    "Sebelum mencari penyebab nilai hilang atau mencari pola lain dalam *dataset*, kita bisa mengambil salah satu contoh dalam kolom pada *dataset* yang memiliki nilai hilang. Misalkan dalam kolom `children` kita dapat melihat bahwa nasabah yang tidak memiliki anak lebih mendominasi dibanding dengan nilai lainnya. Maka dari itu kita bisa melakukan penyaringan untuk mengecek apakah ada hubungan seorang nasabah yang tidak memiliki anak dengan nilai atau faktor lain yang dapat menyebabkan nilai hilang."
   ]
  },
  {
   "cell_type": "code",
   "execution_count": 36,
   "metadata": {},
   "outputs": [
    {
     "data": {
      "text/html": [
       "<div>\n",
       "<style scoped>\n",
       "    .dataframe tbody tr th:only-of-type {\n",
       "        vertical-align: middle;\n",
       "    }\n",
       "\n",
       "    .dataframe tbody tr th {\n",
       "        vertical-align: top;\n",
       "    }\n",
       "\n",
       "    .dataframe thead th {\n",
       "        text-align: right;\n",
       "    }\n",
       "</style>\n",
       "<table border=\"1\" class=\"dataframe\">\n",
       "  <thead>\n",
       "    <tr style=\"text-align: right;\">\n",
       "      <th></th>\n",
       "      <th>children</th>\n",
       "      <th>days_employed</th>\n",
       "      <th>dob_years</th>\n",
       "      <th>education</th>\n",
       "      <th>education_id</th>\n",
       "      <th>family_status</th>\n",
       "      <th>family_status_id</th>\n",
       "      <th>gender</th>\n",
       "      <th>income_type</th>\n",
       "      <th>debt</th>\n",
       "      <th>total_income</th>\n",
       "      <th>purpose</th>\n",
       "    </tr>\n",
       "  </thead>\n",
       "  <tbody>\n",
       "    <tr>\n",
       "      <th>0</th>\n",
       "      <td>0</td>\n",
       "      <td>NaN</td>\n",
       "      <td>65</td>\n",
       "      <td>secondary education</td>\n",
       "      <td>1</td>\n",
       "      <td>civil partnership</td>\n",
       "      <td>1</td>\n",
       "      <td>M</td>\n",
       "      <td>retiree</td>\n",
       "      <td>0</td>\n",
       "      <td>NaN</td>\n",
       "      <td>to have a wedding</td>\n",
       "    </tr>\n",
       "    <tr>\n",
       "      <th>1</th>\n",
       "      <td>0</td>\n",
       "      <td>NaN</td>\n",
       "      <td>41</td>\n",
       "      <td>secondary education</td>\n",
       "      <td>1</td>\n",
       "      <td>married</td>\n",
       "      <td>0</td>\n",
       "      <td>M</td>\n",
       "      <td>civil servant</td>\n",
       "      <td>0</td>\n",
       "      <td>NaN</td>\n",
       "      <td>education</td>\n",
       "    </tr>\n",
       "    <tr>\n",
       "      <th>2</th>\n",
       "      <td>0</td>\n",
       "      <td>NaN</td>\n",
       "      <td>63</td>\n",
       "      <td>secondary education</td>\n",
       "      <td>1</td>\n",
       "      <td>unmarried</td>\n",
       "      <td>4</td>\n",
       "      <td>F</td>\n",
       "      <td>retiree</td>\n",
       "      <td>0</td>\n",
       "      <td>NaN</td>\n",
       "      <td>building a real estate</td>\n",
       "    </tr>\n",
       "    <tr>\n",
       "      <th>3</th>\n",
       "      <td>0</td>\n",
       "      <td>NaN</td>\n",
       "      <td>50</td>\n",
       "      <td>secondary education</td>\n",
       "      <td>1</td>\n",
       "      <td>married</td>\n",
       "      <td>0</td>\n",
       "      <td>F</td>\n",
       "      <td>civil servant</td>\n",
       "      <td>0</td>\n",
       "      <td>NaN</td>\n",
       "      <td>second-hand car purchase</td>\n",
       "    </tr>\n",
       "    <tr>\n",
       "      <th>4</th>\n",
       "      <td>0</td>\n",
       "      <td>NaN</td>\n",
       "      <td>54</td>\n",
       "      <td>secondary education</td>\n",
       "      <td>1</td>\n",
       "      <td>civil partnership</td>\n",
       "      <td>1</td>\n",
       "      <td>F</td>\n",
       "      <td>retiree</td>\n",
       "      <td>1</td>\n",
       "      <td>NaN</td>\n",
       "      <td>to have a wedding</td>\n",
       "    </tr>\n",
       "    <tr>\n",
       "      <th>...</th>\n",
       "      <td>...</td>\n",
       "      <td>...</td>\n",
       "      <td>...</td>\n",
       "      <td>...</td>\n",
       "      <td>...</td>\n",
       "      <td>...</td>\n",
       "      <td>...</td>\n",
       "      <td>...</td>\n",
       "      <td>...</td>\n",
       "      <td>...</td>\n",
       "      <td>...</td>\n",
       "      <td>...</td>\n",
       "    </tr>\n",
       "    <tr>\n",
       "      <th>2163</th>\n",
       "      <td>0</td>\n",
       "      <td>NaN</td>\n",
       "      <td>65</td>\n",
       "      <td>secondary education</td>\n",
       "      <td>1</td>\n",
       "      <td>married</td>\n",
       "      <td>0</td>\n",
       "      <td>F</td>\n",
       "      <td>retiree</td>\n",
       "      <td>0</td>\n",
       "      <td>NaN</td>\n",
       "      <td>purchase of my own house</td>\n",
       "    </tr>\n",
       "    <tr>\n",
       "      <th>2164</th>\n",
       "      <td>0</td>\n",
       "      <td>NaN</td>\n",
       "      <td>54</td>\n",
       "      <td>secondary education</td>\n",
       "      <td>1</td>\n",
       "      <td>married</td>\n",
       "      <td>0</td>\n",
       "      <td>F</td>\n",
       "      <td>retiree</td>\n",
       "      <td>0</td>\n",
       "      <td>NaN</td>\n",
       "      <td>housing transactions</td>\n",
       "    </tr>\n",
       "    <tr>\n",
       "      <th>2165</th>\n",
       "      <td>0</td>\n",
       "      <td>NaN</td>\n",
       "      <td>63</td>\n",
       "      <td>secondary education</td>\n",
       "      <td>1</td>\n",
       "      <td>married</td>\n",
       "      <td>0</td>\n",
       "      <td>M</td>\n",
       "      <td>retiree</td>\n",
       "      <td>0</td>\n",
       "      <td>NaN</td>\n",
       "      <td>purchase of a car</td>\n",
       "    </tr>\n",
       "    <tr>\n",
       "      <th>2166</th>\n",
       "      <td>0</td>\n",
       "      <td>NaN</td>\n",
       "      <td>49</td>\n",
       "      <td>secondary education</td>\n",
       "      <td>1</td>\n",
       "      <td>married</td>\n",
       "      <td>0</td>\n",
       "      <td>F</td>\n",
       "      <td>employee</td>\n",
       "      <td>1</td>\n",
       "      <td>NaN</td>\n",
       "      <td>property</td>\n",
       "    </tr>\n",
       "    <tr>\n",
       "      <th>2171</th>\n",
       "      <td>0</td>\n",
       "      <td>NaN</td>\n",
       "      <td>48</td>\n",
       "      <td>BACHELOR'S DEGREE</td>\n",
       "      <td>0</td>\n",
       "      <td>married</td>\n",
       "      <td>0</td>\n",
       "      <td>F</td>\n",
       "      <td>business</td>\n",
       "      <td>0</td>\n",
       "      <td>NaN</td>\n",
       "      <td>building a property</td>\n",
       "    </tr>\n",
       "  </tbody>\n",
       "</table>\n",
       "<p>1439 rows × 12 columns</p>\n",
       "</div>"
      ],
      "text/plain": [
       "      children  days_employed  dob_years            education  education_id  \\\n",
       "0            0            NaN         65  secondary education             1   \n",
       "1            0            NaN         41  secondary education             1   \n",
       "2            0            NaN         63  secondary education             1   \n",
       "3            0            NaN         50  secondary education             1   \n",
       "4            0            NaN         54  secondary education             1   \n",
       "...        ...            ...        ...                  ...           ...   \n",
       "2163         0            NaN         65  secondary education             1   \n",
       "2164         0            NaN         54  secondary education             1   \n",
       "2165         0            NaN         63  secondary education             1   \n",
       "2166         0            NaN         49  secondary education             1   \n",
       "2171         0            NaN         48    BACHELOR'S DEGREE             0   \n",
       "\n",
       "          family_status  family_status_id gender    income_type  debt  \\\n",
       "0     civil partnership                 1      M        retiree     0   \n",
       "1               married                 0      M  civil servant     0   \n",
       "2             unmarried                 4      F        retiree     0   \n",
       "3               married                 0      F  civil servant     0   \n",
       "4     civil partnership                 1      F        retiree     1   \n",
       "...                 ...               ...    ...            ...   ...   \n",
       "2163            married                 0      F        retiree     0   \n",
       "2164            married                 0      F        retiree     0   \n",
       "2165            married                 0      M        retiree     0   \n",
       "2166            married                 0      F       employee     1   \n",
       "2171            married                 0      F       business     0   \n",
       "\n",
       "      total_income                   purpose  \n",
       "0              NaN         to have a wedding  \n",
       "1              NaN                 education  \n",
       "2              NaN    building a real estate  \n",
       "3              NaN  second-hand car purchase  \n",
       "4              NaN         to have a wedding  \n",
       "...            ...                       ...  \n",
       "2163           NaN  purchase of my own house  \n",
       "2164           NaN      housing transactions  \n",
       "2165           NaN         purchase of a car  \n",
       "2166           NaN                  property  \n",
       "2171           NaN       building a property  \n",
       "\n",
       "[1439 rows x 12 columns]"
      ]
     },
     "execution_count": 36,
     "metadata": {},
     "output_type": "execute_result"
    }
   ],
   "source": [
    "# Menyaring data dalam kolom `children` yang nilainya 0\n",
    "data_null[data_null['children'] == 0]"
   ]
  },
  {
   "cell_type": "markdown",
   "metadata": {},
   "source": [
    "Setelah melakukan penyaringan dengan kondisi seperti pada blok kode sebelumnya, secara sepintas kita dapat melihat **seperti sebuah pola** bahwa seorang nasabah yang tidak memiliki anak dengan jenjang pendidikan nasabah yang berasal dari ***secondary education*** memiliki nilai yang hilang. Bagaimana jika kita menerapkan atau menambahkan satu kondisi lagi dari salah satu kolom di data kita? Mari kita coba menambahkan dari kolom `family_status` untuk mencari tahu lebih lanjut."
   ]
  },
  {
   "cell_type": "code",
   "execution_count": 37,
   "metadata": {
    "scrolled": false
   },
   "outputs": [
    {
     "data": {
      "text/plain": [
       "married              0.527450\n",
       "civil partnership    0.200139\n",
       "unmarried            0.160528\n",
       "widow / widower      0.062543\n",
       "divorced             0.049340\n",
       "Name: family_status, dtype: float64"
      ]
     },
     "execution_count": 37,
     "metadata": {},
     "output_type": "execute_result"
    }
   ],
   "source": [
    "# Periksa penyebab dan pola lain yang dapat mengakibatkan nilai yang hilang\n",
    "data_null[data_null['children'] == 0]['family_status'].value_counts(normalize = True)"
   ]
  },
  {
   "cell_type": "markdown",
   "metadata": {},
   "source": [
    "Melalui hasil penyaringan data dan penerapan beberapa kondisi dalam blok kode sebelumnya, hal tersebut mengatakan kepada kita bahwa ketika seorang nasabah yang tidak memiliki seorang anak dengan status pernikahan ***married*** memiliki persentase distribusi nilai yang hilang terbesar dalam *dataset* kita. Mari kita bandingkan dengan *dataset* asli seperti yang telah kita lakukan sebelumnya."
   ]
  },
  {
   "cell_type": "code",
   "execution_count": 38,
   "metadata": {
    "scrolled": false
   },
   "outputs": [
    {
     "data": {
      "text/plain": [
       "married              0.530073\n",
       "civil partnership    0.194501\n",
       "unmarried            0.160082\n",
       "widow / widower      0.059934\n",
       "divorced             0.055410\n",
       "Name: family_status, dtype: float64"
      ]
     },
     "execution_count": 38,
     "metadata": {},
     "output_type": "execute_result"
    }
   ],
   "source": [
    "# Menyaring dan memeriksa distribusi untuk kasus ini\n",
    "data[data['children'] == 0]['family_status'].value_counts(normalize = True)"
   ]
  },
  {
   "cell_type": "markdown",
   "metadata": {},
   "source": [
    "Setelah kita membandingkan distribusinya dengan data yang memiliki nilai hilang, hasilnya menunjukkan kepada kita bahwa distribusi nilai untuk kondisi di atas **menyerupai** dengan distribusi nilai yang memiliki nilai hilang dalam bentuk persentasenya yang memiliki selisih sedikit dan urutannya.\n",
    "\n",
    "**Kesimpulan sementara**\n",
    "\n",
    "Kesimpulan untuk sedikit eksplorasi kita saat ini dapat dikatakan bahwa nasabah yang tidak memiliki anak dengan status pernikahan *married* menyumbang nilai yang hilang terbesar dalam *dataset*. Secara umum tanpa menerapkan metode penyaringan data kita sudah dapat melihat bahwa nilai hilang dalam kolom `days_employed` dan `total_income`terlihat seperti ada pola, karena jikalau ada nilai hilang di kolom `days_employed`, maka dalam kolom `total_income` juga nilainya hilang. Sehingga kita dapat menyimpulkan bahwa nilai yang hilang dalam *dataset* proyek ini bukanlah suatu kebetulan."
   ]
  },
  {
   "cell_type": "markdown",
   "metadata": {},
   "source": [
    "**Kesimpulan**\n",
    "\n",
    "Kita sudah mencapai pada bagian akhir dari bagian Eksplorasi data dalam proyek ini. Secara garis besar kita sudah menemukan bahwa nilai yang hilang terdapat dalam dua kolom bernama `days_employed` dan `total_income` dengan jumlah nilai hilangnya sama. Dari bagian ini sudah cukup menceritakan kepada kita bahwa nilai yang hilang dari kedua kolom tersebut terlihat seperti sebuah pola. Untuk nilai yang hilang tersebut tidak akan kita hapus barisnya karena kita akan tetap menggunakannya dan kita akan mengatasinya dengan cara mengisinya dengan rata-rata nilai dalam kedua kolom tersebut.\n",
    "\n",
    "Tahapan selanjutnya adalah kita akan melakukan transformasi atau perubahan data yang memiliki kesalahan. Kita akan melihat kembali nanti kolom-kolom yang memiliki masalah dalam nilainya dan merubahnya sesuai dengan perlakuan yang semestinya. Untuk mengingat kembali, berikut ini merupakan kolom-kolom yang memiliki nilai yang salah dan rencana perubahan yang akan kita lakukan dalam langkah selanjutnya, seperti:\n",
    "- Untuk kolom `days_employed` dan `total_income` yang nilainya hilang akan diisi dengan nilai rata-rata dari kolom tersebut\n",
    "- Kolom `children` memiliki jumlah anak yang anomali, seperti -1 dan 20 akan kita gabungkan dengan kelompok nilai yang sesuai\n",
    "- `dob_years` yang memiliki nilai 0 akan kita ubah nilainya menggunakan rata-rata\n",
    "- Dari kolom `education` memiliki redundansi nilai, akan kita ubah seluruh hurufnya menjadi *lowercase* agar dapat dikategorikan sesuai dengan nilainya\n",
    "- Kolom `gender` memiliki usia yang tidak jelas, yaitu XNA akan kita hapus"
   ]
  },
  {
   "cell_type": "markdown",
   "metadata": {},
   "source": [
    "## Transformasi Data\n",
    "\n",
    "Tahap Eksplorasi data sudah diselesaikan dan untuk saat ini kita akan melakukan perubahan nilai-nilai yang ada dalam *dataset*. Perubahan nilai-nilai ini hanya kita lakukan pada kolom-kolom yang memiliki kejanggalan atau kesalahan nilai seperti yang telah kita jelaskan dalam tahap Eksplorasi data sebelumnya. Mari kita kerjakan bagian ini secara komprehensif dan pada akhir dari pengerjaan kita perlu untuk melakukan satu tahapan penting dengan cara **mencari jumlah nilai duplikat dan menghapus duplikat** yang ada dalam *dataset*."
   ]
  },
  {
   "cell_type": "markdown",
   "metadata": {},
   "source": [
    "**Memeriksa dan memperbaiki data dalam kolom `education`**"
   ]
  },
  {
   "cell_type": "markdown",
   "metadata": {},
   "source": [
    "Penting sebelum melakukan perbaikan nilai, ada baiknya jikalau kita melihat terlebih dahulu informasi seluruh nilai yang ada dalam kolom `education` agar kita dapat mengetahui letak kesalahan dari nilai yang ada dan memperbaikinya."
   ]
  },
  {
   "cell_type": "code",
   "execution_count": 40,
   "metadata": {},
   "outputs": [
    {
     "data": {
      "text/plain": [
       "secondary education    13750\n",
       "bachelor's degree       4718\n",
       "SECONDARY EDUCATION      772\n",
       "Secondary Education      711\n",
       "some college             668\n",
       "BACHELOR'S DEGREE        274\n",
       "Bachelor's Degree        268\n",
       "primary education        250\n",
       "Some College              47\n",
       "SOME COLLEGE              29\n",
       "PRIMARY EDUCATION         17\n",
       "Primary Education         15\n",
       "graduate degree            4\n",
       "Graduate Degree            1\n",
       "GRADUATE DEGREE            1\n",
       "Name: education, dtype: int64"
      ]
     },
     "execution_count": 40,
     "metadata": {},
     "output_type": "execute_result"
    }
   ],
   "source": [
    "# Mari kita lihat semua nilai di kolom `education` untuk memeriksa ejaan apa yang perlu diperbaiki\n",
    "data['education'].value_counts()"
   ]
  },
  {
   "cell_type": "markdown",
   "metadata": {},
   "source": [
    "Hasil dari pemeriksaan nilai dalam kolom `education` sudah ada dan kita dapat melihat adanya penulisan yang tidak konsisten atau redundan tetapi memiliki makna yang sama. Misalkan untuk jenjang pendidikan ***bachelor's degree*** memiliki 3 cara penulisan yang berbeda sehingga ketika kita akan menganalisis kolom ini tidaklah efektif.\n",
    "\n",
    "Langkah yang akan kita lakukan untuk masalah dalam kolom `education` ini yaitu dengan **merubah seluruh huruf** yang terdapat dalam nilai-nilai di kolom tersebut **menjadi huruf kecil atau *lowercase*** karena dalam penulisan nilai-nilai yang ada terdapat huruf kapital dan campuran. Hasil yang diharapkan yaitu masing-masing nilai redundan yang ada dalam kolom `education` ini akan menyatu menjadi satu kategori yang diinginkan."
   ]
  },
  {
   "cell_type": "code",
   "execution_count": 42,
   "metadata": {
    "scrolled": false
   },
   "outputs": [],
   "source": [
    "# Memperbaiki nilai-nilai dalam kolom `education` menjadi *lowercase*\n",
    "data['education'] = data['education'].str.lower()"
   ]
  },
  {
   "cell_type": "markdown",
   "metadata": {},
   "source": [
    "Kita telah berhasil mengeksekusi kode untuk menyingkirkan penulisan jenjang pendidikan yang tidak konsisten dengan mengubah hurufnya menjadi *lowercase* seperti yang diharapkan. Selanjutnya mari kita kembali memeriksa kolom `education` untuk memastikan bahwa eksekusi blok kode di atas sudah berhasil dilakukan."
   ]
  },
  {
   "cell_type": "code",
   "execution_count": 43,
   "metadata": {},
   "outputs": [
    {
     "data": {
      "text/plain": [
       "secondary education    15233\n",
       "bachelor's degree       5260\n",
       "some college             744\n",
       "primary education        282\n",
       "graduate degree            6\n",
       "Name: education, dtype: int64"
      ]
     },
     "execution_count": 43,
     "metadata": {},
     "output_type": "execute_result"
    }
   ],
   "source": [
    "# Periksa semua nilai di kolom ini untuk memastikan bahwa kita telah memperbaikinya dengan tepat\n",
    "data['education'].value_counts()"
   ]
  },
  {
   "cell_type": "markdown",
   "metadata": {},
   "source": [
    "Kolom `education` sudah memiliki nilai yang diharapkan dan dari hasil pemeriksaan untuk kolom ini menyatakan adanya perubahan yang signifikan dari kolom yang belum diperbaiki dengan kolom yang sudah diperbaiki nilainya. Setelah diubah menjadi *lowercase*, kita dapat melihat sudah **tidak ada lagi penulisan jenjang pendidikan yang berulang** dengan karakter yang berbeda-beda dan sudah menyatu dalam satu kategori. Melalui metode `str.lower()`, setiap nilai dalam kolom `education` akan dirubah menjadi huruf kecil dan hasilnya setiap nilai akan tergabung menjadi satu kategori nilai."
   ]
  },
  {
   "cell_type": "markdown",
   "metadata": {},
   "source": [
    "**Memeriksa dan memperbaiki data dalam kolom `children`**"
   ]
  },
  {
   "cell_type": "markdown",
   "metadata": {},
   "source": [
    "Bagian kali ini kita akan melakukan kembali pemeriksaan dan pembenahan nilai dalam *dataset* baru dalam kolom yang lain, yaitu pada kolom `children`. Seperti biasa kita akan melihat terlebih dahulu informasi nilai dalam kolom tersebut."
   ]
  },
  {
   "cell_type": "code",
   "execution_count": 44,
   "metadata": {},
   "outputs": [
    {
     "data": {
      "text/plain": [
       " 0     14149\n",
       " 1      4818\n",
       " 2      2055\n",
       " 3       330\n",
       " 20       76\n",
       "-1        47\n",
       " 4        41\n",
       " 5         9\n",
       "Name: children, dtype: int64"
      ]
     },
     "execution_count": 44,
     "metadata": {},
     "output_type": "execute_result"
    }
   ],
   "source": [
    "# Mari kita lihat distribusi nilai pada kolom `children`\n",
    "data['children'].value_counts()"
   ]
  },
  {
   "cell_type": "markdown",
   "metadata": {},
   "source": [
    "Berdasarkan distribusi nilai dari kolom `children` di atas, kita melihat hampir semua sudah memiliki nilai yang wajar dalam kolom tersebut. Namun jikalau kita melihat lagi terdapat keanehan dari nilai yang kita dapatkan, yaitu angka 20 dan -1.\n",
    "- Melalui analisis pribadi, **sangatlah tidak mungkin seseorang memiliki jumlah anak sebanyak -1** sehingga tanpa perlu melakukan analisis mendalam hal tersebut **haruslah kita ubah nilainya menjadi 1**. \n",
    "- Sama halnya untuk nilai 20 atau jika dijelaskan satu nasabah bisa memiliki jumlah anak sebanyak 20. Mungkin untuk saat ini jikalau kita melihat bahwa dalam satu keluarga bisa memiliki anak sebanyak lebih dari 10 sudah sangat langka, kecuali untuk zaman pra-modernisasi di mana hal itu masih sangat wajar. Tapi jikalau kita lihat jumlah seorang nasabah yang memiliki jumlah anak sebanyak 20 dalam data kita saat ini jumlahnya tidaklah sedikit, melainkan ada 76 nasabah. Menurut Max Roser dalam penelitiannya berjudul ***Fertility Rate*** pada tahun 2014 yang dipublikasikan dalam situs ***Our World in Data***, tingkat kesuburan wanita secara global untuk memiliki anak adalah sekitar **2.3 anak per wanita** belakangan ini. Kita bisa mengatakan bahwa rata-rata wanita secara global saat ini memiliki sekitar 2-3 anak. Sehingga kita bisa menyimpulkan untuk **seorang nasabah yang memiliki jumlah anak sebanyak 20 tidaklah wajar** mengingat jumlah nasabah yang memiliki 20 anak cukup banyak. Melalui keputusan sebelumnya, kita akan mengambil langkah dengan cara **mengubah nilai 20 menjadi 2**.\n",
    "\n",
    "Anomali seperti yang terjadi dalam kolom `children` mengenai jumlah anak yang tidak wajar bisa saja terjadi dikarenakan faktor tertentu, seperti dalam proses ETL atau saat proses pengintegrasian data nilainya berubah. Seperti untuk nilai -1 sebelumnya bisa saja nilainya itu 1, sama halnya untuk nilai 20 yang sebelumnya adalah 2. Tetapi ketika proses penggabungan dan ekstraksi data menjadi satu format yang sama, kedua nilai tersebut berubah menjadi nilai yang tidak diinginkan. Sehingga kita bisa menganggap kesalah ini bukanlah *human error*. Untuk itu kita akan merubah kedua nilai yang bermasalah dalam kolom `children` sesuai dengan keputusan yang telah dijelaskan pada kedua poin sebelumnya di bawah ini."
   ]
  },
  {
   "cell_type": "code",
   "execution_count": 45,
   "metadata": {},
   "outputs": [],
   "source": [
    "# Mari kita memperbaiki nilai yang bermasalah. Mulai dari nilai -1 menjadi 1\n",
    "data['children'] = data['children'].replace(-1, 1)\n",
    "# Selanjutnya kita merubah nilai 20 menjadi 2\n",
    "data['children'] = data['children'].replace(20, 2)"
   ]
  },
  {
   "cell_type": "markdown",
   "metadata": {},
   "source": [
    "Dengan menggunakan metode `replace()` dalam kode di atas, kita sudah menyelesaikan perbaikan nilai yang salah sesuai dengan keputusan yang kita tentukan dan sudah dapat dijalankan dengan baik. Tahap akhir untuk perbaikan nilai dalam kolom ini akan dilakukan dalam blok selanjutnya dengan melihat dan memeriksa kembali kolom `children` untuk memastikan semuanya sudah diperbaiki sebagaimana mestinya."
   ]
  },
  {
   "cell_type": "code",
   "execution_count": 46,
   "metadata": {},
   "outputs": [
    {
     "data": {
      "text/plain": [
       "0    14149\n",
       "1     4865\n",
       "2     2131\n",
       "3      330\n",
       "4       41\n",
       "5        9\n",
       "Name: children, dtype: int64"
      ]
     },
     "execution_count": 46,
     "metadata": {},
     "output_type": "execute_result"
    }
   ],
   "source": [
    "# Periksa kembali kolom `children` untuk memastikan bahwa semuanya telah diperbaiki\n",
    "data['children'].value_counts()"
   ]
  },
  {
   "cell_type": "markdown",
   "metadata": {},
   "source": [
    "Kita sudah membenahi nilai dalam kolom `children` dengan lancar dan sesuai dengan luaran yang diharapkan. Dapat dilihat di atas bahwa nilai untuk kolom `children` berada dalam rentang nilai 0 hingga 5 dan **tidak terdapat lagi anomali** seperti yang kita lihat saat nilainya belum diperbaiki. Nilai -1 sebelumnya sudah dirubah menjadi 1, begitupun untuk nilai 20 telah berubah menjadi 2 dan untuk jumlah nilai atau baris dalam kedua nilai yang bermasalah tersebut sudah digabungkan ke dalam kategori nilai yang sudah ada, yaitu 1 dan 2 sehingga jumlah nilai untuk kedua nilai tersebut telah bertambah."
   ]
  },
  {
   "cell_type": "markdown",
   "metadata": {},
   "source": [
    "**Memeriksa dan memperbaiki data dalam kolom `days_employed`**"
   ]
  },
  {
   "cell_type": "markdown",
   "metadata": {},
   "source": [
    "Saat ini kita telah masuk ke dalam bagian kolom `days_employed` untuk memeriksa dan memperbaiki data jikalau ada kesalahan dalam kolom tersebut. Mari kita kembali mengecek informasi dari kolom `days_employed` dengan teliti."
   ]
  },
  {
   "cell_type": "code",
   "execution_count": 47,
   "metadata": {},
   "outputs": [
    {
     "data": {
      "text/plain": [
       "-327.685916     1\n",
       "-1580.622577    1\n",
       "-4122.460569    1\n",
       "-2828.237691    1\n",
       "-2636.090517    1\n",
       "               ..\n",
       "-7120.517564    1\n",
       "-2146.884040    1\n",
       "-881.454684     1\n",
       "-794.666350     1\n",
       "-3382.113891    1\n",
       "Name: days_employed, Length: 19351, dtype: int64"
      ]
     },
     "execution_count": 47,
     "metadata": {},
     "output_type": "execute_result"
    }
   ],
   "source": [
    "# Menemukan data yang bermasalah di kolom `days_employed` jika memang terdapat masalah dan hitung persentasenya\n",
    "data['days_employed'].value_counts()"
   ]
  },
  {
   "cell_type": "markdown",
   "metadata": {},
   "source": [
    "Seperti yang telah dijelaskan dalam bagian Eksplorasi data, kita telah menemukan kejanggalan nilai yang mencolok dalam kolom ini. Sebagaimana yang tertera dalam hasil eksekusi kode di atas, seluruh nilainya **memiliki jumlah yang negatif**. Kasus ini mirip dengan kesalahan yang terdapat dalam kolom `children` dan adalah hal yang tidak wajar bagi seseorang yang bekerja memiliki jumlah hari yang negatif. Jumlah nilai yang bermasalah dalam kolom `days_employed` ini tergolong tinggi dan oleh karena itu kita bisa berasumsi bahwa kesalahan dalam kolom tersebut **bisa disebabkan oleh masalah teknis** seperti saat data sudah digabung dan disimpan dalam satu format yang sama, nilai-nilai dalam kolom `days_employed` secara otomatis berubah nilainya menjadi negatif karena kesalahan sistem.\n",
    "\n",
    "Menghapus seluruh data yang nilainya negatif dalam kolom ini bukanlah pilihan yang tepat. Kita bisa memilih opsi yang lebih baik dibandingkan menghapus nilai-nilai yang penting tersebut dengan cara **mengubahnya kembali menjadi nilai positif**. Langkahnya cenderung mudah yaitu dengan menggunakan metode `abs()`."
   ]
  },
  {
   "cell_type": "code",
   "execution_count": 48,
   "metadata": {},
   "outputs": [],
   "source": [
    "# Mengubah nilai negatif menjadi positif dalam kolom `days_employed`\n",
    "data['days_employed'] = data['days_employed'].abs()"
   ]
  },
  {
   "cell_type": "markdown",
   "metadata": {},
   "source": [
    "Metode `abs()` yang kita gunakan berguna untuk mengubah nilai yang negatif dalam data kita menjadi nilai positif. Langkah selanjutnya adalah kita perlu memeriksanya kembali apakah masalah yang kita temui sebelumnya masih ada atau tidak."
   ]
  },
  {
   "cell_type": "code",
   "execution_count": 49,
   "metadata": {},
   "outputs": [
    {
     "data": {
      "text/plain": [
       "142.276217       1\n",
       "1849.622944      1\n",
       "886.253127       1\n",
       "2539.534295      1\n",
       "390574.985524    1\n",
       "                ..\n",
       "1394.302246      1\n",
       "2325.720832      1\n",
       "4086.407828      1\n",
       "1259.497032      1\n",
       "1636.419775      1\n",
       "Name: days_employed, Length: 19351, dtype: int64"
      ]
     },
     "execution_count": 49,
     "metadata": {},
     "output_type": "execute_result"
    }
   ],
   "source": [
    "# Memastikan bahwa seluruh nilai dalam `days_employed` sudah menjadi positif\n",
    "data['days_employed'].value_counts()"
   ]
  },
  {
   "cell_type": "markdown",
   "metadata": {},
   "source": [
    "Pada akhirnya kita dapat melihat terdapat perubahan nilai dalam data kita saat ini. Terlihat bahwa tidak ada lagi anomali berupa nilai negatif dalam kolom `days_employed` sehingga permasalahan ini sudah ditangani dengan baik."
   ]
  },
  {
   "cell_type": "markdown",
   "metadata": {},
   "source": [
    "**Memeriksa dan memperbaiki data dalam kolom `dob_years`**"
   ]
  },
  {
   "cell_type": "markdown",
   "metadata": {},
   "source": [
    "Selanjutnya kita akan melihat dan memperbaiki nilai yang terdapat dalam kolom `dob_years`. Seperti yang telah kita ketahui `dob_years` merupakan data mengenai usia nasabah. Mari kita mengecek nilai-nilai yang ada dalam kolom tersebut dengan mengurutkannya dari nilai terkecil hingga terbesar."
   ]
  },
  {
   "cell_type": "code",
   "execution_count": 51,
   "metadata": {
    "scrolled": false
   },
   "outputs": [
    {
     "data": {
      "text/plain": [
       "[0,\n",
       " 19,\n",
       " 20,\n",
       " 21,\n",
       " 22,\n",
       " 23,\n",
       " 24,\n",
       " 25,\n",
       " 26,\n",
       " 27,\n",
       " 28,\n",
       " 29,\n",
       " 30,\n",
       " 31,\n",
       " 32,\n",
       " 33,\n",
       " 34,\n",
       " 35,\n",
       " 36,\n",
       " 37,\n",
       " 38,\n",
       " 39,\n",
       " 40,\n",
       " 41,\n",
       " 42,\n",
       " 43,\n",
       " 44,\n",
       " 45,\n",
       " 46,\n",
       " 47,\n",
       " 48,\n",
       " 49,\n",
       " 50,\n",
       " 51,\n",
       " 52,\n",
       " 53,\n",
       " 54,\n",
       " 55,\n",
       " 56,\n",
       " 57,\n",
       " 58,\n",
       " 59,\n",
       " 60,\n",
       " 61,\n",
       " 62,\n",
       " 63,\n",
       " 64,\n",
       " 65,\n",
       " 66,\n",
       " 67,\n",
       " 68,\n",
       " 69,\n",
       " 70,\n",
       " 71,\n",
       " 72,\n",
       " 73,\n",
       " 74,\n",
       " 75]"
      ]
     },
     "execution_count": 51,
     "metadata": {},
     "output_type": "execute_result"
    }
   ],
   "source": [
    "# Periksa `dob_years` untuk nilai yang mencurigakan dan hitung persentasenya\n",
    "sorted(data['dob_years'].unique())"
   ]
  },
  {
   "cell_type": "markdown",
   "metadata": {},
   "source": [
    "Kembali kita menemukan lagi sebuah kesalahan dalam *dataset* kita yang secara spesifik terdapat dalam kolom `dob_years`. Anomali nilai yang kita temukan yaitu usia nasabah yang masih **berusia 0 tahun**. Tentu ini hal yang tidak wajar dan perlu kita perbaiki nilainya dan kita **tidak akan menghapus baris-baris yang mengandung nilai 0** dalam kolom ini."
   ]
  },
  {
   "cell_type": "code",
   "execution_count": 52,
   "metadata": {
    "scrolled": false
   },
   "outputs": [
    {
     "data": {
      "text/html": [
       "<div>\n",
       "<style scoped>\n",
       "    .dataframe tbody tr th:only-of-type {\n",
       "        vertical-align: middle;\n",
       "    }\n",
       "\n",
       "    .dataframe tbody tr th {\n",
       "        vertical-align: top;\n",
       "    }\n",
       "\n",
       "    .dataframe thead th {\n",
       "        text-align: right;\n",
       "    }\n",
       "</style>\n",
       "<table border=\"1\" class=\"dataframe\">\n",
       "  <thead>\n",
       "    <tr style=\"text-align: right;\">\n",
       "      <th></th>\n",
       "      <th>children</th>\n",
       "      <th>days_employed</th>\n",
       "      <th>dob_years</th>\n",
       "      <th>education</th>\n",
       "      <th>education_id</th>\n",
       "      <th>family_status</th>\n",
       "      <th>family_status_id</th>\n",
       "      <th>gender</th>\n",
       "      <th>income_type</th>\n",
       "      <th>debt</th>\n",
       "      <th>total_income</th>\n",
       "      <th>purpose</th>\n",
       "    </tr>\n",
       "  </thead>\n",
       "  <tbody>\n",
       "    <tr>\n",
       "      <th>99</th>\n",
       "      <td>0</td>\n",
       "      <td>346541.618895</td>\n",
       "      <td>0</td>\n",
       "      <td>secondary education</td>\n",
       "      <td>1</td>\n",
       "      <td>married</td>\n",
       "      <td>0</td>\n",
       "      <td>F</td>\n",
       "      <td>retiree</td>\n",
       "      <td>0</td>\n",
       "      <td>11406.644</td>\n",
       "      <td>car</td>\n",
       "    </tr>\n",
       "    <tr>\n",
       "      <th>149</th>\n",
       "      <td>0</td>\n",
       "      <td>2664.273168</td>\n",
       "      <td>0</td>\n",
       "      <td>secondary education</td>\n",
       "      <td>1</td>\n",
       "      <td>divorced</td>\n",
       "      <td>3</td>\n",
       "      <td>F</td>\n",
       "      <td>employee</td>\n",
       "      <td>0</td>\n",
       "      <td>11228.230</td>\n",
       "      <td>housing transactions</td>\n",
       "    </tr>\n",
       "    <tr>\n",
       "      <th>270</th>\n",
       "      <td>3</td>\n",
       "      <td>1872.663186</td>\n",
       "      <td>0</td>\n",
       "      <td>secondary education</td>\n",
       "      <td>1</td>\n",
       "      <td>married</td>\n",
       "      <td>0</td>\n",
       "      <td>F</td>\n",
       "      <td>employee</td>\n",
       "      <td>0</td>\n",
       "      <td>16346.633</td>\n",
       "      <td>housing renovation</td>\n",
       "    </tr>\n",
       "    <tr>\n",
       "      <th>578</th>\n",
       "      <td>0</td>\n",
       "      <td>397856.565013</td>\n",
       "      <td>0</td>\n",
       "      <td>secondary education</td>\n",
       "      <td>1</td>\n",
       "      <td>married</td>\n",
       "      <td>0</td>\n",
       "      <td>F</td>\n",
       "      <td>retiree</td>\n",
       "      <td>0</td>\n",
       "      <td>15619.310</td>\n",
       "      <td>construction of own property</td>\n",
       "    </tr>\n",
       "    <tr>\n",
       "      <th>1040</th>\n",
       "      <td>0</td>\n",
       "      <td>1158.029561</td>\n",
       "      <td>0</td>\n",
       "      <td>bachelor's degree</td>\n",
       "      <td>0</td>\n",
       "      <td>divorced</td>\n",
       "      <td>3</td>\n",
       "      <td>F</td>\n",
       "      <td>business</td>\n",
       "      <td>0</td>\n",
       "      <td>48639.062</td>\n",
       "      <td>to own a car</td>\n",
       "    </tr>\n",
       "    <tr>\n",
       "      <th>...</th>\n",
       "      <td>...</td>\n",
       "      <td>...</td>\n",
       "      <td>...</td>\n",
       "      <td>...</td>\n",
       "      <td>...</td>\n",
       "      <td>...</td>\n",
       "      <td>...</td>\n",
       "      <td>...</td>\n",
       "      <td>...</td>\n",
       "      <td>...</td>\n",
       "      <td>...</td>\n",
       "      <td>...</td>\n",
       "    </tr>\n",
       "    <tr>\n",
       "      <th>19829</th>\n",
       "      <td>0</td>\n",
       "      <td>NaN</td>\n",
       "      <td>0</td>\n",
       "      <td>secondary education</td>\n",
       "      <td>1</td>\n",
       "      <td>married</td>\n",
       "      <td>0</td>\n",
       "      <td>F</td>\n",
       "      <td>employee</td>\n",
       "      <td>0</td>\n",
       "      <td>NaN</td>\n",
       "      <td>housing</td>\n",
       "    </tr>\n",
       "    <tr>\n",
       "      <th>20462</th>\n",
       "      <td>0</td>\n",
       "      <td>338734.868540</td>\n",
       "      <td>0</td>\n",
       "      <td>secondary education</td>\n",
       "      <td>1</td>\n",
       "      <td>married</td>\n",
       "      <td>0</td>\n",
       "      <td>F</td>\n",
       "      <td>retiree</td>\n",
       "      <td>0</td>\n",
       "      <td>41471.027</td>\n",
       "      <td>purchase of my own house</td>\n",
       "    </tr>\n",
       "    <tr>\n",
       "      <th>20577</th>\n",
       "      <td>0</td>\n",
       "      <td>331741.271455</td>\n",
       "      <td>0</td>\n",
       "      <td>secondary education</td>\n",
       "      <td>1</td>\n",
       "      <td>unmarried</td>\n",
       "      <td>4</td>\n",
       "      <td>F</td>\n",
       "      <td>retiree</td>\n",
       "      <td>0</td>\n",
       "      <td>20766.202</td>\n",
       "      <td>property</td>\n",
       "    </tr>\n",
       "    <tr>\n",
       "      <th>21179</th>\n",
       "      <td>2</td>\n",
       "      <td>108.967042</td>\n",
       "      <td>0</td>\n",
       "      <td>bachelor's degree</td>\n",
       "      <td>0</td>\n",
       "      <td>married</td>\n",
       "      <td>0</td>\n",
       "      <td>M</td>\n",
       "      <td>business</td>\n",
       "      <td>0</td>\n",
       "      <td>38512.321</td>\n",
       "      <td>building a real estate</td>\n",
       "    </tr>\n",
       "    <tr>\n",
       "      <th>21313</th>\n",
       "      <td>0</td>\n",
       "      <td>1268.487728</td>\n",
       "      <td>0</td>\n",
       "      <td>secondary education</td>\n",
       "      <td>1</td>\n",
       "      <td>unmarried</td>\n",
       "      <td>4</td>\n",
       "      <td>M</td>\n",
       "      <td>employee</td>\n",
       "      <td>0</td>\n",
       "      <td>24387.070</td>\n",
       "      <td>housing transactions</td>\n",
       "    </tr>\n",
       "  </tbody>\n",
       "</table>\n",
       "<p>101 rows × 12 columns</p>\n",
       "</div>"
      ],
      "text/plain": [
       "       children  days_employed  dob_years            education  education_id  \\\n",
       "99            0  346541.618895          0  secondary education             1   \n",
       "149           0    2664.273168          0  secondary education             1   \n",
       "270           3    1872.663186          0  secondary education             1   \n",
       "578           0  397856.565013          0  secondary education             1   \n",
       "1040          0    1158.029561          0    bachelor's degree             0   \n",
       "...         ...            ...        ...                  ...           ...   \n",
       "19829         0            NaN          0  secondary education             1   \n",
       "20462         0  338734.868540          0  secondary education             1   \n",
       "20577         0  331741.271455          0  secondary education             1   \n",
       "21179         2     108.967042          0    bachelor's degree             0   \n",
       "21313         0    1268.487728          0  secondary education             1   \n",
       "\n",
       "      family_status  family_status_id gender income_type  debt  total_income  \\\n",
       "99          married                 0      F     retiree     0     11406.644   \n",
       "149        divorced                 3      F    employee     0     11228.230   \n",
       "270         married                 0      F    employee     0     16346.633   \n",
       "578         married                 0      F     retiree     0     15619.310   \n",
       "1040       divorced                 3      F    business     0     48639.062   \n",
       "...             ...               ...    ...         ...   ...           ...   \n",
       "19829       married                 0      F    employee     0           NaN   \n",
       "20462       married                 0      F     retiree     0     41471.027   \n",
       "20577     unmarried                 4      F     retiree     0     20766.202   \n",
       "21179       married                 0      M    business     0     38512.321   \n",
       "21313     unmarried                 4      M    employee     0     24387.070   \n",
       "\n",
       "                            purpose  \n",
       "99                              car  \n",
       "149            housing transactions  \n",
       "270              housing renovation  \n",
       "578    construction of own property  \n",
       "1040                   to own a car  \n",
       "...                             ...  \n",
       "19829                       housing  \n",
       "20462      purchase of my own house  \n",
       "20577                      property  \n",
       "21179        building a real estate  \n",
       "21313          housing transactions  \n",
       "\n",
       "[101 rows x 12 columns]"
      ]
     },
     "execution_count": 52,
     "metadata": {},
     "output_type": "execute_result"
    }
   ],
   "source": [
    "# Melihat jumlah baris yang terdapat nilai 0 dalam kolom `dob_years`\n",
    "data[data['dob_years'] == 0]"
   ]
  },
  {
   "cell_type": "markdown",
   "metadata": {},
   "source": [
    "Mengapa kita tidak menghapus atau menyingkirkan baris-baris yang memiliki nilai 0 dalam kolom `dob_years`? Karena dalam setiap baris tersebut masih terdapat banyak informasi penting yang dapat kita gunakan untuk proses analisis selanjutnya dan dalam baris-baris di atas juga tidak terdapat nilai hilang yang banyak dan acak sehingga penghapusan data dalam kasus ini tidaklah perlu. Selain itu baris-baris yang memiliki nilai 0 dalam kolom ini tergolong banyak sehingga kita akan tetap menggunakannya. Kita bisa berasumsi mengenai kejanggalan nilai dalam kolom `dob_years` ini bisa saja disebabkan oleh kesalahan teknis admin pengisian data yang tidak sengaja salah mengetik usia nasabah menjadi 0.\n",
    "\n",
    "Apa yang akan kita lakukan dengan kesalahan dalam kolom `dob_years` ini? Jawabannya adalah dengan **mengisinya menggunakan nilai rata-rata** atau ***mean*** dalam kolom tersebut. Kita menggunakan rata-rata dikarenakan dalam distribusi nilai untuk kolom ini tidak terdapat nilai ekstrim (*outlier*) sehingga penggunaan nilai rata-rata dapat diterima. Mari kita terlebih dahulu mencari nilai rata-rata dalam kolom `dob_years`."
   ]
  },
  {
   "cell_type": "code",
   "execution_count": 53,
   "metadata": {},
   "outputs": [
    {
     "data": {
      "text/plain": [
       "43"
      ]
     },
     "execution_count": 53,
     "metadata": {},
     "output_type": "execute_result"
    }
   ],
   "source": [
    "# Mencari nilai rata-rata di kolom `dob_years`\n",
    "int(data['dob_years'].mean())"
   ]
  },
  {
   "cell_type": "markdown",
   "metadata": {},
   "source": [
    "Hasil yang kita terima dari penggunaan fungsi `mean()` untuk kolom `dob_years` yaitu 43. Berarti nilai rata-rata dari seluruh nasabah yang ada dalam *dataset* kita yaitu **43**. Penggunaan fungsi `int()` dalam kode di atas mengartikan bahwa nilai rata-rata akan dirubah tipe datanya menjadi *integer* agar hasilnya berupa nilai bulat. Mari kita mengganti nilai 0 dalam kolom ini dengan nilai rata-rata yang sudah didapatkan sebelumnya."
   ]
  },
  {
   "cell_type": "code",
   "execution_count": 54,
   "metadata": {},
   "outputs": [],
   "source": [
    "# Menyimpan terlebih dahulu nilai rata-rata yang sudah didapatkan\n",
    "mean_dob_years = int(data['dob_years'].mean())"
   ]
  },
  {
   "cell_type": "markdown",
   "metadata": {},
   "source": [
    "Kita sudah menyimpannya dalam variabel `mean_dob_years` dengan tujuan nantinya kita hanya perlu memanggil variabel ini ketika akan mengubah nilai 0 dalam kolom `dob_years`."
   ]
  },
  {
   "cell_type": "code",
   "execution_count": 55,
   "metadata": {},
   "outputs": [],
   "source": [
    "# Merubah nilai 0 dalam `dob_years` menjadi 43 berdasarkan nilai rata-rata yang kita dapatkan\n",
    "data['dob_years'] = data['dob_years'].replace(0, mean_dob_years)"
   ]
  },
  {
   "cell_type": "markdown",
   "metadata": {},
   "source": [
    "Dengan menggunakan bantuan `replace()` dalam kasus kita saat ini memungkinkan untuk merubah nilai yang lama menjadi nilai baru menggunakan nilai rata-rata yang sudah ada. Perbaikan nilai sudah kita jalankan berdasarkan keputusan yang sudah dibuat dan saatnya untuk kita kembali memeriksa apakah nilai yang janggal dalam kolom ini sudah berubah sebagaimana yang kita harapkan."
   ]
  },
  {
   "cell_type": "code",
   "execution_count": 57,
   "metadata": {},
   "outputs": [
    {
     "data": {
      "text/html": [
       "<div>\n",
       "<style scoped>\n",
       "    .dataframe tbody tr th:only-of-type {\n",
       "        vertical-align: middle;\n",
       "    }\n",
       "\n",
       "    .dataframe tbody tr th {\n",
       "        vertical-align: top;\n",
       "    }\n",
       "\n",
       "    .dataframe thead th {\n",
       "        text-align: right;\n",
       "    }\n",
       "</style>\n",
       "<table border=\"1\" class=\"dataframe\">\n",
       "  <thead>\n",
       "    <tr style=\"text-align: right;\">\n",
       "      <th></th>\n",
       "      <th>children</th>\n",
       "      <th>days_employed</th>\n",
       "      <th>dob_years</th>\n",
       "      <th>education</th>\n",
       "      <th>education_id</th>\n",
       "      <th>family_status</th>\n",
       "      <th>family_status_id</th>\n",
       "      <th>gender</th>\n",
       "      <th>income_type</th>\n",
       "      <th>debt</th>\n",
       "      <th>total_income</th>\n",
       "      <th>purpose</th>\n",
       "    </tr>\n",
       "  </thead>\n",
       "  <tbody>\n",
       "  </tbody>\n",
       "</table>\n",
       "</div>"
      ],
      "text/plain": [
       "Empty DataFrame\n",
       "Columns: [children, days_employed, dob_years, education, education_id, family_status, family_status_id, gender, income_type, debt, total_income, purpose]\n",
       "Index: []"
      ]
     },
     "execution_count": 57,
     "metadata": {},
     "output_type": "execute_result"
    }
   ],
   "source": [
    "# Mengecek kembali kolom ini dengan menyaringnya sesuai dengan usia yang tidak masuk akal\n",
    "data[data['dob_years'] == 0]"
   ]
  },
  {
   "cell_type": "markdown",
   "metadata": {},
   "source": [
    "Melalui isi **tabel kosong** di atas telah menandakan kepada kita bahwa **nilai 0** yang terdapat dalam kolom `dob_years` **sudah tidak ada lagi** karena nilainya sudah dirubah, sehingga nilai 0 sebelumnya untuk saat ini sudah berubah menjadi 43. Sehingga kita sudah dapat menyelesaikan permasalahan dalam kolom ini dengan baik dan dapat lanjut untuk menyelidiki kolom selanjutnya."
   ]
  },
  {
   "cell_type": "markdown",
   "metadata": {},
   "source": [
    "**Memeriksa dan memperbaiki data dalam kolom `family_status`**"
   ]
  },
  {
   "cell_type": "markdown",
   "metadata": {},
   "source": [
    "Bagian ini akan menjelaskan mengenai pemeriksaan dan perbaikan nilai dalam kolom `family_status` jikalau terdapat ada keanehan. Mari kita melihat terlebih dahulu informasi nilai dalam kolom tersebut."
   ]
  },
  {
   "cell_type": "code",
   "execution_count": 58,
   "metadata": {},
   "outputs": [
    {
     "data": {
      "text/plain": [
       "married              12380\n",
       "civil partnership     4177\n",
       "unmarried             2813\n",
       "divorced              1195\n",
       "widow / widower        960\n",
       "Name: family_status, dtype: int64"
      ]
     },
     "execution_count": 58,
     "metadata": {},
     "output_type": "execute_result"
    }
   ],
   "source": [
    "# Mari kita lihat nilai untuk kolom ini\n",
    "data['family_status'].value_counts()"
   ]
  },
  {
   "cell_type": "markdown",
   "metadata": {},
   "source": [
    "Berdasarkan nilai-nilai yang ada dalam kolom `family_status`, kita saat ini dapat melihat ada 5 nilai berbeda dalam kolom tersebut. Setelah diperiksa dan mencari letak kesalahan nilai, nampaknya **tidak ada kejanggalan** atau anomali untuk kasus ini. Karena kalau kita melihat berdasarkan nilai-nilai yang ada dalam kolom ini memiliki arti sebagai berikut:\n",
    "- *Married*: artinya nasabah yang sudah menikah\n",
    "- *Civil partnership*: artinya nasabah yang secara hukum sah seperti perkawinan, namun hanya untuk pasangan sesama jenis\n",
    "- *Unmarried*: artinya nasabah belum menikah\n",
    "- *Divorced*: artinya nasabah sudah bercerai secara sepakat antara dua pihak\n",
    "- *Widor / Widower*: artinya nasabah saat ini berstatus janda atau duda karena ditinggalkan oleh pasangannya atau pasangan hidupnya telah meninggal.\n",
    "\n",
    "Sehingga melalui penjelasan di atas, **perbaikan nilai dalam kolom ini tidak diperlukan** dan kita akan tetap mempertahankannya."
   ]
  },
  {
   "cell_type": "markdown",
   "metadata": {},
   "source": [
    "**Memeriksa dan memperbaiki data dalam kolom `gender`**"
   ]
  },
  {
   "cell_type": "markdown",
   "metadata": {},
   "source": [
    "Sekarang saatnya bagi kita untuk mengeksplor dan memperbaiki nilai dalam kolom `gender`. Seperti yang telah kita temukan dalam tahap Eksplorasi data, kolom ini terdapat satu nilai yang aneh. Maka dari itu mari melihat kembali nilai-nilai dalam kolom ini dan mengambil keputusan untuk diperbaiki selanjutnya."
   ]
  },
  {
   "cell_type": "code",
   "execution_count": 59,
   "metadata": {},
   "outputs": [
    {
     "data": {
      "text/plain": [
       "F      14236\n",
       "M       7288\n",
       "XNA        1\n",
       "Name: gender, dtype: int64"
      ]
     },
     "execution_count": 59,
     "metadata": {},
     "output_type": "execute_result"
    }
   ],
   "source": [
    "# Mari kita liat nilai dalam kolom ini\n",
    "data['gender'].value_counts()"
   ]
  },
  {
   "cell_type": "markdown",
   "metadata": {},
   "source": [
    "Dari nilai-nilai di atas, kita mendapatkan satu jenis nilai yang tidak biasa yaitu **XNA**. Sisa kedua dari nilai dalam kolom ini sudah benar dan merepresentasikan jenis kelamin sesungguhnya. Tetapi untuk kejanggalan yang kita temui yaitu XNA kita tidak dapat mengetahui arti dari nilai itu. Kita bisa beranggapan bahwa nilai tersebut bisa saja terjadi karena adanya kesalahan saat pengisian data atau sebagainya sehingga hasilnya berbeda sendiri. Sehingga keputusan yang akan kita ambil yaitu **menghapus nilai XNA** dalam kolom ini karena selain dari penjelasan sebelumnya, nilai XNA ini hanya terdiri dari satu baris saja sehingga jikalau kita menghapusnya tidak akan memiliki pengaruh yang besar dalam analisis kita selanjutnya. Mari kita singkirkan nilai XNA sesuai dengan keputusan yang kita ambil."
   ]
  },
  {
   "cell_type": "code",
   "execution_count": 60,
   "metadata": {},
   "outputs": [],
   "source": [
    "# Menyingkirkan nilai XNA dalam kolom `gender`\n",
    "new_data = data[data['gender'] != 'XNA'].reset_index(drop = True)"
   ]
  },
  {
   "cell_type": "markdown",
   "metadata": {},
   "source": [
    "Penghapusan nilai XNA dalam kolom ini sudah kita lakukan dalam blok kode sebelumnya. Dalam kode di atas kita melakukan penyaringan data yang ada dalam kolom ini dengan pengecualian nilai XNA tidak dimasukkan. Pada saat kode itu bekerja nilai XNA tidak akan digabungkan dalam *dataset* kita dan indeks dalam *dataset* harus dibenahi dengan menerapkan fungsi `reset_index()`. Setelah nilai disaring dan indeks diperbaiki kita menyimpannya dalam variabel baru bernama `new_data`. Selanjutnya kita akan memastikan apakah nilai yang janggal dalam kolom ini sudah benar-benar hilang atau tidak."
   ]
  },
  {
   "cell_type": "code",
   "execution_count": 61,
   "metadata": {},
   "outputs": [
    {
     "data": {
      "text/plain": [
       "F    14236\n",
       "M     7288\n",
       "Name: gender, dtype: int64"
      ]
     },
     "execution_count": 61,
     "metadata": {},
     "output_type": "execute_result"
    }
   ],
   "source": [
    "# Memeriksa kembali nilai-nilai dalam kolom `gender` untuk memastikan kejanggalan sudah tidak ada lagi\n",
    "new_data['gender'].value_counts()"
   ]
  },
  {
   "cell_type": "markdown",
   "metadata": {},
   "source": [
    "Merujuk dalam hasil pemeriksaan sebelumnya, kita dapat melihat bahwa **nilai XNA sudah tidak ada lagi** sehingga kita sudah berhasil melaksanakan keputusan yang telah kita buat dan lanjut dalam tahapan pemeriksaan selanjutnya."
   ]
  },
  {
   "cell_type": "markdown",
   "metadata": {},
   "source": [
    "**Memeriksa dan memperbaiki data dalam kolom `income_type`**"
   ]
  },
  {
   "cell_type": "markdown",
   "metadata": {},
   "source": [
    "Sekarang kita sudah hampir memasuki dalam bagian akhir dalam tahap Transformasi data untuk proyek ini. Saat ini kita akan melihat dan memperbaiki nilai dalam kolom `income_type` dan seperti biasanya kita akan terlebih dahulu untuk mengecek informasi nilai-nilai yang ada dalam kolom tersebut."
   ]
  },
  {
   "cell_type": "code",
   "execution_count": 62,
   "metadata": {
    "scrolled": false
   },
   "outputs": [
    {
     "data": {
      "text/plain": [
       "employee                       11119\n",
       "business                        5084\n",
       "retiree                         3856\n",
       "civil servant                   1459\n",
       "unemployed                         2\n",
       "entrepreneur                       2\n",
       "paternity / maternity leave        1\n",
       "student                            1\n",
       "Name: income_type, dtype: int64"
      ]
     },
     "execution_count": 62,
     "metadata": {},
     "output_type": "execute_result"
    }
   ],
   "source": [
    "# Mari kita lihat nilai dalam kolom `income_type`\n",
    "new_data['income_type'].value_counts()"
   ]
  },
  {
   "cell_type": "markdown",
   "metadata": {},
   "source": [
    "Melalui nilai-nilai dalam kolom `income_type` yang sudah tertera sebelumnya, terdapat beragam nilai mengenai jenis pendapatan dari nasabah. Jikalau kita lihat sepertinya tidak ada yang salah untuk setiap nilai yang ada, tetapi mungkin kita akan melakukan sedikit perubahan untuk kolom ini.\n",
    "- Secara sepintas antara ***paternity / maternity leave*** dengan ***retiree*** memiliki arti yang sama yaitu seseorang yang sudah tidak bekerja. Tetapi untuk artian asli dari *paternity / maternity leave* itu merupakan kompensasi berupa cuti yang diberikan oleh sebuah perusahaan untuk pekerjanya yang sedang melahirkan seorang anak. Sehingga *paternity / maternity leave* bukanlah orang yang tergolong sebagai pensiunan karena pensiunan berarti orang yang sudah tidak bekerja lagi. Sehingga kita akan tetap membiarkan kedua nilai tersebut secara terpisah.\n",
    "- Begitu juga untuk ***business*** dengan ***entrepreneur*** yang jikalau secara inti bergerak menjalankan sebuah usaha atau bisnis. Tetapi secara lini kerja dan tanggung jawab sebenarnya berbeda. Seseorang yang bekerja untuk sebuah bisnis sebenarnya tujuan utamanya yaitu mendapatkan keuntungan, tetapi ia hanya menjalankan bisnis atau ide yang sudah ada sedangkan untuk seorang wirausaha lebih kepada membangun sebuah usaha dari dasar dengan ide barunya dengan tujuan yang sama juga, yaitu untuk mendapatkan keuntungan. Sehingga kita tidak akan menggabungkan kedua nilai ini menjadi salah satu kategori.\n",
    "- Khusus untuk ***student*** kita berasumsi belum memiliki pendapatan dan sepertinya cocok untuk digabungkan dengan nilai ***unemployed***. Mengapa demikian? Karena sesungguhnya seorang pelajar masih fokus dalam kegiatan studinya dan pelajar bukanlah suatu pekerjaan yang dapat menghasilkan upah. Kita tahu bahwa seorang pelajar juga bisa mendapatkan upah melalui program magang atau bekerja paruh waktu. Apakah asumsi kita benar bahwa seorang nasabah dalam *dataset* kita saat ini tidak memiliki pendapatan? Mari kita buktikan dalam kode blok di bawah ini."
   ]
  },
  {
   "cell_type": "code",
   "execution_count": 63,
   "metadata": {},
   "outputs": [
    {
     "data": {
      "text/html": [
       "<div>\n",
       "<style scoped>\n",
       "    .dataframe tbody tr th:only-of-type {\n",
       "        vertical-align: middle;\n",
       "    }\n",
       "\n",
       "    .dataframe tbody tr th {\n",
       "        vertical-align: top;\n",
       "    }\n",
       "\n",
       "    .dataframe thead th {\n",
       "        text-align: right;\n",
       "    }\n",
       "</style>\n",
       "<table border=\"1\" class=\"dataframe\">\n",
       "  <thead>\n",
       "    <tr style=\"text-align: right;\">\n",
       "      <th></th>\n",
       "      <th>children</th>\n",
       "      <th>days_employed</th>\n",
       "      <th>dob_years</th>\n",
       "      <th>education</th>\n",
       "      <th>education_id</th>\n",
       "      <th>family_status</th>\n",
       "      <th>family_status_id</th>\n",
       "      <th>gender</th>\n",
       "      <th>income_type</th>\n",
       "      <th>debt</th>\n",
       "      <th>total_income</th>\n",
       "      <th>purpose</th>\n",
       "    </tr>\n",
       "  </thead>\n",
       "  <tbody>\n",
       "    <tr>\n",
       "      <th>9410</th>\n",
       "      <td>0</td>\n",
       "      <td>578.751554</td>\n",
       "      <td>22</td>\n",
       "      <td>bachelor's degree</td>\n",
       "      <td>0</td>\n",
       "      <td>unmarried</td>\n",
       "      <td>4</td>\n",
       "      <td>M</td>\n",
       "      <td>student</td>\n",
       "      <td>0</td>\n",
       "      <td>15712.26</td>\n",
       "      <td>construction of own property</td>\n",
       "    </tr>\n",
       "  </tbody>\n",
       "</table>\n",
       "</div>"
      ],
      "text/plain": [
       "      children  days_employed  dob_years          education  education_id  \\\n",
       "9410         0     578.751554         22  bachelor's degree             0   \n",
       "\n",
       "     family_status  family_status_id gender income_type  debt  total_income  \\\n",
       "9410     unmarried                 4      M     student     0      15712.26   \n",
       "\n",
       "                           purpose  \n",
       "9410  construction of own property  "
      ]
     },
     "execution_count": 63,
     "metadata": {},
     "output_type": "execute_result"
    }
   ],
   "source": [
    "# Memeriksa apakah status *student* dalam kolom `income_type` tidak memiliki pendapatan\n",
    "new_data[new_data['income_type'] == 'student']"
   ]
  },
  {
   "cell_type": "markdown",
   "metadata": {},
   "source": [
    "Setelah melakukan penyaringan data yang berstatus sebagai *student* atau pelajar, kita melihat bahwa nasabah yang statusnya masih seorang pelajar sudah memiliki pendapatan. Kita juga melihat bahwa umur dari nasabah tersebut masih tergolong muda yaitu 22 tahun dan bisa saja ia sedang dalam masa kuliah.\n",
    "\n",
    "Keputusan yang akan kita ambil yaitu dengan cara tidak memindahkannya ke dalam nilai *unemployed*, melainkan dengan cara merubah status pendapatan dari nasabah ini menjadi nilai yang lebih tepat, yaitu ***apprenticeship*** atau magang. Mengapa kita mengubahnya? Karena kita berasumsi bahwa pelajar tersebut walaupun statusnya masih seorang pelajar, tetapi ia sudah memiliki upah sehingga kita dapat beranggapan bahwa pelajar tersebut **mendapatkan upahnya dari program magang** yang sedang ia jalani. Oleh karena itu mari kita mengubah nilainya sesuai dengan penjelasan sebelumnya."
   ]
  },
  {
   "cell_type": "code",
   "execution_count": 64,
   "metadata": {},
   "outputs": [],
   "source": [
    "# Mengubah nilai *student* menjadi *apprenticeship* dalam kolom `income_type`\n",
    "new_data['income_type'] = new_data['income_type'].replace('student', 'apprenticeship')"
   ]
  },
  {
   "cell_type": "markdown",
   "metadata": {},
   "source": [
    "Perubahan salah satu nilai untuk kolom ini sudah kita lakukan sebagaimana mestinya sesuai dengan keputusan sebelumnya. Kita telah berhasil mengeksekusi blok kode di atas yang merubah nilai *student* menjadi *apprenticeship*. Untuk tahapan akhir dalam perbaikan kolom ini yaitu dengan memeriksanya kembali apakah hasilnya sudah berubah sesuai yang diharapkan atau tidak."
   ]
  },
  {
   "cell_type": "code",
   "execution_count": 65,
   "metadata": {
    "scrolled": false
   },
   "outputs": [
    {
     "data": {
      "text/plain": [
       "employee                       11119\n",
       "business                        5084\n",
       "retiree                         3856\n",
       "civil servant                   1459\n",
       "unemployed                         2\n",
       "entrepreneur                       2\n",
       "paternity / maternity leave        1\n",
       "apprenticeship                     1\n",
       "Name: income_type, dtype: int64"
      ]
     },
     "execution_count": 65,
     "metadata": {},
     "output_type": "execute_result"
    }
   ],
   "source": [
    "# Periksa hasilnya - pastikan bahwa masalahnya telah diperbaiki\n",
    "new_data['income_type'].value_counts()"
   ]
  },
  {
   "cell_type": "markdown",
   "metadata": {},
   "source": [
    "Berdasarkan hasil pemeriksaan kembali nilai-nilai dalam kolom ini, kita sudah melihat **perubahan yang sesuai dengan keputusan yang telah kita buat**. Kesimpulan untuk perbaikan nilai dalam kolom ini yaitu tidak ada satupun nilai yang digabungkan ke dalam satu kategori karena tidak ditemukannya kejanggalan yang mencolok, tetapi kita hanya merubah salah satu nilai dalam kolom `income_type` ini sesuai dengan penjelasan yang sudah kita deskripsikan."
   ]
  },
  {
   "cell_type": "markdown",
   "metadata": {},
   "source": [
    "**Pemeriksaan duplikat**\n",
    "\n",
    "Setelah melakukan transformasi data dalam beberapa kolom yang memiliki nilai yang janggal, kini saatnya untuk memeriksa apakah terdapat duplikat dalam *dataset* kita. Ini merupakan tahapan penting sebelum kita dapat bekerja menangani nilai hilang dan melakukan analisis uji hipotesis. Jikalau terdapat duplikat, kita harus mengambil keputusan dengan cara **menyingkirkannya dari *dataset*** ini."
   ]
  },
  {
   "cell_type": "code",
   "execution_count": 66,
   "metadata": {},
   "outputs": [
    {
     "data": {
      "text/plain": [
       "71"
      ]
     },
     "execution_count": 66,
     "metadata": {},
     "output_type": "execute_result"
    }
   ],
   "source": [
    "# Mencari jumlah nilai duplikat\n",
    "new_data.duplicated().sum()"
   ]
  },
  {
   "cell_type": "markdown",
   "metadata": {},
   "source": [
    "Ternyata dalam *dataset* proyek ini memiliki jumlah nilai duplikat sebanyak **71 baris**. Selanjutnya mari kita hapus duplikat tersebut dan menyimpannya dalam variabel baru bernama **new_data_2**."
   ]
  },
  {
   "cell_type": "code",
   "execution_count": 67,
   "metadata": {},
   "outputs": [],
   "source": [
    "# Menghapus duplikat data\n",
    "new_data_2 = new_data.drop_duplicates().reset_index(drop = True)"
   ]
  },
  {
   "cell_type": "markdown",
   "metadata": {},
   "source": [
    "Penghapusan nilai duplikat dalam blok kode di atas sudah berhasil dan kita tidak lupa mengatur kembali nilai indeksnya agar tidak berantakan. Sekarang mari kita lihat lagi apakah masih ada duplikat atau tidak dalam *dataset* ini."
   ]
  },
  {
   "cell_type": "code",
   "execution_count": 68,
   "metadata": {},
   "outputs": [
    {
     "data": {
      "text/plain": [
       "0"
      ]
     },
     "execution_count": 68,
     "metadata": {},
     "output_type": "execute_result"
    }
   ],
   "source": [
    "# Lakukan pemeriksaan terakhir untuk mengecek apakah kita memiliki duplikat\n",
    "new_data_2.duplicated().sum()"
   ]
  },
  {
   "cell_type": "markdown",
   "metadata": {},
   "source": [
    "Pada akhirnya kita dapat melihat sudah tidak ada lagi nilai duplikat dalam *dataset* kita saat ini. Sekarang mari kita memeriksa kembali mengenai perubahan informasi umum dalam *dataset* kita."
   ]
  },
  {
   "cell_type": "markdown",
   "metadata": {},
   "source": [
    "**Pemeriksaan ukuran *dataset* saat ini**"
   ]
  },
  {
   "cell_type": "markdown",
   "metadata": {},
   "source": [
    "Bagian akhir dari tahapan transformasi data ini adalah dengan memeriksa kembali ukuran *dataset* yang sekarang kita miliki setelah melakukan perubahan dalam data. Caranya dengan mencari informasi umum mengenai *dataset* yang akan menampilkan nama-nama kolom beserta jumlah baris dan tipe datanya."
   ]
  },
  {
   "cell_type": "code",
   "execution_count": 69,
   "metadata": {
    "scrolled": false
   },
   "outputs": [
    {
     "name": "stdout",
     "output_type": "stream",
     "text": [
      "<class 'pandas.core.frame.DataFrame'>\n",
      "RangeIndex: 21453 entries, 0 to 21452\n",
      "Data columns (total 12 columns):\n",
      " #   Column            Non-Null Count  Dtype  \n",
      "---  ------            --------------  -----  \n",
      " 0   children          21453 non-null  int64  \n",
      " 1   days_employed     19350 non-null  float64\n",
      " 2   dob_years         21453 non-null  int64  \n",
      " 3   education         21453 non-null  object \n",
      " 4   education_id      21453 non-null  int64  \n",
      " 5   family_status     21453 non-null  object \n",
      " 6   family_status_id  21453 non-null  int64  \n",
      " 7   gender            21453 non-null  object \n",
      " 8   income_type       21453 non-null  object \n",
      " 9   debt              21453 non-null  int64  \n",
      " 10  total_income      19350 non-null  float64\n",
      " 11  purpose           21453 non-null  object \n",
      "dtypes: float64(2), int64(5), object(5)\n",
      "memory usage: 2.0+ MB\n"
     ]
    }
   ],
   "source": [
    "# Periksa ukuran dataset yang sekarang kita miliki setelah manipulasi pertama yang kita lakukan\n",
    "new_data_2.info()"
   ]
  },
  {
   "cell_type": "markdown",
   "metadata": {},
   "source": [
    "Dari informasi umum mengenai *dataset* kita, terdapat perubahan dari segi jumlah baris untuk setiap kolomnya. Sebelumnya jumlah baris dalam *dataset* sebelum masuk dalam tahap transformasi data dan penghapusan duplikat berjumlah 21525 baris dan setelah melewati tahapan tersebut nilainya menjadi berkurang, yaitu sisanya saat ini sebanyak **21453 baris**. Untuk tipe data seluruh kolom juga tidak berubah karena kita tidak melakukan perubahan tipe data. Tetapi kita masih dapat melihat bahwa untuk kolom `days_employed` dan `total_income` masih terdapat nilai kosong dan mengenai hal tersebut akan kita bahas dan mengisi nilainya dalam tahapan selanjutnya, yaitu bekerja dengan nilai yang hilang."
   ]
  },
  {
   "cell_type": "markdown",
   "metadata": {},
   "source": [
    "# Bekerja dengan Nilai yang Hilang"
   ]
  },
  {
   "cell_type": "markdown",
   "metadata": {},
   "source": [
    "Saatnya kita telah masuk dalam fase penting untuk memperbaiki nilai yang hilang dalam bagian ini. Sebelum memperbaiki nilai hilang dalam kedua kolom yang bermasalah, kita diperintahkan untuk membuat sebuah *dictionary* yang nilai kolom yang memiliki sebuah ID. Kita telah mengetahui bahwa dalam *dataset* proyek ini memiliki dua kolom ID, yaitu `education_id` dan `family_status_id` yang berhubungan dengan kolom `education` dan `family_status`. Pertama kita akan membuat *dataframe* baru yang hanya berisi kolom yang memiliki nilai ID."
   ]
  },
  {
   "cell_type": "code",
   "execution_count": 70,
   "metadata": {},
   "outputs": [],
   "source": [
    "# Temukan dictionary untuk `education_id`\n",
    "edu_dict = new_data_2[['education_id', 'education']].drop_duplicates().reset_index(drop = True)"
   ]
  },
  {
   "cell_type": "code",
   "execution_count": 71,
   "metadata": {},
   "outputs": [
    {
     "data": {
      "text/html": [
       "<div>\n",
       "<style scoped>\n",
       "    .dataframe tbody tr th:only-of-type {\n",
       "        vertical-align: middle;\n",
       "    }\n",
       "\n",
       "    .dataframe tbody tr th {\n",
       "        vertical-align: top;\n",
       "    }\n",
       "\n",
       "    .dataframe thead th {\n",
       "        text-align: right;\n",
       "    }\n",
       "</style>\n",
       "<table border=\"1\" class=\"dataframe\">\n",
       "  <thead>\n",
       "    <tr style=\"text-align: right;\">\n",
       "      <th></th>\n",
       "      <th>education_id</th>\n",
       "      <th>education</th>\n",
       "    </tr>\n",
       "  </thead>\n",
       "  <tbody>\n",
       "    <tr>\n",
       "      <th>0</th>\n",
       "      <td>0</td>\n",
       "      <td>bachelor's degree</td>\n",
       "    </tr>\n",
       "    <tr>\n",
       "      <th>1</th>\n",
       "      <td>1</td>\n",
       "      <td>secondary education</td>\n",
       "    </tr>\n",
       "    <tr>\n",
       "      <th>2</th>\n",
       "      <td>2</td>\n",
       "      <td>some college</td>\n",
       "    </tr>\n",
       "    <tr>\n",
       "      <th>3</th>\n",
       "      <td>3</td>\n",
       "      <td>primary education</td>\n",
       "    </tr>\n",
       "    <tr>\n",
       "      <th>4</th>\n",
       "      <td>4</td>\n",
       "      <td>graduate degree</td>\n",
       "    </tr>\n",
       "  </tbody>\n",
       "</table>\n",
       "</div>"
      ],
      "text/plain": [
       "   education_id            education\n",
       "0             0    bachelor's degree\n",
       "1             1  secondary education\n",
       "2             2         some college\n",
       "3             3    primary education\n",
       "4             4      graduate degree"
      ]
     },
     "execution_count": 71,
     "metadata": {},
     "output_type": "execute_result"
    }
   ],
   "source": [
    "# Menampilkan dictionary dari `education_id`\n",
    "edu_dict"
   ]
  },
  {
   "cell_type": "markdown",
   "metadata": {},
   "source": [
    "Kita sudah membuat sebuah *dataframe* baru yang isinya mirip seperti *dictionary* untuk kolom `education_id`. Kolom `education` berkaitan erat dengan kolom `education_id` sehingga kita menggabungkan kedua kolom tersebut ke dalam *dataframe* baru agar terlihat lebih mudah untuk dibaca dan dimengerti mengenai arti kategori dari setiap ID. Saat digabungkan nilai kedua kolom tersebut akan terlihat seperti banyak duplikat sehingga kita perlu menghapusnya dan memperbaiki kembali indeksnya."
   ]
  },
  {
   "cell_type": "code",
   "execution_count": 72,
   "metadata": {},
   "outputs": [],
   "source": [
    "# Temukan dictionary untuk `family_status_id`\n",
    "family_dict = new_data_2[['family_status_id', 'family_status']].drop_duplicates().reset_index(drop = True)"
   ]
  },
  {
   "cell_type": "code",
   "execution_count": 73,
   "metadata": {},
   "outputs": [
    {
     "data": {
      "text/html": [
       "<div>\n",
       "<style scoped>\n",
       "    .dataframe tbody tr th:only-of-type {\n",
       "        vertical-align: middle;\n",
       "    }\n",
       "\n",
       "    .dataframe tbody tr th {\n",
       "        vertical-align: top;\n",
       "    }\n",
       "\n",
       "    .dataframe thead th {\n",
       "        text-align: right;\n",
       "    }\n",
       "</style>\n",
       "<table border=\"1\" class=\"dataframe\">\n",
       "  <thead>\n",
       "    <tr style=\"text-align: right;\">\n",
       "      <th></th>\n",
       "      <th>family_status_id</th>\n",
       "      <th>family_status</th>\n",
       "    </tr>\n",
       "  </thead>\n",
       "  <tbody>\n",
       "    <tr>\n",
       "      <th>0</th>\n",
       "      <td>0</td>\n",
       "      <td>married</td>\n",
       "    </tr>\n",
       "    <tr>\n",
       "      <th>1</th>\n",
       "      <td>1</td>\n",
       "      <td>civil partnership</td>\n",
       "    </tr>\n",
       "    <tr>\n",
       "      <th>2</th>\n",
       "      <td>2</td>\n",
       "      <td>widow / widower</td>\n",
       "    </tr>\n",
       "    <tr>\n",
       "      <th>3</th>\n",
       "      <td>3</td>\n",
       "      <td>divorced</td>\n",
       "    </tr>\n",
       "    <tr>\n",
       "      <th>4</th>\n",
       "      <td>4</td>\n",
       "      <td>unmarried</td>\n",
       "    </tr>\n",
       "  </tbody>\n",
       "</table>\n",
       "</div>"
      ],
      "text/plain": [
       "   family_status_id      family_status\n",
       "0                 0            married\n",
       "1                 1  civil partnership\n",
       "2                 2    widow / widower\n",
       "3                 3           divorced\n",
       "4                 4          unmarried"
      ]
     },
     "execution_count": 73,
     "metadata": {},
     "output_type": "execute_result"
    }
   ],
   "source": [
    "# Menampilkan dictionary dari `family_status_id`\n",
    "family_dict"
   ]
  },
  {
   "cell_type": "markdown",
   "metadata": {},
   "source": [
    "Tahap sebelumnya sudah berhasil dalam membuat *dataframe* baru untuk `famlily_status_id` yang memiliki keterikatan dengan kolom `family_status`. Kolom `famlily_status_id` secara sengaja digabung dengan `family_status` untuk melihat arti setiap nilai ID tersebut.\n",
    "\n",
    "Pembuatan *dictionary* bagi kolom yang memiliki nilai identik (ID) sudah kita lakukan. Walaupun ini sifatnya tidak wajib dan tidak akan digunakan dalam proses selanjutnya, setidaknya kita sudah memenuhi perintah dalam pengerjaan proyek ini dan kita juga dapat mengetahui cara untuk mengelompokkan data berdasarkan nomor identiknya."
   ]
  },
  {
   "cell_type": "markdown",
   "metadata": {},
   "source": [
    "### Memperbaiki nilai yang hilang di `total_income`"
   ]
  },
  {
   "cell_type": "markdown",
   "metadata": {},
   "source": [
    "Saat ini kita sudah masuk ke dalam bagian yang krusial dalam penanganan nilai hilang untuk kolom `total_income`. Dalam tahapan-tahapan sebelumnya kita sudah mencari dan menjelaskan bahwa nilai untuk kolom ini ada yang hilang dan perlu kita isi nilainya. Namun sebelumnya kita akan memperbaiki dan menambahkan kolom baru yang berkaitan dengan nilai dalam kolom `total_income` dan selanjutnya akan kita isi nilainya. Pengerjaan ini akan dilakukan secara bertahap dan kita mulai terlebih dahulu dengan membuat sebuah fungsi untuk mengelompokkan usia nasabah."
   ]
  },
  {
   "cell_type": "markdown",
   "metadata": {},
   "source": [
    "*Dataset* dalam proyek ini memiliki sebuah kolom yang berisi informasi mengenai usia nasabah dalam kolom `dob_years`. Usia termasuk dalam kolom non-kategorik sehingga saat ini kita belum mengetahui kelompok usia dari nasabah. Oleh karena itu saat ini kita akan **membuat sebuah fungsi yang dapat membuat kategori usia** sehingga kita dapat mengelompokkannya berdasarkan kategori yang kita inginkan. Tujuan untuk membuat sebuah pengelompokkan kategori berdasarkan usia nasabah dapat **membantu kita dalam menghitung total nilai pendapatan** nantinya.\n",
    "\n",
    "Sebelumnya kita perlu memperhatikan terlebih dahulu nama-nama kategori berdasarkan rentang usia yang akan kita terapkan dalam kolom baru nantinya. Tanpa berlama-lama, mari kita melihat dan membuat sebuah fungsi untuk mengelompokkan usia nasabah. Kita telah memutuskan kategori usia yang akan digunakan berdasarkan keputusan yang telah kita tentukan, dengan nama-nama kategorinya sebagai berikut:\n",
    "- Usia nasabah yang berada **di bawah atau sama dengan 17 tahun** tergolong dalam kategori ***Adolescent***\n",
    "- Usia nasabah yang saat ini **sama dengan 18 tahun hingga 40 tahun** tergolong dalam kategori ***Adult in 18 - 40***\n",
    "- Usia nasabah yang saat ini **sama dengan 41 tahun hingga 64 tahun** tergolong dalam kategori ***Adult in 41 - 64***\n",
    "- Usia nasabah yang saat ini berada dalam usia **sama dengan 65 tahun hingga selanjutnya** tergolong dalam kategori ***Older adults***"
   ]
  },
  {
   "cell_type": "code",
   "execution_count": 74,
   "metadata": {},
   "outputs": [],
   "source": [
    "# Mari kita tulis sebuah fungsi untuk menghitung kategori usia\n",
    "def age_grouping(age):\n",
    "    try:\n",
    "        if age <= 17:\n",
    "            return 'Adolescent'\n",
    "        elif 18 <= age <= 40:\n",
    "            return 'Adult in 18 - 40'\n",
    "        elif 41 <= age <= 64:\n",
    "            return 'Adult in 41 - 64'\n",
    "        else:\n",
    "            return 'Older adults'\n",
    "    except:\n",
    "        return 'Unidentified'"
   ]
  },
  {
   "cell_type": "markdown",
   "metadata": {},
   "source": [
    "Pembuatan fungsi untuk mengelompokkan usia nasabah sudah selesai kita buat dan kodenya dapat diterima dengan baik ketika selesai dijalankan. Kita membuat nama fungsi di atas sebagai `age_grouping` dengan isi parameternya bernama *age*. Selain itu kita juga menggunakan `try()` dan `except()` dalam fungsi kita untuk menghindari jikalau ada sebuah kesalahan dalam nilai di kolom `dob_years` ketika nantinya kita akan menerapkannya dalam sebuah kolom baru nantinya. Sebelum kita menerapkan kategori nilai berdasarkan usia nasabah dalam kolom baru, kita wajib untuk menguji fungsi yang telah kita buat apakah bekerja dengan baik atau sebaliknya."
   ]
  },
  {
   "cell_type": "code",
   "execution_count": 75,
   "metadata": {},
   "outputs": [
    {
     "data": {
      "text/plain": [
       "'Adolescent'"
      ]
     },
     "execution_count": 75,
     "metadata": {},
     "output_type": "execute_result"
    }
   ],
   "source": [
    "# Lakukan pengujian untuk melihat apakah fungsi kita bekerja atau tidak, mulai dari nilai 16\n",
    "age_grouping(16)"
   ]
  },
  {
   "cell_type": "code",
   "execution_count": 76,
   "metadata": {},
   "outputs": [
    {
     "data": {
      "text/plain": [
       "'Adolescent'"
      ]
     },
     "execution_count": 76,
     "metadata": {},
     "output_type": "execute_result"
    }
   ],
   "source": [
    "# Menguji fungsi untuk nilai 17\n",
    "age_grouping(17)"
   ]
  },
  {
   "cell_type": "code",
   "execution_count": 77,
   "metadata": {},
   "outputs": [
    {
     "data": {
      "text/plain": [
       "'Adult in 18 - 40'"
      ]
     },
     "execution_count": 77,
     "metadata": {},
     "output_type": "execute_result"
    }
   ],
   "source": [
    "# Menguji fungsi untuk nilai 18\n",
    "age_grouping(18)"
   ]
  },
  {
   "cell_type": "code",
   "execution_count": 78,
   "metadata": {},
   "outputs": [
    {
     "data": {
      "text/plain": [
       "'Adult in 41 - 64'"
      ]
     },
     "execution_count": 78,
     "metadata": {},
     "output_type": "execute_result"
    }
   ],
   "source": [
    "# Menguji fungsi untuk nilai 33\n",
    "age_grouping(41)"
   ]
  },
  {
   "cell_type": "code",
   "execution_count": 79,
   "metadata": {},
   "outputs": [
    {
     "data": {
      "text/plain": [
       "'Adult in 41 - 64'"
      ]
     },
     "execution_count": 79,
     "metadata": {},
     "output_type": "execute_result"
    }
   ],
   "source": [
    "# Menguji fungsi untuk nilai 64\n",
    "age_grouping(64)"
   ]
  },
  {
   "cell_type": "code",
   "execution_count": 80,
   "metadata": {},
   "outputs": [
    {
     "data": {
      "text/plain": [
       "'Older adults'"
      ]
     },
     "execution_count": 80,
     "metadata": {},
     "output_type": "execute_result"
    }
   ],
   "source": [
    "# Menguji fungsi untuk nilai 65\n",
    "age_grouping(65)"
   ]
  },
  {
   "cell_type": "code",
   "execution_count": 81,
   "metadata": {},
   "outputs": [
    {
     "data": {
      "text/plain": [
       "'Older adults'"
      ]
     },
     "execution_count": 81,
     "metadata": {},
     "output_type": "execute_result"
    }
   ],
   "source": [
    "# Menguji fungsi untuk nilai 70\n",
    "age_grouping(70)"
   ]
  },
  {
   "cell_type": "markdown",
   "metadata": {},
   "source": [
    "Kita sudah menguji banyak nilai untuk memastikan **fungsi kita berjalan dengan baik** dan hasilnya nilai-nilai yang kita uji **sudah masuk dalam kategori usia yang sesuai**. Kita juga tidak menemukan adanya kesalahan pemetaan nilai berdasarkan kategori yang ada dalam fungsi sehingga kita bisa langsung untuk **membuat kolom baru** di mana kolom ini dapat **memuat kategori usia nasabah berdasarkan usianya**."
   ]
  },
  {
   "cell_type": "code",
   "execution_count": 82,
   "metadata": {},
   "outputs": [],
   "source": [
    "# Membuat kolom baru berdasarkan fungsi yang telah dibuat\n",
    "new_data_2['age_category'] = new_data_2['dob_years'].apply(age_grouping)"
   ]
  },
  {
   "cell_type": "markdown",
   "metadata": {},
   "source": [
    "Pembuatan kolom baru saat ini sudah dilakukan dan disimpan dalam kolom yang bernama `age_category`. Dalam kolom tersebut berisi nilai-nilai kategori usia nasabah berdasarkan usianya dalam kolom `dob_years` dan ketika fungsi tersebut diterapkan menggunakan bantuan `apply()`, setiap nilai dalam kolom `dob_years` akan disesuaikan kategorinya berdasarkan fungsi yang telah kita buat. Kita akan memeriksa bagaimana nilai dalam kolom baru yang telah dibuat terlihat dalam *dataset* saat ini."
   ]
  },
  {
   "cell_type": "code",
   "execution_count": 83,
   "metadata": {
    "scrolled": false
   },
   "outputs": [
    {
     "data": {
      "text/plain": [
       "Adult in 41 - 64    11110\n",
       "Adult in 18 - 40     9448\n",
       "Older adults          895\n",
       "Name: age_category, dtype: int64"
      ]
     },
     "execution_count": 83,
     "metadata": {},
     "output_type": "execute_result"
    }
   ],
   "source": [
    "# Periksa bagaimana nilai di dalam kolom baru\n",
    "new_data_2['age_category'].value_counts()"
   ]
  },
  {
   "cell_type": "markdown",
   "metadata": {},
   "source": [
    "Pengujian fungsi dan penerapan nilai-nilai kategori dalam kolom baru sudah kita lakukan dengan lancar. Sekarang dari hasil penerapan fungsi tersebut sudah dapat dilihat dalam kolom baru di atas. Kita dapat menyimpulkan bahwa nasabah yang termasuk dalam kategori usia *adult in 41 - 64* atau dewasa yang berusia dari 41 hingga 64 tahun lebih mendominasi dibandingkan dengan kategori usia nasabah lainnya."
   ]
  },
  {
   "cell_type": "markdown",
   "metadata": {},
   "source": [
    "Setelah membuat kategori usia dalam kolom baru, saat ini kita akan memuat data yang tidak mengandung nilai hilang dalam kolom `total_income`. Pembuatan *dataset* ini bertujuan untuk **memeriksa perbedaan antara penggunaan rata-rata dan median** untuk kolom `total_income`. Selain itu kita juga akan mengetahui mana yang terbaik untuk mengisi nilai kosong untuk kolom tersebut apakah dengan menggunakan nilai rata-rata atau median. Mari kita membuat tabel baru yang hanya terdapat nilainya dalam kolom `total_income`."
   ]
  },
  {
   "cell_type": "code",
   "execution_count": 84,
   "metadata": {},
   "outputs": [],
   "source": [
    "# Buat tabel tanpa nilai yang hilang dan menampilkan beberapa barisnya untuk memastikan semuanya berjalan dengan baik\n",
    "not_null_data = new_data_2[new_data_2['total_income'].notnull()].reset_index(drop = True)"
   ]
  },
  {
   "cell_type": "markdown",
   "metadata": {},
   "source": [
    "Penyisihan nilai untuk kolom `total_income` yang memiliki *null value* sudah dilakukan dan kita simpan dalam variabel baru. Kita juga tidak lupa menggunakan `reset_index()` agar indeks dalam data kita terlihat rapih dan berurutan. Selanjutnya mari kita lihat tabel yang sudah dibuat di bawah ini."
   ]
  },
  {
   "cell_type": "code",
   "execution_count": 85,
   "metadata": {},
   "outputs": [
    {
     "data": {
      "text/html": [
       "<div>\n",
       "<style scoped>\n",
       "    .dataframe tbody tr th:only-of-type {\n",
       "        vertical-align: middle;\n",
       "    }\n",
       "\n",
       "    .dataframe tbody tr th {\n",
       "        vertical-align: top;\n",
       "    }\n",
       "\n",
       "    .dataframe thead th {\n",
       "        text-align: right;\n",
       "    }\n",
       "</style>\n",
       "<table border=\"1\" class=\"dataframe\">\n",
       "  <thead>\n",
       "    <tr style=\"text-align: right;\">\n",
       "      <th></th>\n",
       "      <th>children</th>\n",
       "      <th>days_employed</th>\n",
       "      <th>dob_years</th>\n",
       "      <th>education</th>\n",
       "      <th>education_id</th>\n",
       "      <th>family_status</th>\n",
       "      <th>family_status_id</th>\n",
       "      <th>gender</th>\n",
       "      <th>income_type</th>\n",
       "      <th>debt</th>\n",
       "      <th>total_income</th>\n",
       "      <th>purpose</th>\n",
       "      <th>age_category</th>\n",
       "    </tr>\n",
       "  </thead>\n",
       "  <tbody>\n",
       "    <tr>\n",
       "      <th>0</th>\n",
       "      <td>1</td>\n",
       "      <td>8437.673028</td>\n",
       "      <td>42</td>\n",
       "      <td>bachelor's degree</td>\n",
       "      <td>0</td>\n",
       "      <td>married</td>\n",
       "      <td>0</td>\n",
       "      <td>F</td>\n",
       "      <td>employee</td>\n",
       "      <td>0</td>\n",
       "      <td>40620.102</td>\n",
       "      <td>purchase of the house</td>\n",
       "      <td>Adult in 41 - 64</td>\n",
       "    </tr>\n",
       "    <tr>\n",
       "      <th>1</th>\n",
       "      <td>1</td>\n",
       "      <td>4024.803754</td>\n",
       "      <td>36</td>\n",
       "      <td>secondary education</td>\n",
       "      <td>1</td>\n",
       "      <td>married</td>\n",
       "      <td>0</td>\n",
       "      <td>F</td>\n",
       "      <td>employee</td>\n",
       "      <td>0</td>\n",
       "      <td>17932.802</td>\n",
       "      <td>car purchase</td>\n",
       "      <td>Adult in 18 - 40</td>\n",
       "    </tr>\n",
       "    <tr>\n",
       "      <th>2</th>\n",
       "      <td>0</td>\n",
       "      <td>5623.422610</td>\n",
       "      <td>33</td>\n",
       "      <td>secondary education</td>\n",
       "      <td>1</td>\n",
       "      <td>married</td>\n",
       "      <td>0</td>\n",
       "      <td>M</td>\n",
       "      <td>employee</td>\n",
       "      <td>0</td>\n",
       "      <td>23341.752</td>\n",
       "      <td>purchase of the house</td>\n",
       "      <td>Adult in 18 - 40</td>\n",
       "    </tr>\n",
       "    <tr>\n",
       "      <th>3</th>\n",
       "      <td>3</td>\n",
       "      <td>4124.747207</td>\n",
       "      <td>32</td>\n",
       "      <td>secondary education</td>\n",
       "      <td>1</td>\n",
       "      <td>married</td>\n",
       "      <td>0</td>\n",
       "      <td>M</td>\n",
       "      <td>employee</td>\n",
       "      <td>0</td>\n",
       "      <td>42820.568</td>\n",
       "      <td>supplementary education</td>\n",
       "      <td>Adult in 18 - 40</td>\n",
       "    </tr>\n",
       "    <tr>\n",
       "      <th>4</th>\n",
       "      <td>0</td>\n",
       "      <td>340266.072047</td>\n",
       "      <td>53</td>\n",
       "      <td>secondary education</td>\n",
       "      <td>1</td>\n",
       "      <td>civil partnership</td>\n",
       "      <td>1</td>\n",
       "      <td>F</td>\n",
       "      <td>retiree</td>\n",
       "      <td>0</td>\n",
       "      <td>25378.572</td>\n",
       "      <td>to have a wedding</td>\n",
       "      <td>Adult in 41 - 64</td>\n",
       "    </tr>\n",
       "    <tr>\n",
       "      <th>...</th>\n",
       "      <td>...</td>\n",
       "      <td>...</td>\n",
       "      <td>...</td>\n",
       "      <td>...</td>\n",
       "      <td>...</td>\n",
       "      <td>...</td>\n",
       "      <td>...</td>\n",
       "      <td>...</td>\n",
       "      <td>...</td>\n",
       "      <td>...</td>\n",
       "      <td>...</td>\n",
       "      <td>...</td>\n",
       "      <td>...</td>\n",
       "    </tr>\n",
       "    <tr>\n",
       "      <th>19345</th>\n",
       "      <td>1</td>\n",
       "      <td>4529.316663</td>\n",
       "      <td>43</td>\n",
       "      <td>secondary education</td>\n",
       "      <td>1</td>\n",
       "      <td>civil partnership</td>\n",
       "      <td>1</td>\n",
       "      <td>F</td>\n",
       "      <td>business</td>\n",
       "      <td>0</td>\n",
       "      <td>35966.698</td>\n",
       "      <td>housing transactions</td>\n",
       "      <td>Adult in 41 - 64</td>\n",
       "    </tr>\n",
       "    <tr>\n",
       "      <th>19346</th>\n",
       "      <td>0</td>\n",
       "      <td>343937.404131</td>\n",
       "      <td>67</td>\n",
       "      <td>secondary education</td>\n",
       "      <td>1</td>\n",
       "      <td>married</td>\n",
       "      <td>0</td>\n",
       "      <td>F</td>\n",
       "      <td>retiree</td>\n",
       "      <td>0</td>\n",
       "      <td>24959.969</td>\n",
       "      <td>purchase of a car</td>\n",
       "      <td>Older adults</td>\n",
       "    </tr>\n",
       "    <tr>\n",
       "      <th>19347</th>\n",
       "      <td>1</td>\n",
       "      <td>2113.346888</td>\n",
       "      <td>38</td>\n",
       "      <td>secondary education</td>\n",
       "      <td>1</td>\n",
       "      <td>civil partnership</td>\n",
       "      <td>1</td>\n",
       "      <td>M</td>\n",
       "      <td>employee</td>\n",
       "      <td>1</td>\n",
       "      <td>14347.610</td>\n",
       "      <td>property</td>\n",
       "      <td>Adult in 18 - 40</td>\n",
       "    </tr>\n",
       "    <tr>\n",
       "      <th>19348</th>\n",
       "      <td>3</td>\n",
       "      <td>3112.481705</td>\n",
       "      <td>38</td>\n",
       "      <td>secondary education</td>\n",
       "      <td>1</td>\n",
       "      <td>married</td>\n",
       "      <td>0</td>\n",
       "      <td>M</td>\n",
       "      <td>employee</td>\n",
       "      <td>1</td>\n",
       "      <td>39054.888</td>\n",
       "      <td>buying my own car</td>\n",
       "      <td>Adult in 18 - 40</td>\n",
       "    </tr>\n",
       "    <tr>\n",
       "      <th>19349</th>\n",
       "      <td>2</td>\n",
       "      <td>1984.507589</td>\n",
       "      <td>40</td>\n",
       "      <td>secondary education</td>\n",
       "      <td>1</td>\n",
       "      <td>married</td>\n",
       "      <td>0</td>\n",
       "      <td>F</td>\n",
       "      <td>employee</td>\n",
       "      <td>0</td>\n",
       "      <td>13127.587</td>\n",
       "      <td>to buy a car</td>\n",
       "      <td>Adult in 18 - 40</td>\n",
       "    </tr>\n",
       "  </tbody>\n",
       "</table>\n",
       "<p>19350 rows × 13 columns</p>\n",
       "</div>"
      ],
      "text/plain": [
       "       children  days_employed  dob_years            education  education_id  \\\n",
       "0             1    8437.673028         42    bachelor's degree             0   \n",
       "1             1    4024.803754         36  secondary education             1   \n",
       "2             0    5623.422610         33  secondary education             1   \n",
       "3             3    4124.747207         32  secondary education             1   \n",
       "4             0  340266.072047         53  secondary education             1   \n",
       "...         ...            ...        ...                  ...           ...   \n",
       "19345         1    4529.316663         43  secondary education             1   \n",
       "19346         0  343937.404131         67  secondary education             1   \n",
       "19347         1    2113.346888         38  secondary education             1   \n",
       "19348         3    3112.481705         38  secondary education             1   \n",
       "19349         2    1984.507589         40  secondary education             1   \n",
       "\n",
       "           family_status  family_status_id gender income_type  debt  \\\n",
       "0                married                 0      F    employee     0   \n",
       "1                married                 0      F    employee     0   \n",
       "2                married                 0      M    employee     0   \n",
       "3                married                 0      M    employee     0   \n",
       "4      civil partnership                 1      F     retiree     0   \n",
       "...                  ...               ...    ...         ...   ...   \n",
       "19345  civil partnership                 1      F    business     0   \n",
       "19346            married                 0      F     retiree     0   \n",
       "19347  civil partnership                 1      M    employee     1   \n",
       "19348            married                 0      M    employee     1   \n",
       "19349            married                 0      F    employee     0   \n",
       "\n",
       "       total_income                  purpose      age_category  \n",
       "0         40620.102    purchase of the house  Adult in 41 - 64  \n",
       "1         17932.802             car purchase  Adult in 18 - 40  \n",
       "2         23341.752    purchase of the house  Adult in 18 - 40  \n",
       "3         42820.568  supplementary education  Adult in 18 - 40  \n",
       "4         25378.572        to have a wedding  Adult in 41 - 64  \n",
       "...             ...                      ...               ...  \n",
       "19345     35966.698     housing transactions  Adult in 41 - 64  \n",
       "19346     24959.969        purchase of a car      Older adults  \n",
       "19347     14347.610                 property  Adult in 18 - 40  \n",
       "19348     39054.888        buying my own car  Adult in 18 - 40  \n",
       "19349     13127.587             to buy a car  Adult in 18 - 40  \n",
       "\n",
       "[19350 rows x 13 columns]"
      ]
     },
     "execution_count": 85,
     "metadata": {},
     "output_type": "execute_result"
    }
   ],
   "source": [
    "# Menampilkan tabel tanpa nilai hilang\n",
    "not_null_data"
   ]
  },
  {
   "cell_type": "markdown",
   "metadata": {},
   "source": [
    "Tabel di atas sudah ditampilkan dan kita dapat mengindikasikan bahwa tidak ada nilai yang hilang dalam kolom ini. Sekarang kita akan memperhatikan nilai rata-rata dari total pendapatan nasabah berdasarkan faktor yang sudah kita identifikasi dan buat sebelumnya, yaitu kategori usia nasabah."
   ]
  },
  {
   "cell_type": "code",
   "execution_count": 86,
   "metadata": {},
   "outputs": [
    {
     "data": {
      "text/plain": [
       "age_category\n",
       "Adult in 18 - 40    27367.005197\n",
       "Adult in 41 - 64    26721.449733\n",
       "Older adults        21542.650450\n",
       "Name: total_income, dtype: float64"
      ]
     },
     "execution_count": 86,
     "metadata": {},
     "output_type": "execute_result"
    }
   ],
   "source": [
    "# Perhatikan nilai rata-rata untuk pendapatan berdasarkan faktor yang telah kita identifikasi\n",
    "not_null_data.groupby('age_category')['total_income'].mean()"
   ]
  },
  {
   "cell_type": "markdown",
   "metadata": {},
   "source": [
    "Nilai rata-rata untuk kolom `total_income` atau pendapatan nasabah berdasarkan `age_category` atau kategori usia nasabah sudah terlihat. Nilainya terlihat cukup besar dan untuk kategori usia *adult in 18 - 40* atau dewasa yang berusia sekitar 18 hingga 40 tahun memiliki nilai rata-rata yang paling besar dibandingkan dengan kategori usia lainnya.\n",
    "\n",
    "Penting untuk kita ingat bahwa nilai rata-rata atau disebut *mean* itu menjumlahkan seluruh nilai yang ada dan dibagi dengan banyaknya nilai yang ada sehingga wajar untuk hasil **nilai rata-rata itu cenderung lebih besar**. Selanjutnya kita memeriksa nilai median dengan contoh yang sama."
   ]
  },
  {
   "cell_type": "code",
   "execution_count": 87,
   "metadata": {
    "scrolled": true
   },
   "outputs": [
    {
     "data": {
      "text/plain": [
       "age_category\n",
       "Adult in 18 - 40    23931.357\n",
       "Adult in 41 - 64    22963.430\n",
       "Older adults        18471.391\n",
       "Name: total_income, dtype: float64"
      ]
     },
     "execution_count": 87,
     "metadata": {},
     "output_type": "execute_result"
    }
   ],
   "source": [
    "# Perhatikan nilai median untuk pendapatan berdasarkan faktor yang telah kita identifikasi\n",
    "not_null_data.groupby('age_category')['total_income'].median()"
   ]
  },
  {
   "cell_type": "markdown",
   "metadata": {},
   "source": [
    "Nilai median yang sudah kita terima juga menjelaskan hal yang serupa dengan nilai rata-rata bahwa untuk kategori usia nasabah dewasa yang berusia dari 18 hingga 40 tahun lebih unggul dibandingkan dengan nasabah yang kategorinya dewasa berusia 41 hingga 64 tahun dan lanjut usia. Namun kita bisa melihat perbedaan yang cukup mencolok dari jumlah **nilainya yang cenderung lebih kecil dibandingkan dengan nilai rata-rata**.\n",
    "\n",
    "Penting untuk kita pahami bahwa nilai median atau nilai tengah itu diambil dari nilai tengah sebuah nilai-nilai yang diurutkan dari yang kecil hingga terbesar sehingga hasilnya cenderung lebih kecil dibandingkan dengan nilai rata-rata. Hasilnya juga tidak terpengaruh dengan nilai yang sebesar apapun sehingga penggunaan median lebih cocok digunakan untuk data yang terdapat pencilan atau *outlier*."
   ]
  },
  {
   "cell_type": "markdown",
   "metadata": {},
   "source": [
    "**Keputusan**\n",
    "\n",
    "Pembandingan antara nilai rata-rata dan nilai median sudah kita lakukan dan masing-masing memiliki nilai yang berbeda. Seperti yang dikatakan sebelumnya bahwa nilai rata-rata lebih besar dibandingkan dengan nilai median, sehingga melalui faktor perbedaan tersebut kita memutuskan untuk **mengisi nilai yang hilang dalam kolom `income_type` menggunakan nilai median**. Mengapa kita menggunakan median untuk kasus ini?\n",
    "- Alasan pertama kita menggunakan median karena jikalau kita boleh cermati nilai dalam kolom `income_type` itu beragam dan ada yang nilainya lebih besar dibandingkan dengan nilai-nilai yang ada. Dari hasil perbandingan antara *mean* dan median saja kita sudah dapat melihat terdapat perbedaan yang cukup besar dan hal itu dikarenakan terdapat pencilan atau *outlier* dalam kolom ini. Contohnya jikalau dalam kolom ini memiliki jumlah pendapatan nasabah yang rentangnya rata-rata sekitar 50000 hingga 100000 dan ada beberapa nasabah yang memiliki pendapatan 300000, 500000, dan lebih besar lagi itu akan mempengaruhi nilai rata-rata. Sehingga jikalau kita menggunakan **rata-rata atau *mean* hasilnya akan jauh lebih besar dan itu tidak merepresentasikan nilai rata-rata yang sebenarnya**.\n",
    "- Alasan kedua yaitu penggunaan median untuk kasus yang terdapat dalam kolom ini terlihat lebih adil dan terlihat *robust*, karena seperti yang sudah kita jelaskan dalam penjelasan di atas bahwa nilai median hanya menghitung nilai tengah dari hamparan nilai-nilai yang ada dan **tidak akan terpengaruh dengan adanya pencilan atau nilai ekstrim**.\n",
    "\n",
    "Kita sudah menetapkan sebuah keputusan untuk mengisi nilai hilang dalam kolom ini menggunakan median dan langkah selanjutnya yaitu kita akan mengisi kolom ini dengan bantuan sebuah fungsi untuk memudahkan pengisian nilai hilang untuk kolom ini."
   ]
  },
  {
   "cell_type": "code",
   "execution_count": 88,
   "metadata": {},
   "outputs": [],
   "source": [
    "# Tulis fungsi yang akan kita gunakan untuk mengisi nilai yang hilang menggunakan median\n",
    "def fill_missing_value(dataframe, agg_column, value_column):\n",
    "    grouped_values = dataframe.groupby(agg_column)[value_column].median().reset_index()\n",
    "    size = len(grouped_values)\n",
    "    for i in range(size):\n",
    "        group = grouped_values[agg_column][i]\n",
    "        value = grouped_values[value_column][i]\n",
    "        dataframe.loc[(dataframe[agg_column]==group) & (dataframe[value_column].isna()), value_column] = value\n",
    "    return dataframe"
   ]
  },
  {
   "cell_type": "markdown",
   "metadata": {},
   "source": [
    "Pembuatan fungsi untuk mengisi nilai hilang dalam kolom `total_income` sudah kita lakukan dan dapat dijalankan. Untuk tahapan selanjutnya yaitu kita hanya perlu untuk memanggil fungsi yang baru saja kita buat dan menerapkannya ke dalam baris yang memiliki nilai hilang di kolom `total_income`."
   ]
  },
  {
   "cell_type": "code",
   "execution_count": 89,
   "metadata": {},
   "outputs": [],
   "source": [
    "# Terapkan fungsi tersebut ke setiap baris\n",
    "new_data_3 = fill_missing_value(new_data_2, 'age_category', 'total_income')"
   ]
  },
  {
   "cell_type": "markdown",
   "metadata": {},
   "source": [
    "Penerapan fungsi ke dalam setiap baris juga sudah sukses kita kerjakan. Perlu untuk diketahui bahwa pengisian nilai hilang dalam kolom `total_income` ini berdasarkan dari kolom `age_category`. Maksudnya setiap nilai hilang akan diperiksa berdasarkan kategori usia dan ketika cocok nilai kosong tersebut akan diisi dengan median yang sesuai dengan kategori usianya. Tahap akhir dalam pengisian nilai hilang untuk kolom ini yaitu kita akan memeriksa apakah masih terdapat nilai yang hilang atau tidak."
   ]
  },
  {
   "cell_type": "code",
   "execution_count": 90,
   "metadata": {
    "scrolled": false
   },
   "outputs": [
    {
     "data": {
      "text/plain": [
       "children               0\n",
       "days_employed       2103\n",
       "dob_years              0\n",
       "education              0\n",
       "education_id           0\n",
       "family_status          0\n",
       "family_status_id       0\n",
       "gender                 0\n",
       "income_type            0\n",
       "debt                   0\n",
       "total_income           0\n",
       "purpose                0\n",
       "age_category           0\n",
       "dtype: int64"
      ]
     },
     "execution_count": 90,
     "metadata": {},
     "output_type": "execute_result"
    }
   ],
   "source": [
    "# Periksa apakah kita mendapatkan kesalahan\n",
    "new_data_3.isnull().sum()"
   ]
  },
  {
   "cell_type": "markdown",
   "metadata": {},
   "source": [
    "Melalui keseluruhan kolom yang sudah ditampilkan, kita dapat melihat bahwa untuk **nilai hilang dalam kolom `total_income` sudah tidak ada lagi** dan itu artinya pembuatan dan penerapan fungsi yang sudah kita buat telah bekerja sesuai dengan yang kita harapkan."
   ]
  },
  {
   "cell_type": "markdown",
   "metadata": {},
   "source": [
    "**Catatan**\n",
    "\n",
    "Karena kita telah berhasil mengisi seluruh nilai hilang dengan benar, maka bagian di atas akan kita abaikan."
   ]
  },
  {
   "cell_type": "code",
   "execution_count": 91,
   "metadata": {
    "scrolled": false
   },
   "outputs": [
    {
     "name": "stdout",
     "output_type": "stream",
     "text": [
      "<class 'pandas.core.frame.DataFrame'>\n",
      "RangeIndex: 21453 entries, 0 to 21452\n",
      "Data columns (total 13 columns):\n",
      " #   Column            Non-Null Count  Dtype  \n",
      "---  ------            --------------  -----  \n",
      " 0   children          21453 non-null  int64  \n",
      " 1   days_employed     19350 non-null  float64\n",
      " 2   dob_years         21453 non-null  int64  \n",
      " 3   education         21453 non-null  object \n",
      " 4   education_id      21453 non-null  int64  \n",
      " 5   family_status     21453 non-null  object \n",
      " 6   family_status_id  21453 non-null  int64  \n",
      " 7   gender            21453 non-null  object \n",
      " 8   income_type       21453 non-null  object \n",
      " 9   debt              21453 non-null  int64  \n",
      " 10  total_income      21453 non-null  float64\n",
      " 11  purpose           21453 non-null  object \n",
      " 12  age_category      21453 non-null  object \n",
      "dtypes: float64(2), int64(5), object(6)\n",
      "memory usage: 2.1+ MB\n"
     ]
    }
   ],
   "source": [
    "# Periksa jumlah entri di kolom\n",
    "new_data_3.info()"
   ]
  },
  {
   "cell_type": "markdown",
   "metadata": {},
   "source": [
    "Setelah melakukan pengisian nilai hilang bagi kolom `total_income`, kita juga sudah melihat informasi umum dalam *dataset* kita. Kalau kita melihatnya dengan cermat, kita menemukan bahwa jumlah **total nilai dalam kolom `total_income` sudah sesuai dengan jumlah kolom lain** yang tidak memiliki nilai hilang. Tetapi kita juga dapat melihat bahwa untuk kolom `days_employed` saat ini jumlahnya masih tidak sama alias masih terdapat nilai hilang. Oleh karena itu mari kita kembali melakukan hal yang serupa dalam tahapan pada pengisian kolom ini untuk pengisian nilai hilang dalam kolom `days_employed`."
   ]
  },
  {
   "cell_type": "markdown",
   "metadata": {},
   "source": [
    "###  Memperbaiki nilai yang hilang di `days_employed`"
   ]
  },
  {
   "cell_type": "markdown",
   "metadata": {},
   "source": [
    "Untuk saat ini kita akan kembali fokus untuk memperbaiki nilai yang hilang dalam kolom `days_employed`. Tahapan inti dalam pekerjaan kita untuk bagian ini akan lebih fokus dalam mengisii nilai yang hilang. Seperti yang telah kita lakukan dalam tahapan pengisian nilai yang hilang sebelumnya, kita perlu terlebih dahulu untuk mencari tahu mana yang lebih baik untuk kita gunakan dalam mengisi nilai hilang untuk kolom ini apakah itu dengan nilai rata-rata atau median."
   ]
  },
  {
   "cell_type": "markdown",
   "metadata": {},
   "source": [
    "Sebelum menentukan pengisian nilai hilang, ada baiknya jika kita membuat tabel baru yang hanya terdapat nilainya dalam kolom `days_employed`."
   ]
  },
  {
   "cell_type": "code",
   "execution_count": 92,
   "metadata": {},
   "outputs": [],
   "source": [
    "# Buat tabel tanpa nilai yang hilang dan menampilkan beberapa barisnya untuk memastikan semuanya berjalan dengan baik\n",
    "not_null_days = new_data_3[new_data_3['days_employed'].notnull()].reset_index(drop = True)"
   ]
  },
  {
   "cell_type": "markdown",
   "metadata": {},
   "source": [
    "Penyisihan nilai untuk kolom `days_employed` yang memiliki *null value* sudah dilakukan dan kita simpan dalam variabel baru. Kita juga tidak lupa memanfaatkan `reset_index()` agar indeks dalam data kita terlihat tidak berantakan. Selanjutnya kita akan melihat tabel yang sudah dibuat di bawah ini."
   ]
  },
  {
   "cell_type": "code",
   "execution_count": 93,
   "metadata": {},
   "outputs": [
    {
     "data": {
      "text/html": [
       "<div>\n",
       "<style scoped>\n",
       "    .dataframe tbody tr th:only-of-type {\n",
       "        vertical-align: middle;\n",
       "    }\n",
       "\n",
       "    .dataframe tbody tr th {\n",
       "        vertical-align: top;\n",
       "    }\n",
       "\n",
       "    .dataframe thead th {\n",
       "        text-align: right;\n",
       "    }\n",
       "</style>\n",
       "<table border=\"1\" class=\"dataframe\">\n",
       "  <thead>\n",
       "    <tr style=\"text-align: right;\">\n",
       "      <th></th>\n",
       "      <th>children</th>\n",
       "      <th>days_employed</th>\n",
       "      <th>dob_years</th>\n",
       "      <th>education</th>\n",
       "      <th>education_id</th>\n",
       "      <th>family_status</th>\n",
       "      <th>family_status_id</th>\n",
       "      <th>gender</th>\n",
       "      <th>income_type</th>\n",
       "      <th>debt</th>\n",
       "      <th>total_income</th>\n",
       "      <th>purpose</th>\n",
       "      <th>age_category</th>\n",
       "    </tr>\n",
       "  </thead>\n",
       "  <tbody>\n",
       "    <tr>\n",
       "      <th>0</th>\n",
       "      <td>1</td>\n",
       "      <td>8437.673028</td>\n",
       "      <td>42</td>\n",
       "      <td>bachelor's degree</td>\n",
       "      <td>0</td>\n",
       "      <td>married</td>\n",
       "      <td>0</td>\n",
       "      <td>F</td>\n",
       "      <td>employee</td>\n",
       "      <td>0</td>\n",
       "      <td>40620.102</td>\n",
       "      <td>purchase of the house</td>\n",
       "      <td>Adult in 41 - 64</td>\n",
       "    </tr>\n",
       "    <tr>\n",
       "      <th>1</th>\n",
       "      <td>1</td>\n",
       "      <td>4024.803754</td>\n",
       "      <td>36</td>\n",
       "      <td>secondary education</td>\n",
       "      <td>1</td>\n",
       "      <td>married</td>\n",
       "      <td>0</td>\n",
       "      <td>F</td>\n",
       "      <td>employee</td>\n",
       "      <td>0</td>\n",
       "      <td>17932.802</td>\n",
       "      <td>car purchase</td>\n",
       "      <td>Adult in 18 - 40</td>\n",
       "    </tr>\n",
       "    <tr>\n",
       "      <th>2</th>\n",
       "      <td>0</td>\n",
       "      <td>5623.422610</td>\n",
       "      <td>33</td>\n",
       "      <td>secondary education</td>\n",
       "      <td>1</td>\n",
       "      <td>married</td>\n",
       "      <td>0</td>\n",
       "      <td>M</td>\n",
       "      <td>employee</td>\n",
       "      <td>0</td>\n",
       "      <td>23341.752</td>\n",
       "      <td>purchase of the house</td>\n",
       "      <td>Adult in 18 - 40</td>\n",
       "    </tr>\n",
       "    <tr>\n",
       "      <th>3</th>\n",
       "      <td>3</td>\n",
       "      <td>4124.747207</td>\n",
       "      <td>32</td>\n",
       "      <td>secondary education</td>\n",
       "      <td>1</td>\n",
       "      <td>married</td>\n",
       "      <td>0</td>\n",
       "      <td>M</td>\n",
       "      <td>employee</td>\n",
       "      <td>0</td>\n",
       "      <td>42820.568</td>\n",
       "      <td>supplementary education</td>\n",
       "      <td>Adult in 18 - 40</td>\n",
       "    </tr>\n",
       "    <tr>\n",
       "      <th>4</th>\n",
       "      <td>0</td>\n",
       "      <td>340266.072047</td>\n",
       "      <td>53</td>\n",
       "      <td>secondary education</td>\n",
       "      <td>1</td>\n",
       "      <td>civil partnership</td>\n",
       "      <td>1</td>\n",
       "      <td>F</td>\n",
       "      <td>retiree</td>\n",
       "      <td>0</td>\n",
       "      <td>25378.572</td>\n",
       "      <td>to have a wedding</td>\n",
       "      <td>Adult in 41 - 64</td>\n",
       "    </tr>\n",
       "    <tr>\n",
       "      <th>...</th>\n",
       "      <td>...</td>\n",
       "      <td>...</td>\n",
       "      <td>...</td>\n",
       "      <td>...</td>\n",
       "      <td>...</td>\n",
       "      <td>...</td>\n",
       "      <td>...</td>\n",
       "      <td>...</td>\n",
       "      <td>...</td>\n",
       "      <td>...</td>\n",
       "      <td>...</td>\n",
       "      <td>...</td>\n",
       "      <td>...</td>\n",
       "    </tr>\n",
       "    <tr>\n",
       "      <th>19345</th>\n",
       "      <td>1</td>\n",
       "      <td>4529.316663</td>\n",
       "      <td>43</td>\n",
       "      <td>secondary education</td>\n",
       "      <td>1</td>\n",
       "      <td>civil partnership</td>\n",
       "      <td>1</td>\n",
       "      <td>F</td>\n",
       "      <td>business</td>\n",
       "      <td>0</td>\n",
       "      <td>35966.698</td>\n",
       "      <td>housing transactions</td>\n",
       "      <td>Adult in 41 - 64</td>\n",
       "    </tr>\n",
       "    <tr>\n",
       "      <th>19346</th>\n",
       "      <td>0</td>\n",
       "      <td>343937.404131</td>\n",
       "      <td>67</td>\n",
       "      <td>secondary education</td>\n",
       "      <td>1</td>\n",
       "      <td>married</td>\n",
       "      <td>0</td>\n",
       "      <td>F</td>\n",
       "      <td>retiree</td>\n",
       "      <td>0</td>\n",
       "      <td>24959.969</td>\n",
       "      <td>purchase of a car</td>\n",
       "      <td>Older adults</td>\n",
       "    </tr>\n",
       "    <tr>\n",
       "      <th>19347</th>\n",
       "      <td>1</td>\n",
       "      <td>2113.346888</td>\n",
       "      <td>38</td>\n",
       "      <td>secondary education</td>\n",
       "      <td>1</td>\n",
       "      <td>civil partnership</td>\n",
       "      <td>1</td>\n",
       "      <td>M</td>\n",
       "      <td>employee</td>\n",
       "      <td>1</td>\n",
       "      <td>14347.610</td>\n",
       "      <td>property</td>\n",
       "      <td>Adult in 18 - 40</td>\n",
       "    </tr>\n",
       "    <tr>\n",
       "      <th>19348</th>\n",
       "      <td>3</td>\n",
       "      <td>3112.481705</td>\n",
       "      <td>38</td>\n",
       "      <td>secondary education</td>\n",
       "      <td>1</td>\n",
       "      <td>married</td>\n",
       "      <td>0</td>\n",
       "      <td>M</td>\n",
       "      <td>employee</td>\n",
       "      <td>1</td>\n",
       "      <td>39054.888</td>\n",
       "      <td>buying my own car</td>\n",
       "      <td>Adult in 18 - 40</td>\n",
       "    </tr>\n",
       "    <tr>\n",
       "      <th>19349</th>\n",
       "      <td>2</td>\n",
       "      <td>1984.507589</td>\n",
       "      <td>40</td>\n",
       "      <td>secondary education</td>\n",
       "      <td>1</td>\n",
       "      <td>married</td>\n",
       "      <td>0</td>\n",
       "      <td>F</td>\n",
       "      <td>employee</td>\n",
       "      <td>0</td>\n",
       "      <td>13127.587</td>\n",
       "      <td>to buy a car</td>\n",
       "      <td>Adult in 18 - 40</td>\n",
       "    </tr>\n",
       "  </tbody>\n",
       "</table>\n",
       "<p>19350 rows × 13 columns</p>\n",
       "</div>"
      ],
      "text/plain": [
       "       children  days_employed  dob_years            education  education_id  \\\n",
       "0             1    8437.673028         42    bachelor's degree             0   \n",
       "1             1    4024.803754         36  secondary education             1   \n",
       "2             0    5623.422610         33  secondary education             1   \n",
       "3             3    4124.747207         32  secondary education             1   \n",
       "4             0  340266.072047         53  secondary education             1   \n",
       "...         ...            ...        ...                  ...           ...   \n",
       "19345         1    4529.316663         43  secondary education             1   \n",
       "19346         0  343937.404131         67  secondary education             1   \n",
       "19347         1    2113.346888         38  secondary education             1   \n",
       "19348         3    3112.481705         38  secondary education             1   \n",
       "19349         2    1984.507589         40  secondary education             1   \n",
       "\n",
       "           family_status  family_status_id gender income_type  debt  \\\n",
       "0                married                 0      F    employee     0   \n",
       "1                married                 0      F    employee     0   \n",
       "2                married                 0      M    employee     0   \n",
       "3                married                 0      M    employee     0   \n",
       "4      civil partnership                 1      F     retiree     0   \n",
       "...                  ...               ...    ...         ...   ...   \n",
       "19345  civil partnership                 1      F    business     0   \n",
       "19346            married                 0      F     retiree     0   \n",
       "19347  civil partnership                 1      M    employee     1   \n",
       "19348            married                 0      M    employee     1   \n",
       "19349            married                 0      F    employee     0   \n",
       "\n",
       "       total_income                  purpose      age_category  \n",
       "0         40620.102    purchase of the house  Adult in 41 - 64  \n",
       "1         17932.802             car purchase  Adult in 18 - 40  \n",
       "2         23341.752    purchase of the house  Adult in 18 - 40  \n",
       "3         42820.568  supplementary education  Adult in 18 - 40  \n",
       "4         25378.572        to have a wedding  Adult in 41 - 64  \n",
       "...             ...                      ...               ...  \n",
       "19345     35966.698     housing transactions  Adult in 41 - 64  \n",
       "19346     24959.969        purchase of a car      Older adults  \n",
       "19347     14347.610                 property  Adult in 18 - 40  \n",
       "19348     39054.888        buying my own car  Adult in 18 - 40  \n",
       "19349     13127.587             to buy a car  Adult in 18 - 40  \n",
       "\n",
       "[19350 rows x 13 columns]"
      ]
     },
     "execution_count": 93,
     "metadata": {},
     "output_type": "execute_result"
    }
   ],
   "source": [
    "# Menampilkan tabel tanpa nilai hilang\n",
    "not_null_days"
   ]
  },
  {
   "cell_type": "markdown",
   "metadata": {},
   "source": [
    "Tabel sudah ditampilkan dan kita dapat mengindikasikan bahwa tidak ada nilai yang hilang khusus untuk kolom `days_employed`. Sekarang kita akan memperhatikan nilai rata-rata dari hari bekerja nasabah berdasarkan faktor yang sudah kita identifikasi dan buat sebelumnya, yaitu kategori usia nasabah."
   ]
  },
  {
   "cell_type": "code",
   "execution_count": 94,
   "metadata": {
    "pycharm": {
     "name": "#%%\n"
    }
   },
   "outputs": [
    {
     "data": {
      "text/plain": [
       "age_category\n",
       "Adult in 18 - 40      1331.830647\n",
       "Adult in 41 - 64      3439.335512\n",
       "Older adults        360304.232308\n",
       "Name: days_employed, dtype: float64"
      ]
     },
     "execution_count": 94,
     "metadata": {},
     "output_type": "execute_result"
    }
   ],
   "source": [
    "# Distribusi median dari `days_employed` berdasarkan parameter yang telah kita identifikasi\n",
    "not_null_days.groupby('age_category')['days_employed'].median()"
   ]
  },
  {
   "cell_type": "markdown",
   "metadata": {},
   "source": [
    "Nilai median yang sudah kita ditampilkan mendeskripsikan suatu fakta bahwa untuk kategori usia *adult in 18 - 40* lebih unggul dibandingkan dengan nasabah yang usianya *adult in 41 - 64* dan lanjut usia. Namun kita bisa melihat perbedaan yang cukup mencolok dari jumlah hari rata-rata bekerja untuk kategori nasabah lanjut usia yang **nilainya lebih besar dibandingkan dengan nilai kategori usia dewasa**. Itu menandakan kepada kita bahwa dalam kategori usia tersebut terdapat banyak pencilan atau nilai ekstrim yang terdapat dalam kolom `days_employed`."
   ]
  },
  {
   "cell_type": "code",
   "execution_count": 95,
   "metadata": {},
   "outputs": [
    {
     "data": {
      "text/plain": [
       "age_category\n",
       "Adult in 18 - 40      3640.790820\n",
       "Adult in 41 - 64    100717.469074\n",
       "Older adults        314080.528722\n",
       "Name: days_employed, dtype: float64"
      ]
     },
     "execution_count": 95,
     "metadata": {},
     "output_type": "execute_result"
    }
   ],
   "source": [
    "# Distribusi rata-rata dari `days_employed` berdasarkan parameter yang telah kita identifikasi\n",
    "not_null_days.groupby('age_category')['days_employed'].mean()"
   ]
  },
  {
   "cell_type": "markdown",
   "metadata": {},
   "source": [
    "Nilai rata-rata atau *mean* di atas memberitahukan kepada kita bahwa hal yang sama seperti sebelumnya mengenai fakta bahwa kategori usia nasabah *adult in 18 - 40* lebih unggul nilai rata-rata hari bekerjanya dibandingkan dengan kategori nasabah lainnya. Tetapi kita bisa menemukan suatu hal yang berbeda yaitu untuk nilai rata-rata *(mean)* ini jika dilihat **nilainya sedikit lebih kecil dibandingkan dengan nilai median untuk kategori usia lanjut usia**. Hal ini berbanding terbalik untuk **nilai rata-rata dari kategori usia yang tergolong dewasa**, yaitu kedua nilainya **jauh lebih besar dibandingkan dengan nilai median**. Untuk kasus dalam kolom `days_employed` ini sama dengan kasus dalam kolom `total_income`, yaitu terdapat banyak nilai ekstrim sehingga nilai rata-ratanya menjadi lebih besar."
   ]
  },
  {
   "cell_type": "markdown",
   "metadata": {},
   "source": [
    "**Keputusan**\n",
    "\n",
    "Nilai rata-rata dan nilai median sudah kita lakukan dan hasilnya masing-masing memiliki nilai yang berbeda. Seperti yang dijelaskan sebelumnya bahwa nilai rata-rata lebih besar dibandingkan dengan nilai median walaupun untuk salah satu kategorinya nilai median cenderung lebih besar, sehingga melalui faktor perbedaan tersebut kita memutuskan untuk **mengisi nilai yang hilang dalam kolom `days_employed` menggunakan nilai median**. Mengapa kita menggunakan median?\n",
    "\n",
    "Penting untuk diberitahu melalui perbedaan nilai rata-rata untuk kategori usia lanjut usia jauh lebih besar dibandingkan dengan kategori usia dewasa karena dalam kategori usia lanjut usia ini memiliki **banyak nilai total hari bekerja yang sangat ekstrim**, sehingga berapapun nilai mediannya akan tetap besar. Terlepas dari hal tersebut kita akan tetap menggunakan nilai median untuk mengisi nilai hilang dalam kolom `days_employed` dikarenakan penggunaan median lebih baik, terlebih untuk kasus ini kita mengetahui adanya pencilan atau *outlier*. Tanpa berlama-lama, selanjutnya kita akan mengisi kolom ini dengan bantuan sebuah fungsi untuk memudahkan pengisian nilai hilang."
   ]
  },
  {
   "cell_type": "code",
   "execution_count": 96,
   "metadata": {},
   "outputs": [],
   "source": [
    "# Mari tulis fungsi yang menghitung nilai median berdasarkan parameter yang telah kita identifikasi\n",
    "def fill_missing_value(dataframe, agg_column, value_column):\n",
    "    grouped_values = dataframe.groupby(agg_column)[value_column].median().reset_index()\n",
    "    size = len(grouped_values)\n",
    "    for i in range(size):\n",
    "        group = grouped_values[agg_column][i]\n",
    "        value = grouped_values[value_column][i]\n",
    "        dataframe.loc[(dataframe[agg_column]==group) & (dataframe[value_column].isna()), value_column] = value\n",
    "    return dataframe"
   ]
  },
  {
   "cell_type": "markdown",
   "metadata": {},
   "source": [
    "Fungsi di atas terlihat sama dengan pengisian untuk kolom `total_income` karena kasus ini mirip dengan tahapan pengisian nilai hilang dalam kolom sebelumnya sehingga kita hanya perlu untuk menyalinnya kembali dan tidak perlu untuk menamai ulang fungsinya. Untuk tahapan selanjutnya yaitu kita hanya perlu untuk memanggil fungsi yang baru saja kita buat dan menerapkannya ke dalam baris yang memiliki nilai hilang di kolom `days_employed`."
   ]
  },
  {
   "cell_type": "code",
   "execution_count": 98,
   "metadata": {},
   "outputs": [],
   "source": [
    "# Terapkan fungsi ke days_employed\n",
    "new_data_4 = fill_missing_value(new_data_3, 'age_category', 'days_employed')"
   ]
  },
  {
   "cell_type": "markdown",
   "metadata": {},
   "source": [
    "Perlu untuk diketahui bahwa pengisian nilai hilang dalam kolom `days_employed` ini berdasarkan dari kolom `age_category`. Maksudnya setiap nilai hilang akan diperiksa berdasarkan kategori usia dan ketika cocok nilai kosong tersebut akan diisi dengan median yang sesuai dengan kategori usianya. Pada akhirnya kita akan mengecek apakah masih terdapat nilai hilang dalam kolom ini atau tidak."
   ]
  },
  {
   "cell_type": "code",
   "execution_count": 99,
   "metadata": {},
   "outputs": [
    {
     "data": {
      "text/plain": [
       "children            0\n",
       "days_employed       0\n",
       "dob_years           0\n",
       "education           0\n",
       "education_id        0\n",
       "family_status       0\n",
       "family_status_id    0\n",
       "gender              0\n",
       "income_type         0\n",
       "debt                0\n",
       "total_income        0\n",
       "purpose             0\n",
       "age_category        0\n",
       "dtype: int64"
      ]
     },
     "execution_count": 99,
     "metadata": {},
     "output_type": "execute_result"
    }
   ],
   "source": [
    "# Periksa apakah fungsimu bekerja\n",
    "new_data_4.isnull().sum()"
   ]
  },
  {
   "cell_type": "markdown",
   "metadata": {},
   "source": [
    "Melalui keseluruhan kolom yang sudah ditampilkan dalam *dataset* baru, kita dapat melihat bahwa untuk **nilai hilang dalam kolom `days_employed` sudah tidak ada lagi** dan itu artinya pembuatan dan penerapan fungsi yang sudah kita buat telah bekerja sesuai dengan yang kita harapkan."
   ]
  },
  {
   "cell_type": "code",
   "execution_count": 100,
   "metadata": {},
   "outputs": [
    {
     "name": "stdout",
     "output_type": "stream",
     "text": [
      "<class 'pandas.core.frame.DataFrame'>\n",
      "RangeIndex: 21453 entries, 0 to 21452\n",
      "Data columns (total 13 columns):\n",
      " #   Column            Non-Null Count  Dtype  \n",
      "---  ------            --------------  -----  \n",
      " 0   children          21453 non-null  int64  \n",
      " 1   days_employed     21453 non-null  float64\n",
      " 2   dob_years         21453 non-null  int64  \n",
      " 3   education         21453 non-null  object \n",
      " 4   education_id      21453 non-null  int64  \n",
      " 5   family_status     21453 non-null  object \n",
      " 6   family_status_id  21453 non-null  int64  \n",
      " 7   gender            21453 non-null  object \n",
      " 8   income_type       21453 non-null  object \n",
      " 9   debt              21453 non-null  int64  \n",
      " 10  total_income      21453 non-null  float64\n",
      " 11  purpose           21453 non-null  object \n",
      " 12  age_category      21453 non-null  object \n",
      "dtypes: float64(2), int64(5), object(6)\n",
      "memory usage: 2.1+ MB\n"
     ]
    }
   ],
   "source": [
    "# Periksa entri di semua kolom - pastikan kita memperbaiki semua nilai yang hilang\n",
    "new_data_4.info()"
   ]
  },
  {
   "cell_type": "markdown",
   "metadata": {},
   "source": [
    "Pemanggilan *dataset* di ata dengan menggunakan bantuan `info()` membantu untuk melihat informasi umum dalam keseluruhan kolom termasuk dalam mengidentifikasi nilai hilang. Hasil dari pekerjaan kita dalam mengisi nilai hilang untuk kolom `total_income` dan `days_employed` sudah berakhir dan dampaknya yaitu kita dapat melihat bahwa **jumlah baris dalam kolom `days_employed` secara khusus sudah setara dengan kolom lainnya** dan itu menutup pekerjaan dari tahapan transformasi data saat ini. Kesimpulan umum dari informasi di atas yaitu semua jumlah baris di setiap kolom sudah setara dan tidak ada lagi nilai yang hilang."
   ]
  },
  {
   "cell_type": "markdown",
   "metadata": {},
   "source": [
    "## Pengkategorian Data"
   ]
  },
  {
   "cell_type": "markdown",
   "metadata": {},
   "source": [
    "Tahapan baru saat ini kita akan mengelompokkan data yang ada dalam *dataset* kita. Tujuan dari adanya tahapan ini adalah untuk mempermudah kita dalam menjawab pertanyaan dan menguji hipotesis dalam tahapan akhir proyek ini. Proses pengkategorian data dalam tahapan ini akan dilakukan dua kali, yaitu untuk mengelompokkan data teks dan data numerik. Mari kita langsung melangkah untuk mengerjakan bagian ini dengan cara melihat terlebih dahulu *dataset*."
   ]
  },
  {
   "cell_type": "markdown",
   "metadata": {},
   "source": [
    "**Mengelompokkan nilai dalam kolom `purpose`**"
   ]
  },
  {
   "cell_type": "code",
   "execution_count": 101,
   "metadata": {
    "scrolled": false
   },
   "outputs": [
    {
     "data": {
      "text/html": [
       "<div>\n",
       "<style scoped>\n",
       "    .dataframe tbody tr th:only-of-type {\n",
       "        vertical-align: middle;\n",
       "    }\n",
       "\n",
       "    .dataframe tbody tr th {\n",
       "        vertical-align: top;\n",
       "    }\n",
       "\n",
       "    .dataframe thead th {\n",
       "        text-align: right;\n",
       "    }\n",
       "</style>\n",
       "<table border=\"1\" class=\"dataframe\">\n",
       "  <thead>\n",
       "    <tr style=\"text-align: right;\">\n",
       "      <th></th>\n",
       "      <th>children</th>\n",
       "      <th>days_employed</th>\n",
       "      <th>dob_years</th>\n",
       "      <th>education</th>\n",
       "      <th>education_id</th>\n",
       "      <th>family_status</th>\n",
       "      <th>family_status_id</th>\n",
       "      <th>gender</th>\n",
       "      <th>income_type</th>\n",
       "      <th>debt</th>\n",
       "      <th>total_income</th>\n",
       "      <th>purpose</th>\n",
       "      <th>age_category</th>\n",
       "    </tr>\n",
       "  </thead>\n",
       "  <tbody>\n",
       "    <tr>\n",
       "      <th>0</th>\n",
       "      <td>1</td>\n",
       "      <td>8437.673028</td>\n",
       "      <td>42</td>\n",
       "      <td>bachelor's degree</td>\n",
       "      <td>0</td>\n",
       "      <td>married</td>\n",
       "      <td>0</td>\n",
       "      <td>F</td>\n",
       "      <td>employee</td>\n",
       "      <td>0</td>\n",
       "      <td>40620.102</td>\n",
       "      <td>purchase of the house</td>\n",
       "      <td>Adult in 41 - 64</td>\n",
       "    </tr>\n",
       "    <tr>\n",
       "      <th>1</th>\n",
       "      <td>1</td>\n",
       "      <td>4024.803754</td>\n",
       "      <td>36</td>\n",
       "      <td>secondary education</td>\n",
       "      <td>1</td>\n",
       "      <td>married</td>\n",
       "      <td>0</td>\n",
       "      <td>F</td>\n",
       "      <td>employee</td>\n",
       "      <td>0</td>\n",
       "      <td>17932.802</td>\n",
       "      <td>car purchase</td>\n",
       "      <td>Adult in 18 - 40</td>\n",
       "    </tr>\n",
       "    <tr>\n",
       "      <th>2</th>\n",
       "      <td>0</td>\n",
       "      <td>5623.422610</td>\n",
       "      <td>33</td>\n",
       "      <td>secondary education</td>\n",
       "      <td>1</td>\n",
       "      <td>married</td>\n",
       "      <td>0</td>\n",
       "      <td>M</td>\n",
       "      <td>employee</td>\n",
       "      <td>0</td>\n",
       "      <td>23341.752</td>\n",
       "      <td>purchase of the house</td>\n",
       "      <td>Adult in 18 - 40</td>\n",
       "    </tr>\n",
       "    <tr>\n",
       "      <th>3</th>\n",
       "      <td>3</td>\n",
       "      <td>4124.747207</td>\n",
       "      <td>32</td>\n",
       "      <td>secondary education</td>\n",
       "      <td>1</td>\n",
       "      <td>married</td>\n",
       "      <td>0</td>\n",
       "      <td>M</td>\n",
       "      <td>employee</td>\n",
       "      <td>0</td>\n",
       "      <td>42820.568</td>\n",
       "      <td>supplementary education</td>\n",
       "      <td>Adult in 18 - 40</td>\n",
       "    </tr>\n",
       "    <tr>\n",
       "      <th>4</th>\n",
       "      <td>0</td>\n",
       "      <td>340266.072047</td>\n",
       "      <td>53</td>\n",
       "      <td>secondary education</td>\n",
       "      <td>1</td>\n",
       "      <td>civil partnership</td>\n",
       "      <td>1</td>\n",
       "      <td>F</td>\n",
       "      <td>retiree</td>\n",
       "      <td>0</td>\n",
       "      <td>25378.572</td>\n",
       "      <td>to have a wedding</td>\n",
       "      <td>Adult in 41 - 64</td>\n",
       "    </tr>\n",
       "    <tr>\n",
       "      <th>...</th>\n",
       "      <td>...</td>\n",
       "      <td>...</td>\n",
       "      <td>...</td>\n",
       "      <td>...</td>\n",
       "      <td>...</td>\n",
       "      <td>...</td>\n",
       "      <td>...</td>\n",
       "      <td>...</td>\n",
       "      <td>...</td>\n",
       "      <td>...</td>\n",
       "      <td>...</td>\n",
       "      <td>...</td>\n",
       "      <td>...</td>\n",
       "    </tr>\n",
       "    <tr>\n",
       "      <th>21448</th>\n",
       "      <td>1</td>\n",
       "      <td>4529.316663</td>\n",
       "      <td>43</td>\n",
       "      <td>secondary education</td>\n",
       "      <td>1</td>\n",
       "      <td>civil partnership</td>\n",
       "      <td>1</td>\n",
       "      <td>F</td>\n",
       "      <td>business</td>\n",
       "      <td>0</td>\n",
       "      <td>35966.698</td>\n",
       "      <td>housing transactions</td>\n",
       "      <td>Adult in 41 - 64</td>\n",
       "    </tr>\n",
       "    <tr>\n",
       "      <th>21449</th>\n",
       "      <td>0</td>\n",
       "      <td>343937.404131</td>\n",
       "      <td>67</td>\n",
       "      <td>secondary education</td>\n",
       "      <td>1</td>\n",
       "      <td>married</td>\n",
       "      <td>0</td>\n",
       "      <td>F</td>\n",
       "      <td>retiree</td>\n",
       "      <td>0</td>\n",
       "      <td>24959.969</td>\n",
       "      <td>purchase of a car</td>\n",
       "      <td>Older adults</td>\n",
       "    </tr>\n",
       "    <tr>\n",
       "      <th>21450</th>\n",
       "      <td>1</td>\n",
       "      <td>2113.346888</td>\n",
       "      <td>38</td>\n",
       "      <td>secondary education</td>\n",
       "      <td>1</td>\n",
       "      <td>civil partnership</td>\n",
       "      <td>1</td>\n",
       "      <td>M</td>\n",
       "      <td>employee</td>\n",
       "      <td>1</td>\n",
       "      <td>14347.610</td>\n",
       "      <td>property</td>\n",
       "      <td>Adult in 18 - 40</td>\n",
       "    </tr>\n",
       "    <tr>\n",
       "      <th>21451</th>\n",
       "      <td>3</td>\n",
       "      <td>3112.481705</td>\n",
       "      <td>38</td>\n",
       "      <td>secondary education</td>\n",
       "      <td>1</td>\n",
       "      <td>married</td>\n",
       "      <td>0</td>\n",
       "      <td>M</td>\n",
       "      <td>employee</td>\n",
       "      <td>1</td>\n",
       "      <td>39054.888</td>\n",
       "      <td>buying my own car</td>\n",
       "      <td>Adult in 18 - 40</td>\n",
       "    </tr>\n",
       "    <tr>\n",
       "      <th>21452</th>\n",
       "      <td>2</td>\n",
       "      <td>1984.507589</td>\n",
       "      <td>40</td>\n",
       "      <td>secondary education</td>\n",
       "      <td>1</td>\n",
       "      <td>married</td>\n",
       "      <td>0</td>\n",
       "      <td>F</td>\n",
       "      <td>employee</td>\n",
       "      <td>0</td>\n",
       "      <td>13127.587</td>\n",
       "      <td>to buy a car</td>\n",
       "      <td>Adult in 18 - 40</td>\n",
       "    </tr>\n",
       "  </tbody>\n",
       "</table>\n",
       "<p>21453 rows × 13 columns</p>\n",
       "</div>"
      ],
      "text/plain": [
       "       children  days_employed  dob_years            education  education_id  \\\n",
       "0             1    8437.673028         42    bachelor's degree             0   \n",
       "1             1    4024.803754         36  secondary education             1   \n",
       "2             0    5623.422610         33  secondary education             1   \n",
       "3             3    4124.747207         32  secondary education             1   \n",
       "4             0  340266.072047         53  secondary education             1   \n",
       "...         ...            ...        ...                  ...           ...   \n",
       "21448         1    4529.316663         43  secondary education             1   \n",
       "21449         0  343937.404131         67  secondary education             1   \n",
       "21450         1    2113.346888         38  secondary education             1   \n",
       "21451         3    3112.481705         38  secondary education             1   \n",
       "21452         2    1984.507589         40  secondary education             1   \n",
       "\n",
       "           family_status  family_status_id gender income_type  debt  \\\n",
       "0                married                 0      F    employee     0   \n",
       "1                married                 0      F    employee     0   \n",
       "2                married                 0      M    employee     0   \n",
       "3                married                 0      M    employee     0   \n",
       "4      civil partnership                 1      F     retiree     0   \n",
       "...                  ...               ...    ...         ...   ...   \n",
       "21448  civil partnership                 1      F    business     0   \n",
       "21449            married                 0      F     retiree     0   \n",
       "21450  civil partnership                 1      M    employee     1   \n",
       "21451            married                 0      M    employee     1   \n",
       "21452            married                 0      F    employee     0   \n",
       "\n",
       "       total_income                  purpose      age_category  \n",
       "0         40620.102    purchase of the house  Adult in 41 - 64  \n",
       "1         17932.802             car purchase  Adult in 18 - 40  \n",
       "2         23341.752    purchase of the house  Adult in 18 - 40  \n",
       "3         42820.568  supplementary education  Adult in 18 - 40  \n",
       "4         25378.572        to have a wedding  Adult in 41 - 64  \n",
       "...             ...                      ...               ...  \n",
       "21448     35966.698     housing transactions  Adult in 41 - 64  \n",
       "21449     24959.969        purchase of a car      Older adults  \n",
       "21450     14347.610                 property  Adult in 18 - 40  \n",
       "21451     39054.888        buying my own car  Adult in 18 - 40  \n",
       "21452     13127.587             to buy a car  Adult in 18 - 40  \n",
       "\n",
       "[21453 rows x 13 columns]"
      ]
     },
     "execution_count": 101,
     "metadata": {},
     "output_type": "execute_result"
    }
   ],
   "source": [
    "# Tampilkan nilai data yang kita pilih untuk pengkategorian\n",
    "new_data_4"
   ]
  },
  {
   "cell_type": "markdown",
   "metadata": {},
   "source": [
    "Untuk pengkategorian data bagi kolom yang datanya berupa teks saat ini jikalau kita melihat dalam tabel sebelumnya akan lebih cocok jikalau kolom **`purpose` kita kelompokkan menjadi sebuah kategori** yang lebih sederhana. Mengapa kita memilih untuk mengelompokkan data dalam kolom tersebut? Selain kolom `purpose` memiliki data berupa tipe teks, tujuan utama yang kita putuskan ini adalah dalam menjawab bagian hipotesis nanti dapat kita lakukan dengan mudah dan tidak terlihat kompleks. Mengapa kompleks? Kita bisa melihat nilai unik untuk kolom `purpose`di bawah ini untuk mencari tahu alasannya."
   ]
  },
  {
   "cell_type": "code",
   "execution_count": 102,
   "metadata": {},
   "outputs": [
    {
     "data": {
      "text/plain": [
       "wedding ceremony                            791\n",
       "having a wedding                            768\n",
       "to have a wedding                           765\n",
       "real estate transactions                    675\n",
       "buy commercial real estate                  661\n",
       "housing transactions                        652\n",
       "buying property for renting out             651\n",
       "transactions with commercial real estate    650\n",
       "housing                                     646\n",
       "purchase of the house                       646\n",
       "purchase of the house for my family         638\n",
       "construction of own property                635\n",
       "property                                    633\n",
       "transactions with my real estate            627\n",
       "building a real estate                      624\n",
       "purchase of my own house                    620\n",
       "buy real estate                             620\n",
       "building a property                         619\n",
       "housing renovation                          607\n",
       "buy residential real estate                 606\n",
       "buying my own car                           505\n",
       "going to university                         496\n",
       "car                                         494\n",
       "second-hand car purchase                    486\n",
       "to own a car                                478\n",
       "cars                                        478\n",
       "buying a second-hand car                    478\n",
       "to buy a car                                471\n",
       "car purchase                                461\n",
       "supplementary education                     460\n",
       "purchase of a car                           455\n",
       "university education                        452\n",
       "education                                   447\n",
       "to get a supplementary education            446\n",
       "getting an education                        442\n",
       "profile education                           436\n",
       "getting higher education                    426\n",
       "to become educated                          408\n",
       "Name: purpose, dtype: int64"
      ]
     },
     "execution_count": 102,
     "metadata": {},
     "output_type": "execute_result"
    }
   ],
   "source": [
    "# Periksa nilai unik dari kolom yang telah dipilih\n",
    "new_data_4['purpose'].value_counts()"
   ]
  },
  {
   "cell_type": "markdown",
   "metadata": {},
   "source": [
    "Melalui distribusi nilai di atas dalam kolom `purpose` ini, kita tahu bahwa nilai dalam kolom tersebut memiliki banyak nilai-nilai yang maknanya sama tetapi cara penulisan atau kalimatnya berbeda. Hal ini sudah kita ketahui dan jelaskan berkali-kali dalam tahapan pengerjaan proyek sebelumnya pada bagian eksplorasi data. Sehingga melalui kondisi yang ada dalam kolom `purpose` ini kita akan membuat sebuah fungsi untuk mengelompokkan data hanya menjadi beberapa kelompok yang jumlahnya lebih sedikit."
   ]
  },
  {
   "cell_type": "code",
   "execution_count": 103,
   "metadata": {},
   "outputs": [],
   "source": [
    "# Mari kita tulis sebuah fungsi untuk mengategorikan data berdasarkan topik umum\n",
    "def categorize_purpose(row):\n",
    "    if 'car' in row:\n",
    "        return 'Car'\n",
    "    elif 'hous' in row or 'prop' in row or 'real est' in row:\n",
    "        return 'Housing'\n",
    "    elif 'wedd' in row:\n",
    "        return 'Wedding'\n",
    "    elif 'educ' in row or 'uni' in row:\n",
    "        return 'Education'\n",
    "    else:\n",
    "        return 'Others'"
   ]
  },
  {
   "cell_type": "markdown",
   "metadata": {},
   "source": [
    "Pembuatan fungsi untuk mengelompokkan kolom `purpose` di atas kita menamainya sebagai `categorize_purpose`. Terdapat beberapa kondisi yang sudah dibuat dan ketika masing-masing nilai yang ada dalam kolom `purpose` dipasangkan ke dalam fungsi yang sedang dijalankan, nilai-nilai dalam kolom tersebut akan dikategorikan berdasarkan kondisi yang telah kita tulis. Contohnya dalam kolom ini terdapat nilai *supplementary education*, maka fungsi di atas akan mengelompokkan nilai tersebut ke dalam nilai bernama *Education*. Mari kita menyimpan dan menerapkan fungsi ini ke dalam kolom baru di bawah ini."
   ]
  },
  {
   "cell_type": "code",
   "execution_count": 104,
   "metadata": {},
   "outputs": [],
   "source": [
    "# Menerapkan kolom yang memuat kategori dan hitung nilainya\n",
    "new_data_4['new_purpose'] = new_data_4['purpose'].apply(categorize_purpose)"
   ]
  },
  {
   "cell_type": "markdown",
   "metadata": {},
   "source": [
    "Setelah fungsi dijalankan dan nilai-nilai sudah dikelompokkan, kita juga sudah menerapkan hasil eksekusi fungsi ini terhadap kolom `purpose` dan meneruskan parameter dari nama fungsi yang telah kita buat menggunakan bantuan `apply()`. Nama kolom baru yang berisi kategori dari nilai-nilai dalam kolom `purpose` sudah kita simpan dalam kolom bernama `new_purpose`."
   ]
  },
  {
   "cell_type": "code",
   "execution_count": 105,
   "metadata": {},
   "outputs": [
    {
     "data": {
      "text/plain": [
       "Housing      10810\n",
       "Car           4306\n",
       "Education     4013\n",
       "Wedding       2324\n",
       "Name: new_purpose, dtype: int64"
      ]
     },
     "execution_count": 105,
     "metadata": {},
     "output_type": "execute_result"
    }
   ],
   "source": [
    "# Menampilkan kolom yang memuat kategori yang telah dibuat\n",
    "new_data_4['new_purpose'].value_counts()"
   ]
  },
  {
   "cell_type": "markdown",
   "metadata": {},
   "source": [
    "Tahap akhir dalam mengelompokkan nilai bagi kolom yang saat ini kita kerjakan akan kita tutup dengan melihat distribusi nilai dalam kolom yang baru saja dibuat. Terlihat bahwa **terdapat 4 kategori alasan nasabah melakukan peminjaman kepada bank** dan jumlahnya sudah sesuai dengan jumlah kondisi dalam fungsi yang telah kita buat. Kita dapat membaca dan membandingkan nilainya dengan lebih mudah dibandingkan melihat kolom `purpose` yang jumlah nilainya lebih banyak. Faktanya dalam *dataset* kita untuk bagian kolom baru ini, **nasabah yang meminjam uang kepada bank di dominasi oleh nasabah dengan tujuan untuk membeli atau menyewa sebuah rumah**."
   ]
  },
  {
   "cell_type": "markdown",
   "metadata": {},
   "source": [
    "**Mengelompokkan nilai dalam kolom `total_income`**\n",
    "\n",
    "Berikutnya kita akan melanjutkan tahap pengelompokkan data untuk *dataset* proyek ini untuk sebuah kolom yang sifatnya numerik. Tujuan untuk mengelompokkan nilai numerik dalam salah satu kolom sebenarnya sama dengan sebelumnya yaitu untuk memudahkan kita dalam memberikan penjelasan saat memeriksa hipotesis nantinya. Mari kita kembali melihat *dataset* saat ini untuk menentukan kolom numerik mana yang akan kita kategorikan."
   ]
  },
  {
   "cell_type": "code",
   "execution_count": 106,
   "metadata": {
    "scrolled": false
   },
   "outputs": [
    {
     "data": {
      "text/html": [
       "<div>\n",
       "<style scoped>\n",
       "    .dataframe tbody tr th:only-of-type {\n",
       "        vertical-align: middle;\n",
       "    }\n",
       "\n",
       "    .dataframe tbody tr th {\n",
       "        vertical-align: top;\n",
       "    }\n",
       "\n",
       "    .dataframe thead th {\n",
       "        text-align: right;\n",
       "    }\n",
       "</style>\n",
       "<table border=\"1\" class=\"dataframe\">\n",
       "  <thead>\n",
       "    <tr style=\"text-align: right;\">\n",
       "      <th></th>\n",
       "      <th>children</th>\n",
       "      <th>days_employed</th>\n",
       "      <th>dob_years</th>\n",
       "      <th>education</th>\n",
       "      <th>education_id</th>\n",
       "      <th>family_status</th>\n",
       "      <th>family_status_id</th>\n",
       "      <th>gender</th>\n",
       "      <th>income_type</th>\n",
       "      <th>debt</th>\n",
       "      <th>total_income</th>\n",
       "      <th>purpose</th>\n",
       "      <th>age_category</th>\n",
       "      <th>new_purpose</th>\n",
       "    </tr>\n",
       "  </thead>\n",
       "  <tbody>\n",
       "    <tr>\n",
       "      <th>0</th>\n",
       "      <td>1</td>\n",
       "      <td>8437.673028</td>\n",
       "      <td>42</td>\n",
       "      <td>bachelor's degree</td>\n",
       "      <td>0</td>\n",
       "      <td>married</td>\n",
       "      <td>0</td>\n",
       "      <td>F</td>\n",
       "      <td>employee</td>\n",
       "      <td>0</td>\n",
       "      <td>40620.102</td>\n",
       "      <td>purchase of the house</td>\n",
       "      <td>Adult in 41 - 64</td>\n",
       "      <td>Housing</td>\n",
       "    </tr>\n",
       "    <tr>\n",
       "      <th>1</th>\n",
       "      <td>1</td>\n",
       "      <td>4024.803754</td>\n",
       "      <td>36</td>\n",
       "      <td>secondary education</td>\n",
       "      <td>1</td>\n",
       "      <td>married</td>\n",
       "      <td>0</td>\n",
       "      <td>F</td>\n",
       "      <td>employee</td>\n",
       "      <td>0</td>\n",
       "      <td>17932.802</td>\n",
       "      <td>car purchase</td>\n",
       "      <td>Adult in 18 - 40</td>\n",
       "      <td>Car</td>\n",
       "    </tr>\n",
       "    <tr>\n",
       "      <th>2</th>\n",
       "      <td>0</td>\n",
       "      <td>5623.422610</td>\n",
       "      <td>33</td>\n",
       "      <td>secondary education</td>\n",
       "      <td>1</td>\n",
       "      <td>married</td>\n",
       "      <td>0</td>\n",
       "      <td>M</td>\n",
       "      <td>employee</td>\n",
       "      <td>0</td>\n",
       "      <td>23341.752</td>\n",
       "      <td>purchase of the house</td>\n",
       "      <td>Adult in 18 - 40</td>\n",
       "      <td>Housing</td>\n",
       "    </tr>\n",
       "    <tr>\n",
       "      <th>3</th>\n",
       "      <td>3</td>\n",
       "      <td>4124.747207</td>\n",
       "      <td>32</td>\n",
       "      <td>secondary education</td>\n",
       "      <td>1</td>\n",
       "      <td>married</td>\n",
       "      <td>0</td>\n",
       "      <td>M</td>\n",
       "      <td>employee</td>\n",
       "      <td>0</td>\n",
       "      <td>42820.568</td>\n",
       "      <td>supplementary education</td>\n",
       "      <td>Adult in 18 - 40</td>\n",
       "      <td>Education</td>\n",
       "    </tr>\n",
       "    <tr>\n",
       "      <th>4</th>\n",
       "      <td>0</td>\n",
       "      <td>340266.072047</td>\n",
       "      <td>53</td>\n",
       "      <td>secondary education</td>\n",
       "      <td>1</td>\n",
       "      <td>civil partnership</td>\n",
       "      <td>1</td>\n",
       "      <td>F</td>\n",
       "      <td>retiree</td>\n",
       "      <td>0</td>\n",
       "      <td>25378.572</td>\n",
       "      <td>to have a wedding</td>\n",
       "      <td>Adult in 41 - 64</td>\n",
       "      <td>Wedding</td>\n",
       "    </tr>\n",
       "    <tr>\n",
       "      <th>...</th>\n",
       "      <td>...</td>\n",
       "      <td>...</td>\n",
       "      <td>...</td>\n",
       "      <td>...</td>\n",
       "      <td>...</td>\n",
       "      <td>...</td>\n",
       "      <td>...</td>\n",
       "      <td>...</td>\n",
       "      <td>...</td>\n",
       "      <td>...</td>\n",
       "      <td>...</td>\n",
       "      <td>...</td>\n",
       "      <td>...</td>\n",
       "      <td>...</td>\n",
       "    </tr>\n",
       "    <tr>\n",
       "      <th>21448</th>\n",
       "      <td>1</td>\n",
       "      <td>4529.316663</td>\n",
       "      <td>43</td>\n",
       "      <td>secondary education</td>\n",
       "      <td>1</td>\n",
       "      <td>civil partnership</td>\n",
       "      <td>1</td>\n",
       "      <td>F</td>\n",
       "      <td>business</td>\n",
       "      <td>0</td>\n",
       "      <td>35966.698</td>\n",
       "      <td>housing transactions</td>\n",
       "      <td>Adult in 41 - 64</td>\n",
       "      <td>Housing</td>\n",
       "    </tr>\n",
       "    <tr>\n",
       "      <th>21449</th>\n",
       "      <td>0</td>\n",
       "      <td>343937.404131</td>\n",
       "      <td>67</td>\n",
       "      <td>secondary education</td>\n",
       "      <td>1</td>\n",
       "      <td>married</td>\n",
       "      <td>0</td>\n",
       "      <td>F</td>\n",
       "      <td>retiree</td>\n",
       "      <td>0</td>\n",
       "      <td>24959.969</td>\n",
       "      <td>purchase of a car</td>\n",
       "      <td>Older adults</td>\n",
       "      <td>Car</td>\n",
       "    </tr>\n",
       "    <tr>\n",
       "      <th>21450</th>\n",
       "      <td>1</td>\n",
       "      <td>2113.346888</td>\n",
       "      <td>38</td>\n",
       "      <td>secondary education</td>\n",
       "      <td>1</td>\n",
       "      <td>civil partnership</td>\n",
       "      <td>1</td>\n",
       "      <td>M</td>\n",
       "      <td>employee</td>\n",
       "      <td>1</td>\n",
       "      <td>14347.610</td>\n",
       "      <td>property</td>\n",
       "      <td>Adult in 18 - 40</td>\n",
       "      <td>Housing</td>\n",
       "    </tr>\n",
       "    <tr>\n",
       "      <th>21451</th>\n",
       "      <td>3</td>\n",
       "      <td>3112.481705</td>\n",
       "      <td>38</td>\n",
       "      <td>secondary education</td>\n",
       "      <td>1</td>\n",
       "      <td>married</td>\n",
       "      <td>0</td>\n",
       "      <td>M</td>\n",
       "      <td>employee</td>\n",
       "      <td>1</td>\n",
       "      <td>39054.888</td>\n",
       "      <td>buying my own car</td>\n",
       "      <td>Adult in 18 - 40</td>\n",
       "      <td>Car</td>\n",
       "    </tr>\n",
       "    <tr>\n",
       "      <th>21452</th>\n",
       "      <td>2</td>\n",
       "      <td>1984.507589</td>\n",
       "      <td>40</td>\n",
       "      <td>secondary education</td>\n",
       "      <td>1</td>\n",
       "      <td>married</td>\n",
       "      <td>0</td>\n",
       "      <td>F</td>\n",
       "      <td>employee</td>\n",
       "      <td>0</td>\n",
       "      <td>13127.587</td>\n",
       "      <td>to buy a car</td>\n",
       "      <td>Adult in 18 - 40</td>\n",
       "      <td>Car</td>\n",
       "    </tr>\n",
       "  </tbody>\n",
       "</table>\n",
       "<p>21453 rows × 14 columns</p>\n",
       "</div>"
      ],
      "text/plain": [
       "       children  days_employed  dob_years            education  education_id  \\\n",
       "0             1    8437.673028         42    bachelor's degree             0   \n",
       "1             1    4024.803754         36  secondary education             1   \n",
       "2             0    5623.422610         33  secondary education             1   \n",
       "3             3    4124.747207         32  secondary education             1   \n",
       "4             0  340266.072047         53  secondary education             1   \n",
       "...         ...            ...        ...                  ...           ...   \n",
       "21448         1    4529.316663         43  secondary education             1   \n",
       "21449         0  343937.404131         67  secondary education             1   \n",
       "21450         1    2113.346888         38  secondary education             1   \n",
       "21451         3    3112.481705         38  secondary education             1   \n",
       "21452         2    1984.507589         40  secondary education             1   \n",
       "\n",
       "           family_status  family_status_id gender income_type  debt  \\\n",
       "0                married                 0      F    employee     0   \n",
       "1                married                 0      F    employee     0   \n",
       "2                married                 0      M    employee     0   \n",
       "3                married                 0      M    employee     0   \n",
       "4      civil partnership                 1      F     retiree     0   \n",
       "...                  ...               ...    ...         ...   ...   \n",
       "21448  civil partnership                 1      F    business     0   \n",
       "21449            married                 0      F     retiree     0   \n",
       "21450  civil partnership                 1      M    employee     1   \n",
       "21451            married                 0      M    employee     1   \n",
       "21452            married                 0      F    employee     0   \n",
       "\n",
       "       total_income                  purpose      age_category new_purpose  \n",
       "0         40620.102    purchase of the house  Adult in 41 - 64     Housing  \n",
       "1         17932.802             car purchase  Adult in 18 - 40         Car  \n",
       "2         23341.752    purchase of the house  Adult in 18 - 40     Housing  \n",
       "3         42820.568  supplementary education  Adult in 18 - 40   Education  \n",
       "4         25378.572        to have a wedding  Adult in 41 - 64     Wedding  \n",
       "...             ...                      ...               ...         ...  \n",
       "21448     35966.698     housing transactions  Adult in 41 - 64     Housing  \n",
       "21449     24959.969        purchase of a car      Older adults         Car  \n",
       "21450     14347.610                 property  Adult in 18 - 40     Housing  \n",
       "21451     39054.888        buying my own car  Adult in 18 - 40         Car  \n",
       "21452     13127.587             to buy a car  Adult in 18 - 40         Car  \n",
       "\n",
       "[21453 rows x 14 columns]"
      ]
     },
     "execution_count": 106,
     "metadata": {},
     "output_type": "execute_result"
    }
   ],
   "source": [
    "# Lihat semua data numerik di kolom yang kita pilih untuk pengkategorian\n",
    "new_data_4"
   ]
  },
  {
   "cell_type": "markdown",
   "metadata": {},
   "source": [
    "Pengkategorian data bagi kolom yang bersifat numerikal saat ini jikalau kita melihat dalam tabel di atas akan lebih cocok jikalau kolom **`total_income` kita kelompokkan menjadi sebuah kategori** untuk mengetahui kelompok pendapatan nasabah. Mengapa kita memilih untuk mengelompokkan data dalam kolom tersebut dibandingkan dengan kolom numerikal lainnya? Untuk kolom usia nasabah sudah kita kelompokkan dan itu tidak akan dipakai dalam pengujian hipotesis. Bagi kolom yang sifatnya identik dengan nilai ID juga tidak penting dalam menguji hipotesis dan kita sudah mengetahui setiap nilai ID dalam tabel di atas mewakili nilai apa (lihat bagian pembuatan *dictionary* di tahapan bekerja dengan nilai hilang). Tetapi untuk kolom `total_income` ini akan kita uji nantinya bersama dengan kolom lain dalam tahapan pengujian hipotesis dan akan lebih baik jikalau kita mengelompokkannya."
   ]
  },
  {
   "cell_type": "code",
   "execution_count": 107,
   "metadata": {},
   "outputs": [
    {
     "data": {
      "text/plain": [
       "<AxesSubplot:>"
      ]
     },
     "execution_count": 107,
     "metadata": {},
     "output_type": "execute_result"
    },
    {
     "data": {
      "image/png": "[encoded data removed]",
      "text/plain": [
       "<Figure size 432x288 with 1 Axes>"
      ]
     },
     "metadata": {
      "needs_background": "light"
     },
     "output_type": "display_data"
    }
   ],
   "source": [
    "# Dapatkan kesimpulan statistik untuk kolomnya\n",
    "new_data_4['total_income'].hist()"
   ]
  },
  {
   "cell_type": "markdown",
   "metadata": {},
   "source": [
    "Bayangkan apa yang akan kita jelaskan mengenai banyaknya nilai ini dalam bagian penjelasan hasil uji hipotesis nantinya? Pasti akan sangat membingungkan dan menyulitkan kita untuk membuat sebuah kalimat kesimpulan dari hasil hipotesis untuk kolom total pendapatan nasabah ini yang jumlahnya sangat beragam. Oleh karena itu kita telah membuat sebuah keputusan pasti bahwa untuk **kolom `total_income` akan dikelompokkan nilainya berdasarkan tingkatannya**. Dengan cara yang sama seperti pengelompokkan nilai dalam kolom `purpose`, kita akan membuat sebuah fungsi untuk mengelompokkan total pendapatan nasabah berdasarkan tingkatan pendapatan yang telah kita putuskan."
   ]
  },
  {
   "cell_type": "code",
   "execution_count": 108,
   "metadata": {},
   "outputs": [],
   "source": [
    "# Membuat fungsi untuk mengelompokkan total pendapatan nasabah berdasarkan tingkatannya\n",
    "def income_level(income):\n",
    "    if (income >= 0) and (income <= 5000):\n",
    "        return 'Very low income'\n",
    "    elif (income > 5000) and (income <= 10000):\n",
    "        return 'Low income'\n",
    "    elif (income > 10000) and (income <= 15000):\n",
    "        return 'Average income'\n",
    "    elif (income > 15000) and (income <= 25000):\n",
    "        return 'Upper-avarege income'\n",
    "    elif (income > 25000) and (income <= 50000):\n",
    "        return 'High income'\n",
    "    elif income > 50000:\n",
    "        return 'Very high income'\n",
    "    else:\n",
    "        return 'Unknown'"
   ]
  },
  {
   "cell_type": "markdown",
   "metadata": {},
   "source": [
    "Fungsi untuk mengelompokkan tingkat pendapatan dari kolom `total_income` di atas kita menamainya sebagai `income_level`. Terdapat beberapa kondisi yang sudah dibuat dan ketika masing-masing nilai yang ada dalam kolom `total_income` disesuaikan ke dalam fungsi yang sedang dijalankan, nilai-nilai dalam kolom tersebut akan dikategorikan berdasarkan kondisi yang telah kita tulis. Untuk kondisi fungsi ini atau pengelompokkan tingkat pendapatan nasabah kita sudah membuat sebanyak 6 kategori pendapatan, mulai dari *Very low income* hingga *Very high income* dengan rentang pendapatan masing-masing kategorinya berbeda. Mari kita menyimpan dan menerapkan fungsi ini ke dalam kolom baru selanjutnya."
   ]
  },
  {
   "cell_type": "code",
   "execution_count": 109,
   "metadata": {},
   "outputs": [],
   "source": [
    "# Menerapkan kolom yang memuat kategori\n",
    "new_data_4['total_income_category'] = new_data_4['total_income'].apply(income_level)"
   ]
  },
  {
   "cell_type": "markdown",
   "metadata": {},
   "source": [
    "Kita sudah menerapkan hasil eksekusi fungsi sebelumnya terhadap kolom `total_income` dan meneruskan parameter dari nama fungsi yang telah kita buat menggunakan bantuan `apply()`. Kolom yang berisi kategori tingkat pendapatan berdasarkan nilai dalam kolom `total_income` sudah kita simpan ke dalam kolom baru bernama `total_income_category`. Bagian terakhir dalam pengkategorian data saat ini akan kita lakukan sebuah pemeriksaan mengenai distribusi nilai kategori yang telah kita buat."
   ]
  },
  {
   "cell_type": "code",
   "execution_count": 110,
   "metadata": {
    "scrolled": false
   },
   "outputs": [
    {
     "data": {
      "text/plain": [
       "Upper-avarege income    9108\n",
       "High income             7282\n",
       "Average income          2817\n",
       "Very high income        1320\n",
       "Low income               900\n",
       "Very low income           26\n",
       "Name: total_income_category, dtype: int64"
      ]
     },
     "execution_count": 110,
     "metadata": {},
     "output_type": "execute_result"
    }
   ],
   "source": [
    "# Hitung setiap nilai kategori untuk melihat pendistribusiannya\n",
    "new_data_4['total_income_category'].value_counts()"
   ]
  },
  {
   "cell_type": "markdown",
   "metadata": {},
   "source": [
    "Berdasarkan dari hasil distribusi nilai mengenai tingkat pendapatan nasabah dalam kolom baru di atas bernama `total_income_category`, **terdapat 6 kategori mengenai tingkatan pendapatan nasabah** dan jumlahnya sudah sesuai dengan jumlah kondisi dalam fungsi yang telah kita buat. Fakta unik yang kita dapatkan untuk bagian kolom baru ini, sebagian besar **nasabah memiliki tingkat pendapatan di atas rata-rata**. Kita sudah mengakhiri pekerjaan dalam bagian pengkategorian data saat ini dan selanjutnya kita akan memasuki tahap akhir untuk menjawab pertanyaan-pertanyaan yang diajukan dalam proyek ini."
   ]
  },
  {
   "cell_type": "markdown",
   "metadata": {},
   "source": [
    "## Memeriksa Hipotesis\n"
   ]
  },
  {
   "cell_type": "markdown",
   "metadata": {},
   "source": [
    "Saat ini kita sudah memasuki bagian akhir dalam pengerjaan proyek dan tahapan ini termasuk krusial. Kegiatan yang akan dilakukan pada bagian ini akan berfokus hanya untuk menjawab setiap pertanyaan yang sudah diajukan dalam bagian awal proyek ini, yaitu dengan cara memeriksa hasil hipotesis antara dua variabel yang telah ditentukan. Cara mengerjakan dan menjawab pertanyaan hipotesis untuk bagian ini kita akan menampilkan kedua kolom yang berhubungan untuk diuji dan hasil dari pengamatan akan diberikan dalam bentuk kesimpulan.\n",
    "\n",
    "Berikut ini merupakan artian dari nilai dalam kolom `debt` sebagai panduan untuk menjelaskan hasil dari hipotesis:\n",
    "- **0: nasabah tidak pernah gagal membayar pinjaman**\n",
    "- **1: nasabah pernah melakukan gagal bayar pinjaman**"
   ]
  },
  {
   "cell_type": "markdown",
   "metadata": {},
   "source": [
    "**5.1 Apakah terdapat korelasi antara memiliki anak dengan probabilitas melakukan gagal bayar pinjaman?**"
   ]
  },
  {
   "cell_type": "markdown",
   "metadata": {},
   "source": [
    "Pada bagian ini kita akan mencari tahu bagaimana korelasi antara memiliki anak terhadap kemungkinan seorang nasabah melakukan gagal bayar pinjaman. Kita akan menampilkan kedua kolom yang dibutuhkan untuk menjawab hipotesis ini, yaitu kolom `children` dan `debt`."
   ]
  },
  {
   "cell_type": "code",
   "execution_count": 111,
   "metadata": {},
   "outputs": [],
   "source": [
    "# Periksa data anak dan data gagal bayar pinjaman\n",
    "pivot_children = new_data_4.pivot_table(index='children', columns='debt', values='dob_years', aggfunc='count')"
   ]
  },
  {
   "cell_type": "markdown",
   "metadata": {},
   "source": [
    "Untuk menjawab bagian hipotesis ini, kita telah menggabungkan kedua tabel yang diperlukan sebagai variabel yang akan diuji dengan menggunakan bantuan `pivot_table()`. Parameter dari metode yang dipakai ini berisikan perintah untuk membuat *pivot table* dengan indeks yang digunakan yaitu dari kolom `children` dan kolom yang akan kita identifikasi mengenai informasi gagal bayar dari kolom `debt`. Untuk kolom `debt` dihitung jumlah barisnya menggunakan `count()`."
   ]
  },
  {
   "cell_type": "code",
   "execution_count": 112,
   "metadata": {},
   "outputs": [
    {
     "data": {
      "text/html": [
       "<div>\n",
       "<style scoped>\n",
       "    .dataframe tbody tr th:only-of-type {\n",
       "        vertical-align: middle;\n",
       "    }\n",
       "\n",
       "    .dataframe tbody tr th {\n",
       "        vertical-align: top;\n",
       "    }\n",
       "\n",
       "    .dataframe thead th {\n",
       "        text-align: right;\n",
       "    }\n",
       "</style>\n",
       "<table border=\"1\" class=\"dataframe\">\n",
       "  <thead>\n",
       "    <tr style=\"text-align: right;\">\n",
       "      <th>debt</th>\n",
       "      <th>0</th>\n",
       "      <th>1</th>\n",
       "    </tr>\n",
       "    <tr>\n",
       "      <th>children</th>\n",
       "      <th></th>\n",
       "      <th></th>\n",
       "    </tr>\n",
       "  </thead>\n",
       "  <tbody>\n",
       "    <tr>\n",
       "      <th>0</th>\n",
       "      <td>13027.0</td>\n",
       "      <td>1063.0</td>\n",
       "    </tr>\n",
       "    <tr>\n",
       "      <th>1</th>\n",
       "      <td>4410.0</td>\n",
       "      <td>445.0</td>\n",
       "    </tr>\n",
       "    <tr>\n",
       "      <th>2</th>\n",
       "      <td>1926.0</td>\n",
       "      <td>202.0</td>\n",
       "    </tr>\n",
       "    <tr>\n",
       "      <th>3</th>\n",
       "      <td>303.0</td>\n",
       "      <td>27.0</td>\n",
       "    </tr>\n",
       "    <tr>\n",
       "      <th>4</th>\n",
       "      <td>37.0</td>\n",
       "      <td>4.0</td>\n",
       "    </tr>\n",
       "    <tr>\n",
       "      <th>5</th>\n",
       "      <td>9.0</td>\n",
       "      <td>NaN</td>\n",
       "    </tr>\n",
       "  </tbody>\n",
       "</table>\n",
       "</div>"
      ],
      "text/plain": [
       "debt            0       1\n",
       "children                 \n",
       "0         13027.0  1063.0\n",
       "1          4410.0   445.0\n",
       "2          1926.0   202.0\n",
       "3           303.0    27.0\n",
       "4            37.0     4.0\n",
       "5             9.0     NaN"
      ]
     },
     "execution_count": 112,
     "metadata": {},
     "output_type": "execute_result"
    }
   ],
   "source": [
    "# Memeriksa hasil pivot table dari kolom `children` dan `debt`\n",
    "pivot_children"
   ]
  },
  {
   "cell_type": "markdown",
   "metadata": {},
   "source": [
    "*Pivot table* sudah disimpan dalam variabel baru bernama `pivot_children`. Setelah diamati melalui tabel penggabungan dua kolom di atas, kita masih belum bisa membuat suatu kalimat interpretasi untuk menjawab bagian pertanyaan saat ini. Melalui pernyataan sebelumnya, kita akan membuat sebuah perhitungan persentase dan menyimpannya dalam kolom baru."
   ]
  },
  {
   "cell_type": "code",
   "execution_count": 113,
   "metadata": {
    "scrolled": false
   },
   "outputs": [
    {
     "data": {
      "text/html": [
       "<div>\n",
       "<style scoped>\n",
       "    .dataframe tbody tr th:only-of-type {\n",
       "        vertical-align: middle;\n",
       "    }\n",
       "\n",
       "    .dataframe tbody tr th {\n",
       "        vertical-align: top;\n",
       "    }\n",
       "\n",
       "    .dataframe thead th {\n",
       "        text-align: right;\n",
       "    }\n",
       "</style>\n",
       "<table border=\"1\" class=\"dataframe\">\n",
       "  <thead>\n",
       "    <tr style=\"text-align: right;\">\n",
       "      <th>debt</th>\n",
       "      <th>0</th>\n",
       "      <th>1</th>\n",
       "      <th>percentage_1</th>\n",
       "    </tr>\n",
       "    <tr>\n",
       "      <th>children</th>\n",
       "      <th></th>\n",
       "      <th></th>\n",
       "      <th></th>\n",
       "    </tr>\n",
       "  </thead>\n",
       "  <tbody>\n",
       "    <tr>\n",
       "      <th>0</th>\n",
       "      <td>13027.0</td>\n",
       "      <td>1063.0</td>\n",
       "      <td>7.544358</td>\n",
       "    </tr>\n",
       "    <tr>\n",
       "      <th>1</th>\n",
       "      <td>4410.0</td>\n",
       "      <td>445.0</td>\n",
       "      <td>9.165808</td>\n",
       "    </tr>\n",
       "    <tr>\n",
       "      <th>2</th>\n",
       "      <td>1926.0</td>\n",
       "      <td>202.0</td>\n",
       "      <td>9.492481</td>\n",
       "    </tr>\n",
       "    <tr>\n",
       "      <th>3</th>\n",
       "      <td>303.0</td>\n",
       "      <td>27.0</td>\n",
       "      <td>8.181818</td>\n",
       "    </tr>\n",
       "    <tr>\n",
       "      <th>4</th>\n",
       "      <td>37.0</td>\n",
       "      <td>4.0</td>\n",
       "      <td>9.756098</td>\n",
       "    </tr>\n",
       "    <tr>\n",
       "      <th>5</th>\n",
       "      <td>9.0</td>\n",
       "      <td>NaN</td>\n",
       "      <td>NaN</td>\n",
       "    </tr>\n",
       "  </tbody>\n",
       "</table>\n",
       "</div>"
      ],
      "text/plain": [
       "debt            0       1  percentage_1\n",
       "children                               \n",
       "0         13027.0  1063.0      7.544358\n",
       "1          4410.0   445.0      9.165808\n",
       "2          1926.0   202.0      9.492481\n",
       "3           303.0    27.0      8.181818\n",
       "4            37.0     4.0      9.756098\n",
       "5             9.0     NaN           NaN"
      ]
     },
     "execution_count": 113,
     "metadata": {},
     "output_type": "execute_result"
    }
   ],
   "source": [
    "# Hitung persentase gagal bayar berdasarkan jumlah anak\n",
    "pivot_children['percentage_1'] = pivot_children[1] /(pivot_children[1] + pivot_children[0]) * 100\n",
    "\n",
    "# Menampilkan kembali pivot table\n",
    "pivot_children"
   ]
  },
  {
   "cell_type": "markdown",
   "metadata": {},
   "source": [
    "Hasil persentase telah disimpan dalam kolom baru bernama `percentage_1`. Arti dari nama kolom itu adalah hasil persentase dari kolom `debt` yang bernilai 1. Cara membuat persentasenya cukup mudah, yaitu hanya membagi nilai dalam kolom 1 dengan jumlah nilai antara kolom 1 dan 0. Kita hanya menghitung persentase dari indeks kolom 1 karena hanya bagian ini yang akan digunakan sebagai variabel terikat atau penentu dalam menjawab hipotesis saat ini. Mari kita membuat sebuah interpretasi dari hasil uji hipotesis yang telah kita dapatkan."
   ]
  },
  {
   "cell_type": "markdown",
   "metadata": {},
   "source": [
    "**Kesimpulan**\n",
    "\n",
    "Melalui persentase tingkat gagal melakukan bayar pinjaman berdasarkan jumlah anak nasabah yang sudah disajikan datanya, kita dapat melihat beberapa kesimpulan yang dapat diinterpretasikan sebagai berikut:\n",
    "- Untuk **nasabah yang tidak memiliki anak** terlihat **memiliki persentase probabilitas melakukan gagal bayar terendah** dibandingkan dengan nasabah yang sudah memiliki anak dengan jumlah **sebesar 7.54%**. Kita bisa menganggap bahwa untuk **nasabah yang belum memiliki atau tidak memiliki anak cenderung lebih mudah untuk melunasi hutang pinjamannya** dikarenakan kebutuhan hidup dan pengelurannya belum sebanyak nasabah yang sudah beranak.\n",
    "- Dari kalangan **nasabah yang sudah beranak terlihat jelas memiliki rata-rata persentase kemungkinan dalam hal gagal melunasi pinjamannya lebih tinggi**. Dalam data yang sudah ada, kita bisa melhat bahwa untuk nasabah yang memiliki anak paling banyak, yaitu sebanyak **4 anak cenderung lebih besar probabilitasnya dalam melakukan gagal bayar pinjaman** dengan persentase **sebanyak 9.75%**. Itu berarti **semakin banyak jumlah anak dapat membuat kemungkinan seseorang gagal melunasi pinjamannya kepada suatu bank lebih besar** karena semakin banyak anak juga menuntut banyaknya pengeluaran sehingga semakin sulit juga untuk melunasi pinjamannya.\n",
    "- Persentase gagal bayar pinjaman dari nasabah yang memiliki anak sebanyak 5 anak terlihat memiliki nilai hilang. Karena dalam kolom 1 tidak memiliki nilai atau artinya tidak ada nasabah yang memiliki anak sebanyak 5 yang gagal melunasi hutangnya. Itu dikarenakan dalam *dataset* kita ini jumlah anak sebanyak 5 jumlahnya sangat sedikit sehingga kurang merepresentasikan hasil yang sebenarnya.\n",
    "\n",
    "Kesimpulan umum dari pernyataan hipotesis ini yaitu korelasi antara memiliki anak dengan kemungkinan gagal membayar pinjaman adalah **semakin banyak jumlah anak maka kemungkinan gagal melunasi pinjamannya lebih besar dibandingkan dengan nasabah yang tidak atau belum memiliki anak**."
   ]
  },
  {
   "cell_type": "markdown",
   "metadata": {},
   "source": [
    "**5.2 Apakah terdapat korelasi antara status keluarga dengan probabilitas melakukan gagal bayar pinjaman?**"
   ]
  },
  {
   "cell_type": "markdown",
   "metadata": {},
   "source": [
    "Kesempatan saat ini kita akan melihat bagaimana korelasi antara status keluarga nasabah terhadap kemungkinan seorang nasabah melakukan gagal bayar pinjaman. Seperti dalam menjawab hipotesis sebelumnya, kita akan terlebih dahulu menampilkan dan menggabungkan kedua kolom yang dibutuhkan untuk menjawab hipotesis ini, yaitu kolom `family_status` dan `debt`."
   ]
  },
  {
   "cell_type": "code",
   "execution_count": 114,
   "metadata": {},
   "outputs": [],
   "source": [
    "# Periksa data status keluarga dan data gagal bayar pinjaman\n",
    "pivot_family_status = new_data_4.pivot_table(index='family_status', columns='debt', values='family_status_id', aggfunc='count')"
   ]
  },
  {
   "cell_type": "markdown",
   "metadata": {},
   "source": [
    "Penggabungan kedua tabel yang diperlukan sebagai variabel yang akan diuji untuk pertanyaan ini menggunakan bantuan `pivot_table()` kembali agar hasilnya terlihat seperti sebuah tabel. Parameter dari metode yang dipakai ini berisikan perintah untuk membuat *pivot table* dengan indeks yang digunakan yaitu dari kolom `family_status` dan kolom yang akan kita identifikasi mengenai informasi gagal bayar dari kolom `debt`. Kolom `debt` dihitung jumlah barisnya menggunakan `count()`."
   ]
  },
  {
   "cell_type": "code",
   "execution_count": 115,
   "metadata": {},
   "outputs": [
    {
     "data": {
      "text/html": [
       "<div>\n",
       "<style scoped>\n",
       "    .dataframe tbody tr th:only-of-type {\n",
       "        vertical-align: middle;\n",
       "    }\n",
       "\n",
       "    .dataframe tbody tr th {\n",
       "        vertical-align: top;\n",
       "    }\n",
       "\n",
       "    .dataframe thead th {\n",
       "        text-align: right;\n",
       "    }\n",
       "</style>\n",
       "<table border=\"1\" class=\"dataframe\">\n",
       "  <thead>\n",
       "    <tr style=\"text-align: right;\">\n",
       "      <th>debt</th>\n",
       "      <th>0</th>\n",
       "      <th>1</th>\n",
       "    </tr>\n",
       "    <tr>\n",
       "      <th>family_status</th>\n",
       "      <th></th>\n",
       "      <th></th>\n",
       "    </tr>\n",
       "  </thead>\n",
       "  <tbody>\n",
       "    <tr>\n",
       "      <th>civil partnership</th>\n",
       "      <td>3762</td>\n",
       "      <td>388</td>\n",
       "    </tr>\n",
       "    <tr>\n",
       "      <th>divorced</th>\n",
       "      <td>1110</td>\n",
       "      <td>85</td>\n",
       "    </tr>\n",
       "    <tr>\n",
       "      <th>married</th>\n",
       "      <td>11408</td>\n",
       "      <td>931</td>\n",
       "    </tr>\n",
       "    <tr>\n",
       "      <th>unmarried</th>\n",
       "      <td>2536</td>\n",
       "      <td>274</td>\n",
       "    </tr>\n",
       "    <tr>\n",
       "      <th>widow / widower</th>\n",
       "      <td>896</td>\n",
       "      <td>63</td>\n",
       "    </tr>\n",
       "  </tbody>\n",
       "</table>\n",
       "</div>"
      ],
      "text/plain": [
       "debt                   0    1\n",
       "family_status                \n",
       "civil partnership   3762  388\n",
       "divorced            1110   85\n",
       "married            11408  931\n",
       "unmarried           2536  274\n",
       "widow / widower      896   63"
      ]
     },
     "execution_count": 115,
     "metadata": {},
     "output_type": "execute_result"
    }
   ],
   "source": [
    "# Memeriksa hasil pivot table dari kolom `family_status` dan `debt`\n",
    "pivot_family_status"
   ]
  },
  {
   "cell_type": "markdown",
   "metadata": {},
   "source": [
    "Hasil dari penggabungan dua kolom ini telah kita simpan dalam variabel baru bernama `pivot_family_status`. Kita akan membuat persentase dari kolom `debt` yang bernilai 1 (gagal bayar pinjaman) agar kita dapat menjelaskan hasil dari penemuan untuk pertanyaan ini dengan jelas."
   ]
  },
  {
   "cell_type": "code",
   "execution_count": 116,
   "metadata": {},
   "outputs": [
    {
     "data": {
      "text/html": [
       "<div>\n",
       "<style scoped>\n",
       "    .dataframe tbody tr th:only-of-type {\n",
       "        vertical-align: middle;\n",
       "    }\n",
       "\n",
       "    .dataframe tbody tr th {\n",
       "        vertical-align: top;\n",
       "    }\n",
       "\n",
       "    .dataframe thead th {\n",
       "        text-align: right;\n",
       "    }\n",
       "</style>\n",
       "<table border=\"1\" class=\"dataframe\">\n",
       "  <thead>\n",
       "    <tr style=\"text-align: right;\">\n",
       "      <th>debt</th>\n",
       "      <th>0</th>\n",
       "      <th>1</th>\n",
       "      <th>percentage_1</th>\n",
       "    </tr>\n",
       "    <tr>\n",
       "      <th>family_status</th>\n",
       "      <th></th>\n",
       "      <th></th>\n",
       "      <th></th>\n",
       "    </tr>\n",
       "  </thead>\n",
       "  <tbody>\n",
       "    <tr>\n",
       "      <th>civil partnership</th>\n",
       "      <td>3762</td>\n",
       "      <td>388</td>\n",
       "      <td>9.349398</td>\n",
       "    </tr>\n",
       "    <tr>\n",
       "      <th>divorced</th>\n",
       "      <td>1110</td>\n",
       "      <td>85</td>\n",
       "      <td>7.112971</td>\n",
       "    </tr>\n",
       "    <tr>\n",
       "      <th>married</th>\n",
       "      <td>11408</td>\n",
       "      <td>931</td>\n",
       "      <td>7.545182</td>\n",
       "    </tr>\n",
       "    <tr>\n",
       "      <th>unmarried</th>\n",
       "      <td>2536</td>\n",
       "      <td>274</td>\n",
       "      <td>9.750890</td>\n",
       "    </tr>\n",
       "    <tr>\n",
       "      <th>widow / widower</th>\n",
       "      <td>896</td>\n",
       "      <td>63</td>\n",
       "      <td>6.569343</td>\n",
       "    </tr>\n",
       "  </tbody>\n",
       "</table>\n",
       "</div>"
      ],
      "text/plain": [
       "debt                   0    1  percentage_1\n",
       "family_status                              \n",
       "civil partnership   3762  388      9.349398\n",
       "divorced            1110   85      7.112971\n",
       "married            11408  931      7.545182\n",
       "unmarried           2536  274      9.750890\n",
       "widow / widower      896   63      6.569343"
      ]
     },
     "execution_count": 116,
     "metadata": {},
     "output_type": "execute_result"
    }
   ],
   "source": [
    "# Hitung persentase gagal bayar berdasarkan status keluarga\n",
    "pivot_family_status['percentage_1'] = pivot_family_status[1] /(pivot_family_status[1] + pivot_family_status[0]) * 100\n",
    "\n",
    "# Menampilkan kembali pivot table\n",
    "pivot_family_status"
   ]
  },
  {
   "cell_type": "markdown",
   "metadata": {},
   "source": [
    "Persentase sudah disimpan dalam kolom baru yang namanya sama dengan sebelumnya kita buat yaitu `percentage_1`. Dengan adanya sajian data di atas, kita sudah dapat membuat kesimpulan untuk menjawab hipotesis ini."
   ]
  },
  {
   "cell_type": "markdown",
   "metadata": {},
   "source": [
    "**Kesimpulan**\n",
    "\n",
    "Persentase kemungkinan gagal bayar pinjaman berdasarkan status keluarga dapat terlihat dalam bagian atas dari blok ini. Sejauh ini kita dapat mengambil beberapa kesimpulan yang penting dari hasil analisis dalam tabel di atas, yaitu:\n",
    "- **Nasabah dengan kategori status keluarganya *unmarried* atau belum menikah ternyata memiliki kecenderungan untuk gagal melakukan pembayaran pinjaman paling tinggi dengan persentase sebesar 9.75%**. Hal ini disusul oleh kategori status keluarga *civil partnership* dengan persentase tertinggi kedua sebesar 9.34%. Kita bisa beranggapan bahwa untuk **nasabah yang belum menikah belum bisa bertanggung jawab untuk melunasi pinjaman** dan biasanya nasabah tersebut masih tergolong muda dan belum memiliki banyak tabungan atau pendapatan. Oleh karena itu pihak bank harus berhati-hati dalam memberikan pinjaman kepada nasabah yang belum menikah.\n",
    "- Nasabah yang status keluarganya janda atau duda atau *widow / widower* memiliki probabilitas melakukan gagal membayar pinjaman tepat waktu terendah dibandingkan dengan kategori lainnya, yaitu sebesar 6.56%. Dengan demikian untuk nasabah yang status keluarganya janda atau duda lebih memungkinkan untuk membayar pinjaman tepat waktu.\n",
    "\n",
    "Kesimpulan umum untuk pernyataan hipotesis ini yaitu korelasi antara status keluarga dengan kemungkinan melakukan gagal membayar pinjaman adalah **untuk nasabah yang belum menikah, probabilitas gagal dalam melunasi hutang tepat waktu termasuk paling tinggi atau tidak meyakinkan**."
   ]
  },
  {
   "cell_type": "markdown",
   "metadata": {},
   "source": [
    "**5.3 Apakah terdapat korelasi antara tingkat pendapatan dengan probabilitas melakukan gagal bayar pinjaman?**"
   ]
  },
  {
   "cell_type": "markdown",
   "metadata": {},
   "source": [
    "Sekarang kita akan melihat bagaimana korelasi antara tingkat pendapatan nasabah terhadap kemungkinan seorang nasabah melakukan gagal bayar pinjaman. Seperti biasanya, kita akan terlebih dahulu menampilkan dan menggabungkan kedua kolom yang dibutuhkan untuk menjawab hipotesis ini, yaitu kolom `total_income_category` dan `debt`."
   ]
  },
  {
   "cell_type": "code",
   "execution_count": 117,
   "metadata": {},
   "outputs": [],
   "source": [
    "# Periksa data tingkat pendapatan dan data gagal bayar pinjaman\n",
    "pivot_income_category = new_data_4.pivot_table(index='total_income_category', \n",
    "                                               columns='debt', \n",
    "                                               values='total_income', \n",
    "                                               aggfunc='count')"
   ]
  },
  {
   "cell_type": "markdown",
   "metadata": {},
   "source": [
    "Parameter dari metode yang dipakai berisikan perintah untuk membuat *pivot table* dengan indeks yang digunakan yaitu dari kolom `total_income_category` dan kolom yang akan kita identifikasi mengenai informasi gagal bayar dari kolom `debt`. Untuk kolom `debt` dihitung jumlah barisnya menggunakan `count()`. Kita tidak menggunakan kolom `total_income` untuk menjawab hipotesis ini karena total pendapatan nasabah sudah kita kategorikan dalam kolom `total_income_category`."
   ]
  },
  {
   "cell_type": "code",
   "execution_count": 118,
   "metadata": {},
   "outputs": [
    {
     "data": {
      "text/html": [
       "<div>\n",
       "<style scoped>\n",
       "    .dataframe tbody tr th:only-of-type {\n",
       "        vertical-align: middle;\n",
       "    }\n",
       "\n",
       "    .dataframe tbody tr th {\n",
       "        vertical-align: top;\n",
       "    }\n",
       "\n",
       "    .dataframe thead th {\n",
       "        text-align: right;\n",
       "    }\n",
       "</style>\n",
       "<table border=\"1\" class=\"dataframe\">\n",
       "  <thead>\n",
       "    <tr style=\"text-align: right;\">\n",
       "      <th>debt</th>\n",
       "      <th>0</th>\n",
       "      <th>1</th>\n",
       "    </tr>\n",
       "    <tr>\n",
       "      <th>total_income_category</th>\n",
       "      <th></th>\n",
       "      <th></th>\n",
       "    </tr>\n",
       "  </thead>\n",
       "  <tbody>\n",
       "    <tr>\n",
       "      <th>Average income</th>\n",
       "      <td>2577</td>\n",
       "      <td>240</td>\n",
       "    </tr>\n",
       "    <tr>\n",
       "      <th>High income</th>\n",
       "      <td>6699</td>\n",
       "      <td>583</td>\n",
       "    </tr>\n",
       "    <tr>\n",
       "      <th>Low income</th>\n",
       "      <td>844</td>\n",
       "      <td>56</td>\n",
       "    </tr>\n",
       "    <tr>\n",
       "      <th>Upper-avarege income</th>\n",
       "      <td>8340</td>\n",
       "      <td>768</td>\n",
       "    </tr>\n",
       "    <tr>\n",
       "      <th>Very high income</th>\n",
       "      <td>1228</td>\n",
       "      <td>92</td>\n",
       "    </tr>\n",
       "    <tr>\n",
       "      <th>Very low income</th>\n",
       "      <td>24</td>\n",
       "      <td>2</td>\n",
       "    </tr>\n",
       "  </tbody>\n",
       "</table>\n",
       "</div>"
      ],
      "text/plain": [
       "debt                      0    1\n",
       "total_income_category           \n",
       "Average income         2577  240\n",
       "High income            6699  583\n",
       "Low income              844   56\n",
       "Upper-avarege income   8340  768\n",
       "Very high income       1228   92\n",
       "Very low income          24    2"
      ]
     },
     "execution_count": 118,
     "metadata": {},
     "output_type": "execute_result"
    }
   ],
   "source": [
    "# Memeriksa hasil pivot table dari kolom `total_income_category` dan `debt`\n",
    "pivot_income_category"
   ]
  },
  {
   "cell_type": "markdown",
   "metadata": {},
   "source": [
    "Penggabungan dua kolom di atas telah kita simpan dalam variabel baru yaitu `pivot_income_category`. Kita akan membuat persentase dari kolom `debt` yang bernilai 1 (gagal bayar pinjaman) terhadap kolom `total_income_category` agar kita dapat menjelaskan hasil analisis untuk menjawab hipotesis bagian ini."
   ]
  },
  {
   "cell_type": "code",
   "execution_count": 119,
   "metadata": {},
   "outputs": [
    {
     "data": {
      "text/html": [
       "<div>\n",
       "<style scoped>\n",
       "    .dataframe tbody tr th:only-of-type {\n",
       "        vertical-align: middle;\n",
       "    }\n",
       "\n",
       "    .dataframe tbody tr th {\n",
       "        vertical-align: top;\n",
       "    }\n",
       "\n",
       "    .dataframe thead th {\n",
       "        text-align: right;\n",
       "    }\n",
       "</style>\n",
       "<table border=\"1\" class=\"dataframe\">\n",
       "  <thead>\n",
       "    <tr style=\"text-align: right;\">\n",
       "      <th>debt</th>\n",
       "      <th>0</th>\n",
       "      <th>1</th>\n",
       "      <th>percentage_1</th>\n",
       "    </tr>\n",
       "    <tr>\n",
       "      <th>total_income_category</th>\n",
       "      <th></th>\n",
       "      <th></th>\n",
       "      <th></th>\n",
       "    </tr>\n",
       "  </thead>\n",
       "  <tbody>\n",
       "    <tr>\n",
       "      <th>Average income</th>\n",
       "      <td>2577</td>\n",
       "      <td>240</td>\n",
       "      <td>8.519702</td>\n",
       "    </tr>\n",
       "    <tr>\n",
       "      <th>High income</th>\n",
       "      <td>6699</td>\n",
       "      <td>583</td>\n",
       "      <td>8.006042</td>\n",
       "    </tr>\n",
       "    <tr>\n",
       "      <th>Low income</th>\n",
       "      <td>844</td>\n",
       "      <td>56</td>\n",
       "      <td>6.222222</td>\n",
       "    </tr>\n",
       "    <tr>\n",
       "      <th>Upper-avarege income</th>\n",
       "      <td>8340</td>\n",
       "      <td>768</td>\n",
       "      <td>8.432148</td>\n",
       "    </tr>\n",
       "    <tr>\n",
       "      <th>Very high income</th>\n",
       "      <td>1228</td>\n",
       "      <td>92</td>\n",
       "      <td>6.969697</td>\n",
       "    </tr>\n",
       "    <tr>\n",
       "      <th>Very low income</th>\n",
       "      <td>24</td>\n",
       "      <td>2</td>\n",
       "      <td>7.692308</td>\n",
       "    </tr>\n",
       "  </tbody>\n",
       "</table>\n",
       "</div>"
      ],
      "text/plain": [
       "debt                      0    1  percentage_1\n",
       "total_income_category                         \n",
       "Average income         2577  240      8.519702\n",
       "High income            6699  583      8.006042\n",
       "Low income              844   56      6.222222\n",
       "Upper-avarege income   8340  768      8.432148\n",
       "Very high income       1228   92      6.969697\n",
       "Very low income          24    2      7.692308"
      ]
     },
     "execution_count": 119,
     "metadata": {},
     "output_type": "execute_result"
    }
   ],
   "source": [
    "# Hitung persentase gagal bayar berdasarkan tingkat pendapatan\n",
    "pivot_income_category['percentage_1'] = pivot_income_category[1] /(pivot_income_category[1] + pivot_income_category[0]) * 100\n",
    "\n",
    "# Menampilkan kembali pivot table\n",
    "pivot_income_category"
   ]
  },
  {
   "cell_type": "markdown",
   "metadata": {},
   "source": [
    "Kita sudah menemukan persentase mengenai tingkat kemungkinan melakukan gagal bayar pinjaman yang tersimpan dalam kolom baru bernama `percentage_1`. Mari kita membuat penjelasan interpretasi berdasarkan data yang sudah tersedia."
   ]
  },
  {
   "cell_type": "markdown",
   "metadata": {},
   "source": [
    "**Kesimpulan**\n",
    "\n",
    "Kita akan menjelaskan pertanyaan hipotesis bagian ini yaitu korelasi antara tingkat pendapatan nasabah dengan probabilitas gagal bayar pinjaman berdasarkan kolom dari `percentage_1` dengan penjelasan sebagai berikut:\n",
    "- Berdasarkan kategori tingkat pendapatan yang telah disajikan, untuk **nasabah yang memiliki tingkat pendapatan *average* atau rata-rata memiliki kecenderungan untuk melakukan gagal bayar pinjaman terbesar yaitu sebesar 8.51%**. Artinya untuk nasabah yang tingkat pendapatannya rata-rata diprediksi akan kesulitan saat melakukan pelunasan kredit dengan tepat waktu dan **bisa saja dikarenakan keuangannya sedang tidak membaik**. Pernyataan tersebut juga bisa dikaitkan dengan nasabah yang tingkat pendapatannya sangat rendah atau *very low* yang memiliki persentase dalam melakukan gagal bayar pinjaman cukup tinggi sebesar 7.69%.\n",
    "- Untuk nasabah yang tingkat pendapatannya menengah ke atas *(upper-average)* dan tergolong tinggi *(high)* justru memiliki persentase kemungkinan gagal membayar pinjaman yang tinggi juga, yaitu sebesar 8.43% dan 8%.\n",
    "- Kita menemukan fakta unik dari data yang kita miliki bahwa untuk **nasabah dengan tingkat pendapatan *low* atau rendah memiliki persentase gagal membayar pinjaman terendah** dan itu mengalahkan kategori nasabah dengan tingkat pendapatan yang *very high* atau sangat tinggi. **Persentasenya yaitu sebesar 6.22%** dan kita dapat melihat bahwa untuk nasabah yang tingkat pendapatannya rendah cenderung tidak banyak jumlahnya untuk meminjam kredit kepada bank. Hal ini bisa dilihat dari jumlah datanya lebih kecil jikalau dijumlahkan antara kolom [0] dan [1]. Kita bisa berasumsi bahwa **orang yang memiliki pendapatan sedikit cenderung tidak ingin meminjam dana karena tidak mampu untuk membayarnya** atau bisa saja orang yang berpendapatan rendah **hanya meminjam dana dengan nilai yang sedikit** sehingga orang tersebut mampu untuk melunasinya kembali.\n",
    "\n",
    "Kesimpulan umum dari pertanyaan hipotesis bagian ini mengenai korelasi tingkat pendapatan terhadap probabilitas gagal bayar pinjaman berdasarkan data yang kita miliki adalah **nasabah yang tingkat pendapatannya rata-rata dan sangat rendah berpotensi tinggi untuk gagal melunasi pinjaman atau kredit secara tepat waktu**, namun **tidak menutup kemungkinan untuk nasabah yang tingkat pendapatannya tergolong tinggi juga masuk dalam kondisi tersebut**."
   ]
  },
  {
   "cell_type": "markdown",
   "metadata": {},
   "source": [
    "**5.4 Bagaimana tujuan kredit memengaruhi persentase gagal bayar?**"
   ]
  },
  {
   "cell_type": "markdown",
   "metadata": {},
   "source": [
    "Bagian akhir dari pengujian hipotesis saat ini akan membahas mengenai bagaimana tujuan kredit atau meminjam dana dapat memengaruhi persentase gagal bayar. Kegiatan pertama yang akan kita lakukan adalah dengan menggabungkan kedua kolom yang dibutuhkan untuk menyimpulkan hasil hipotesis bagian ini, yaitu kolom `new_purpose` dan `debt`."
   ]
  },
  {
   "cell_type": "code",
   "execution_count": 120,
   "metadata": {},
   "outputs": [],
   "source": [
    "# Periksa data mengenai tujuan kredit dan data gagal bayar pinjaman\n",
    "pivot_new_purpose = new_data_4.pivot_table(index='new_purpose', columns='debt', values='purpose', aggfunc='count')"
   ]
  },
  {
   "cell_type": "markdown",
   "metadata": {},
   "source": [
    "Kedua kolom yang sudah kita gabungkan menggunakan bantuan dari `pivot_table()` dengan indeks yang digunakan berasal dari kolom `new_purpose` dan kolomnya untuk kita identifikasi berasal dari kolom `debt`. Kolom `debt` dihitung jumlah barisnya menggunakan `count()`. Kita tidak menggunakan lagi kolom `purpose` untuk menjawab dan menjelaskan hipotesis ini karena nilai-nilai mengenai tujuan kredit nasabah sudah kita kategorikan dalam kolom `new_purpose`."
   ]
  },
  {
   "cell_type": "code",
   "execution_count": 121,
   "metadata": {},
   "outputs": [
    {
     "data": {
      "text/html": [
       "<div>\n",
       "<style scoped>\n",
       "    .dataframe tbody tr th:only-of-type {\n",
       "        vertical-align: middle;\n",
       "    }\n",
       "\n",
       "    .dataframe tbody tr th {\n",
       "        vertical-align: top;\n",
       "    }\n",
       "\n",
       "    .dataframe thead th {\n",
       "        text-align: right;\n",
       "    }\n",
       "</style>\n",
       "<table border=\"1\" class=\"dataframe\">\n",
       "  <thead>\n",
       "    <tr style=\"text-align: right;\">\n",
       "      <th>debt</th>\n",
       "      <th>0</th>\n",
       "      <th>1</th>\n",
       "    </tr>\n",
       "    <tr>\n",
       "      <th>new_purpose</th>\n",
       "      <th></th>\n",
       "      <th></th>\n",
       "    </tr>\n",
       "  </thead>\n",
       "  <tbody>\n",
       "    <tr>\n",
       "      <th>Car</th>\n",
       "      <td>3903</td>\n",
       "      <td>403</td>\n",
       "    </tr>\n",
       "    <tr>\n",
       "      <th>Education</th>\n",
       "      <td>3643</td>\n",
       "      <td>370</td>\n",
       "    </tr>\n",
       "    <tr>\n",
       "      <th>Housing</th>\n",
       "      <td>10028</td>\n",
       "      <td>782</td>\n",
       "    </tr>\n",
       "    <tr>\n",
       "      <th>Wedding</th>\n",
       "      <td>2138</td>\n",
       "      <td>186</td>\n",
       "    </tr>\n",
       "  </tbody>\n",
       "</table>\n",
       "</div>"
      ],
      "text/plain": [
       "debt             0    1\n",
       "new_purpose            \n",
       "Car           3903  403\n",
       "Education     3643  370\n",
       "Housing      10028  782\n",
       "Wedding       2138  186"
      ]
     },
     "execution_count": 121,
     "metadata": {},
     "output_type": "execute_result"
    }
   ],
   "source": [
    "# Memeriksa hasil pivot table dari kolom `new_purpose` dan `debt`\n",
    "pivot_new_purpose"
   ]
  },
  {
   "cell_type": "markdown",
   "metadata": {},
   "source": [
    "Tabel di atas merupakan hasil penggabungan kedua kolom yang sudah kita rencanakan sebelumnya dan disimpan dalam `pivot_new_purpose`. Selanjutnya kita perlu untuk membuat kolom bernilai 1 menjadi persentase dari hasil pertambahan kedua kolom di atas yang hasilnya dapat digunakan untuk menganalisis hasil temuan yang didapatkan."
   ]
  },
  {
   "cell_type": "code",
   "execution_count": 122,
   "metadata": {},
   "outputs": [
    {
     "data": {
      "text/html": [
       "<div>\n",
       "<style scoped>\n",
       "    .dataframe tbody tr th:only-of-type {\n",
       "        vertical-align: middle;\n",
       "    }\n",
       "\n",
       "    .dataframe tbody tr th {\n",
       "        vertical-align: top;\n",
       "    }\n",
       "\n",
       "    .dataframe thead th {\n",
       "        text-align: right;\n",
       "    }\n",
       "</style>\n",
       "<table border=\"1\" class=\"dataframe\">\n",
       "  <thead>\n",
       "    <tr style=\"text-align: right;\">\n",
       "      <th>debt</th>\n",
       "      <th>0</th>\n",
       "      <th>1</th>\n",
       "      <th>percentage_1</th>\n",
       "    </tr>\n",
       "    <tr>\n",
       "      <th>new_purpose</th>\n",
       "      <th></th>\n",
       "      <th></th>\n",
       "      <th></th>\n",
       "    </tr>\n",
       "  </thead>\n",
       "  <tbody>\n",
       "    <tr>\n",
       "      <th>Car</th>\n",
       "      <td>3903</td>\n",
       "      <td>403</td>\n",
       "      <td>9.359034</td>\n",
       "    </tr>\n",
       "    <tr>\n",
       "      <th>Education</th>\n",
       "      <td>3643</td>\n",
       "      <td>370</td>\n",
       "      <td>9.220035</td>\n",
       "    </tr>\n",
       "    <tr>\n",
       "      <th>Housing</th>\n",
       "      <td>10028</td>\n",
       "      <td>782</td>\n",
       "      <td>7.234043</td>\n",
       "    </tr>\n",
       "    <tr>\n",
       "      <th>Wedding</th>\n",
       "      <td>2138</td>\n",
       "      <td>186</td>\n",
       "      <td>8.003442</td>\n",
       "    </tr>\n",
       "  </tbody>\n",
       "</table>\n",
       "</div>"
      ],
      "text/plain": [
       "debt             0    1  percentage_1\n",
       "new_purpose                          \n",
       "Car           3903  403      9.359034\n",
       "Education     3643  370      9.220035\n",
       "Housing      10028  782      7.234043\n",
       "Wedding       2138  186      8.003442"
      ]
     },
     "execution_count": 122,
     "metadata": {},
     "output_type": "execute_result"
    }
   ],
   "source": [
    "# Periksa persentase tingkat gagal bayar untuk setiap tujuan kredit dan lakukan penganalisisan\n",
    "pivot_new_purpose['percentage_1'] = pivot_new_purpose[1] /(pivot_new_purpose[1] + pivot_new_purpose[0]) * 100\n",
    "\n",
    "# Menampilkan kembali pivot table\n",
    "pivot_new_purpose"
   ]
  },
  {
   "cell_type": "markdown",
   "metadata": {},
   "source": [
    "Persentase sudah didapatkan dan disimpan dalam kolom baru yaitu `percentage_1`. Melalui data yang sudah ada, dengan berarti kita dapat masuk dalam bagian akhir untuk menjawab dan menginterpretasikan data di atas dalam bentuk kalimat kesimpulan."
   ]
  },
  {
   "cell_type": "markdown",
   "metadata": {},
   "source": [
    "**Kesimpulan**\n",
    "\n",
    "Tabel baru yang menyajikan persentase kemungkinan gagal bayar pinjaman terhadap tujuan kredit atau peminjaman dana dapat kita gunakan untuk membuat sebuah kesimpulan dalam menjawab hipotesis ini, dan berikut ini merupakan penjelasan yang kita dapatkan:\n",
    "- Kategori dari **tujuan nasabah meminjam dana untuk keperluan membeli mobil *(car)* mengindikasikan persentase probablitas dalam hal gagal untuk membayar pinjaman (kredit) tertinggi** dari semua kategori yang ada, yaitu **sebesar 9.35%**. Atau arti lainnya adalah nasabah yang memiliki tujuan kredit untuk membeli mobil memiliki tendensi lebih besar untuk gagal melunasi kreditnya tepat waktu. Kita berasumsi bahwa **nasabah yang tergolong dalam kategori ini nantinya bisa saja tidak mampu untuk membayar hutangnya tepat waktu dikarenakan angsuran mobil berkala yang nominalnya tidak sedikit dan bisa saja ada tambahan tarif asuransi untuk kendaraannya**.\n",
    "- Untuk kategori **tujuan kredit untuk keperluan membayar biaya pendidikan *(education)* menempati posisi kedua dalam hal persentase kemungkinan gagal membayar kredit yang jumlahnya sebesar 9.22%**. Asumsi kita mengenai bagian ini yaitu dapat diprediksi ketika nasabah dalam kategori ini meminjam kredit untuk menanggung biaya pendidikannya tidak dapat mengembalikannya tepat waktu karena kita tahu **biaya untuk sekolah, khususnya untuk berkuliah tidaklah sedikit dan akan terus ditagih setiap semesternya** sehingga **kemungkinan untuk melunasi kredit tepat waktu tergolong kecil**.\n",
    "- Kategori dari **tujuan kredit nasabah untuk keperluan mengadakan pesta pernikahan terhadap kemungkinan gagal bayar menduduki posisi ketiga** dengan **persentase kemungkinan sebesar 8%**. Kita tahu bahwa **biaya untuk mengadakan suatu pesta pernikahan membutuhkan biaya yang besar apalagi jikalau harus menyewa suatu gedung** sehingga nasabah yang termasuk dalam kategori ini juga **kemungkinan untuk melunasi pinjamannya tepat waktu tergolong cukup kecil**.\n",
    "- Nasabah dengan kategori **tujuan kredit untuk keperluan membeli atau menyewa properti (rumah) terhadap probabilitas gagal bayar kredit** berdasarkan data yang telah disajikan **memiliki persentase yang kecil, yaitu sebesar 7.23%** dibandingkan dengan kategori lainnya. Artinya kemungkinan seorang nasabah untuk melunasi kreditnya tepat waktu cenderung lebih besar.\n",
    "\n",
    "Kesimpulan umum dari bagian akhir hipotesis ini adalah untuk **nasabah yang tujuan kreditnya membeli mobil berdasarkan sajian data sebelumnya termasuk kategori yang tendensinya lebih besar dalam hal gagal membayar kredit tepat waktu**."
   ]
  },
  {
   "cell_type": "markdown",
   "metadata": {},
   "source": [
    "# Kesimpulan Umum \n",
    "\n",
    "Proyek yang mengajak kita untuk menganalisis mengenai risiko gagal bayar oleh peminjam (nasabah) dalam suatu bank pada akhirnya sudah selesai kita kerjakan dan beri penjelasan secara mendalam. Isi dari proyek ini mengajak kita untuk terlebih dahulu membuat keputusan yang tepat sebelum melakukan suatu eksekusi yang dituntut untuk kita kerjakan. Bagian yang paling menantang dalam kita mengerjakan proyek saat ini yaitu kita bergulat dengan nilai hilang dalam *dataset* yang telah diberikan kepada kita. Berikut ini merupakan rekap kesimpulan dari setiap fase atau tahap pengerjaan proyek untuk menganalisis mengenai risiko gagal bayar oleh peminjam, yaitu sebagai berikut:\n",
    "\n",
    "**1) Eksplorasi data**\n",
    "\n",
    "Inti dari tahapan ini yaitu kita telah mengidentifikasi nilai hilang terdapat dalam kolom `days_employed` dan `total_income` dengan jumlah nilai untuk kedua kolomnya sama sehingga datanya terlihat seperti sebuah pola. Selain itu kita juga telah membandingkan distribusi setiap kolom yang memiliki nilai hilang dengan yang tidak memiliki nilai hilang secara satu per satu.\n",
    "\n",
    "**2) Transformasi data**\n",
    "\n",
    "Bagian ini berfokus dalam memperbaiki nilai yang aneh dalam setiap kolom yang bermasalah dan menghapus duplikat yang berjumlah 54 baris sehingga jumlah baris akhir untuk setiap kolom saat ini berjumlah sebanyak 21453 baris. Bagian krusial yang telah kita kerjakan dalam tahapan ini adalah mengisi nilai hilang pada kolom `days_employed` dan `total_income` menggunakan bantuan fungsi dan membuat kolom `age_category` sebagai faktor pembantu (agregat) dalam mengisi nilai hilang. Kita telah mengisi nilai hilang untuk kedua kolom tersebut dengan nilai median karena selain dalam kedua kolom tersebut memiliki banyak pencilan, median terlihat lebih *robust* terhadap pencilan atau nilai ekstrim dibandingkan rata-rata *(mean)*.\n",
    "\n",
    "**3) Pengelompokkan data**\n",
    "\n",
    "Pengerjaan proyek bagian ini lebih menekankan kepada pengelompokkan untuk kolom bersifat teks dan numerik. Kolom yang kita kategorikan nilainya yaitu `purpose` dan `total_income`. Tujuan pengelompokkan kedua kolom tersebut adalah untuk memudahkan kita saat menganalisis hubungan antar variabel atau hipotesis agar dapat memberikan interpretasi yang tepat. Hasilnya yaitu untuk kolom `purpose` sudah dikategorikan menjadi 4 kategori yang disimpan dalam kolom `new_purpose` dan kolom `total_income` menjadi 6 kategori tingkat pendapatan yang disimpan dalam kolom `total_income_category`.\n",
    "\n",
    "**4) Memeriksa Hipotesis**\n",
    "\n",
    "Merupakan bagian inti dan krusial untuk menjawab identifikasi masalah yang sudah terbentuk dalam sebuah hipotesis. Kita telah menggabungkan kedua kolom penting menggunakan `pivot_table()` dalam setiap hipotesis yang diajukan dan membuat persentase kemungkinan gagal bayar pinjaman dalam kolom `percentage_1`. Berikut ini merupakan hasil uji setiap hipotesis berdasarkan data yang telah disajikan:\n",
    "\n",
    "***H1: Apakah terdapat hubungan antara memiliki anak dan probabilitas seseorang melakukan gagal bayar pinjaman?***\n",
    "\n",
    "Kesimpulan yang kita dapatkan adalah **semakin banyak jumlah anak maka kemungkinan gagal melunasi pinjamannya lebih besar dibandingkan dengan nasabah yang tidak atau belum memiliki anak**. Sehingga pihak bank akan lebih aman jikalau memberikan pinjaman kepada nasabah yang belum atau tidak memiliki anak untuk mencegah adanya kemungkinan gagal bayar.\n",
    "\n",
    "***H2: Apakah terdapat hubungan antara status perkawinan dan probabilitas seseorang melakukan gagal bayar pinjaman?***\n",
    "\n",
    "Kesimpulan atau benang merah yang kita temukan mengenai pernyataan hipotesis ini yaitu **untuk nasabah yang belum menikah, probabilitas gagal dalam melunasi hutang atau pinjamannya secara tepat waktu termasuk paling tinggi**. Pihak divisi kredit bank harus mempertimbangkan peminjaman dana kepada nasabah dengan kategori tersebut karena kemungkinan gagal bayarnya paling tinggi.\n",
    "\n",
    "***H3: Apakah terdapat hubungan antara tingkat pendapatan dan probabilitas seseorang melakukan gagal bayar pinjaman?***\n",
    "\n",
    "Kesimpulan dari hasil uji hipotesis ini adalah **nasabah yang tingkat pendapatannya rata-rata dan sangat rendah berpotensi tinggi untuk gagal melunasi pinjaman atau kredit secara tepat waktu**, namun **tidak menutup kemungkinan untuk nasabah yang tingkat pendapatannya tergolong tinggi juga masuk dalam kondisi tersebut**. Mungkin ada baiknya jikalau pihak divisi kredit tetap memberikan pinjaman kepada nasabah yang penghasilannya tergolong tinggi, tetapi tidak disarankan untuk nasabah yang pendapatannya sangat rendah dan rata-rata.\n",
    "\n",
    "***H4: Bagaimana perbedaan tujuan pinjaman memengaruhi probabilitas seseorang melakukan gagal bayar pinjaman?***\n",
    "\n",
    "Kesimpulan akhir dari bagian ini adalah **nasabah yang tujuan kreditnya membeli mobil termasuk kategori yang tendensinya lebih besar dalam hal gagal membayar kredit tepat waktu**. Sehingga divisi kredit harus memikirkan baik-baik dalam meminjamkan kredit kepada nasabah yang tergolong dalam kategori ini dengan cara membandingkan tingkat pendapatannya terhadap angsuran mobil yang ditanggungkan oleh nasabah tersebut."
   ]
  }
 ],
 "metadata": {
  "ExecuteTimeLog": [
   {
    "duration": 2741,
    "start_time": "2021-10-21T01:08:49.480Z"
   },
   {
    "duration": 52,
    "start_time": "2021-10-21T01:08:53.315Z"
   },
   {
    "duration": 49,
    "start_time": "2021-10-21T01:08:57.432Z"
   },
   {
    "duration": 70,
    "start_time": "2021-10-21T01:09:07.706Z"
   }
  ],
  "kernelspec": {
   "display_name": "Python 3 (ipykernel)",
   "language": "python",
   "name": "python3"
  },
  "language_info": {
   "codemirror_mode": {
    "name": "ipython",
    "version": 3
   },
   "file_extension": ".py",
   "mimetype": "text/x-python",
   "name": "python",
   "nbconvert_exporter": "python",
   "pygments_lexer": "ipython3",
   "version": "3.9.19"
  },
  "toc": {
   "base_numbering": 1,
   "nav_menu": {},
   "number_sections": true,
   "sideBar": true,
   "skip_h1_title": true,
   "title_cell": "Table of Contents",
   "title_sidebar": "Contents",
   "toc_cell": false,
   "toc_position": {},
   "toc_section_display": true,
   "toc_window_display": false
  },
  "vscode": {
   "interpreter": {
    "hash": "ef1728426330606e01c1da091626d7dbd7604032247e9790b44969d857c4f729"
   }
  }
 },
 "nbformat": 4,
 "nbformat_minor": 2
}
